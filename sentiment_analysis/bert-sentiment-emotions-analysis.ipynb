{
 "cells": [
  {
   "cell_type": "markdown",
   "id": "f6114caf",
   "metadata": {
    "papermill": {
     "duration": 0.009816,
     "end_time": "2023-01-07T07:13:28.743426",
     "exception": false,
     "start_time": "2023-01-07T07:13:28.733610",
     "status": "completed"
    },
    "tags": []
   },
   "source": [
    "## Introduction"
   ]
  },
  {
   "cell_type": "markdown",
   "id": "ea97cf82",
   "metadata": {
    "_cell_guid": "b1076dfc-b9ad-4769-8c92-a6c4dae69d19",
    "_uuid": "8f2839f25d086af736a60e9eeb907d3b93b6e0e5",
    "papermill": {
     "duration": 0.009881,
     "end_time": "2023-01-07T07:13:28.761856",
     "exception": false,
     "start_time": "2023-01-07T07:13:28.751975",
     "status": "completed"
    },
    "tags": []
   },
   "source": [
    "The dataset was taken from here: https://huggingface.co/datasets/emotion. The model used to classify emotions in text messages is BERT, that is very popular for solving NLP tasks"
   ]
  },
  {
   "cell_type": "markdown",
   "id": "d5771bb7",
   "metadata": {
    "papermill": {
     "duration": 0.015493,
     "end_time": "2023-01-07T07:13:28.788344",
     "exception": false,
     "start_time": "2023-01-07T07:13:28.772851",
     "status": "completed"
    },
    "tags": []
   },
   "source": [
    "## Preparation"
   ]
  },
  {
   "cell_type": "code",
   "execution_count": 1,
   "id": "b997e682",
   "metadata": {
    "execution": {
     "iopub.execute_input": "2023-01-07T07:13:28.810980Z",
     "iopub.status.busy": "2023-01-07T07:13:28.810143Z",
     "iopub.status.idle": "2023-01-07T07:13:41.369560Z",
     "shell.execute_reply": "2023-01-07T07:13:41.368287Z"
    },
    "papermill": {
     "duration": 12.572437,
     "end_time": "2023-01-07T07:13:41.372415",
     "exception": false,
     "start_time": "2023-01-07T07:13:28.799978",
     "status": "completed"
    },
    "tags": []
   },
   "outputs": [
    {
     "name": "stdout",
     "output_type": "stream",
     "text": [
      "\u001b[33mWARNING: Running pip as the 'root' user can result in broken permissions and conflicting behaviour with the system package manager. It is recommended to use a virtual environment instead: https://pip.pypa.io/warnings/venv\u001b[0m\u001b[33m\r\n",
      "\u001b[0m"
     ]
    }
   ],
   "source": [
    "!pip install transformers lets_plot -q"
   ]
  },
  {
   "cell_type": "code",
   "execution_count": 2,
   "id": "e665b065",
   "metadata": {
    "execution": {
     "iopub.execute_input": "2023-01-07T07:13:41.393880Z",
     "iopub.status.busy": "2023-01-07T07:13:41.393105Z",
     "iopub.status.idle": "2023-01-07T07:13:46.832548Z",
     "shell.execute_reply": "2023-01-07T07:13:46.831555Z"
    },
    "papermill": {
     "duration": 5.453144,
     "end_time": "2023-01-07T07:13:46.835141",
     "exception": false,
     "start_time": "2023-01-07T07:13:41.381997",
     "status": "completed"
    },
    "tags": []
   },
   "outputs": [],
   "source": [
    "from lets_plot import *\n",
    "from pytorch_lightning.callbacks import ModelCheckpoint\n",
    "from torch.utils.data import Dataset, DataLoader\n",
    "from sklearn.model_selection import train_test_split\n",
    "from transformers import BertTokenizer, DistilBertTokenizer, BertForSequenceClassification\n",
    "from sklearn.metrics import accuracy_score, f1_score\n",
    "\n",
    "import matplotlib.pyplot as plt \n",
    "import pytorch_lightning as pl\n",
    "import pandas as pd\n",
    "import numpy as np\n",
    "import os\n",
    "import pickle\n",
    "import time\n",
    "import torch.nn as nn\n",
    "import torch\n",
    "import warnings\n",
    "\n",
    "warnings.filterwarnings('ignore')"
   ]
  },
  {
   "cell_type": "code",
   "execution_count": 3,
   "id": "33a2999c",
   "metadata": {
    "execution": {
     "iopub.execute_input": "2023-01-07T07:13:46.854427Z",
     "iopub.status.busy": "2023-01-07T07:13:46.854108Z",
     "iopub.status.idle": "2023-01-07T07:13:46.922774Z",
     "shell.execute_reply": "2023-01-07T07:13:46.921712Z"
    },
    "papermill": {
     "duration": 0.081765,
     "end_time": "2023-01-07T07:13:46.925719",
     "exception": false,
     "start_time": "2023-01-07T07:13:46.843954",
     "status": "completed"
    },
    "tags": []
   },
   "outputs": [
    {
     "name": "stdout",
     "output_type": "stream",
     "text": [
      "Using GPU : Tesla P100-PCIE-16GB\n"
     ]
    }
   ],
   "source": [
    "if torch.cuda.is_available():    \n",
    "    device = torch.device(\"cuda\")\n",
    "    print(f'Using GPU : {torch.cuda.get_device_name(0)}')\n",
    "else:\n",
    "    device = torch.device(\"cpu\")\n",
    "    print(f'Using CPU')"
   ]
  },
  {
   "cell_type": "code",
   "execution_count": 4,
   "id": "e8b69eed",
   "metadata": {
    "execution": {
     "iopub.execute_input": "2023-01-07T07:13:46.946074Z",
     "iopub.status.busy": "2023-01-07T07:13:46.945721Z",
     "iopub.status.idle": "2023-01-07T07:13:46.950068Z",
     "shell.execute_reply": "2023-01-07T07:13:46.949100Z"
    },
    "papermill": {
     "duration": 0.016742,
     "end_time": "2023-01-07T07:13:46.952099",
     "exception": false,
     "start_time": "2023-01-07T07:13:46.935357",
     "status": "completed"
    },
    "tags": []
   },
   "outputs": [],
   "source": [
    "seed = 42"
   ]
  },
  {
   "cell_type": "code",
   "execution_count": 5,
   "id": "e1cb9f4c",
   "metadata": {
    "execution": {
     "iopub.execute_input": "2023-01-07T07:13:46.971112Z",
     "iopub.status.busy": "2023-01-07T07:13:46.970193Z",
     "iopub.status.idle": "2023-01-07T07:13:46.978095Z",
     "shell.execute_reply": "2023-01-07T07:13:46.977241Z"
    },
    "papermill": {
     "duration": 0.019243,
     "end_time": "2023-01-07T07:13:46.980141",
     "exception": false,
     "start_time": "2023-01-07T07:13:46.960898",
     "status": "completed"
    },
    "tags": []
   },
   "outputs": [
    {
     "data": {
      "text/html": [
       "\n",
       "            <div id=\"5YTRjt\"></div>\n",
       "            <script type=\"text/javascript\" data-lets-plot-script=\"library\">\n",
       "                if(!window.letsPlotCallQueue) {\n",
       "                    window.letsPlotCallQueue = [];\n",
       "                }; \n",
       "                window.letsPlotCall = function(f) {\n",
       "                    window.letsPlotCallQueue.push(f);\n",
       "                };\n",
       "                (function() {\n",
       "                    var script = document.createElement(\"script\");\n",
       "                    script.type = \"text/javascript\";\n",
       "                    script.src = \"https://cdn.jsdelivr.net/gh/JetBrains/lets-plot@v3.0.0/js-package/distr/lets-plot.min.js\";\n",
       "                    script.onload = function() {\n",
       "                        window.letsPlotCall = function(f) {f();};\n",
       "                        window.letsPlotCallQueue.forEach(function(f) {f();});\n",
       "                        window.letsPlotCallQueue = [];\n",
       "                        \n",
       "                    };\n",
       "                    script.onerror = function(event) {\n",
       "                        window.letsPlotCall = function(f) {};    // noop\n",
       "                        window.letsPlotCallQueue = [];\n",
       "                        var div = document.createElement(\"div\");\n",
       "                        div.style.color = 'darkred';\n",
       "                        div.textContent = 'Error loading Lets-Plot JS';\n",
       "                        document.getElementById(\"5YTRjt\").appendChild(div);\n",
       "                    };\n",
       "                    var e = document.getElementById(\"5YTRjt\");\n",
       "                    e.appendChild(script);\n",
       "                })()\n",
       "            </script>\n",
       "            "
      ]
     },
     "metadata": {},
     "output_type": "display_data"
    }
   ],
   "source": [
    "LetsPlot.setup_html()"
   ]
  },
  {
   "cell_type": "markdown",
   "id": "a7b4f092",
   "metadata": {
    "papermill": {
     "duration": 0.008425,
     "end_time": "2023-01-07T07:13:46.997374",
     "exception": false,
     "start_time": "2023-01-07T07:13:46.988949",
     "status": "completed"
    },
    "tags": []
   },
   "source": [
    "## Data Loading & Preprocessing"
   ]
  },
  {
   "cell_type": "code",
   "execution_count": 6,
   "id": "8ce46aec",
   "metadata": {
    "execution": {
     "iopub.execute_input": "2023-01-07T07:13:47.016073Z",
     "iopub.status.busy": "2023-01-07T07:13:47.015803Z",
     "iopub.status.idle": "2023-01-07T07:13:47.020810Z",
     "shell.execute_reply": "2023-01-07T07:13:47.019962Z"
    },
    "papermill": {
     "duration": 0.016606,
     "end_time": "2023-01-07T07:13:47.022811",
     "exception": false,
     "start_time": "2023-01-07T07:13:47.006205",
     "status": "completed"
    },
    "tags": []
   },
   "outputs": [],
   "source": [
    "path_to_data_pkl = '/kaggle/input/emotionsdata/merged_training.pkl'"
   ]
  },
  {
   "cell_type": "code",
   "execution_count": 7,
   "id": "d1b03319",
   "metadata": {
    "execution": {
     "iopub.execute_input": "2023-01-07T07:13:47.041135Z",
     "iopub.status.busy": "2023-01-07T07:13:47.040868Z",
     "iopub.status.idle": "2023-01-07T07:13:47.757537Z",
     "shell.execute_reply": "2023-01-07T07:13:47.756526Z"
    },
    "papermill": {
     "duration": 0.729009,
     "end_time": "2023-01-07T07:13:47.760441",
     "exception": false,
     "start_time": "2023-01-07T07:13:47.031432",
     "status": "completed"
    },
    "tags": []
   },
   "outputs": [
    {
     "name": "stdout",
     "output_type": "stream",
     "text": [
      "Got data of shape : (416809, 2)\n"
     ]
    }
   ],
   "source": [
    "with open(path_to_data_pkl, 'rb') as file:\n",
    "    data = pickle.load(file)\n",
    "    print(f'Got data of shape : {data.shape}')"
   ]
  },
  {
   "cell_type": "code",
   "execution_count": 8,
   "id": "64b0c71c",
   "metadata": {
    "execution": {
     "iopub.execute_input": "2023-01-07T07:13:47.780990Z",
     "iopub.status.busy": "2023-01-07T07:13:47.779516Z",
     "iopub.status.idle": "2023-01-07T07:13:47.804149Z",
     "shell.execute_reply": "2023-01-07T07:13:47.803155Z"
    },
    "papermill": {
     "duration": 0.036746,
     "end_time": "2023-01-07T07:13:47.806325",
     "exception": false,
     "start_time": "2023-01-07T07:13:47.769579",
     "status": "completed"
    },
    "tags": []
   },
   "outputs": [
    {
     "data": {
      "text/html": [
       "<div>\n",
       "<style scoped>\n",
       "    .dataframe tbody tr th:only-of-type {\n",
       "        vertical-align: middle;\n",
       "    }\n",
       "\n",
       "    .dataframe tbody tr th {\n",
       "        vertical-align: top;\n",
       "    }\n",
       "\n",
       "    .dataframe thead th {\n",
       "        text-align: right;\n",
       "    }\n",
       "</style>\n",
       "<table border=\"1\" class=\"dataframe\">\n",
       "  <thead>\n",
       "    <tr style=\"text-align: right;\">\n",
       "      <th></th>\n",
       "      <th>text</th>\n",
       "      <th>label</th>\n",
       "    </tr>\n",
       "  </thead>\n",
       "  <tbody>\n",
       "    <tr>\n",
       "      <th>27383</th>\n",
       "      <td>i feel awful about it too because it s my job ...</td>\n",
       "      <td>sadness</td>\n",
       "    </tr>\n",
       "    <tr>\n",
       "      <th>110083</th>\n",
       "      <td>im alone i feel awful</td>\n",
       "      <td>sadness</td>\n",
       "    </tr>\n",
       "    <tr>\n",
       "      <th>140764</th>\n",
       "      <td>ive probably mentioned this before but i reall...</td>\n",
       "      <td>joy</td>\n",
       "    </tr>\n",
       "    <tr>\n",
       "      <th>100071</th>\n",
       "      <td>i was feeling a little low few days back</td>\n",
       "      <td>sadness</td>\n",
       "    </tr>\n",
       "    <tr>\n",
       "      <th>2837</th>\n",
       "      <td>i beleive that i am much more sensitive to oth...</td>\n",
       "      <td>love</td>\n",
       "    </tr>\n",
       "  </tbody>\n",
       "</table>\n",
       "</div>"
      ],
      "text/plain": [
       "                                                     text    label\n",
       "27383   i feel awful about it too because it s my job ...  sadness\n",
       "110083                              im alone i feel awful  sadness\n",
       "140764  ive probably mentioned this before but i reall...      joy\n",
       "100071           i was feeling a little low few days back  sadness\n",
       "2837    i beleive that i am much more sensitive to oth...     love"
      ]
     },
     "execution_count": 8,
     "metadata": {},
     "output_type": "execute_result"
    }
   ],
   "source": [
    "data.rename(columns={'emotions' : 'label'}, inplace=True)\n",
    "data.head()"
   ]
  },
  {
   "cell_type": "code",
   "execution_count": 9,
   "id": "933cf7fb",
   "metadata": {
    "execution": {
     "iopub.execute_input": "2023-01-07T07:13:47.825130Z",
     "iopub.status.busy": "2023-01-07T07:13:47.824852Z",
     "iopub.status.idle": "2023-01-07T07:13:47.862846Z",
     "shell.execute_reply": "2023-01-07T07:13:47.861796Z"
    },
    "papermill": {
     "duration": 0.049824,
     "end_time": "2023-01-07T07:13:47.865008",
     "exception": false,
     "start_time": "2023-01-07T07:13:47.815184",
     "status": "completed"
    },
    "tags": []
   },
   "outputs": [
    {
     "data": {
      "text/plain": [
       "text     0\n",
       "label    0\n",
       "dtype: int64"
      ]
     },
     "execution_count": 9,
     "metadata": {},
     "output_type": "execute_result"
    }
   ],
   "source": [
    "data.isna().sum()"
   ]
  },
  {
   "cell_type": "code",
   "execution_count": 10,
   "id": "fd596886",
   "metadata": {
    "execution": {
     "iopub.execute_input": "2023-01-07T07:13:47.883862Z",
     "iopub.status.busy": "2023-01-07T07:13:47.883592Z",
     "iopub.status.idle": "2023-01-07T07:13:47.905994Z",
     "shell.execute_reply": "2023-01-07T07:13:47.905079Z"
    },
    "papermill": {
     "duration": 0.034358,
     "end_time": "2023-01-07T07:13:47.908224",
     "exception": false,
     "start_time": "2023-01-07T07:13:47.873866",
     "status": "completed"
    },
    "tags": []
   },
   "outputs": [
    {
     "data": {
      "text/plain": [
       "joy         141067\n",
       "sadness     121187\n",
       "anger        57317\n",
       "fear         47712\n",
       "love         34554\n",
       "surprise     14972\n",
       "Name: label, dtype: int64"
      ]
     },
     "execution_count": 10,
     "metadata": {},
     "output_type": "execute_result"
    }
   ],
   "source": [
    "frequency = data.label.value_counts()\n",
    "frequency"
   ]
  },
  {
   "cell_type": "code",
   "execution_count": 11,
   "id": "ec1ccb0e",
   "metadata": {
    "execution": {
     "iopub.execute_input": "2023-01-07T07:13:47.927502Z",
     "iopub.status.busy": "2023-01-07T07:13:47.927179Z",
     "iopub.status.idle": "2023-01-07T07:13:47.933142Z",
     "shell.execute_reply": "2023-01-07T07:13:47.932298Z"
    },
    "papermill": {
     "duration": 0.017996,
     "end_time": "2023-01-07T07:13:47.935132",
     "exception": false,
     "start_time": "2023-01-07T07:13:47.917136",
     "status": "completed"
    },
    "tags": []
   },
   "outputs": [],
   "source": [
    "frequency = pd.DataFrame({\n",
    "    'Labels' : frequency.index,\n",
    "    'Total' : frequency.values\n",
    "})"
   ]
  },
  {
   "cell_type": "code",
   "execution_count": 12,
   "id": "d6f5ca2d",
   "metadata": {
    "execution": {
     "iopub.execute_input": "2023-01-07T07:13:47.954696Z",
     "iopub.status.busy": "2023-01-07T07:13:47.954354Z",
     "iopub.status.idle": "2023-01-07T07:13:48.355298Z",
     "shell.execute_reply": "2023-01-07T07:13:48.354297Z"
    },
    "papermill": {
     "duration": 0.413451,
     "end_time": "2023-01-07T07:13:48.357598",
     "exception": false,
     "start_time": "2023-01-07T07:13:47.944147",
     "status": "completed"
    },
    "tags": []
   },
   "outputs": [
    {
     "data": {
      "text/html": [
       "   <div id=\"VvKJRY\"></div>\n",
       "   <script type=\"text/javascript\" data-lets-plot-script=\"plot\">\n",
       "       (function() {\n",
       "           var plotSpec={\n",
       "\"data\":{\n",
       "},\n",
       "\"mapping\":{\n",
       "\"x\":\"x\",\n",
       "\"weight\":\"weight\",\n",
       "\"fill\":\"fill\"\n",
       "},\n",
       "\"data_meta\":{\n",
       "},\n",
       "\"kind\":\"plot\",\n",
       "\"scales\":[{\n",
       "\"name\":\"Label\",\n",
       "\"aesthetic\":\"x\"\n",
       "},{\n",
       "\"name\":\"Times Occured\",\n",
       "\"aesthetic\":\"y\"\n",
       "}],\n",
       "\"layers\":[{\n",
       "\"geom\":\"bar\",\n",
       "\"mapping\":{\n",
       "},\n",
       "\"data_meta\":{\n",
       "},\n",
       "\"data\":{\n",
       "\"..count..\":[141067.0,121187.0,57317.0,47712.0,34554.0,14972.0],\n",
       "\"x\":[\"joy\",\"sadness\",\"anger\",\"fear\",\"love\",\"surprise\"],\n",
       "\"fill\":[\"joy\",\"sadness\",\"anger\",\"fear\",\"love\",\"surprise\"]\n",
       "}\n",
       "}],\n",
       "\"metainfo_list\":[]\n",
       "};\n",
       "           var plotContainer = document.getElementById(\"VvKJRY\");\n",
       "           window.letsPlotCall(function() {{\n",
       "               LetsPlot.buildPlotFromProcessedSpecs(plotSpec, -1, -1, plotContainer);\n",
       "           }});\n",
       "       })();    \n",
       "   </script>"
      ],
      "text/plain": [
       "<lets_plot.plot.core.PlotSpec at 0x7f0af7fcdb90>"
      ]
     },
     "execution_count": 12,
     "metadata": {},
     "output_type": "execute_result"
    }
   ],
   "source": [
    "ggplot(frequency, aes(x=frequency.Labels, weight=frequency.Total, fill=frequency.Labels)) + \\\n",
    "    geom_bar() + labs(x='Label', y='Times Occured')"
   ]
  },
  {
   "cell_type": "markdown",
   "id": "f56bab2b",
   "metadata": {
    "papermill": {
     "duration": 0.009135,
     "end_time": "2023-01-07T07:13:48.376126",
     "exception": false,
     "start_time": "2023-01-07T07:13:48.366991",
     "status": "completed"
    },
    "tags": []
   },
   "source": [
    "As we can see, we got a lot of text messages with labeled emotions - `joy`, `sadness`, `anger`, `fear`, `love`, `surprise`."
   ]
  },
  {
   "cell_type": "code",
   "execution_count": 13,
   "id": "fe27d6c1",
   "metadata": {
    "execution": {
     "iopub.execute_input": "2023-01-07T07:13:48.397496Z",
     "iopub.status.busy": "2023-01-07T07:13:48.396466Z",
     "iopub.status.idle": "2023-01-07T07:13:48.401963Z",
     "shell.execute_reply": "2023-01-07T07:13:48.400902Z"
    },
    "papermill": {
     "duration": 0.018612,
     "end_time": "2023-01-07T07:13:48.404042",
     "exception": false,
     "start_time": "2023-01-07T07:13:48.385430",
     "status": "completed"
    },
    "tags": []
   },
   "outputs": [],
   "source": [
    "label_to_id = {'0' : 'joy', '1' : 'sadness', '2' : 'anger', '3' : 'fear', '4' : 'love', '5' : 'surprise'}\n",
    "id_to_label = {v : k for k, v in label_to_id.items()}"
   ]
  },
  {
   "cell_type": "markdown",
   "id": "aa2bac4f",
   "metadata": {
    "papermill": {
     "duration": 0.009178,
     "end_time": "2023-01-07T07:13:48.422823",
     "exception": false,
     "start_time": "2023-01-07T07:13:48.413645",
     "status": "completed"
    },
    "tags": []
   },
   "source": [
    "We'll map each label to its id"
   ]
  },
  {
   "cell_type": "code",
   "execution_count": 14,
   "id": "566cb357",
   "metadata": {
    "execution": {
     "iopub.execute_input": "2023-01-07T07:13:48.443397Z",
     "iopub.status.busy": "2023-01-07T07:13:48.442408Z",
     "iopub.status.idle": "2023-01-07T07:13:48.483980Z",
     "shell.execute_reply": "2023-01-07T07:13:48.483054Z"
    },
    "papermill": {
     "duration": 0.054062,
     "end_time": "2023-01-07T07:13:48.486161",
     "exception": false,
     "start_time": "2023-01-07T07:13:48.432099",
     "status": "completed"
    },
    "tags": []
   },
   "outputs": [],
   "source": [
    "data.label = data.label.map(id_to_label)"
   ]
  },
  {
   "cell_type": "code",
   "execution_count": 15,
   "id": "729cecc4",
   "metadata": {
    "execution": {
     "iopub.execute_input": "2023-01-07T07:13:48.506785Z",
     "iopub.status.busy": "2023-01-07T07:13:48.505914Z",
     "iopub.status.idle": "2023-01-07T07:13:48.515540Z",
     "shell.execute_reply": "2023-01-07T07:13:48.514535Z"
    },
    "papermill": {
     "duration": 0.022067,
     "end_time": "2023-01-07T07:13:48.517623",
     "exception": false,
     "start_time": "2023-01-07T07:13:48.495556",
     "status": "completed"
    },
    "tags": []
   },
   "outputs": [
    {
     "data": {
      "text/html": [
       "<div>\n",
       "<style scoped>\n",
       "    .dataframe tbody tr th:only-of-type {\n",
       "        vertical-align: middle;\n",
       "    }\n",
       "\n",
       "    .dataframe tbody tr th {\n",
       "        vertical-align: top;\n",
       "    }\n",
       "\n",
       "    .dataframe thead th {\n",
       "        text-align: right;\n",
       "    }\n",
       "</style>\n",
       "<table border=\"1\" class=\"dataframe\">\n",
       "  <thead>\n",
       "    <tr style=\"text-align: right;\">\n",
       "      <th></th>\n",
       "      <th>text</th>\n",
       "      <th>label</th>\n",
       "    </tr>\n",
       "  </thead>\n",
       "  <tbody>\n",
       "    <tr>\n",
       "      <th>27383</th>\n",
       "      <td>i feel awful about it too because it s my job ...</td>\n",
       "      <td>1</td>\n",
       "    </tr>\n",
       "    <tr>\n",
       "      <th>110083</th>\n",
       "      <td>im alone i feel awful</td>\n",
       "      <td>1</td>\n",
       "    </tr>\n",
       "    <tr>\n",
       "      <th>140764</th>\n",
       "      <td>ive probably mentioned this before but i reall...</td>\n",
       "      <td>0</td>\n",
       "    </tr>\n",
       "    <tr>\n",
       "      <th>100071</th>\n",
       "      <td>i was feeling a little low few days back</td>\n",
       "      <td>1</td>\n",
       "    </tr>\n",
       "    <tr>\n",
       "      <th>2837</th>\n",
       "      <td>i beleive that i am much more sensitive to oth...</td>\n",
       "      <td>4</td>\n",
       "    </tr>\n",
       "  </tbody>\n",
       "</table>\n",
       "</div>"
      ],
      "text/plain": [
       "                                                     text label\n",
       "27383   i feel awful about it too because it s my job ...     1\n",
       "110083                              im alone i feel awful     1\n",
       "140764  ive probably mentioned this before but i reall...     0\n",
       "100071           i was feeling a little low few days back     1\n",
       "2837    i beleive that i am much more sensitive to oth...     4"
      ]
     },
     "execution_count": 15,
     "metadata": {},
     "output_type": "execute_result"
    }
   ],
   "source": [
    "data.head()"
   ]
  },
  {
   "cell_type": "markdown",
   "id": "55ff6d1b",
   "metadata": {
    "papermill": {
     "duration": 0.009095,
     "end_time": "2023-01-07T07:13:48.536010",
     "exception": false,
     "start_time": "2023-01-07T07:13:48.526915",
     "status": "completed"
    },
    "tags": []
   },
   "source": [
    "Next we create own custom Dataloader based on our splitted into `train`, `val`, `test` dataset"
   ]
  },
  {
   "cell_type": "code",
   "execution_count": 16,
   "id": "1f1ed83e",
   "metadata": {
    "execution": {
     "iopub.execute_input": "2023-01-07T07:13:48.556537Z",
     "iopub.status.busy": "2023-01-07T07:13:48.555669Z",
     "iopub.status.idle": "2023-01-07T07:13:48.560670Z",
     "shell.execute_reply": "2023-01-07T07:13:48.559830Z"
    },
    "papermill": {
     "duration": 0.017349,
     "end_time": "2023-01-07T07:13:48.562620",
     "exception": false,
     "start_time": "2023-01-07T07:13:48.545271",
     "status": "completed"
    },
    "tags": []
   },
   "outputs": [],
   "source": [
    "TEST_SIZE = 0.2\n",
    "VAL_SIZE = 0.1\n",
    "TRAIN_SIZE = 1 - (VAL_SIZE + TEST_SIZE)"
   ]
  },
  {
   "cell_type": "code",
   "execution_count": 17,
   "id": "1f12a079",
   "metadata": {
    "execution": {
     "iopub.execute_input": "2023-01-07T07:13:48.582939Z",
     "iopub.status.busy": "2023-01-07T07:13:48.582106Z",
     "iopub.status.idle": "2023-01-07T07:13:48.749606Z",
     "shell.execute_reply": "2023-01-07T07:13:48.748596Z"
    },
    "papermill": {
     "duration": 0.180206,
     "end_time": "2023-01-07T07:13:48.752091",
     "exception": false,
     "start_time": "2023-01-07T07:13:48.571885",
     "status": "completed"
    },
    "tags": []
   },
   "outputs": [],
   "source": [
    "X_train, X_test, y_train, y_test = train_test_split(data.text, data.label, test_size=TEST_SIZE, random_state=seed)\n",
    "X_train, X_val, y_train, y_val = train_test_split(X_train, y_train, test_size=VAL_SIZE, random_state=seed) "
   ]
  },
  {
   "cell_type": "code",
   "execution_count": 18,
   "id": "551edf5e",
   "metadata": {
    "execution": {
     "iopub.execute_input": "2023-01-07T07:13:48.779706Z",
     "iopub.status.busy": "2023-01-07T07:13:48.778762Z",
     "iopub.status.idle": "2023-01-07T07:13:48.788299Z",
     "shell.execute_reply": "2023-01-07T07:13:48.786522Z"
    },
    "papermill": {
     "duration": 0.028496,
     "end_time": "2023-01-07T07:13:48.790370",
     "exception": false,
     "start_time": "2023-01-07T07:13:48.761874",
     "status": "completed"
    },
    "tags": []
   },
   "outputs": [],
   "source": [
    "class SentimentTextDataset(Dataset):\n",
    "    def __init__(self, text, labels):\n",
    "        self.text = text\n",
    "        self.labels = labels\n",
    "        \n",
    "    def __len__(self):\n",
    "        assert len(self.text) == len(self.labels)\n",
    "        return len(self.labels)\n",
    "    \n",
    "    def __getitem__(self, index):\n",
    "        text_msg = self.text.iloc[index]\n",
    "        label = self.labels.iloc[index]\n",
    "        return text_msg, label"
   ]
  },
  {
   "cell_type": "code",
   "execution_count": 19,
   "id": "1d43260f",
   "metadata": {
    "execution": {
     "iopub.execute_input": "2023-01-07T07:13:48.811499Z",
     "iopub.status.busy": "2023-01-07T07:13:48.810660Z",
     "iopub.status.idle": "2023-01-07T07:13:48.816056Z",
     "shell.execute_reply": "2023-01-07T07:13:48.815205Z"
    },
    "papermill": {
     "duration": 0.017677,
     "end_time": "2023-01-07T07:13:48.818004",
     "exception": false,
     "start_time": "2023-01-07T07:13:48.800327",
     "status": "completed"
    },
    "tags": []
   },
   "outputs": [],
   "source": [
    "train_dataset = SentimentTextDataset(X_train, y_train)\n",
    "val_dataset = SentimentTextDataset(X_val, y_val)\n",
    "test_dataset = SentimentTextDataset(X_test, y_test)"
   ]
  },
  {
   "cell_type": "code",
   "execution_count": 20,
   "id": "0318e996",
   "metadata": {
    "execution": {
     "iopub.execute_input": "2023-01-07T07:13:48.838424Z",
     "iopub.status.busy": "2023-01-07T07:13:48.837554Z",
     "iopub.status.idle": "2023-01-07T07:13:48.843898Z",
     "shell.execute_reply": "2023-01-07T07:13:48.842557Z"
    },
    "papermill": {
     "duration": 0.018977,
     "end_time": "2023-01-07T07:13:48.846384",
     "exception": false,
     "start_time": "2023-01-07T07:13:48.827407",
     "status": "completed"
    },
    "tags": []
   },
   "outputs": [
    {
     "name": "stdout",
     "output_type": "stream",
     "text": [
      "Train set size: 300102 - 70% of all data\n",
      "Validation set size : 33345 - 10% of all data\n",
      "Test set size : 83362 - 20% of all data\n"
     ]
    }
   ],
   "source": [
    "print(f'Train set size: {len(train_dataset)} - {int(TRAIN_SIZE * 100)}% of all data')\n",
    "print(f'Validation set size : {len(val_dataset)} - {int(VAL_SIZE * 100)}% of all data')\n",
    "print(f'Test set size : {len(test_dataset)} - {int(TEST_SIZE * 100)}% of all data')"
   ]
  },
  {
   "cell_type": "markdown",
   "id": "d43556e4",
   "metadata": {
    "papermill": {
     "duration": 0.009449,
     "end_time": "2023-01-07T07:13:48.871725",
     "exception": false,
     "start_time": "2023-01-07T07:13:48.862276",
     "status": "completed"
    },
    "tags": []
   },
   "source": [
    "We do not really much epochs of training on our dataset, since we only fine-tune our already pretrained on large corpus model. By the way, training one epoch takes 2-3 hours of GPU computation and with more epochs it will actually overfit quite fast."
   ]
  },
  {
   "cell_type": "code",
   "execution_count": 21,
   "id": "034b3d3a",
   "metadata": {
    "execution": {
     "iopub.execute_input": "2023-01-07T07:13:48.893052Z",
     "iopub.status.busy": "2023-01-07T07:13:48.891472Z",
     "iopub.status.idle": "2023-01-07T07:13:48.897154Z",
     "shell.execute_reply": "2023-01-07T07:13:48.896296Z"
    },
    "papermill": {
     "duration": 0.018075,
     "end_time": "2023-01-07T07:13:48.899083",
     "exception": false,
     "start_time": "2023-01-07T07:13:48.881008",
     "status": "completed"
    },
    "tags": []
   },
   "outputs": [],
   "source": [
    "BATCH_SIZE = 48\n",
    "LR = 4e-5\n",
    "EPOCH = 2"
   ]
  },
  {
   "cell_type": "code",
   "execution_count": 22,
   "id": "fe61ad2e",
   "metadata": {
    "execution": {
     "iopub.execute_input": "2023-01-07T07:13:48.919586Z",
     "iopub.status.busy": "2023-01-07T07:13:48.918788Z",
     "iopub.status.idle": "2023-01-07T07:13:48.924722Z",
     "shell.execute_reply": "2023-01-07T07:13:48.923811Z"
    },
    "papermill": {
     "duration": 0.018061,
     "end_time": "2023-01-07T07:13:48.926619",
     "exception": false,
     "start_time": "2023-01-07T07:13:48.908558",
     "status": "completed"
    },
    "tags": []
   },
   "outputs": [],
   "source": [
    "train_data_loader = DataLoader(train_dataset,\n",
    "                              batch_size=BATCH_SIZE,\n",
    "                              shuffle=True,\n",
    "                              num_workers=8)\n",
    "\n",
    "val_data_loader = DataLoader(val_dataset,\n",
    "                              batch_size=BATCH_SIZE,\n",
    "                              shuffle=False,\n",
    "                              num_workers=8)\n",
    "\n",
    "test_data_loader = DataLoader(test_dataset,\n",
    "                              batch_size=BATCH_SIZE,\n",
    "                              shuffle=False,\n",
    "                              num_workers=8)"
   ]
  },
  {
   "cell_type": "markdown",
   "id": "155933a6",
   "metadata": {
    "papermill": {
     "duration": 0.009084,
     "end_time": "2023-01-07T07:13:48.944967",
     "exception": false,
     "start_time": "2023-01-07T07:13:48.935883",
     "status": "completed"
    },
    "tags": []
   },
   "source": [
    "## BERT\n",
    "\n",
    "We are going to use BERT transformer model. We need to tokenize text before passing it to our model. "
   ]
  },
  {
   "cell_type": "markdown",
   "id": "b8aecc9d",
   "metadata": {
    "papermill": {
     "duration": 0.009106,
     "end_time": "2023-01-07T07:13:48.963413",
     "exception": false,
     "start_time": "2023-01-07T07:13:48.954307",
     "status": "completed"
    },
    "tags": []
   },
   "source": [
    "### Set-Up"
   ]
  },
  {
   "cell_type": "code",
   "execution_count": 23,
   "id": "5073e7a9",
   "metadata": {
    "execution": {
     "iopub.execute_input": "2023-01-07T07:13:48.983249Z",
     "iopub.status.busy": "2023-01-07T07:13:48.982959Z",
     "iopub.status.idle": "2023-01-07T07:13:48.987994Z",
     "shell.execute_reply": "2023-01-07T07:13:48.986941Z"
    },
    "papermill": {
     "duration": 0.017379,
     "end_time": "2023-01-07T07:13:48.990063",
     "exception": false,
     "start_time": "2023-01-07T07:13:48.972684",
     "status": "completed"
    },
    "tags": []
   },
   "outputs": [],
   "source": [
    "model_name_bert = 'bert-base-uncased'"
   ]
  },
  {
   "cell_type": "code",
   "execution_count": 24,
   "id": "155c52ca",
   "metadata": {
    "execution": {
     "iopub.execute_input": "2023-01-07T07:13:49.009606Z",
     "iopub.status.busy": "2023-01-07T07:13:49.009349Z",
     "iopub.status.idle": "2023-01-07T07:13:52.024304Z",
     "shell.execute_reply": "2023-01-07T07:13:52.023296Z"
    },
    "papermill": {
     "duration": 3.027309,
     "end_time": "2023-01-07T07:13:52.026673",
     "exception": false,
     "start_time": "2023-01-07T07:13:48.999364",
     "status": "completed"
    },
    "tags": []
   },
   "outputs": [
    {
     "data": {
      "application/vnd.jupyter.widget-view+json": {
       "model_id": "b2fd67307fc240afba61d18d304365a7",
       "version_major": 2,
       "version_minor": 0
      },
      "text/plain": [
       "Downloading:   0%|          | 0.00/226k [00:00<?, ?B/s]"
      ]
     },
     "metadata": {},
     "output_type": "display_data"
    },
    {
     "data": {
      "application/vnd.jupyter.widget-view+json": {
       "model_id": "e2d2cf360949475682ef808a53c4a095",
       "version_major": 2,
       "version_minor": 0
      },
      "text/plain": [
       "Downloading:   0%|          | 0.00/28.0 [00:00<?, ?B/s]"
      ]
     },
     "metadata": {},
     "output_type": "display_data"
    },
    {
     "data": {
      "application/vnd.jupyter.widget-view+json": {
       "model_id": "e3d35d21de244b788b8587e9f0ce78cf",
       "version_major": 2,
       "version_minor": 0
      },
      "text/plain": [
       "Downloading:   0%|          | 0.00/570 [00:00<?, ?B/s]"
      ]
     },
     "metadata": {},
     "output_type": "display_data"
    }
   ],
   "source": [
    "tokenizer = BertTokenizer.from_pretrained(model_name_bert)"
   ]
  },
  {
   "cell_type": "code",
   "execution_count": 25,
   "id": "94c4c4e8",
   "metadata": {
    "execution": {
     "iopub.execute_input": "2023-01-07T07:13:52.049594Z",
     "iopub.status.busy": "2023-01-07T07:13:52.049218Z",
     "iopub.status.idle": "2023-01-07T07:18:22.331168Z",
     "shell.execute_reply": "2023-01-07T07:18:22.330119Z"
    },
    "papermill": {
     "duration": 270.306779,
     "end_time": "2023-01-07T07:18:22.343862",
     "exception": false,
     "start_time": "2023-01-07T07:13:52.037083",
     "status": "completed"
    },
    "tags": []
   },
   "outputs": [
    {
     "name": "stdout",
     "output_type": "stream",
     "text": [
      "Max length:  185.0\n"
     ]
    }
   ],
   "source": [
    "max_len = np.zeros(len(data))\n",
    "for i in range(len(data)):\n",
    "    input_ids = tokenizer.encode(data.text.iloc[i], add_special_tokens=True)\n",
    "    max_len[i] = len(input_ids)\n",
    "print('Max length: ', max_len.max())\n",
    "\n",
    "del input_ids\n",
    "del max_len"
   ]
  },
  {
   "cell_type": "markdown",
   "id": "a55b975f",
   "metadata": {
    "papermill": {
     "duration": 0.009682,
     "end_time": "2023-01-07T07:18:22.364351",
     "exception": false,
     "start_time": "2023-01-07T07:18:22.354669",
     "status": "completed"
    },
    "tags": []
   },
   "source": [
    "We also need to provide our model with `pytorch lightning module` functionality"
   ]
  },
  {
   "cell_type": "code",
   "execution_count": 26,
   "id": "c1d6825e",
   "metadata": {
    "execution": {
     "iopub.execute_input": "2023-01-07T07:18:22.386342Z",
     "iopub.status.busy": "2023-01-07T07:18:22.385944Z",
     "iopub.status.idle": "2023-01-07T07:18:22.407368Z",
     "shell.execute_reply": "2023-01-07T07:18:22.406399Z"
    },
    "papermill": {
     "duration": 0.035256,
     "end_time": "2023-01-07T07:18:22.409788",
     "exception": false,
     "start_time": "2023-01-07T07:18:22.374532",
     "status": "completed"
    },
    "tags": []
   },
   "outputs": [],
   "source": [
    "class BertModel(pl.LightningModule):\n",
    "    def __init__(self, tokenizer, max_len, lr=LR):\n",
    "        super().__init__()\n",
    "        self.model = BertForSequenceClassification.from_pretrained(model_name_bert, num_labels=data.label.nunique())        \n",
    "        self.loss = nn.functional.cross_entropy\n",
    "        self.tokenizer = tokenizer\n",
    "        self.max_len = max_len\n",
    "        self.softmax = nn.Softmax()\n",
    "        self.lr = lr\n",
    "        self.losses_train = []\n",
    "        self.losses_val = []\n",
    "        \n",
    "    def forward(self, x):\n",
    "        encoding = self.tokenizer(\n",
    "          x,\n",
    "          add_special_tokens=True,\n",
    "          max_length=self.max_len,\n",
    "          return_token_type_ids=False,\n",
    "          pad_to_max_length=True,\n",
    "          return_attention_mask=True,\n",
    "          return_tensors='pt',\n",
    "          truncation=True\n",
    "        ).to(device)\n",
    "        \n",
    "        return self.model(**encoding)\n",
    "    \n",
    "    def training_step(self, batch, batch_idx):\n",
    "        text_msg, y_true = batch\n",
    "        y_true = torch.tensor(np.array(list(y_true)).astype(np.uint8)).to(device)\n",
    "        logits = self.forward(text_msg).logits\n",
    "        loss = self.loss(logits, y_true)\n",
    "        softmax = self.softmax(logits)\n",
    "        y_pred = torch.argmax(softmax, dim=1).to(device)\n",
    "        \n",
    "        accuracy = torch.tensor(accuracy_score(y_true.cpu().numpy(), y_pred.cpu().numpy()))\n",
    "        f1 = torch.tensor(f1_score(y_true.cpu().numpy(), y_pred.cpu().numpy(), average=\"macro\"))\n",
    "        self.losses_train.append(loss)\n",
    "        return {'loss' : loss, 'accuracy' : accuracy, 'f1' : f1}\n",
    "    \n",
    "    def validation_step(self, batch, batch_idx):\n",
    "        text_msg, y_true = batch\n",
    "        y_true = torch.tensor(np.array(list(y_true)).astype(np.uint8)).to(device)\n",
    "        logits = self.forward(text_msg).logits\n",
    "        loss = self.loss(logits, y_true)\n",
    "        softmax = self.softmax(logits)\n",
    "        y_pred = torch.argmax(softmax, dim=1).to(device)\n",
    "        \n",
    "        accuracy = torch.tensor(accuracy_score(y_true.cpu().numpy(), y_pred.cpu().numpy()))\n",
    "        f1 = torch.tensor(f1_score(y_true.cpu().numpy(), y_pred.cpu().numpy(), average=\"macro\"))\n",
    "        self.losses_val.append(loss)\n",
    "        return {'val_loss' : loss, 'val_accuracy' : accuracy, 'val_f1' : f1}\n",
    "    \n",
    "    def training_epoch_end(self, outputs):\n",
    "        avg_loss = torch.stack([x['loss'] for x in outputs]).mean()\n",
    "        avg_acc = torch.stack([x['accuracy'] for x in outputs]).mean()\n",
    "        avg_f1 = torch.stack([x['f1'] for x in outputs]).mean()\n",
    "        \n",
    "        print(f\"Train_loss: {avg_loss:.2f}\")\n",
    "        print(f\"Train_accuracy: {avg_acc:.2f}\")\n",
    "        print(f\"Train_f1: {avg_f1:.2f}\")\n",
    "        \n",
    "        self.log('loss', avg_loss, prog_bar=True, on_epoch=True, on_step=False)\n",
    "        \n",
    "    def predict_step(self, batch, batch_idx):\n",
    "        if isinstance(batch, list):\n",
    "            if len(batch) > 1:\n",
    "                text_msg, _ = batch\n",
    "        else:\n",
    "            text_msg = batch\n",
    "        output = self.forward(text_msg).logits.to(device)\n",
    "        probs =  self.softmax(output).to(device)\n",
    "        return torch.argmax(probs, dim=1)\n",
    "        \n",
    "    def validation_epoch_end(self, outputs):\n",
    "        avg_loss = torch.stack([x['val_loss'] for x in outputs]).mean()\n",
    "        avg_acc = torch.stack([x['val_accuracy'] for x in outputs]).mean()\n",
    "        avg_f1 = torch.stack([x['val_f1'] for x in outputs]).mean()\n",
    "        \n",
    "        print(f\"Val_loss: {avg_loss:.2f}\", end= \" \")\n",
    "        print(f\"Val_accuracy: {avg_acc:.2f}\", end= \" \")\n",
    "        print(f\"Val_f1 {avg_loss:.2f}\", end= \" \")\n",
    "        \n",
    "        self.log('val_loss', avg_loss, prog_bar=True, on_epoch=True, on_step=False)\n",
    "    \n",
    "    def configure_optimizers(self):\n",
    "        return torch.optim.AdamW(self.parameters(), lr=self.lr, weight_decay=1e-6)"
   ]
  },
  {
   "cell_type": "markdown",
   "id": "e558edbc",
   "metadata": {
    "papermill": {
     "duration": 0.009816,
     "end_time": "2023-01-07T07:18:22.429945",
     "exception": false,
     "start_time": "2023-01-07T07:18:22.420129",
     "status": "completed"
    },
    "tags": []
   },
   "source": [
    "### Training"
   ]
  },
  {
   "cell_type": "code",
   "execution_count": 27,
   "id": "8014e2a2",
   "metadata": {
    "execution": {
     "iopub.execute_input": "2023-01-07T07:18:22.451701Z",
     "iopub.status.busy": "2023-01-07T07:18:22.451336Z",
     "iopub.status.idle": "2023-01-07T07:18:44.785023Z",
     "shell.execute_reply": "2023-01-07T07:18:44.783569Z"
    },
    "papermill": {
     "duration": 22.34805,
     "end_time": "2023-01-07T07:18:44.788009",
     "exception": false,
     "start_time": "2023-01-07T07:18:22.439959",
     "status": "completed"
    },
    "tags": []
   },
   "outputs": [
    {
     "data": {
      "application/vnd.jupyter.widget-view+json": {
       "model_id": "a5c1729cff3e4beabd66c35f86afdb86",
       "version_major": 2,
       "version_minor": 0
      },
      "text/plain": [
       "Downloading:   0%|          | 0.00/420M [00:00<?, ?B/s]"
      ]
     },
     "metadata": {},
     "output_type": "display_data"
    },
    {
     "name": "stderr",
     "output_type": "stream",
     "text": [
      "Some weights of the model checkpoint at bert-base-uncased were not used when initializing BertForSequenceClassification: ['cls.predictions.transform.LayerNorm.bias', 'cls.seq_relationship.weight', 'cls.predictions.bias', 'cls.predictions.transform.dense.bias', 'cls.predictions.transform.LayerNorm.weight', 'cls.predictions.decoder.weight', 'cls.seq_relationship.bias', 'cls.predictions.transform.dense.weight']\n",
      "- This IS expected if you are initializing BertForSequenceClassification from the checkpoint of a model trained on another task or with another architecture (e.g. initializing a BertForSequenceClassification model from a BertForPreTraining model).\n",
      "- This IS NOT expected if you are initializing BertForSequenceClassification from the checkpoint of a model that you expect to be exactly identical (initializing a BertForSequenceClassification model from a BertForSequenceClassification model).\n",
      "Some weights of BertForSequenceClassification were not initialized from the model checkpoint at bert-base-uncased and are newly initialized: ['classifier.bias', 'classifier.weight']\n",
      "You should probably TRAIN this model on a down-stream task to be able to use it for predictions and inference.\n"
     ]
    }
   ],
   "source": [
    "bert_model = BertModel(tokenizer, max_len=256)"
   ]
  },
  {
   "cell_type": "code",
   "execution_count": 28,
   "id": "bc90fdae",
   "metadata": {
    "execution": {
     "iopub.execute_input": "2023-01-07T07:18:44.810266Z",
     "iopub.status.busy": "2023-01-07T07:18:44.809971Z",
     "iopub.status.idle": "2023-01-07T07:18:44.815412Z",
     "shell.execute_reply": "2023-01-07T07:18:44.814493Z"
    },
    "papermill": {
     "duration": 0.018695,
     "end_time": "2023-01-07T07:18:44.817476",
     "exception": false,
     "start_time": "2023-01-07T07:18:44.798781",
     "status": "completed"
    },
    "tags": []
   },
   "outputs": [],
   "source": [
    "model_check_point = ModelCheckpoint(dirpath='runs/bert_emotion',\n",
    "                                    filename='{epoch}-{val_loss:.3f}',\n",
    "                                    monitor='val_loss', \n",
    "                                    mode='min', \n",
    "                                    save_top_k=1)"
   ]
  },
  {
   "cell_type": "code",
   "execution_count": 29,
   "id": "bdbe22c2",
   "metadata": {
    "execution": {
     "iopub.execute_input": "2023-01-07T07:18:44.838546Z",
     "iopub.status.busy": "2023-01-07T07:18:44.838294Z",
     "iopub.status.idle": "2023-01-07T11:21:39.384522Z",
     "shell.execute_reply": "2023-01-07T11:21:39.382326Z"
    },
    "papermill": {
     "duration": 14574.559364,
     "end_time": "2023-01-07T11:21:39.386885",
     "exception": false,
     "start_time": "2023-01-07T07:18:44.827521",
     "status": "completed"
    },
    "tags": []
   },
   "outputs": [
    {
     "name": "stdout",
     "output_type": "stream",
     "text": [
      "Training started...\n"
     ]
    },
    {
     "data": {
      "application/vnd.jupyter.widget-view+json": {
       "model_id": "8aeca1d0498f4548aa9355e93dee247a",
       "version_major": 2,
       "version_minor": 0
      },
      "text/plain": [
       "Sanity Checking: 0it [00:00, ?it/s]"
      ]
     },
     "metadata": {},
     "output_type": "display_data"
    },
    {
     "name": "stdout",
     "output_type": "stream",
     "text": [
      "Val_loss: 1.79 Val_accuracy: 0.18 Val_f1 1.79 "
     ]
    },
    {
     "data": {
      "application/vnd.jupyter.widget-view+json": {
       "model_id": "e2ed33937c0049e3b4c528a2df922843",
       "version_major": 2,
       "version_minor": 0
      },
      "text/plain": [
       "Training: 0it [00:00, ?it/s]"
      ]
     },
     "metadata": {},
     "output_type": "display_data"
    },
    {
     "data": {
      "application/vnd.jupyter.widget-view+json": {
       "model_id": "9a5503d6ddc84973afee8171c807d41d",
       "version_major": 2,
       "version_minor": 0
      },
      "text/plain": [
       "Validation: 0it [00:00, ?it/s]"
      ]
     },
     "metadata": {},
     "output_type": "display_data"
    },
    {
     "name": "stdout",
     "output_type": "stream",
     "text": [
      "Val_loss: 0.09 Val_accuracy: 0.94 Val_f1 0.09 Train_loss: 0.13\n",
      "Train_accuracy: 0.93\n",
      "Train_f1: 0.88\n"
     ]
    },
    {
     "data": {
      "application/vnd.jupyter.widget-view+json": {
       "model_id": "5dba9b02dd9d454b8096a808aa83e52c",
       "version_major": 2,
       "version_minor": 0
      },
      "text/plain": [
       "Validation: 0it [00:00, ?it/s]"
      ]
     },
     "metadata": {},
     "output_type": "display_data"
    },
    {
     "name": "stdout",
     "output_type": "stream",
     "text": [
      "Val_loss: 0.11 Val_accuracy: 0.94 Val_f1 0.11 Train_loss: 0.09\n",
      "Train_accuracy: 0.94\n",
      "Train_f1: 0.89\n",
      "Training finished after 242.9 minutes\n"
     ]
    }
   ],
   "source": [
    "trainer = pl.Trainer(\n",
    "    max_epochs=EPOCH,\n",
    "    gpus=1,\n",
    "    callbacks=[model_check_point],\n",
    "    log_every_n_steps=5\n",
    ")\n",
    "\n",
    "print(f'Training started...')\n",
    "train_start = time.time()\n",
    "\n",
    "trainer.fit(bert_model, train_data_loader, val_data_loader)\n",
    "\n",
    "train_finish = time.time()\n",
    "print(f'Training finished after {((train_finish - train_start) / 60):.1f} minutes')"
   ]
  },
  {
   "cell_type": "code",
   "execution_count": 30,
   "id": "6a8520d2",
   "metadata": {
    "execution": {
     "iopub.execute_input": "2023-01-07T11:21:39.410171Z",
     "iopub.status.busy": "2023-01-07T11:21:39.409852Z",
     "iopub.status.idle": "2023-01-07T11:21:39.660792Z",
     "shell.execute_reply": "2023-01-07T11:21:39.659841Z"
    },
    "papermill": {
     "duration": 0.265404,
     "end_time": "2023-01-07T11:21:39.663271",
     "exception": false,
     "start_time": "2023-01-07T11:21:39.397867",
     "status": "completed"
    },
    "tags": []
   },
   "outputs": [],
   "source": [
    "train_step_losses = [i.detach().cpu().item() for i in bert_model.losses_train]\n",
    "val_step_losses = [i.detach().cpu().item() for i in bert_model.losses_val]\n",
    "\n",
    "train_steps = [i for i in range(len(train_step_losses))]\n",
    "val_steps = [i for i in range(len(val_step_losses))]\n",
    "\n",
    "loss_stats_train = pd.DataFrame({\n",
    "    'step' : train_steps,\n",
    "    'train_loss' : train_step_losses,\n",
    "})\n",
    "\n",
    "loss_stats_val = pd.DataFrame({\n",
    "    'step' : val_steps,\n",
    "    'val_loss' : val_step_losses\n",
    "})"
   ]
  },
  {
   "cell_type": "code",
   "execution_count": 31,
   "id": "66614064",
   "metadata": {
    "execution": {
     "iopub.execute_input": "2023-01-07T11:21:39.686715Z",
     "iopub.status.busy": "2023-01-07T11:21:39.686400Z",
     "iopub.status.idle": "2023-01-07T11:21:40.052183Z",
     "shell.execute_reply": "2023-01-07T11:21:40.051331Z"
    },
    "papermill": {
     "duration": 0.382807,
     "end_time": "2023-01-07T11:21:40.057408",
     "exception": false,
     "start_time": "2023-01-07T11:21:39.674601",
     "status": "completed"
    },
    "tags": []
   },
   "outputs": [
    {
     "data": {
      "text/html": [
       "   <div id=\"oWRC3y\"></div>\n",
       "   <script type=\"text/javascript\" data-lets-plot-script=\"plot\">\n",
       "       (function() {\n",
       "           var plotSpec={\n",
       "\"kind\":\"ggbunch\",\n",
       "\"items\":[{\n",
       "\"x\":100,\n",
       "\"y\":0,\n",
       "\"width\":null,\n",
       "\"height\":null,\n",
       "\"feature_spec\":{\n",
       "\"data\":{\n",
       "\"step\":[0.0,1.0,2.0,3.0,4.0,5.0,6.0,7.0,8.0,9.0,10.0,11.0,12.0,13.0,14.0,15.0,16.0,17.0,18.0,19.0,20.0,21.0,22.0,23.0,24.0,25.0,26.0,27.0,28.0,29.0,30.0,31.0,32.0,33.0,34.0,35.0,36.0,37.0,38.0,39.0,40.0,41.0,42.0,43.0,44.0,45.0,46.0,47.0,48.0,49.0,50.0,51.0,52.0,53.0,54.0,55.0,56.0,57.0,58.0,59.0,60.0,61.0,62.0,63.0,64.0,65.0,66.0,67.0,68.0,69.0,70.0,71.0,72.0,73.0,74.0,75.0,76.0,77.0,78.0,79.0,80.0,81.0,82.0,83.0,84.0,85.0,86.0,87.0,88.0,89.0,90.0,91.0,92.0,93.0,94.0,95.0,96.0,97.0,98.0,99.0,100.0,101.0,102.0,103.0,104.0,105.0,106.0,107.0,108.0,109.0,110.0,111.0,112.0,113.0,114.0,115.0,116.0,117.0,118.0,119.0,120.0,121.0,122.0,123.0,124.0,125.0,126.0,127.0,128.0,129.0,130.0,131.0,132.0,133.0,134.0,135.0,136.0,137.0,138.0,139.0,140.0,141.0,142.0,143.0,144.0,145.0,146.0,147.0,148.0,149.0,150.0,151.0,152.0,153.0,154.0,155.0,156.0,157.0,158.0,159.0,160.0,161.0,162.0,163.0,164.0,165.0,166.0,167.0,168.0,169.0,170.0,171.0,172.0,173.0,174.0,175.0,176.0,177.0,178.0,179.0,180.0,181.0,182.0,183.0,184.0,185.0,186.0,187.0,188.0,189.0,190.0,191.0,192.0,193.0,194.0,195.0,196.0,197.0,198.0,199.0,200.0,201.0,202.0,203.0,204.0,205.0,206.0,207.0,208.0,209.0,210.0,211.0,212.0,213.0,214.0,215.0,216.0,217.0,218.0,219.0,220.0,221.0,222.0,223.0,224.0,225.0,226.0,227.0,228.0,229.0,230.0,231.0,232.0,233.0,234.0,235.0,236.0,237.0,238.0,239.0,240.0,241.0,242.0,243.0,244.0,245.0,246.0,247.0,248.0,249.0,250.0,251.0,252.0,253.0,254.0,255.0,256.0,257.0,258.0,259.0,260.0,261.0,262.0,263.0,264.0,265.0,266.0,267.0,268.0,269.0,270.0,271.0,272.0,273.0,274.0,275.0,276.0,277.0,278.0,279.0,280.0,281.0,282.0,283.0,284.0,285.0,286.0,287.0,288.0,289.0,290.0,291.0,292.0,293.0,294.0,295.0,296.0,297.0,298.0,299.0,300.0,301.0,302.0,303.0,304.0,305.0,306.0,307.0,308.0,309.0,310.0,311.0,312.0,313.0,314.0,315.0,316.0,317.0,318.0,319.0,320.0,321.0,322.0,323.0,324.0,325.0,326.0,327.0,328.0,329.0,330.0,331.0,332.0,333.0,334.0,335.0,336.0,337.0,338.0,339.0,340.0,341.0,342.0,343.0,344.0,345.0,346.0,347.0,348.0,349.0,350.0,351.0,352.0,353.0,354.0,355.0,356.0,357.0,358.0,359.0,360.0,361.0,362.0,363.0,364.0,365.0,366.0,367.0,368.0,369.0,370.0,371.0,372.0,373.0,374.0,375.0,376.0,377.0,378.0,379.0,380.0,381.0,382.0,383.0,384.0,385.0,386.0,387.0,388.0,389.0,390.0,391.0,392.0,393.0,394.0,395.0,396.0,397.0,398.0,399.0,400.0,401.0,402.0,403.0,404.0,405.0,406.0,407.0,408.0,409.0,410.0,411.0,412.0,413.0,414.0,415.0,416.0,417.0,418.0,419.0,420.0,421.0,422.0,423.0,424.0,425.0,426.0,427.0,428.0,429.0,430.0,431.0,432.0,433.0,434.0,435.0,436.0,437.0,438.0,439.0,440.0,441.0,442.0,443.0,444.0,445.0,446.0,447.0,448.0,449.0,450.0,451.0,452.0,453.0,454.0,455.0,456.0,457.0,458.0,459.0,460.0,461.0,462.0,463.0,464.0,465.0,466.0,467.0,468.0,469.0,470.0,471.0,472.0,473.0,474.0,475.0,476.0,477.0,478.0,479.0,480.0,481.0,482.0,483.0,484.0,485.0,486.0,487.0,488.0,489.0,490.0,491.0,492.0,493.0,494.0,495.0,496.0,497.0,498.0,499.0,500.0,501.0,502.0,503.0,504.0,505.0,506.0,507.0,508.0,509.0,510.0,511.0,512.0,513.0,514.0,515.0,516.0,517.0,518.0,519.0,520.0,521.0,522.0,523.0,524.0,525.0,526.0,527.0,528.0,529.0,530.0,531.0,532.0,533.0,534.0,535.0,536.0,537.0,538.0,539.0,540.0,541.0,542.0,543.0,544.0,545.0,546.0,547.0,548.0,549.0,550.0,551.0,552.0,553.0,554.0,555.0,556.0,557.0,558.0,559.0,560.0,561.0,562.0,563.0,564.0,565.0,566.0,567.0,568.0,569.0,570.0,571.0,572.0,573.0,574.0,575.0,576.0,577.0,578.0,579.0,580.0,581.0,582.0,583.0,584.0,585.0,586.0,587.0,588.0,589.0,590.0,591.0,592.0,593.0,594.0,595.0,596.0,597.0,598.0,599.0,600.0,601.0,602.0,603.0,604.0,605.0,606.0,607.0,608.0,609.0,610.0,611.0,612.0,613.0,614.0,615.0,616.0,617.0,618.0,619.0,620.0,621.0,622.0,623.0,624.0,625.0,626.0,627.0,628.0,629.0,630.0,631.0,632.0,633.0,634.0,635.0,636.0,637.0,638.0,639.0,640.0,641.0,642.0,643.0,644.0,645.0,646.0,647.0,648.0,649.0,650.0,651.0,652.0,653.0,654.0,655.0,656.0,657.0,658.0,659.0,660.0,661.0,662.0,663.0,664.0,665.0,666.0,667.0,668.0,669.0,670.0,671.0,672.0,673.0,674.0,675.0,676.0,677.0,678.0,679.0,680.0,681.0,682.0,683.0,684.0,685.0,686.0,687.0,688.0,689.0,690.0,691.0,692.0,693.0,694.0,695.0,696.0,697.0,698.0,699.0,700.0,701.0,702.0,703.0,704.0,705.0,706.0,707.0,708.0,709.0,710.0,711.0,712.0,713.0,714.0,715.0,716.0,717.0,718.0,719.0,720.0,721.0,722.0,723.0,724.0,725.0,726.0,727.0,728.0,729.0,730.0,731.0,732.0,733.0,734.0,735.0,736.0,737.0,738.0,739.0,740.0,741.0,742.0,743.0,744.0,745.0,746.0,747.0,748.0,749.0,750.0,751.0,752.0,753.0,754.0,755.0,756.0,757.0,758.0,759.0,760.0,761.0,762.0,763.0,764.0,765.0,766.0,767.0,768.0,769.0,770.0,771.0,772.0,773.0,774.0,775.0,776.0,777.0,778.0,779.0,780.0,781.0,782.0,783.0,784.0,785.0,786.0,787.0,788.0,789.0,790.0,791.0,792.0,793.0,794.0,795.0,796.0,797.0,798.0,799.0,800.0,801.0,802.0,803.0,804.0,805.0,806.0,807.0,808.0,809.0,810.0,811.0,812.0,813.0,814.0,815.0,816.0,817.0,818.0,819.0,820.0,821.0,822.0,823.0,824.0,825.0,826.0,827.0,828.0,829.0,830.0,831.0,832.0,833.0,834.0,835.0,836.0,837.0,838.0,839.0,840.0,841.0,842.0,843.0,844.0,845.0,846.0,847.0,848.0,849.0,850.0,851.0,852.0,853.0,854.0,855.0,856.0,857.0,858.0,859.0,860.0,861.0,862.0,863.0,864.0,865.0,866.0,867.0,868.0,869.0,870.0,871.0,872.0,873.0,874.0,875.0,876.0,877.0,878.0,879.0,880.0,881.0,882.0,883.0,884.0,885.0,886.0,887.0,888.0,889.0,890.0,891.0,892.0,893.0,894.0,895.0,896.0,897.0,898.0,899.0,900.0,901.0,902.0,903.0,904.0,905.0,906.0,907.0,908.0,909.0,910.0,911.0,912.0,913.0,914.0,915.0,916.0,917.0,918.0,919.0,920.0,921.0,922.0,923.0,924.0,925.0,926.0,927.0,928.0,929.0,930.0,931.0,932.0,933.0,934.0,935.0,936.0,937.0,938.0,939.0,940.0,941.0,942.0,943.0,944.0,945.0,946.0,947.0,948.0,949.0,950.0,951.0,952.0,953.0,954.0,955.0,956.0,957.0,958.0,959.0,960.0,961.0,962.0,963.0,964.0,965.0,966.0,967.0,968.0,969.0,970.0,971.0,972.0,973.0,974.0,975.0,976.0,977.0,978.0,979.0,980.0,981.0,982.0,983.0,984.0,985.0,986.0,987.0,988.0,989.0,990.0,991.0,992.0,993.0,994.0,995.0,996.0,997.0,998.0,999.0,1000.0,1001.0,1002.0,1003.0,1004.0,1005.0,1006.0,1007.0,1008.0,1009.0,1010.0,1011.0,1012.0,1013.0,1014.0,1015.0,1016.0,1017.0,1018.0,1019.0,1020.0,1021.0,1022.0,1023.0,1024.0,1025.0,1026.0,1027.0,1028.0,1029.0,1030.0,1031.0,1032.0,1033.0,1034.0,1035.0,1036.0,1037.0,1038.0,1039.0,1040.0,1041.0,1042.0,1043.0,1044.0,1045.0,1046.0,1047.0,1048.0,1049.0,1050.0,1051.0,1052.0,1053.0,1054.0,1055.0,1056.0,1057.0,1058.0,1059.0,1060.0,1061.0,1062.0,1063.0,1064.0,1065.0,1066.0,1067.0,1068.0,1069.0,1070.0,1071.0,1072.0,1073.0,1074.0,1075.0,1076.0,1077.0,1078.0,1079.0,1080.0,1081.0,1082.0,1083.0,1084.0,1085.0,1086.0,1087.0,1088.0,1089.0,1090.0,1091.0,1092.0,1093.0,1094.0,1095.0,1096.0,1097.0,1098.0,1099.0,1100.0,1101.0,1102.0,1103.0,1104.0,1105.0,1106.0,1107.0,1108.0,1109.0,1110.0,1111.0,1112.0,1113.0,1114.0,1115.0,1116.0,1117.0,1118.0,1119.0,1120.0,1121.0,1122.0,1123.0,1124.0,1125.0,1126.0,1127.0,1128.0,1129.0,1130.0,1131.0,1132.0,1133.0,1134.0,1135.0,1136.0,1137.0,1138.0,1139.0,1140.0,1141.0,1142.0,1143.0,1144.0,1145.0,1146.0,1147.0,1148.0,1149.0,1150.0,1151.0,1152.0,1153.0,1154.0,1155.0,1156.0,1157.0,1158.0,1159.0,1160.0,1161.0,1162.0,1163.0,1164.0,1165.0,1166.0,1167.0,1168.0,1169.0,1170.0,1171.0,1172.0,1173.0,1174.0,1175.0,1176.0,1177.0,1178.0,1179.0,1180.0,1181.0,1182.0,1183.0,1184.0,1185.0,1186.0,1187.0,1188.0,1189.0,1190.0,1191.0,1192.0,1193.0,1194.0,1195.0,1196.0,1197.0,1198.0,1199.0,1200.0,1201.0,1202.0,1203.0,1204.0,1205.0,1206.0,1207.0,1208.0,1209.0,1210.0,1211.0,1212.0,1213.0,1214.0,1215.0,1216.0,1217.0,1218.0,1219.0,1220.0,1221.0,1222.0,1223.0,1224.0,1225.0,1226.0,1227.0,1228.0,1229.0,1230.0,1231.0,1232.0,1233.0,1234.0,1235.0,1236.0,1237.0,1238.0,1239.0,1240.0,1241.0,1242.0,1243.0,1244.0,1245.0,1246.0,1247.0,1248.0,1249.0,1250.0,1251.0,1252.0,1253.0,1254.0,1255.0,1256.0,1257.0,1258.0,1259.0,1260.0,1261.0,1262.0,1263.0,1264.0,1265.0,1266.0,1267.0,1268.0,1269.0,1270.0,1271.0,1272.0,1273.0,1274.0,1275.0,1276.0,1277.0,1278.0,1279.0,1280.0,1281.0,1282.0,1283.0,1284.0,1285.0,1286.0,1287.0,1288.0,1289.0,1290.0,1291.0,1292.0,1293.0,1294.0,1295.0,1296.0,1297.0,1298.0,1299.0,1300.0,1301.0,1302.0,1303.0,1304.0,1305.0,1306.0,1307.0,1308.0,1309.0,1310.0,1311.0,1312.0,1313.0,1314.0,1315.0,1316.0,1317.0,1318.0,1319.0,1320.0,1321.0,1322.0,1323.0,1324.0,1325.0,1326.0,1327.0,1328.0,1329.0,1330.0,1331.0,1332.0,1333.0,1334.0,1335.0,1336.0,1337.0,1338.0,1339.0,1340.0,1341.0,1342.0,1343.0,1344.0,1345.0,1346.0,1347.0,1348.0,1349.0,1350.0,1351.0,1352.0,1353.0,1354.0,1355.0,1356.0,1357.0,1358.0,1359.0,1360.0,1361.0,1362.0,1363.0,1364.0,1365.0,1366.0,1367.0,1368.0,1369.0,1370.0,1371.0,1372.0,1373.0,1374.0,1375.0,1376.0,1377.0,1378.0,1379.0,1380.0,1381.0,1382.0,1383.0,1384.0,1385.0,1386.0,1387.0,1388.0,1389.0,1390.0,1391.0,1392.0,1393.0,1394.0,1395.0,1396.0,1397.0,1398.0,1399.0,1400.0,1401.0,1402.0,1403.0,1404.0,1405.0,1406.0,1407.0,1408.0,1409.0,1410.0,1411.0,1412.0,1413.0,1414.0,1415.0,1416.0,1417.0,1418.0,1419.0,1420.0,1421.0,1422.0,1423.0,1424.0,1425.0,1426.0,1427.0,1428.0,1429.0,1430.0,1431.0,1432.0,1433.0,1434.0,1435.0,1436.0,1437.0,1438.0,1439.0,1440.0,1441.0,1442.0,1443.0,1444.0,1445.0,1446.0,1447.0,1448.0,1449.0,1450.0,1451.0,1452.0,1453.0,1454.0,1455.0,1456.0,1457.0,1458.0,1459.0,1460.0,1461.0,1462.0,1463.0,1464.0,1465.0,1466.0,1467.0,1468.0,1469.0,1470.0,1471.0,1472.0,1473.0,1474.0,1475.0,1476.0,1477.0,1478.0,1479.0,1480.0,1481.0,1482.0,1483.0,1484.0,1485.0,1486.0,1487.0,1488.0,1489.0,1490.0,1491.0,1492.0,1493.0,1494.0,1495.0,1496.0,1497.0,1498.0,1499.0,1500.0,1501.0,1502.0,1503.0,1504.0,1505.0,1506.0,1507.0,1508.0,1509.0,1510.0,1511.0,1512.0,1513.0,1514.0,1515.0,1516.0,1517.0,1518.0,1519.0,1520.0,1521.0,1522.0,1523.0,1524.0,1525.0,1526.0,1527.0,1528.0,1529.0,1530.0,1531.0,1532.0,1533.0,1534.0,1535.0,1536.0,1537.0,1538.0,1539.0,1540.0,1541.0,1542.0,1543.0,1544.0,1545.0,1546.0,1547.0,1548.0,1549.0,1550.0,1551.0,1552.0,1553.0,1554.0,1555.0,1556.0,1557.0,1558.0,1559.0,1560.0,1561.0,1562.0,1563.0,1564.0,1565.0,1566.0,1567.0,1568.0,1569.0,1570.0,1571.0,1572.0,1573.0,1574.0,1575.0,1576.0,1577.0,1578.0,1579.0,1580.0,1581.0,1582.0,1583.0,1584.0,1585.0,1586.0,1587.0,1588.0,1589.0,1590.0,1591.0,1592.0,1593.0,1594.0,1595.0,1596.0,1597.0,1598.0,1599.0,1600.0,1601.0,1602.0,1603.0,1604.0,1605.0,1606.0,1607.0,1608.0,1609.0,1610.0,1611.0,1612.0,1613.0,1614.0,1615.0,1616.0,1617.0,1618.0,1619.0,1620.0,1621.0,1622.0,1623.0,1624.0,1625.0,1626.0,1627.0,1628.0,1629.0,1630.0,1631.0,1632.0,1633.0,1634.0,1635.0,1636.0,1637.0,1638.0,1639.0,1640.0,1641.0,1642.0,1643.0,1644.0,1645.0,1646.0,1647.0,1648.0,1649.0,1650.0,1651.0,1652.0,1653.0,1654.0,1655.0,1656.0,1657.0,1658.0,1659.0,1660.0,1661.0,1662.0,1663.0,1664.0,1665.0,1666.0,1667.0,1668.0,1669.0,1670.0,1671.0,1672.0,1673.0,1674.0,1675.0,1676.0,1677.0,1678.0,1679.0,1680.0,1681.0,1682.0,1683.0,1684.0,1685.0,1686.0,1687.0,1688.0,1689.0,1690.0,1691.0,1692.0,1693.0,1694.0,1695.0,1696.0,1697.0,1698.0,1699.0,1700.0,1701.0,1702.0,1703.0,1704.0,1705.0,1706.0,1707.0,1708.0,1709.0,1710.0,1711.0,1712.0,1713.0,1714.0,1715.0,1716.0,1717.0,1718.0,1719.0,1720.0,1721.0,1722.0,1723.0,1724.0,1725.0,1726.0,1727.0,1728.0,1729.0,1730.0,1731.0,1732.0,1733.0,1734.0,1735.0,1736.0,1737.0,1738.0,1739.0,1740.0,1741.0,1742.0,1743.0,1744.0,1745.0,1746.0,1747.0,1748.0,1749.0,1750.0,1751.0,1752.0,1753.0,1754.0,1755.0,1756.0,1757.0,1758.0,1759.0,1760.0,1761.0,1762.0,1763.0,1764.0,1765.0,1766.0,1767.0,1768.0,1769.0,1770.0,1771.0,1772.0,1773.0,1774.0,1775.0,1776.0,1777.0,1778.0,1779.0,1780.0,1781.0,1782.0,1783.0,1784.0,1785.0,1786.0,1787.0,1788.0,1789.0,1790.0,1791.0,1792.0,1793.0,1794.0,1795.0,1796.0,1797.0,1798.0,1799.0,1800.0,1801.0,1802.0,1803.0,1804.0,1805.0,1806.0,1807.0,1808.0,1809.0,1810.0,1811.0,1812.0,1813.0,1814.0,1815.0,1816.0,1817.0,1818.0,1819.0,1820.0,1821.0,1822.0,1823.0,1824.0,1825.0,1826.0,1827.0,1828.0,1829.0,1830.0,1831.0,1832.0,1833.0,1834.0,1835.0,1836.0,1837.0,1838.0,1839.0,1840.0,1841.0,1842.0,1843.0,1844.0,1845.0,1846.0,1847.0,1848.0,1849.0,1850.0,1851.0,1852.0,1853.0,1854.0,1855.0,1856.0,1857.0,1858.0,1859.0,1860.0,1861.0,1862.0,1863.0,1864.0,1865.0,1866.0,1867.0,1868.0,1869.0,1870.0,1871.0,1872.0,1873.0,1874.0,1875.0,1876.0,1877.0,1878.0,1879.0,1880.0,1881.0,1882.0,1883.0,1884.0,1885.0,1886.0,1887.0,1888.0,1889.0,1890.0,1891.0,1892.0,1893.0,1894.0,1895.0,1896.0,1897.0,1898.0,1899.0,1900.0,1901.0,1902.0,1903.0,1904.0,1905.0,1906.0,1907.0,1908.0,1909.0,1910.0,1911.0,1912.0,1913.0,1914.0,1915.0,1916.0,1917.0,1918.0,1919.0,1920.0,1921.0,1922.0,1923.0,1924.0,1925.0,1926.0,1927.0,1928.0,1929.0,1930.0,1931.0,1932.0,1933.0,1934.0,1935.0,1936.0,1937.0,1938.0,1939.0,1940.0,1941.0,1942.0,1943.0,1944.0,1945.0,1946.0,1947.0,1948.0,1949.0,1950.0,1951.0,1952.0,1953.0,1954.0,1955.0,1956.0,1957.0,1958.0,1959.0,1960.0,1961.0,1962.0,1963.0,1964.0,1965.0,1966.0,1967.0,1968.0,1969.0,1970.0,1971.0,1972.0,1973.0,1974.0,1975.0,1976.0,1977.0,1978.0,1979.0,1980.0,1981.0,1982.0,1983.0,1984.0,1985.0,1986.0,1987.0,1988.0,1989.0,1990.0,1991.0,1992.0,1993.0,1994.0,1995.0,1996.0,1997.0,1998.0,1999.0,2000.0,2001.0,2002.0,2003.0,2004.0,2005.0,2006.0,2007.0,2008.0,2009.0,2010.0,2011.0,2012.0,2013.0,2014.0,2015.0,2016.0,2017.0,2018.0,2019.0,2020.0,2021.0,2022.0,2023.0,2024.0,2025.0,2026.0,2027.0,2028.0,2029.0,2030.0,2031.0,2032.0,2033.0,2034.0,2035.0,2036.0,2037.0,2038.0,2039.0,2040.0,2041.0,2042.0,2043.0,2044.0,2045.0,2046.0,2047.0,2048.0,2049.0,2050.0,2051.0,2052.0,2053.0,2054.0,2055.0,2056.0,2057.0,2058.0,2059.0,2060.0,2061.0,2062.0,2063.0,2064.0,2065.0,2066.0,2067.0,2068.0,2069.0,2070.0,2071.0,2072.0,2073.0,2074.0,2075.0,2076.0,2077.0,2078.0,2079.0,2080.0,2081.0,2082.0,2083.0,2084.0,2085.0,2086.0,2087.0,2088.0,2089.0,2090.0,2091.0,2092.0,2093.0,2094.0,2095.0,2096.0,2097.0,2098.0,2099.0,2100.0,2101.0,2102.0,2103.0,2104.0,2105.0,2106.0,2107.0,2108.0,2109.0,2110.0,2111.0,2112.0,2113.0,2114.0,2115.0,2116.0,2117.0,2118.0,2119.0,2120.0,2121.0,2122.0,2123.0,2124.0,2125.0,2126.0,2127.0,2128.0,2129.0,2130.0,2131.0,2132.0,2133.0,2134.0,2135.0,2136.0,2137.0,2138.0,2139.0,2140.0,2141.0,2142.0,2143.0,2144.0,2145.0,2146.0,2147.0,2148.0,2149.0,2150.0,2151.0,2152.0,2153.0,2154.0,2155.0,2156.0,2157.0,2158.0,2159.0,2160.0,2161.0,2162.0,2163.0,2164.0,2165.0,2166.0,2167.0,2168.0,2169.0,2170.0,2171.0,2172.0,2173.0,2174.0,2175.0,2176.0,2177.0,2178.0,2179.0,2180.0,2181.0,2182.0,2183.0,2184.0,2185.0,2186.0,2187.0,2188.0,2189.0,2190.0,2191.0,2192.0,2193.0,2194.0,2195.0,2196.0,2197.0,2198.0,2199.0,2200.0,2201.0,2202.0,2203.0,2204.0,2205.0,2206.0,2207.0,2208.0,2209.0,2210.0,2211.0,2212.0,2213.0,2214.0,2215.0,2216.0,2217.0,2218.0,2219.0,2220.0,2221.0,2222.0,2223.0,2224.0,2225.0,2226.0,2227.0,2228.0,2229.0,2230.0,2231.0,2232.0,2233.0,2234.0,2235.0,2236.0,2237.0,2238.0,2239.0,2240.0,2241.0,2242.0,2243.0,2244.0,2245.0,2246.0,2247.0,2248.0,2249.0,2250.0,2251.0,2252.0,2253.0,2254.0,2255.0,2256.0,2257.0,2258.0,2259.0,2260.0,2261.0,2262.0,2263.0,2264.0,2265.0,2266.0,2267.0,2268.0,2269.0,2270.0,2271.0,2272.0,2273.0,2274.0,2275.0,2276.0,2277.0,2278.0,2279.0,2280.0,2281.0,2282.0,2283.0,2284.0,2285.0,2286.0,2287.0,2288.0,2289.0,2290.0,2291.0,2292.0,2293.0,2294.0,2295.0,2296.0,2297.0,2298.0,2299.0,2300.0,2301.0,2302.0,2303.0,2304.0,2305.0,2306.0,2307.0,2308.0,2309.0,2310.0,2311.0,2312.0,2313.0,2314.0,2315.0,2316.0,2317.0,2318.0,2319.0,2320.0,2321.0,2322.0,2323.0,2324.0,2325.0,2326.0,2327.0,2328.0,2329.0,2330.0,2331.0,2332.0,2333.0,2334.0,2335.0,2336.0,2337.0,2338.0,2339.0,2340.0,2341.0,2342.0,2343.0,2344.0,2345.0,2346.0,2347.0,2348.0,2349.0,2350.0,2351.0,2352.0,2353.0,2354.0,2355.0,2356.0,2357.0,2358.0,2359.0,2360.0,2361.0,2362.0,2363.0,2364.0,2365.0,2366.0,2367.0,2368.0,2369.0,2370.0,2371.0,2372.0,2373.0,2374.0,2375.0,2376.0,2377.0,2378.0,2379.0,2380.0,2381.0,2382.0,2383.0,2384.0,2385.0,2386.0,2387.0,2388.0,2389.0,2390.0,2391.0,2392.0,2393.0,2394.0,2395.0,2396.0,2397.0,2398.0,2399.0,2400.0,2401.0,2402.0,2403.0,2404.0,2405.0,2406.0,2407.0,2408.0,2409.0,2410.0,2411.0,2412.0,2413.0,2414.0,2415.0,2416.0,2417.0,2418.0,2419.0,2420.0,2421.0,2422.0,2423.0,2424.0,2425.0,2426.0,2427.0,2428.0,2429.0,2430.0,2431.0,2432.0,2433.0,2434.0,2435.0,2436.0,2437.0,2438.0,2439.0,2440.0,2441.0,2442.0,2443.0,2444.0,2445.0,2446.0,2447.0,2448.0,2449.0,2450.0,2451.0,2452.0,2453.0,2454.0,2455.0,2456.0,2457.0,2458.0,2459.0,2460.0,2461.0,2462.0,2463.0,2464.0,2465.0,2466.0,2467.0,2468.0,2469.0,2470.0,2471.0,2472.0,2473.0,2474.0,2475.0,2476.0,2477.0,2478.0,2479.0,2480.0,2481.0,2482.0,2483.0,2484.0,2485.0,2486.0,2487.0,2488.0,2489.0,2490.0,2491.0,2492.0,2493.0,2494.0,2495.0,2496.0,2497.0,2498.0,2499.0,2500.0,2501.0,2502.0,2503.0,2504.0,2505.0,2506.0,2507.0,2508.0,2509.0,2510.0,2511.0,2512.0,2513.0,2514.0,2515.0,2516.0,2517.0,2518.0,2519.0,2520.0,2521.0,2522.0,2523.0,2524.0,2525.0,2526.0,2527.0,2528.0,2529.0,2530.0,2531.0,2532.0,2533.0,2534.0,2535.0,2536.0,2537.0,2538.0,2539.0,2540.0,2541.0,2542.0,2543.0,2544.0,2545.0,2546.0,2547.0,2548.0,2549.0,2550.0,2551.0,2552.0,2553.0,2554.0,2555.0,2556.0,2557.0,2558.0,2559.0,2560.0,2561.0,2562.0,2563.0,2564.0,2565.0,2566.0,2567.0,2568.0,2569.0,2570.0,2571.0,2572.0,2573.0,2574.0,2575.0,2576.0,2577.0,2578.0,2579.0,2580.0,2581.0,2582.0,2583.0,2584.0,2585.0,2586.0,2587.0,2588.0,2589.0,2590.0,2591.0,2592.0,2593.0,2594.0,2595.0,2596.0,2597.0,2598.0,2599.0,2600.0,2601.0,2602.0,2603.0,2604.0,2605.0,2606.0,2607.0,2608.0,2609.0,2610.0,2611.0,2612.0,2613.0,2614.0,2615.0,2616.0,2617.0,2618.0,2619.0,2620.0,2621.0,2622.0,2623.0,2624.0,2625.0,2626.0,2627.0,2628.0,2629.0,2630.0,2631.0,2632.0,2633.0,2634.0,2635.0,2636.0,2637.0,2638.0,2639.0,2640.0,2641.0,2642.0,2643.0,2644.0,2645.0,2646.0,2647.0,2648.0,2649.0,2650.0,2651.0,2652.0,2653.0,2654.0,2655.0,2656.0,2657.0,2658.0,2659.0,2660.0,2661.0,2662.0,2663.0,2664.0,2665.0,2666.0,2667.0,2668.0,2669.0,2670.0,2671.0,2672.0,2673.0,2674.0,2675.0,2676.0,2677.0,2678.0,2679.0,2680.0,2681.0,2682.0,2683.0,2684.0,2685.0,2686.0,2687.0,2688.0,2689.0,2690.0,2691.0,2692.0,2693.0,2694.0,2695.0,2696.0,2697.0,2698.0,2699.0,2700.0,2701.0,2702.0,2703.0,2704.0,2705.0,2706.0,2707.0,2708.0,2709.0,2710.0,2711.0,2712.0,2713.0,2714.0,2715.0,2716.0,2717.0,2718.0,2719.0,2720.0,2721.0,2722.0,2723.0,2724.0,2725.0,2726.0,2727.0,2728.0,2729.0,2730.0,2731.0,2732.0,2733.0,2734.0,2735.0,2736.0,2737.0,2738.0,2739.0,2740.0,2741.0,2742.0,2743.0,2744.0,2745.0,2746.0,2747.0,2748.0,2749.0,2750.0,2751.0,2752.0,2753.0,2754.0,2755.0,2756.0,2757.0,2758.0,2759.0,2760.0,2761.0,2762.0,2763.0,2764.0,2765.0,2766.0,2767.0,2768.0,2769.0,2770.0,2771.0,2772.0,2773.0,2774.0,2775.0,2776.0,2777.0,2778.0,2779.0,2780.0,2781.0,2782.0,2783.0,2784.0,2785.0,2786.0,2787.0,2788.0,2789.0,2790.0,2791.0,2792.0,2793.0,2794.0,2795.0,2796.0,2797.0,2798.0,2799.0,2800.0,2801.0,2802.0,2803.0,2804.0,2805.0,2806.0,2807.0,2808.0,2809.0,2810.0,2811.0,2812.0,2813.0,2814.0,2815.0,2816.0,2817.0,2818.0,2819.0,2820.0,2821.0,2822.0,2823.0,2824.0,2825.0,2826.0,2827.0,2828.0,2829.0,2830.0,2831.0,2832.0,2833.0,2834.0,2835.0,2836.0,2837.0,2838.0,2839.0,2840.0,2841.0,2842.0,2843.0,2844.0,2845.0,2846.0,2847.0,2848.0,2849.0,2850.0,2851.0,2852.0,2853.0,2854.0,2855.0,2856.0,2857.0,2858.0,2859.0,2860.0,2861.0,2862.0,2863.0,2864.0,2865.0,2866.0,2867.0,2868.0,2869.0,2870.0,2871.0,2872.0,2873.0,2874.0,2875.0,2876.0,2877.0,2878.0,2879.0,2880.0,2881.0,2882.0,2883.0,2884.0,2885.0,2886.0,2887.0,2888.0,2889.0,2890.0,2891.0,2892.0,2893.0,2894.0,2895.0,2896.0,2897.0,2898.0,2899.0,2900.0,2901.0,2902.0,2903.0,2904.0,2905.0,2906.0,2907.0,2908.0,2909.0,2910.0,2911.0,2912.0,2913.0,2914.0,2915.0,2916.0,2917.0,2918.0,2919.0,2920.0,2921.0,2922.0,2923.0,2924.0,2925.0,2926.0,2927.0,2928.0,2929.0,2930.0,2931.0,2932.0,2933.0,2934.0,2935.0,2936.0,2937.0,2938.0,2939.0,2940.0,2941.0,2942.0,2943.0,2944.0,2945.0,2946.0,2947.0,2948.0,2949.0,2950.0,2951.0,2952.0,2953.0,2954.0,2955.0,2956.0,2957.0,2958.0,2959.0,2960.0,2961.0,2962.0,2963.0,2964.0,2965.0,2966.0,2967.0,2968.0,2969.0,2970.0,2971.0,2972.0,2973.0,2974.0,2975.0,2976.0,2977.0,2978.0,2979.0,2980.0,2981.0,2982.0,2983.0,2984.0,2985.0,2986.0,2987.0,2988.0,2989.0,2990.0,2991.0,2992.0,2993.0,2994.0,2995.0,2996.0,2997.0,2998.0,2999.0,3000.0,3001.0,3002.0,3003.0,3004.0,3005.0,3006.0,3007.0,3008.0,3009.0,3010.0,3011.0,3012.0,3013.0,3014.0,3015.0,3016.0,3017.0,3018.0,3019.0,3020.0,3021.0,3022.0,3023.0,3024.0,3025.0,3026.0,3027.0,3028.0,3029.0,3030.0,3031.0,3032.0,3033.0,3034.0,3035.0,3036.0,3037.0,3038.0,3039.0,3040.0,3041.0,3042.0,3043.0,3044.0,3045.0,3046.0,3047.0,3048.0,3049.0,3050.0,3051.0,3052.0,3053.0,3054.0,3055.0,3056.0,3057.0,3058.0,3059.0,3060.0,3061.0,3062.0,3063.0,3064.0,3065.0,3066.0,3067.0,3068.0,3069.0,3070.0,3071.0,3072.0,3073.0,3074.0,3075.0,3076.0,3077.0,3078.0,3079.0,3080.0,3081.0,3082.0,3083.0,3084.0,3085.0,3086.0,3087.0,3088.0,3089.0,3090.0,3091.0,3092.0,3093.0,3094.0,3095.0,3096.0,3097.0,3098.0,3099.0,3100.0,3101.0,3102.0,3103.0,3104.0,3105.0,3106.0,3107.0,3108.0,3109.0,3110.0,3111.0,3112.0,3113.0,3114.0,3115.0,3116.0,3117.0,3118.0,3119.0,3120.0,3121.0,3122.0,3123.0,3124.0,3125.0,3126.0,3127.0,3128.0,3129.0,3130.0,3131.0,3132.0,3133.0,3134.0,3135.0,3136.0,3137.0,3138.0,3139.0,3140.0,3141.0,3142.0,3143.0,3144.0,3145.0,3146.0,3147.0,3148.0,3149.0,3150.0,3151.0,3152.0,3153.0,3154.0,3155.0,3156.0,3157.0,3158.0,3159.0,3160.0,3161.0,3162.0,3163.0,3164.0,3165.0,3166.0,3167.0,3168.0,3169.0,3170.0,3171.0,3172.0,3173.0,3174.0,3175.0,3176.0,3177.0,3178.0,3179.0,3180.0,3181.0,3182.0,3183.0,3184.0,3185.0,3186.0,3187.0,3188.0,3189.0,3190.0,3191.0,3192.0,3193.0,3194.0,3195.0,3196.0,3197.0,3198.0,3199.0,3200.0,3201.0,3202.0,3203.0,3204.0,3205.0,3206.0,3207.0,3208.0,3209.0,3210.0,3211.0,3212.0,3213.0,3214.0,3215.0,3216.0,3217.0,3218.0,3219.0,3220.0,3221.0,3222.0,3223.0,3224.0,3225.0,3226.0,3227.0,3228.0,3229.0,3230.0,3231.0,3232.0,3233.0,3234.0,3235.0,3236.0,3237.0,3238.0,3239.0,3240.0,3241.0,3242.0,3243.0,3244.0,3245.0,3246.0,3247.0,3248.0,3249.0,3250.0,3251.0,3252.0,3253.0,3254.0,3255.0,3256.0,3257.0,3258.0,3259.0,3260.0,3261.0,3262.0,3263.0,3264.0,3265.0,3266.0,3267.0,3268.0,3269.0,3270.0,3271.0,3272.0,3273.0,3274.0,3275.0,3276.0,3277.0,3278.0,3279.0,3280.0,3281.0,3282.0,3283.0,3284.0,3285.0,3286.0,3287.0,3288.0,3289.0,3290.0,3291.0,3292.0,3293.0,3294.0,3295.0,3296.0,3297.0,3298.0,3299.0,3300.0,3301.0,3302.0,3303.0,3304.0,3305.0,3306.0,3307.0,3308.0,3309.0,3310.0,3311.0,3312.0,3313.0,3314.0,3315.0,3316.0,3317.0,3318.0,3319.0,3320.0,3321.0,3322.0,3323.0,3324.0,3325.0,3326.0,3327.0,3328.0,3329.0,3330.0,3331.0,3332.0,3333.0,3334.0,3335.0,3336.0,3337.0,3338.0,3339.0,3340.0,3341.0,3342.0,3343.0,3344.0,3345.0,3346.0,3347.0,3348.0,3349.0,3350.0,3351.0,3352.0,3353.0,3354.0,3355.0,3356.0,3357.0,3358.0,3359.0,3360.0,3361.0,3362.0,3363.0,3364.0,3365.0,3366.0,3367.0,3368.0,3369.0,3370.0,3371.0,3372.0,3373.0,3374.0,3375.0,3376.0,3377.0,3378.0,3379.0,3380.0,3381.0,3382.0,3383.0,3384.0,3385.0,3386.0,3387.0,3388.0,3389.0,3390.0,3391.0,3392.0,3393.0,3394.0,3395.0,3396.0,3397.0,3398.0,3399.0,3400.0,3401.0,3402.0,3403.0,3404.0,3405.0,3406.0,3407.0,3408.0,3409.0,3410.0,3411.0,3412.0,3413.0,3414.0,3415.0,3416.0,3417.0,3418.0,3419.0,3420.0,3421.0,3422.0,3423.0,3424.0,3425.0,3426.0,3427.0,3428.0,3429.0,3430.0,3431.0,3432.0,3433.0,3434.0,3435.0,3436.0,3437.0,3438.0,3439.0,3440.0,3441.0,3442.0,3443.0,3444.0,3445.0,3446.0,3447.0,3448.0,3449.0,3450.0,3451.0,3452.0,3453.0,3454.0,3455.0,3456.0,3457.0,3458.0,3459.0,3460.0,3461.0,3462.0,3463.0,3464.0,3465.0,3466.0,3467.0,3468.0,3469.0,3470.0,3471.0,3472.0,3473.0,3474.0,3475.0,3476.0,3477.0,3478.0,3479.0,3480.0,3481.0,3482.0,3483.0,3484.0,3485.0,3486.0,3487.0,3488.0,3489.0,3490.0,3491.0,3492.0,3493.0,3494.0,3495.0,3496.0,3497.0,3498.0,3499.0,3500.0,3501.0,3502.0,3503.0,3504.0,3505.0,3506.0,3507.0,3508.0,3509.0,3510.0,3511.0,3512.0,3513.0,3514.0,3515.0,3516.0,3517.0,3518.0,3519.0,3520.0,3521.0,3522.0,3523.0,3524.0,3525.0,3526.0,3527.0,3528.0,3529.0,3530.0,3531.0,3532.0,3533.0,3534.0,3535.0,3536.0,3537.0,3538.0,3539.0,3540.0,3541.0,3542.0,3543.0,3544.0,3545.0,3546.0,3547.0,3548.0,3549.0,3550.0,3551.0,3552.0,3553.0,3554.0,3555.0,3556.0,3557.0,3558.0,3559.0,3560.0,3561.0,3562.0,3563.0,3564.0,3565.0,3566.0,3567.0,3568.0,3569.0,3570.0,3571.0,3572.0,3573.0,3574.0,3575.0,3576.0,3577.0,3578.0,3579.0,3580.0,3581.0,3582.0,3583.0,3584.0,3585.0,3586.0,3587.0,3588.0,3589.0,3590.0,3591.0,3592.0,3593.0,3594.0,3595.0,3596.0,3597.0,3598.0,3599.0,3600.0,3601.0,3602.0,3603.0,3604.0,3605.0,3606.0,3607.0,3608.0,3609.0,3610.0,3611.0,3612.0,3613.0,3614.0,3615.0,3616.0,3617.0,3618.0,3619.0,3620.0,3621.0,3622.0,3623.0,3624.0,3625.0,3626.0,3627.0,3628.0,3629.0,3630.0,3631.0,3632.0,3633.0,3634.0,3635.0,3636.0,3637.0,3638.0,3639.0,3640.0,3641.0,3642.0,3643.0,3644.0,3645.0,3646.0,3647.0,3648.0,3649.0,3650.0,3651.0,3652.0,3653.0,3654.0,3655.0,3656.0,3657.0,3658.0,3659.0,3660.0,3661.0,3662.0,3663.0,3664.0,3665.0,3666.0,3667.0,3668.0,3669.0,3670.0,3671.0,3672.0,3673.0,3674.0,3675.0,3676.0,3677.0,3678.0,3679.0,3680.0,3681.0,3682.0,3683.0,3684.0,3685.0,3686.0,3687.0,3688.0,3689.0,3690.0,3691.0,3692.0,3693.0,3694.0,3695.0,3696.0,3697.0,3698.0,3699.0,3700.0,3701.0,3702.0,3703.0,3704.0,3705.0,3706.0,3707.0,3708.0,3709.0,3710.0,3711.0,3712.0,3713.0,3714.0,3715.0,3716.0,3717.0,3718.0,3719.0,3720.0,3721.0,3722.0,3723.0,3724.0,3725.0,3726.0,3727.0,3728.0,3729.0,3730.0,3731.0,3732.0,3733.0,3734.0,3735.0,3736.0,3737.0,3738.0,3739.0,3740.0,3741.0,3742.0,3743.0,3744.0,3745.0,3746.0,3747.0,3748.0,3749.0,3750.0,3751.0,3752.0,3753.0,3754.0,3755.0,3756.0,3757.0,3758.0,3759.0,3760.0,3761.0,3762.0,3763.0,3764.0,3765.0,3766.0,3767.0,3768.0,3769.0,3770.0,3771.0,3772.0,3773.0,3774.0,3775.0,3776.0,3777.0,3778.0,3779.0,3780.0,3781.0,3782.0,3783.0,3784.0,3785.0,3786.0,3787.0,3788.0,3789.0,3790.0,3791.0,3792.0,3793.0,3794.0,3795.0,3796.0,3797.0,3798.0,3799.0,3800.0,3801.0,3802.0,3803.0,3804.0,3805.0,3806.0,3807.0,3808.0,3809.0,3810.0,3811.0,3812.0,3813.0,3814.0,3815.0,3816.0,3817.0,3818.0,3819.0,3820.0,3821.0,3822.0,3823.0,3824.0,3825.0,3826.0,3827.0,3828.0,3829.0,3830.0,3831.0,3832.0,3833.0,3834.0,3835.0,3836.0,3837.0,3838.0,3839.0,3840.0,3841.0,3842.0,3843.0,3844.0,3845.0,3846.0,3847.0,3848.0,3849.0,3850.0,3851.0,3852.0,3853.0,3854.0,3855.0,3856.0,3857.0,3858.0,3859.0,3860.0,3861.0,3862.0,3863.0,3864.0,3865.0,3866.0,3867.0,3868.0,3869.0,3870.0,3871.0,3872.0,3873.0,3874.0,3875.0,3876.0,3877.0,3878.0,3879.0,3880.0,3881.0,3882.0,3883.0,3884.0,3885.0,3886.0,3887.0,3888.0,3889.0,3890.0,3891.0,3892.0,3893.0,3894.0,3895.0,3896.0,3897.0,3898.0,3899.0,3900.0,3901.0,3902.0,3903.0,3904.0,3905.0,3906.0,3907.0,3908.0,3909.0,3910.0,3911.0,3912.0,3913.0,3914.0,3915.0,3916.0,3917.0,3918.0,3919.0,3920.0,3921.0,3922.0,3923.0,3924.0,3925.0,3926.0,3927.0,3928.0,3929.0,3930.0,3931.0,3932.0,3933.0,3934.0,3935.0,3936.0,3937.0,3938.0,3939.0,3940.0,3941.0,3942.0,3943.0,3944.0,3945.0,3946.0,3947.0,3948.0,3949.0,3950.0,3951.0,3952.0,3953.0,3954.0,3955.0,3956.0,3957.0,3958.0,3959.0,3960.0,3961.0,3962.0,3963.0,3964.0,3965.0,3966.0,3967.0,3968.0,3969.0,3970.0,3971.0,3972.0,3973.0,3974.0,3975.0,3976.0,3977.0,3978.0,3979.0,3980.0,3981.0,3982.0,3983.0,3984.0,3985.0,3986.0,3987.0,3988.0,3989.0,3990.0,3991.0,3992.0,3993.0,3994.0,3995.0,3996.0,3997.0,3998.0,3999.0,4000.0,4001.0,4002.0,4003.0,4004.0,4005.0,4006.0,4007.0,4008.0,4009.0,4010.0,4011.0,4012.0,4013.0,4014.0,4015.0,4016.0,4017.0,4018.0,4019.0,4020.0,4021.0,4022.0,4023.0,4024.0,4025.0,4026.0,4027.0,4028.0,4029.0,4030.0,4031.0,4032.0,4033.0,4034.0,4035.0,4036.0,4037.0,4038.0,4039.0,4040.0,4041.0,4042.0,4043.0,4044.0,4045.0,4046.0,4047.0,4048.0,4049.0,4050.0,4051.0,4052.0,4053.0,4054.0,4055.0,4056.0,4057.0,4058.0,4059.0,4060.0,4061.0,4062.0,4063.0,4064.0,4065.0,4066.0,4067.0,4068.0,4069.0,4070.0,4071.0,4072.0,4073.0,4074.0,4075.0,4076.0,4077.0,4078.0,4079.0,4080.0,4081.0,4082.0,4083.0,4084.0,4085.0,4086.0,4087.0,4088.0,4089.0,4090.0,4091.0,4092.0,4093.0,4094.0,4095.0,4096.0,4097.0,4098.0,4099.0,4100.0,4101.0,4102.0,4103.0,4104.0,4105.0,4106.0,4107.0,4108.0,4109.0,4110.0,4111.0,4112.0,4113.0,4114.0,4115.0,4116.0,4117.0,4118.0,4119.0,4120.0,4121.0,4122.0,4123.0,4124.0,4125.0,4126.0,4127.0,4128.0,4129.0,4130.0,4131.0,4132.0,4133.0,4134.0,4135.0,4136.0,4137.0,4138.0,4139.0,4140.0,4141.0,4142.0,4143.0,4144.0,4145.0,4146.0,4147.0,4148.0,4149.0,4150.0,4151.0,4152.0,4153.0,4154.0,4155.0,4156.0,4157.0,4158.0,4159.0,4160.0,4161.0,4162.0,4163.0,4164.0,4165.0,4166.0,4167.0,4168.0,4169.0,4170.0,4171.0,4172.0,4173.0,4174.0,4175.0,4176.0,4177.0,4178.0,4179.0,4180.0,4181.0,4182.0,4183.0,4184.0,4185.0,4186.0,4187.0,4188.0,4189.0,4190.0,4191.0,4192.0,4193.0,4194.0,4195.0,4196.0,4197.0,4198.0,4199.0,4200.0,4201.0,4202.0,4203.0,4204.0,4205.0,4206.0,4207.0,4208.0,4209.0,4210.0,4211.0,4212.0,4213.0,4214.0,4215.0,4216.0,4217.0,4218.0,4219.0,4220.0,4221.0,4222.0,4223.0,4224.0,4225.0,4226.0,4227.0,4228.0,4229.0,4230.0,4231.0,4232.0,4233.0,4234.0,4235.0,4236.0,4237.0,4238.0,4239.0,4240.0,4241.0,4242.0,4243.0,4244.0,4245.0,4246.0,4247.0,4248.0,4249.0,4250.0,4251.0,4252.0,4253.0,4254.0,4255.0,4256.0,4257.0,4258.0,4259.0,4260.0,4261.0,4262.0,4263.0,4264.0,4265.0,4266.0,4267.0,4268.0,4269.0,4270.0,4271.0,4272.0,4273.0,4274.0,4275.0,4276.0,4277.0,4278.0,4279.0,4280.0,4281.0,4282.0,4283.0,4284.0,4285.0,4286.0,4287.0,4288.0,4289.0,4290.0,4291.0,4292.0,4293.0,4294.0,4295.0,4296.0,4297.0,4298.0,4299.0,4300.0,4301.0,4302.0,4303.0,4304.0,4305.0,4306.0,4307.0,4308.0,4309.0,4310.0,4311.0,4312.0,4313.0,4314.0,4315.0,4316.0,4317.0,4318.0,4319.0,4320.0,4321.0,4322.0,4323.0,4324.0,4325.0,4326.0,4327.0,4328.0,4329.0,4330.0,4331.0,4332.0,4333.0,4334.0,4335.0,4336.0,4337.0,4338.0,4339.0,4340.0,4341.0,4342.0,4343.0,4344.0,4345.0,4346.0,4347.0,4348.0,4349.0,4350.0,4351.0,4352.0,4353.0,4354.0,4355.0,4356.0,4357.0,4358.0,4359.0,4360.0,4361.0,4362.0,4363.0,4364.0,4365.0,4366.0,4367.0,4368.0,4369.0,4370.0,4371.0,4372.0,4373.0,4374.0,4375.0,4376.0,4377.0,4378.0,4379.0,4380.0,4381.0,4382.0,4383.0,4384.0,4385.0,4386.0,4387.0,4388.0,4389.0,4390.0,4391.0,4392.0,4393.0,4394.0,4395.0,4396.0,4397.0,4398.0,4399.0,4400.0,4401.0,4402.0,4403.0,4404.0,4405.0,4406.0,4407.0,4408.0,4409.0,4410.0,4411.0,4412.0,4413.0,4414.0,4415.0,4416.0,4417.0,4418.0,4419.0,4420.0,4421.0,4422.0,4423.0,4424.0,4425.0,4426.0,4427.0,4428.0,4429.0,4430.0,4431.0,4432.0,4433.0,4434.0,4435.0,4436.0,4437.0,4438.0,4439.0,4440.0,4441.0,4442.0,4443.0,4444.0,4445.0,4446.0,4447.0,4448.0,4449.0,4450.0,4451.0,4452.0,4453.0,4454.0,4455.0,4456.0,4457.0,4458.0,4459.0,4460.0,4461.0,4462.0,4463.0,4464.0,4465.0,4466.0,4467.0,4468.0,4469.0,4470.0,4471.0,4472.0,4473.0,4474.0,4475.0,4476.0,4477.0,4478.0,4479.0,4480.0,4481.0,4482.0,4483.0,4484.0,4485.0,4486.0,4487.0,4488.0,4489.0,4490.0,4491.0,4492.0,4493.0,4494.0,4495.0,4496.0,4497.0,4498.0,4499.0,4500.0,4501.0,4502.0,4503.0,4504.0,4505.0,4506.0,4507.0,4508.0,4509.0,4510.0,4511.0,4512.0,4513.0,4514.0,4515.0,4516.0,4517.0,4518.0,4519.0,4520.0,4521.0,4522.0,4523.0,4524.0,4525.0,4526.0,4527.0,4528.0,4529.0,4530.0,4531.0,4532.0,4533.0,4534.0,4535.0,4536.0,4537.0,4538.0,4539.0,4540.0,4541.0,4542.0,4543.0,4544.0,4545.0,4546.0,4547.0,4548.0,4549.0,4550.0,4551.0,4552.0,4553.0,4554.0,4555.0,4556.0,4557.0,4558.0,4559.0,4560.0,4561.0,4562.0,4563.0,4564.0,4565.0,4566.0,4567.0,4568.0,4569.0,4570.0,4571.0,4572.0,4573.0,4574.0,4575.0,4576.0,4577.0,4578.0,4579.0,4580.0,4581.0,4582.0,4583.0,4584.0,4585.0,4586.0,4587.0,4588.0,4589.0,4590.0,4591.0,4592.0,4593.0,4594.0,4595.0,4596.0,4597.0,4598.0,4599.0,4600.0,4601.0,4602.0,4603.0,4604.0,4605.0,4606.0,4607.0,4608.0,4609.0,4610.0,4611.0,4612.0,4613.0,4614.0,4615.0,4616.0,4617.0,4618.0,4619.0,4620.0,4621.0,4622.0,4623.0,4624.0,4625.0,4626.0,4627.0,4628.0,4629.0,4630.0,4631.0,4632.0,4633.0,4634.0,4635.0,4636.0,4637.0,4638.0,4639.0,4640.0,4641.0,4642.0,4643.0,4644.0,4645.0,4646.0,4647.0,4648.0,4649.0,4650.0,4651.0,4652.0,4653.0,4654.0,4655.0,4656.0,4657.0,4658.0,4659.0,4660.0,4661.0,4662.0,4663.0,4664.0,4665.0,4666.0,4667.0,4668.0,4669.0,4670.0,4671.0,4672.0,4673.0,4674.0,4675.0,4676.0,4677.0,4678.0,4679.0,4680.0,4681.0,4682.0,4683.0,4684.0,4685.0,4686.0,4687.0,4688.0,4689.0,4690.0,4691.0,4692.0,4693.0,4694.0,4695.0,4696.0,4697.0,4698.0,4699.0,4700.0,4701.0,4702.0,4703.0,4704.0,4705.0,4706.0,4707.0,4708.0,4709.0,4710.0,4711.0,4712.0,4713.0,4714.0,4715.0,4716.0,4717.0,4718.0,4719.0,4720.0,4721.0,4722.0,4723.0,4724.0,4725.0,4726.0,4727.0,4728.0,4729.0,4730.0,4731.0,4732.0,4733.0,4734.0,4735.0,4736.0,4737.0,4738.0,4739.0,4740.0,4741.0,4742.0,4743.0,4744.0,4745.0,4746.0,4747.0,4748.0,4749.0,4750.0,4751.0,4752.0,4753.0,4754.0,4755.0,4756.0,4757.0,4758.0,4759.0,4760.0,4761.0,4762.0,4763.0,4764.0,4765.0,4766.0,4767.0,4768.0,4769.0,4770.0,4771.0,4772.0,4773.0,4774.0,4775.0,4776.0,4777.0,4778.0,4779.0,4780.0,4781.0,4782.0,4783.0,4784.0,4785.0,4786.0,4787.0,4788.0,4789.0,4790.0,4791.0,4792.0,4793.0,4794.0,4795.0,4796.0,4797.0,4798.0,4799.0,4800.0,4801.0,4802.0,4803.0,4804.0,4805.0,4806.0,4807.0,4808.0,4809.0,4810.0,4811.0,4812.0,4813.0,4814.0,4815.0,4816.0,4817.0,4818.0,4819.0,4820.0,4821.0,4822.0,4823.0,4824.0,4825.0,4826.0,4827.0,4828.0,4829.0,4830.0,4831.0,4832.0,4833.0,4834.0,4835.0,4836.0,4837.0,4838.0,4839.0,4840.0,4841.0,4842.0,4843.0,4844.0,4845.0,4846.0,4847.0,4848.0,4849.0,4850.0,4851.0,4852.0,4853.0,4854.0,4855.0,4856.0,4857.0,4858.0,4859.0,4860.0,4861.0,4862.0,4863.0,4864.0,4865.0,4866.0,4867.0,4868.0,4869.0,4870.0,4871.0,4872.0,4873.0,4874.0,4875.0,4876.0,4877.0,4878.0,4879.0,4880.0,4881.0,4882.0,4883.0,4884.0,4885.0,4886.0,4887.0,4888.0,4889.0,4890.0,4891.0,4892.0,4893.0,4894.0,4895.0,4896.0,4897.0,4898.0,4899.0,4900.0,4901.0,4902.0,4903.0,4904.0,4905.0,4906.0,4907.0,4908.0,4909.0,4910.0,4911.0,4912.0,4913.0,4914.0,4915.0,4916.0,4917.0,4918.0,4919.0,4920.0,4921.0,4922.0,4923.0,4924.0,4925.0,4926.0,4927.0,4928.0,4929.0,4930.0,4931.0,4932.0,4933.0,4934.0,4935.0,4936.0,4937.0,4938.0,4939.0,4940.0,4941.0,4942.0,4943.0,4944.0,4945.0,4946.0,4947.0,4948.0,4949.0,4950.0,4951.0,4952.0,4953.0,4954.0,4955.0,4956.0,4957.0,4958.0,4959.0,4960.0,4961.0,4962.0,4963.0,4964.0,4965.0,4966.0,4967.0,4968.0,4969.0,4970.0,4971.0,4972.0,4973.0,4974.0,4975.0,4976.0,4977.0,4978.0,4979.0,4980.0,4981.0,4982.0,4983.0,4984.0,4985.0,4986.0,4987.0,4988.0,4989.0,4990.0,4991.0,4992.0,4993.0,4994.0,4995.0,4996.0,4997.0,4998.0,4999.0,5000.0,5001.0,5002.0,5003.0,5004.0,5005.0,5006.0,5007.0,5008.0,5009.0,5010.0,5011.0,5012.0,5013.0,5014.0,5015.0,5016.0,5017.0,5018.0,5019.0,5020.0,5021.0,5022.0,5023.0,5024.0,5025.0,5026.0,5027.0,5028.0,5029.0,5030.0,5031.0,5032.0,5033.0,5034.0,5035.0,5036.0,5037.0,5038.0,5039.0,5040.0,5041.0,5042.0,5043.0,5044.0,5045.0,5046.0,5047.0,5048.0,5049.0,5050.0,5051.0,5052.0,5053.0,5054.0,5055.0,5056.0,5057.0,5058.0,5059.0,5060.0,5061.0,5062.0,5063.0,5064.0,5065.0,5066.0,5067.0,5068.0,5069.0,5070.0,5071.0,5072.0,5073.0,5074.0,5075.0,5076.0,5077.0,5078.0,5079.0,5080.0,5081.0,5082.0,5083.0,5084.0,5085.0,5086.0,5087.0,5088.0,5089.0,5090.0,5091.0,5092.0,5093.0,5094.0,5095.0,5096.0,5097.0,5098.0,5099.0,5100.0,5101.0,5102.0,5103.0,5104.0,5105.0,5106.0,5107.0,5108.0,5109.0,5110.0,5111.0,5112.0,5113.0,5114.0,5115.0,5116.0,5117.0,5118.0,5119.0,5120.0,5121.0,5122.0,5123.0,5124.0,5125.0,5126.0,5127.0,5128.0,5129.0,5130.0,5131.0,5132.0,5133.0,5134.0,5135.0,5136.0,5137.0,5138.0,5139.0,5140.0,5141.0,5142.0,5143.0,5144.0,5145.0,5146.0,5147.0,5148.0,5149.0,5150.0,5151.0,5152.0,5153.0,5154.0,5155.0,5156.0,5157.0,5158.0,5159.0,5160.0,5161.0,5162.0,5163.0,5164.0,5165.0,5166.0,5167.0,5168.0,5169.0,5170.0,5171.0,5172.0,5173.0,5174.0,5175.0,5176.0,5177.0,5178.0,5179.0,5180.0,5181.0,5182.0,5183.0,5184.0,5185.0,5186.0,5187.0,5188.0,5189.0,5190.0,5191.0,5192.0,5193.0,5194.0,5195.0,5196.0,5197.0,5198.0,5199.0,5200.0,5201.0,5202.0,5203.0,5204.0,5205.0,5206.0,5207.0,5208.0,5209.0,5210.0,5211.0,5212.0,5213.0,5214.0,5215.0,5216.0,5217.0,5218.0,5219.0,5220.0,5221.0,5222.0,5223.0,5224.0,5225.0,5226.0,5227.0,5228.0,5229.0,5230.0,5231.0,5232.0,5233.0,5234.0,5235.0,5236.0,5237.0,5238.0,5239.0,5240.0,5241.0,5242.0,5243.0,5244.0,5245.0,5246.0,5247.0,5248.0,5249.0,5250.0,5251.0,5252.0,5253.0,5254.0,5255.0,5256.0,5257.0,5258.0,5259.0,5260.0,5261.0,5262.0,5263.0,5264.0,5265.0,5266.0,5267.0,5268.0,5269.0,5270.0,5271.0,5272.0,5273.0,5274.0,5275.0,5276.0,5277.0,5278.0,5279.0,5280.0,5281.0,5282.0,5283.0,5284.0,5285.0,5286.0,5287.0,5288.0,5289.0,5290.0,5291.0,5292.0,5293.0,5294.0,5295.0,5296.0,5297.0,5298.0,5299.0,5300.0,5301.0,5302.0,5303.0,5304.0,5305.0,5306.0,5307.0,5308.0,5309.0,5310.0,5311.0,5312.0,5313.0,5314.0,5315.0,5316.0,5317.0,5318.0,5319.0,5320.0,5321.0,5322.0,5323.0,5324.0,5325.0,5326.0,5327.0,5328.0,5329.0,5330.0,5331.0,5332.0,5333.0,5334.0,5335.0,5336.0,5337.0,5338.0,5339.0,5340.0,5341.0,5342.0,5343.0,5344.0,5345.0,5346.0,5347.0,5348.0,5349.0,5350.0,5351.0,5352.0,5353.0,5354.0,5355.0,5356.0,5357.0,5358.0,5359.0,5360.0,5361.0,5362.0,5363.0,5364.0,5365.0,5366.0,5367.0,5368.0,5369.0,5370.0,5371.0,5372.0,5373.0,5374.0,5375.0,5376.0,5377.0,5378.0,5379.0,5380.0,5381.0,5382.0,5383.0,5384.0,5385.0,5386.0,5387.0,5388.0,5389.0,5390.0,5391.0,5392.0,5393.0,5394.0,5395.0,5396.0,5397.0,5398.0,5399.0,5400.0,5401.0,5402.0,5403.0,5404.0,5405.0,5406.0,5407.0,5408.0,5409.0,5410.0,5411.0,5412.0,5413.0,5414.0,5415.0,5416.0,5417.0,5418.0,5419.0,5420.0,5421.0,5422.0,5423.0,5424.0,5425.0,5426.0,5427.0,5428.0,5429.0,5430.0,5431.0,5432.0,5433.0,5434.0,5435.0,5436.0,5437.0,5438.0,5439.0,5440.0,5441.0,5442.0,5443.0,5444.0,5445.0,5446.0,5447.0,5448.0,5449.0,5450.0,5451.0,5452.0,5453.0,5454.0,5455.0,5456.0,5457.0,5458.0,5459.0,5460.0,5461.0,5462.0,5463.0,5464.0,5465.0,5466.0,5467.0,5468.0,5469.0,5470.0,5471.0,5472.0,5473.0,5474.0,5475.0,5476.0,5477.0,5478.0,5479.0,5480.0,5481.0,5482.0,5483.0,5484.0,5485.0,5486.0,5487.0,5488.0,5489.0,5490.0,5491.0,5492.0,5493.0,5494.0,5495.0,5496.0,5497.0,5498.0,5499.0,5500.0,5501.0,5502.0,5503.0,5504.0,5505.0,5506.0,5507.0,5508.0,5509.0,5510.0,5511.0,5512.0,5513.0,5514.0,5515.0,5516.0,5517.0,5518.0,5519.0,5520.0,5521.0,5522.0,5523.0,5524.0,5525.0,5526.0,5527.0,5528.0,5529.0,5530.0,5531.0,5532.0,5533.0,5534.0,5535.0,5536.0,5537.0,5538.0,5539.0,5540.0,5541.0,5542.0,5543.0,5544.0,5545.0,5546.0,5547.0,5548.0,5549.0,5550.0,5551.0,5552.0,5553.0,5554.0,5555.0,5556.0,5557.0,5558.0,5559.0,5560.0,5561.0,5562.0,5563.0,5564.0,5565.0,5566.0,5567.0,5568.0,5569.0,5570.0,5571.0,5572.0,5573.0,5574.0,5575.0,5576.0,5577.0,5578.0,5579.0,5580.0,5581.0,5582.0,5583.0,5584.0,5585.0,5586.0,5587.0,5588.0,5589.0,5590.0,5591.0,5592.0,5593.0,5594.0,5595.0,5596.0,5597.0,5598.0,5599.0,5600.0,5601.0,5602.0,5603.0,5604.0,5605.0,5606.0,5607.0,5608.0,5609.0,5610.0,5611.0,5612.0,5613.0,5614.0,5615.0,5616.0,5617.0,5618.0,5619.0,5620.0,5621.0,5622.0,5623.0,5624.0,5625.0,5626.0,5627.0,5628.0,5629.0,5630.0,5631.0,5632.0,5633.0,5634.0,5635.0,5636.0,5637.0,5638.0,5639.0,5640.0,5641.0,5642.0,5643.0,5644.0,5645.0,5646.0,5647.0,5648.0,5649.0,5650.0,5651.0,5652.0,5653.0,5654.0,5655.0,5656.0,5657.0,5658.0,5659.0,5660.0,5661.0,5662.0,5663.0,5664.0,5665.0,5666.0,5667.0,5668.0,5669.0,5670.0,5671.0,5672.0,5673.0,5674.0,5675.0,5676.0,5677.0,5678.0,5679.0,5680.0,5681.0,5682.0,5683.0,5684.0,5685.0,5686.0,5687.0,5688.0,5689.0,5690.0,5691.0,5692.0,5693.0,5694.0,5695.0,5696.0,5697.0,5698.0,5699.0,5700.0,5701.0,5702.0,5703.0,5704.0,5705.0,5706.0,5707.0,5708.0,5709.0,5710.0,5711.0,5712.0,5713.0,5714.0,5715.0,5716.0,5717.0,5718.0,5719.0,5720.0,5721.0,5722.0,5723.0,5724.0,5725.0,5726.0,5727.0,5728.0,5729.0,5730.0,5731.0,5732.0,5733.0,5734.0,5735.0,5736.0,5737.0,5738.0,5739.0,5740.0,5741.0,5742.0,5743.0,5744.0,5745.0,5746.0,5747.0,5748.0,5749.0,5750.0,5751.0,5752.0,5753.0,5754.0,5755.0,5756.0,5757.0,5758.0,5759.0,5760.0,5761.0,5762.0,5763.0,5764.0,5765.0,5766.0,5767.0,5768.0,5769.0,5770.0,5771.0,5772.0,5773.0,5774.0,5775.0,5776.0,5777.0,5778.0,5779.0,5780.0,5781.0,5782.0,5783.0,5784.0,5785.0,5786.0,5787.0,5788.0,5789.0,5790.0,5791.0,5792.0,5793.0,5794.0,5795.0,5796.0,5797.0,5798.0,5799.0,5800.0,5801.0,5802.0,5803.0,5804.0,5805.0,5806.0,5807.0,5808.0,5809.0,5810.0,5811.0,5812.0,5813.0,5814.0,5815.0,5816.0,5817.0,5818.0,5819.0,5820.0,5821.0,5822.0,5823.0,5824.0,5825.0,5826.0,5827.0,5828.0,5829.0,5830.0,5831.0,5832.0,5833.0,5834.0,5835.0,5836.0,5837.0,5838.0,5839.0,5840.0,5841.0,5842.0,5843.0,5844.0,5845.0,5846.0,5847.0,5848.0,5849.0,5850.0,5851.0,5852.0,5853.0,5854.0,5855.0,5856.0,5857.0,5858.0,5859.0,5860.0,5861.0,5862.0,5863.0,5864.0,5865.0,5866.0,5867.0,5868.0,5869.0,5870.0,5871.0,5872.0,5873.0,5874.0,5875.0,5876.0,5877.0,5878.0,5879.0,5880.0,5881.0,5882.0,5883.0,5884.0,5885.0,5886.0,5887.0,5888.0,5889.0,5890.0,5891.0,5892.0,5893.0,5894.0,5895.0,5896.0,5897.0,5898.0,5899.0,5900.0,5901.0,5902.0,5903.0,5904.0,5905.0,5906.0,5907.0,5908.0,5909.0,5910.0,5911.0,5912.0,5913.0,5914.0,5915.0,5916.0,5917.0,5918.0,5919.0,5920.0,5921.0,5922.0,5923.0,5924.0,5925.0,5926.0,5927.0,5928.0,5929.0,5930.0,5931.0,5932.0,5933.0,5934.0,5935.0,5936.0,5937.0,5938.0,5939.0,5940.0,5941.0,5942.0,5943.0,5944.0,5945.0,5946.0,5947.0,5948.0,5949.0,5950.0,5951.0,5952.0,5953.0,5954.0,5955.0,5956.0,5957.0,5958.0,5959.0,5960.0,5961.0,5962.0,5963.0,5964.0,5965.0,5966.0,5967.0,5968.0,5969.0,5970.0,5971.0,5972.0,5973.0,5974.0,5975.0,5976.0,5977.0,5978.0,5979.0,5980.0,5981.0,5982.0,5983.0,5984.0,5985.0,5986.0,5987.0,5988.0,5989.0,5990.0,5991.0,5992.0,5993.0,5994.0,5995.0,5996.0,5997.0,5998.0,5999.0,6000.0,6001.0,6002.0,6003.0,6004.0,6005.0,6006.0,6007.0,6008.0,6009.0,6010.0,6011.0,6012.0,6013.0,6014.0,6015.0,6016.0,6017.0,6018.0,6019.0,6020.0,6021.0,6022.0,6023.0,6024.0,6025.0,6026.0,6027.0,6028.0,6029.0,6030.0,6031.0,6032.0,6033.0,6034.0,6035.0,6036.0,6037.0,6038.0,6039.0,6040.0,6041.0,6042.0,6043.0,6044.0,6045.0,6046.0,6047.0,6048.0,6049.0,6050.0,6051.0,6052.0,6053.0,6054.0,6055.0,6056.0,6057.0,6058.0,6059.0,6060.0,6061.0,6062.0,6063.0,6064.0,6065.0,6066.0,6067.0,6068.0,6069.0,6070.0,6071.0,6072.0,6073.0,6074.0,6075.0,6076.0,6077.0,6078.0,6079.0,6080.0,6081.0,6082.0,6083.0,6084.0,6085.0,6086.0,6087.0,6088.0,6089.0,6090.0,6091.0,6092.0,6093.0,6094.0,6095.0,6096.0,6097.0,6098.0,6099.0,6100.0,6101.0,6102.0,6103.0,6104.0,6105.0,6106.0,6107.0,6108.0,6109.0,6110.0,6111.0,6112.0,6113.0,6114.0,6115.0,6116.0,6117.0,6118.0,6119.0,6120.0,6121.0,6122.0,6123.0,6124.0,6125.0,6126.0,6127.0,6128.0,6129.0,6130.0,6131.0,6132.0,6133.0,6134.0,6135.0,6136.0,6137.0,6138.0,6139.0,6140.0,6141.0,6142.0,6143.0,6144.0,6145.0,6146.0,6147.0,6148.0,6149.0,6150.0,6151.0,6152.0,6153.0,6154.0,6155.0,6156.0,6157.0,6158.0,6159.0,6160.0,6161.0,6162.0,6163.0,6164.0,6165.0,6166.0,6167.0,6168.0,6169.0,6170.0,6171.0,6172.0,6173.0,6174.0,6175.0,6176.0,6177.0,6178.0,6179.0,6180.0,6181.0,6182.0,6183.0,6184.0,6185.0,6186.0,6187.0,6188.0,6189.0,6190.0,6191.0,6192.0,6193.0,6194.0,6195.0,6196.0,6197.0,6198.0,6199.0,6200.0,6201.0,6202.0,6203.0,6204.0,6205.0,6206.0,6207.0,6208.0,6209.0,6210.0,6211.0,6212.0,6213.0,6214.0,6215.0,6216.0,6217.0,6218.0,6219.0,6220.0,6221.0,6222.0,6223.0,6224.0,6225.0,6226.0,6227.0,6228.0,6229.0,6230.0,6231.0,6232.0,6233.0,6234.0,6235.0,6236.0,6237.0,6238.0,6239.0,6240.0,6241.0,6242.0,6243.0,6244.0,6245.0,6246.0,6247.0,6248.0,6249.0,6250.0,6251.0,6252.0,6253.0,6254.0,6255.0,6256.0,6257.0,6258.0,6259.0,6260.0,6261.0,6262.0,6263.0,6264.0,6265.0,6266.0,6267.0,6268.0,6269.0,6270.0,6271.0,6272.0,6273.0,6274.0,6275.0,6276.0,6277.0,6278.0,6279.0,6280.0,6281.0,6282.0,6283.0,6284.0,6285.0,6286.0,6287.0,6288.0,6289.0,6290.0,6291.0,6292.0,6293.0,6294.0,6295.0,6296.0,6297.0,6298.0,6299.0,6300.0,6301.0,6302.0,6303.0,6304.0,6305.0,6306.0,6307.0,6308.0,6309.0,6310.0,6311.0,6312.0,6313.0,6314.0,6315.0,6316.0,6317.0,6318.0,6319.0,6320.0,6321.0,6322.0,6323.0,6324.0,6325.0,6326.0,6327.0,6328.0,6329.0,6330.0,6331.0,6332.0,6333.0,6334.0,6335.0,6336.0,6337.0,6338.0,6339.0,6340.0,6341.0,6342.0,6343.0,6344.0,6345.0,6346.0,6347.0,6348.0,6349.0,6350.0,6351.0,6352.0,6353.0,6354.0,6355.0,6356.0,6357.0,6358.0,6359.0,6360.0,6361.0,6362.0,6363.0,6364.0,6365.0,6366.0,6367.0,6368.0,6369.0,6370.0,6371.0,6372.0,6373.0,6374.0,6375.0,6376.0,6377.0,6378.0,6379.0,6380.0,6381.0,6382.0,6383.0,6384.0,6385.0,6386.0,6387.0,6388.0,6389.0,6390.0,6391.0,6392.0,6393.0,6394.0,6395.0,6396.0,6397.0,6398.0,6399.0,6400.0,6401.0,6402.0,6403.0,6404.0,6405.0,6406.0,6407.0,6408.0,6409.0,6410.0,6411.0,6412.0,6413.0,6414.0,6415.0,6416.0,6417.0,6418.0,6419.0,6420.0,6421.0,6422.0,6423.0,6424.0,6425.0,6426.0,6427.0,6428.0,6429.0,6430.0,6431.0,6432.0,6433.0,6434.0,6435.0,6436.0,6437.0,6438.0,6439.0,6440.0,6441.0,6442.0,6443.0,6444.0,6445.0,6446.0,6447.0,6448.0,6449.0,6450.0,6451.0,6452.0,6453.0,6454.0,6455.0,6456.0,6457.0,6458.0,6459.0,6460.0,6461.0,6462.0,6463.0,6464.0,6465.0,6466.0,6467.0,6468.0,6469.0,6470.0,6471.0,6472.0,6473.0,6474.0,6475.0,6476.0,6477.0,6478.0,6479.0,6480.0,6481.0,6482.0,6483.0,6484.0,6485.0,6486.0,6487.0,6488.0,6489.0,6490.0,6491.0,6492.0,6493.0,6494.0,6495.0,6496.0,6497.0,6498.0,6499.0,6500.0,6501.0,6502.0,6503.0,6504.0,6505.0,6506.0,6507.0,6508.0,6509.0,6510.0,6511.0,6512.0,6513.0,6514.0,6515.0,6516.0,6517.0,6518.0,6519.0,6520.0,6521.0,6522.0,6523.0,6524.0,6525.0,6526.0,6527.0,6528.0,6529.0,6530.0,6531.0,6532.0,6533.0,6534.0,6535.0,6536.0,6537.0,6538.0,6539.0,6540.0,6541.0,6542.0,6543.0,6544.0,6545.0,6546.0,6547.0,6548.0,6549.0,6550.0,6551.0,6552.0,6553.0,6554.0,6555.0,6556.0,6557.0,6558.0,6559.0,6560.0,6561.0,6562.0,6563.0,6564.0,6565.0,6566.0,6567.0,6568.0,6569.0,6570.0,6571.0,6572.0,6573.0,6574.0,6575.0,6576.0,6577.0,6578.0,6579.0,6580.0,6581.0,6582.0,6583.0,6584.0,6585.0,6586.0,6587.0,6588.0,6589.0,6590.0,6591.0,6592.0,6593.0,6594.0,6595.0,6596.0,6597.0,6598.0,6599.0,6600.0,6601.0,6602.0,6603.0,6604.0,6605.0,6606.0,6607.0,6608.0,6609.0,6610.0,6611.0,6612.0,6613.0,6614.0,6615.0,6616.0,6617.0,6618.0,6619.0,6620.0,6621.0,6622.0,6623.0,6624.0,6625.0,6626.0,6627.0,6628.0,6629.0,6630.0,6631.0,6632.0,6633.0,6634.0,6635.0,6636.0,6637.0,6638.0,6639.0,6640.0,6641.0,6642.0,6643.0,6644.0,6645.0,6646.0,6647.0,6648.0,6649.0,6650.0,6651.0,6652.0,6653.0,6654.0,6655.0,6656.0,6657.0,6658.0,6659.0,6660.0,6661.0,6662.0,6663.0,6664.0,6665.0,6666.0,6667.0,6668.0,6669.0,6670.0,6671.0,6672.0,6673.0,6674.0,6675.0,6676.0,6677.0,6678.0,6679.0,6680.0,6681.0,6682.0,6683.0,6684.0,6685.0,6686.0,6687.0,6688.0,6689.0,6690.0,6691.0,6692.0,6693.0,6694.0,6695.0,6696.0,6697.0,6698.0,6699.0,6700.0,6701.0,6702.0,6703.0,6704.0,6705.0,6706.0,6707.0,6708.0,6709.0,6710.0,6711.0,6712.0,6713.0,6714.0,6715.0,6716.0,6717.0,6718.0,6719.0,6720.0,6721.0,6722.0,6723.0,6724.0,6725.0,6726.0,6727.0,6728.0,6729.0,6730.0,6731.0,6732.0,6733.0,6734.0,6735.0,6736.0,6737.0,6738.0,6739.0,6740.0,6741.0,6742.0,6743.0,6744.0,6745.0,6746.0,6747.0,6748.0,6749.0,6750.0,6751.0,6752.0,6753.0,6754.0,6755.0,6756.0,6757.0,6758.0,6759.0,6760.0,6761.0,6762.0,6763.0,6764.0,6765.0,6766.0,6767.0,6768.0,6769.0,6770.0,6771.0,6772.0,6773.0,6774.0,6775.0,6776.0,6777.0,6778.0,6779.0,6780.0,6781.0,6782.0,6783.0,6784.0,6785.0,6786.0,6787.0,6788.0,6789.0,6790.0,6791.0,6792.0,6793.0,6794.0,6795.0,6796.0,6797.0,6798.0,6799.0,6800.0,6801.0,6802.0,6803.0,6804.0,6805.0,6806.0,6807.0,6808.0,6809.0,6810.0,6811.0,6812.0,6813.0,6814.0,6815.0,6816.0,6817.0,6818.0,6819.0,6820.0,6821.0,6822.0,6823.0,6824.0,6825.0,6826.0,6827.0,6828.0,6829.0,6830.0,6831.0,6832.0,6833.0,6834.0,6835.0,6836.0,6837.0,6838.0,6839.0,6840.0,6841.0,6842.0,6843.0,6844.0,6845.0,6846.0,6847.0,6848.0,6849.0,6850.0,6851.0,6852.0,6853.0,6854.0,6855.0,6856.0,6857.0,6858.0,6859.0,6860.0,6861.0,6862.0,6863.0,6864.0,6865.0,6866.0,6867.0,6868.0,6869.0,6870.0,6871.0,6872.0,6873.0,6874.0,6875.0,6876.0,6877.0,6878.0,6879.0,6880.0,6881.0,6882.0,6883.0,6884.0,6885.0,6886.0,6887.0,6888.0,6889.0,6890.0,6891.0,6892.0,6893.0,6894.0,6895.0,6896.0,6897.0,6898.0,6899.0,6900.0,6901.0,6902.0,6903.0,6904.0,6905.0,6906.0,6907.0,6908.0,6909.0,6910.0,6911.0,6912.0,6913.0,6914.0,6915.0,6916.0,6917.0,6918.0,6919.0,6920.0,6921.0,6922.0,6923.0,6924.0,6925.0,6926.0,6927.0,6928.0,6929.0,6930.0,6931.0,6932.0,6933.0,6934.0,6935.0,6936.0,6937.0,6938.0,6939.0,6940.0,6941.0,6942.0,6943.0,6944.0,6945.0,6946.0,6947.0,6948.0,6949.0,6950.0,6951.0,6952.0,6953.0,6954.0,6955.0,6956.0,6957.0,6958.0,6959.0,6960.0,6961.0,6962.0,6963.0,6964.0,6965.0,6966.0,6967.0,6968.0,6969.0,6970.0,6971.0,6972.0,6973.0,6974.0,6975.0,6976.0,6977.0,6978.0,6979.0,6980.0,6981.0,6982.0,6983.0,6984.0,6985.0,6986.0,6987.0,6988.0,6989.0,6990.0,6991.0,6992.0,6993.0,6994.0,6995.0,6996.0,6997.0,6998.0,6999.0,7000.0,7001.0,7002.0,7003.0,7004.0,7005.0,7006.0,7007.0,7008.0,7009.0,7010.0,7011.0,7012.0,7013.0,7014.0,7015.0,7016.0,7017.0,7018.0,7019.0,7020.0,7021.0,7022.0,7023.0,7024.0,7025.0,7026.0,7027.0,7028.0,7029.0,7030.0,7031.0,7032.0,7033.0,7034.0,7035.0,7036.0,7037.0,7038.0,7039.0,7040.0,7041.0,7042.0,7043.0,7044.0,7045.0,7046.0,7047.0,7048.0,7049.0,7050.0,7051.0,7052.0,7053.0,7054.0,7055.0,7056.0,7057.0,7058.0,7059.0,7060.0,7061.0,7062.0,7063.0,7064.0,7065.0,7066.0,7067.0,7068.0,7069.0,7070.0,7071.0,7072.0,7073.0,7074.0,7075.0,7076.0,7077.0,7078.0,7079.0,7080.0,7081.0,7082.0,7083.0,7084.0,7085.0,7086.0,7087.0,7088.0,7089.0,7090.0,7091.0,7092.0,7093.0,7094.0,7095.0,7096.0,7097.0,7098.0,7099.0,7100.0,7101.0,7102.0,7103.0,7104.0,7105.0,7106.0,7107.0,7108.0,7109.0,7110.0,7111.0,7112.0,7113.0,7114.0,7115.0,7116.0,7117.0,7118.0,7119.0,7120.0,7121.0,7122.0,7123.0,7124.0,7125.0,7126.0,7127.0,7128.0,7129.0,7130.0,7131.0,7132.0,7133.0,7134.0,7135.0,7136.0,7137.0,7138.0,7139.0,7140.0,7141.0,7142.0,7143.0,7144.0,7145.0,7146.0,7147.0,7148.0,7149.0,7150.0,7151.0,7152.0,7153.0,7154.0,7155.0,7156.0,7157.0,7158.0,7159.0,7160.0,7161.0,7162.0,7163.0,7164.0,7165.0,7166.0,7167.0,7168.0,7169.0,7170.0,7171.0,7172.0,7173.0,7174.0,7175.0,7176.0,7177.0,7178.0,7179.0,7180.0,7181.0,7182.0,7183.0,7184.0,7185.0,7186.0,7187.0,7188.0,7189.0,7190.0,7191.0,7192.0,7193.0,7194.0,7195.0,7196.0,7197.0,7198.0,7199.0,7200.0,7201.0,7202.0,7203.0,7204.0,7205.0,7206.0,7207.0,7208.0,7209.0,7210.0,7211.0,7212.0,7213.0,7214.0,7215.0,7216.0,7217.0,7218.0,7219.0,7220.0,7221.0,7222.0,7223.0,7224.0,7225.0,7226.0,7227.0,7228.0,7229.0,7230.0,7231.0,7232.0,7233.0,7234.0,7235.0,7236.0,7237.0,7238.0,7239.0,7240.0,7241.0,7242.0,7243.0,7244.0,7245.0,7246.0,7247.0,7248.0,7249.0,7250.0,7251.0,7252.0,7253.0,7254.0,7255.0,7256.0,7257.0,7258.0,7259.0,7260.0,7261.0,7262.0,7263.0,7264.0,7265.0,7266.0,7267.0,7268.0,7269.0,7270.0,7271.0,7272.0,7273.0,7274.0,7275.0,7276.0,7277.0,7278.0,7279.0,7280.0,7281.0,7282.0,7283.0,7284.0,7285.0,7286.0,7287.0,7288.0,7289.0,7290.0,7291.0,7292.0,7293.0,7294.0,7295.0,7296.0,7297.0,7298.0,7299.0,7300.0,7301.0,7302.0,7303.0,7304.0,7305.0,7306.0,7307.0,7308.0,7309.0,7310.0,7311.0,7312.0,7313.0,7314.0,7315.0,7316.0,7317.0,7318.0,7319.0,7320.0,7321.0,7322.0,7323.0,7324.0,7325.0,7326.0,7327.0,7328.0,7329.0,7330.0,7331.0,7332.0,7333.0,7334.0,7335.0,7336.0,7337.0,7338.0,7339.0,7340.0,7341.0,7342.0,7343.0,7344.0,7345.0,7346.0,7347.0,7348.0,7349.0,7350.0,7351.0,7352.0,7353.0,7354.0,7355.0,7356.0,7357.0,7358.0,7359.0,7360.0,7361.0,7362.0,7363.0,7364.0,7365.0,7366.0,7367.0,7368.0,7369.0,7370.0,7371.0,7372.0,7373.0,7374.0,7375.0,7376.0,7377.0,7378.0,7379.0,7380.0,7381.0,7382.0,7383.0,7384.0,7385.0,7386.0,7387.0,7388.0,7389.0,7390.0,7391.0,7392.0,7393.0,7394.0,7395.0,7396.0,7397.0,7398.0,7399.0,7400.0,7401.0,7402.0,7403.0,7404.0,7405.0,7406.0,7407.0,7408.0,7409.0,7410.0,7411.0,7412.0,7413.0,7414.0,7415.0,7416.0,7417.0,7418.0,7419.0,7420.0,7421.0,7422.0,7423.0,7424.0,7425.0,7426.0,7427.0,7428.0,7429.0,7430.0,7431.0,7432.0,7433.0,7434.0,7435.0,7436.0,7437.0,7438.0,7439.0,7440.0,7441.0,7442.0,7443.0,7444.0,7445.0,7446.0,7447.0,7448.0,7449.0,7450.0,7451.0,7452.0,7453.0,7454.0,7455.0,7456.0,7457.0,7458.0,7459.0,7460.0,7461.0,7462.0,7463.0,7464.0,7465.0,7466.0,7467.0,7468.0,7469.0,7470.0,7471.0,7472.0,7473.0,7474.0,7475.0,7476.0,7477.0,7478.0,7479.0,7480.0,7481.0,7482.0,7483.0,7484.0,7485.0,7486.0,7487.0,7488.0,7489.0,7490.0,7491.0,7492.0,7493.0,7494.0,7495.0,7496.0,7497.0,7498.0,7499.0,7500.0,7501.0,7502.0,7503.0,7504.0,7505.0,7506.0,7507.0,7508.0,7509.0,7510.0,7511.0,7512.0,7513.0,7514.0,7515.0,7516.0,7517.0,7518.0,7519.0,7520.0,7521.0,7522.0,7523.0,7524.0,7525.0,7526.0,7527.0,7528.0,7529.0,7530.0,7531.0,7532.0,7533.0,7534.0,7535.0,7536.0,7537.0,7538.0,7539.0,7540.0,7541.0,7542.0,7543.0,7544.0,7545.0,7546.0,7547.0,7548.0,7549.0,7550.0,7551.0,7552.0,7553.0,7554.0,7555.0,7556.0,7557.0,7558.0,7559.0,7560.0,7561.0,7562.0,7563.0,7564.0,7565.0,7566.0,7567.0,7568.0,7569.0,7570.0,7571.0,7572.0,7573.0,7574.0,7575.0,7576.0,7577.0,7578.0,7579.0,7580.0,7581.0,7582.0,7583.0,7584.0,7585.0,7586.0,7587.0,7588.0,7589.0,7590.0,7591.0,7592.0,7593.0,7594.0,7595.0,7596.0,7597.0,7598.0,7599.0,7600.0,7601.0,7602.0,7603.0,7604.0,7605.0,7606.0,7607.0,7608.0,7609.0,7610.0,7611.0,7612.0,7613.0,7614.0,7615.0,7616.0,7617.0,7618.0,7619.0,7620.0,7621.0,7622.0,7623.0,7624.0,7625.0,7626.0,7627.0,7628.0,7629.0,7630.0,7631.0,7632.0,7633.0,7634.0,7635.0,7636.0,7637.0,7638.0,7639.0,7640.0,7641.0,7642.0,7643.0,7644.0,7645.0,7646.0,7647.0,7648.0,7649.0,7650.0,7651.0,7652.0,7653.0,7654.0,7655.0,7656.0,7657.0,7658.0,7659.0,7660.0,7661.0,7662.0,7663.0,7664.0,7665.0,7666.0,7667.0,7668.0,7669.0,7670.0,7671.0,7672.0,7673.0,7674.0,7675.0,7676.0,7677.0,7678.0,7679.0,7680.0,7681.0,7682.0,7683.0,7684.0,7685.0,7686.0,7687.0,7688.0,7689.0,7690.0,7691.0,7692.0,7693.0,7694.0,7695.0,7696.0,7697.0,7698.0,7699.0,7700.0,7701.0,7702.0,7703.0,7704.0,7705.0,7706.0,7707.0,7708.0,7709.0,7710.0,7711.0,7712.0,7713.0,7714.0,7715.0,7716.0,7717.0,7718.0,7719.0,7720.0,7721.0,7722.0,7723.0,7724.0,7725.0,7726.0,7727.0,7728.0,7729.0,7730.0,7731.0,7732.0,7733.0,7734.0,7735.0,7736.0,7737.0,7738.0,7739.0,7740.0,7741.0,7742.0,7743.0,7744.0,7745.0,7746.0,7747.0,7748.0,7749.0,7750.0,7751.0,7752.0,7753.0,7754.0,7755.0,7756.0,7757.0,7758.0,7759.0,7760.0,7761.0,7762.0,7763.0,7764.0,7765.0,7766.0,7767.0,7768.0,7769.0,7770.0,7771.0,7772.0,7773.0,7774.0,7775.0,7776.0,7777.0,7778.0,7779.0,7780.0,7781.0,7782.0,7783.0,7784.0,7785.0,7786.0,7787.0,7788.0,7789.0,7790.0,7791.0,7792.0,7793.0,7794.0,7795.0,7796.0,7797.0,7798.0,7799.0,7800.0,7801.0,7802.0,7803.0,7804.0,7805.0,7806.0,7807.0,7808.0,7809.0,7810.0,7811.0,7812.0,7813.0,7814.0,7815.0,7816.0,7817.0,7818.0,7819.0,7820.0,7821.0,7822.0,7823.0,7824.0,7825.0,7826.0,7827.0,7828.0,7829.0,7830.0,7831.0,7832.0,7833.0,7834.0,7835.0,7836.0,7837.0,7838.0,7839.0,7840.0,7841.0,7842.0,7843.0,7844.0,7845.0,7846.0,7847.0,7848.0,7849.0,7850.0,7851.0,7852.0,7853.0,7854.0,7855.0,7856.0,7857.0,7858.0,7859.0,7860.0,7861.0,7862.0,7863.0,7864.0,7865.0,7866.0,7867.0,7868.0,7869.0,7870.0,7871.0,7872.0,7873.0,7874.0,7875.0,7876.0,7877.0,7878.0,7879.0,7880.0,7881.0,7882.0,7883.0,7884.0,7885.0,7886.0,7887.0,7888.0,7889.0,7890.0,7891.0,7892.0,7893.0,7894.0,7895.0,7896.0,7897.0,7898.0,7899.0,7900.0,7901.0,7902.0,7903.0,7904.0,7905.0,7906.0,7907.0,7908.0,7909.0,7910.0,7911.0,7912.0,7913.0,7914.0,7915.0,7916.0,7917.0,7918.0,7919.0,7920.0,7921.0,7922.0,7923.0,7924.0,7925.0,7926.0,7927.0,7928.0,7929.0,7930.0,7931.0,7932.0,7933.0,7934.0,7935.0,7936.0,7937.0,7938.0,7939.0,7940.0,7941.0,7942.0,7943.0,7944.0,7945.0,7946.0,7947.0,7948.0,7949.0,7950.0,7951.0,7952.0,7953.0,7954.0,7955.0,7956.0,7957.0,7958.0,7959.0,7960.0,7961.0,7962.0,7963.0,7964.0,7965.0,7966.0,7967.0,7968.0,7969.0,7970.0,7971.0,7972.0,7973.0,7974.0,7975.0,7976.0,7977.0,7978.0,7979.0,7980.0,7981.0,7982.0,7983.0,7984.0,7985.0,7986.0,7987.0,7988.0,7989.0,7990.0,7991.0,7992.0,7993.0,7994.0,7995.0,7996.0,7997.0,7998.0,7999.0,8000.0,8001.0,8002.0,8003.0,8004.0,8005.0,8006.0,8007.0,8008.0,8009.0,8010.0,8011.0,8012.0,8013.0,8014.0,8015.0,8016.0,8017.0,8018.0,8019.0,8020.0,8021.0,8022.0,8023.0,8024.0,8025.0,8026.0,8027.0,8028.0,8029.0,8030.0,8031.0,8032.0,8033.0,8034.0,8035.0,8036.0,8037.0,8038.0,8039.0,8040.0,8041.0,8042.0,8043.0,8044.0,8045.0,8046.0,8047.0,8048.0,8049.0,8050.0,8051.0,8052.0,8053.0,8054.0,8055.0,8056.0,8057.0,8058.0,8059.0,8060.0,8061.0,8062.0,8063.0,8064.0,8065.0,8066.0,8067.0,8068.0,8069.0,8070.0,8071.0,8072.0,8073.0,8074.0,8075.0,8076.0,8077.0,8078.0,8079.0,8080.0,8081.0,8082.0,8083.0,8084.0,8085.0,8086.0,8087.0,8088.0,8089.0,8090.0,8091.0,8092.0,8093.0,8094.0,8095.0,8096.0,8097.0,8098.0,8099.0,8100.0,8101.0,8102.0,8103.0,8104.0,8105.0,8106.0,8107.0,8108.0,8109.0,8110.0,8111.0,8112.0,8113.0,8114.0,8115.0,8116.0,8117.0,8118.0,8119.0,8120.0,8121.0,8122.0,8123.0,8124.0,8125.0,8126.0,8127.0,8128.0,8129.0,8130.0,8131.0,8132.0,8133.0,8134.0,8135.0,8136.0,8137.0,8138.0,8139.0,8140.0,8141.0,8142.0,8143.0,8144.0,8145.0,8146.0,8147.0,8148.0,8149.0,8150.0,8151.0,8152.0,8153.0,8154.0,8155.0,8156.0,8157.0,8158.0,8159.0,8160.0,8161.0,8162.0,8163.0,8164.0,8165.0,8166.0,8167.0,8168.0,8169.0,8170.0,8171.0,8172.0,8173.0,8174.0,8175.0,8176.0,8177.0,8178.0,8179.0,8180.0,8181.0,8182.0,8183.0,8184.0,8185.0,8186.0,8187.0,8188.0,8189.0,8190.0,8191.0,8192.0,8193.0,8194.0,8195.0,8196.0,8197.0,8198.0,8199.0,8200.0,8201.0,8202.0,8203.0,8204.0,8205.0,8206.0,8207.0,8208.0,8209.0,8210.0,8211.0,8212.0,8213.0,8214.0,8215.0,8216.0,8217.0,8218.0,8219.0,8220.0,8221.0,8222.0,8223.0,8224.0,8225.0,8226.0,8227.0,8228.0,8229.0,8230.0,8231.0,8232.0,8233.0,8234.0,8235.0,8236.0,8237.0,8238.0,8239.0,8240.0,8241.0,8242.0,8243.0,8244.0,8245.0,8246.0,8247.0,8248.0,8249.0,8250.0,8251.0,8252.0,8253.0,8254.0,8255.0,8256.0,8257.0,8258.0,8259.0,8260.0,8261.0,8262.0,8263.0,8264.0,8265.0,8266.0,8267.0,8268.0,8269.0,8270.0,8271.0,8272.0,8273.0,8274.0,8275.0,8276.0,8277.0,8278.0,8279.0,8280.0,8281.0,8282.0,8283.0,8284.0,8285.0,8286.0,8287.0,8288.0,8289.0,8290.0,8291.0,8292.0,8293.0,8294.0,8295.0,8296.0,8297.0,8298.0,8299.0,8300.0,8301.0,8302.0,8303.0,8304.0,8305.0,8306.0,8307.0,8308.0,8309.0,8310.0,8311.0,8312.0,8313.0,8314.0,8315.0,8316.0,8317.0,8318.0,8319.0,8320.0,8321.0,8322.0,8323.0,8324.0,8325.0,8326.0,8327.0,8328.0,8329.0,8330.0,8331.0,8332.0,8333.0,8334.0,8335.0,8336.0,8337.0,8338.0,8339.0,8340.0,8341.0,8342.0,8343.0,8344.0,8345.0,8346.0,8347.0,8348.0,8349.0,8350.0,8351.0,8352.0,8353.0,8354.0,8355.0,8356.0,8357.0,8358.0,8359.0,8360.0,8361.0,8362.0,8363.0,8364.0,8365.0,8366.0,8367.0,8368.0,8369.0,8370.0,8371.0,8372.0,8373.0,8374.0,8375.0,8376.0,8377.0,8378.0,8379.0,8380.0,8381.0,8382.0,8383.0,8384.0,8385.0,8386.0,8387.0,8388.0,8389.0,8390.0,8391.0,8392.0,8393.0,8394.0,8395.0,8396.0,8397.0,8398.0,8399.0,8400.0,8401.0,8402.0,8403.0,8404.0,8405.0,8406.0,8407.0,8408.0,8409.0,8410.0,8411.0,8412.0,8413.0,8414.0,8415.0,8416.0,8417.0,8418.0,8419.0,8420.0,8421.0,8422.0,8423.0,8424.0,8425.0,8426.0,8427.0,8428.0,8429.0,8430.0,8431.0,8432.0,8433.0,8434.0,8435.0,8436.0,8437.0,8438.0,8439.0,8440.0,8441.0,8442.0,8443.0,8444.0,8445.0,8446.0,8447.0,8448.0,8449.0,8450.0,8451.0,8452.0,8453.0,8454.0,8455.0,8456.0,8457.0,8458.0,8459.0,8460.0,8461.0,8462.0,8463.0,8464.0,8465.0,8466.0,8467.0,8468.0,8469.0,8470.0,8471.0,8472.0,8473.0,8474.0,8475.0,8476.0,8477.0,8478.0,8479.0,8480.0,8481.0,8482.0,8483.0,8484.0,8485.0,8486.0,8487.0,8488.0,8489.0,8490.0,8491.0,8492.0,8493.0,8494.0,8495.0,8496.0,8497.0,8498.0,8499.0,8500.0,8501.0,8502.0,8503.0,8504.0,8505.0,8506.0,8507.0,8508.0,8509.0,8510.0,8511.0,8512.0,8513.0,8514.0,8515.0,8516.0,8517.0,8518.0,8519.0,8520.0,8521.0,8522.0,8523.0,8524.0,8525.0,8526.0,8527.0,8528.0,8529.0,8530.0,8531.0,8532.0,8533.0,8534.0,8535.0,8536.0,8537.0,8538.0,8539.0,8540.0,8541.0,8542.0,8543.0,8544.0,8545.0,8546.0,8547.0,8548.0,8549.0,8550.0,8551.0,8552.0,8553.0,8554.0,8555.0,8556.0,8557.0,8558.0,8559.0,8560.0,8561.0,8562.0,8563.0,8564.0,8565.0,8566.0,8567.0,8568.0,8569.0,8570.0,8571.0,8572.0,8573.0,8574.0,8575.0,8576.0,8577.0,8578.0,8579.0,8580.0,8581.0,8582.0,8583.0,8584.0,8585.0,8586.0,8587.0,8588.0,8589.0,8590.0,8591.0,8592.0,8593.0,8594.0,8595.0,8596.0,8597.0,8598.0,8599.0,8600.0,8601.0,8602.0,8603.0,8604.0,8605.0,8606.0,8607.0,8608.0,8609.0,8610.0,8611.0,8612.0,8613.0,8614.0,8615.0,8616.0,8617.0,8618.0,8619.0,8620.0,8621.0,8622.0,8623.0,8624.0,8625.0,8626.0,8627.0,8628.0,8629.0,8630.0,8631.0,8632.0,8633.0,8634.0,8635.0,8636.0,8637.0,8638.0,8639.0,8640.0,8641.0,8642.0,8643.0,8644.0,8645.0,8646.0,8647.0,8648.0,8649.0,8650.0,8651.0,8652.0,8653.0,8654.0,8655.0,8656.0,8657.0,8658.0,8659.0,8660.0,8661.0,8662.0,8663.0,8664.0,8665.0,8666.0,8667.0,8668.0,8669.0,8670.0,8671.0,8672.0,8673.0,8674.0,8675.0,8676.0,8677.0,8678.0,8679.0,8680.0,8681.0,8682.0,8683.0,8684.0,8685.0,8686.0,8687.0,8688.0,8689.0,8690.0,8691.0,8692.0,8693.0,8694.0,8695.0,8696.0,8697.0,8698.0,8699.0,8700.0,8701.0,8702.0,8703.0,8704.0,8705.0,8706.0,8707.0,8708.0,8709.0,8710.0,8711.0,8712.0,8713.0,8714.0,8715.0,8716.0,8717.0,8718.0,8719.0,8720.0,8721.0,8722.0,8723.0,8724.0,8725.0,8726.0,8727.0,8728.0,8729.0,8730.0,8731.0,8732.0,8733.0,8734.0,8735.0,8736.0,8737.0,8738.0,8739.0,8740.0,8741.0,8742.0,8743.0,8744.0,8745.0,8746.0,8747.0,8748.0,8749.0,8750.0,8751.0,8752.0,8753.0,8754.0,8755.0,8756.0,8757.0,8758.0,8759.0,8760.0,8761.0,8762.0,8763.0,8764.0,8765.0,8766.0,8767.0,8768.0,8769.0,8770.0,8771.0,8772.0,8773.0,8774.0,8775.0,8776.0,8777.0,8778.0,8779.0,8780.0,8781.0,8782.0,8783.0,8784.0,8785.0,8786.0,8787.0,8788.0,8789.0,8790.0,8791.0,8792.0,8793.0,8794.0,8795.0,8796.0,8797.0,8798.0,8799.0,8800.0,8801.0,8802.0,8803.0,8804.0,8805.0,8806.0,8807.0,8808.0,8809.0,8810.0,8811.0,8812.0,8813.0,8814.0,8815.0,8816.0,8817.0,8818.0,8819.0,8820.0,8821.0,8822.0,8823.0,8824.0,8825.0,8826.0,8827.0,8828.0,8829.0,8830.0,8831.0,8832.0,8833.0,8834.0,8835.0,8836.0,8837.0,8838.0,8839.0,8840.0,8841.0,8842.0,8843.0,8844.0,8845.0,8846.0,8847.0,8848.0,8849.0,8850.0,8851.0,8852.0,8853.0,8854.0,8855.0,8856.0,8857.0,8858.0,8859.0,8860.0,8861.0,8862.0,8863.0,8864.0,8865.0,8866.0,8867.0,8868.0,8869.0,8870.0,8871.0,8872.0,8873.0,8874.0,8875.0,8876.0,8877.0,8878.0,8879.0,8880.0,8881.0,8882.0,8883.0,8884.0,8885.0,8886.0,8887.0,8888.0,8889.0,8890.0,8891.0,8892.0,8893.0,8894.0,8895.0,8896.0,8897.0,8898.0,8899.0,8900.0,8901.0,8902.0,8903.0,8904.0,8905.0,8906.0,8907.0,8908.0,8909.0,8910.0,8911.0,8912.0,8913.0,8914.0,8915.0,8916.0,8917.0,8918.0,8919.0,8920.0,8921.0,8922.0,8923.0,8924.0,8925.0,8926.0,8927.0,8928.0,8929.0,8930.0,8931.0,8932.0,8933.0,8934.0,8935.0,8936.0,8937.0,8938.0,8939.0,8940.0,8941.0,8942.0,8943.0,8944.0,8945.0,8946.0,8947.0,8948.0,8949.0,8950.0,8951.0,8952.0,8953.0,8954.0,8955.0,8956.0,8957.0,8958.0,8959.0,8960.0,8961.0,8962.0,8963.0,8964.0,8965.0,8966.0,8967.0,8968.0,8969.0,8970.0,8971.0,8972.0,8973.0,8974.0,8975.0,8976.0,8977.0,8978.0,8979.0,8980.0,8981.0,8982.0,8983.0,8984.0,8985.0,8986.0,8987.0,8988.0,8989.0,8990.0,8991.0,8992.0,8993.0,8994.0,8995.0,8996.0,8997.0,8998.0,8999.0,9000.0,9001.0,9002.0,9003.0,9004.0,9005.0,9006.0,9007.0,9008.0,9009.0,9010.0,9011.0,9012.0,9013.0,9014.0,9015.0,9016.0,9017.0,9018.0,9019.0,9020.0,9021.0,9022.0,9023.0,9024.0,9025.0,9026.0,9027.0,9028.0,9029.0,9030.0,9031.0,9032.0,9033.0,9034.0,9035.0,9036.0,9037.0,9038.0,9039.0,9040.0,9041.0,9042.0,9043.0,9044.0,9045.0,9046.0,9047.0,9048.0,9049.0,9050.0,9051.0,9052.0,9053.0,9054.0,9055.0,9056.0,9057.0,9058.0,9059.0,9060.0,9061.0,9062.0,9063.0,9064.0,9065.0,9066.0,9067.0,9068.0,9069.0,9070.0,9071.0,9072.0,9073.0,9074.0,9075.0,9076.0,9077.0,9078.0,9079.0,9080.0,9081.0,9082.0,9083.0,9084.0,9085.0,9086.0,9087.0,9088.0,9089.0,9090.0,9091.0,9092.0,9093.0,9094.0,9095.0,9096.0,9097.0,9098.0,9099.0,9100.0,9101.0,9102.0,9103.0,9104.0,9105.0,9106.0,9107.0,9108.0,9109.0,9110.0,9111.0,9112.0,9113.0,9114.0,9115.0,9116.0,9117.0,9118.0,9119.0,9120.0,9121.0,9122.0,9123.0,9124.0,9125.0,9126.0,9127.0,9128.0,9129.0,9130.0,9131.0,9132.0,9133.0,9134.0,9135.0,9136.0,9137.0,9138.0,9139.0,9140.0,9141.0,9142.0,9143.0,9144.0,9145.0,9146.0,9147.0,9148.0,9149.0,9150.0,9151.0,9152.0,9153.0,9154.0,9155.0,9156.0,9157.0,9158.0,9159.0,9160.0,9161.0,9162.0,9163.0,9164.0,9165.0,9166.0,9167.0,9168.0,9169.0,9170.0,9171.0,9172.0,9173.0,9174.0,9175.0,9176.0,9177.0,9178.0,9179.0,9180.0,9181.0,9182.0,9183.0,9184.0,9185.0,9186.0,9187.0,9188.0,9189.0,9190.0,9191.0,9192.0,9193.0,9194.0,9195.0,9196.0,9197.0,9198.0,9199.0,9200.0,9201.0,9202.0,9203.0,9204.0,9205.0,9206.0,9207.0,9208.0,9209.0,9210.0,9211.0,9212.0,9213.0,9214.0,9215.0,9216.0,9217.0,9218.0,9219.0,9220.0,9221.0,9222.0,9223.0,9224.0,9225.0,9226.0,9227.0,9228.0,9229.0,9230.0,9231.0,9232.0,9233.0,9234.0,9235.0,9236.0,9237.0,9238.0,9239.0,9240.0,9241.0,9242.0,9243.0,9244.0,9245.0,9246.0,9247.0,9248.0,9249.0,9250.0,9251.0,9252.0,9253.0,9254.0,9255.0,9256.0,9257.0,9258.0,9259.0,9260.0,9261.0,9262.0,9263.0,9264.0,9265.0,9266.0,9267.0,9268.0,9269.0,9270.0,9271.0,9272.0,9273.0,9274.0,9275.0,9276.0,9277.0,9278.0,9279.0,9280.0,9281.0,9282.0,9283.0,9284.0,9285.0,9286.0,9287.0,9288.0,9289.0,9290.0,9291.0,9292.0,9293.0,9294.0,9295.0,9296.0,9297.0,9298.0,9299.0,9300.0,9301.0,9302.0,9303.0,9304.0,9305.0,9306.0,9307.0,9308.0,9309.0,9310.0,9311.0,9312.0,9313.0,9314.0,9315.0,9316.0,9317.0,9318.0,9319.0,9320.0,9321.0,9322.0,9323.0,9324.0,9325.0,9326.0,9327.0,9328.0,9329.0,9330.0,9331.0,9332.0,9333.0,9334.0,9335.0,9336.0,9337.0,9338.0,9339.0,9340.0,9341.0,9342.0,9343.0,9344.0,9345.0,9346.0,9347.0,9348.0,9349.0,9350.0,9351.0,9352.0,9353.0,9354.0,9355.0,9356.0,9357.0,9358.0,9359.0,9360.0,9361.0,9362.0,9363.0,9364.0,9365.0,9366.0,9367.0,9368.0,9369.0,9370.0,9371.0,9372.0,9373.0,9374.0,9375.0,9376.0,9377.0,9378.0,9379.0,9380.0,9381.0,9382.0,9383.0,9384.0,9385.0,9386.0,9387.0,9388.0,9389.0,9390.0,9391.0,9392.0,9393.0,9394.0,9395.0,9396.0,9397.0,9398.0,9399.0,9400.0,9401.0,9402.0,9403.0,9404.0,9405.0,9406.0,9407.0,9408.0,9409.0,9410.0,9411.0,9412.0,9413.0,9414.0,9415.0,9416.0,9417.0,9418.0,9419.0,9420.0,9421.0,9422.0,9423.0,9424.0,9425.0,9426.0,9427.0,9428.0,9429.0,9430.0,9431.0,9432.0,9433.0,9434.0,9435.0,9436.0,9437.0,9438.0,9439.0,9440.0,9441.0,9442.0,9443.0,9444.0,9445.0,9446.0,9447.0,9448.0,9449.0,9450.0,9451.0,9452.0,9453.0,9454.0,9455.0,9456.0,9457.0,9458.0,9459.0,9460.0,9461.0,9462.0,9463.0,9464.0,9465.0,9466.0,9467.0,9468.0,9469.0,9470.0,9471.0,9472.0,9473.0,9474.0,9475.0,9476.0,9477.0,9478.0,9479.0,9480.0,9481.0,9482.0,9483.0,9484.0,9485.0,9486.0,9487.0,9488.0,9489.0,9490.0,9491.0,9492.0,9493.0,9494.0,9495.0,9496.0,9497.0,9498.0,9499.0,9500.0,9501.0,9502.0,9503.0,9504.0,9505.0,9506.0,9507.0,9508.0,9509.0,9510.0,9511.0,9512.0,9513.0,9514.0,9515.0,9516.0,9517.0,9518.0,9519.0,9520.0,9521.0,9522.0,9523.0,9524.0,9525.0,9526.0,9527.0,9528.0,9529.0,9530.0,9531.0,9532.0,9533.0,9534.0,9535.0,9536.0,9537.0,9538.0,9539.0,9540.0,9541.0,9542.0,9543.0,9544.0,9545.0,9546.0,9547.0,9548.0,9549.0,9550.0,9551.0,9552.0,9553.0,9554.0,9555.0,9556.0,9557.0,9558.0,9559.0,9560.0,9561.0,9562.0,9563.0,9564.0,9565.0,9566.0,9567.0,9568.0,9569.0,9570.0,9571.0,9572.0,9573.0,9574.0,9575.0,9576.0,9577.0,9578.0,9579.0,9580.0,9581.0,9582.0,9583.0,9584.0,9585.0,9586.0,9587.0,9588.0,9589.0,9590.0,9591.0,9592.0,9593.0,9594.0,9595.0,9596.0,9597.0,9598.0,9599.0,9600.0,9601.0,9602.0,9603.0,9604.0,9605.0,9606.0,9607.0,9608.0,9609.0,9610.0,9611.0,9612.0,9613.0,9614.0,9615.0,9616.0,9617.0,9618.0,9619.0,9620.0,9621.0,9622.0,9623.0,9624.0,9625.0,9626.0,9627.0,9628.0,9629.0,9630.0,9631.0,9632.0,9633.0,9634.0,9635.0,9636.0,9637.0,9638.0,9639.0,9640.0,9641.0,9642.0,9643.0,9644.0,9645.0,9646.0,9647.0,9648.0,9649.0,9650.0,9651.0,9652.0,9653.0,9654.0,9655.0,9656.0,9657.0,9658.0,9659.0,9660.0,9661.0,9662.0,9663.0,9664.0,9665.0,9666.0,9667.0,9668.0,9669.0,9670.0,9671.0,9672.0,9673.0,9674.0,9675.0,9676.0,9677.0,9678.0,9679.0,9680.0,9681.0,9682.0,9683.0,9684.0,9685.0,9686.0,9687.0,9688.0,9689.0,9690.0,9691.0,9692.0,9693.0,9694.0,9695.0,9696.0,9697.0,9698.0,9699.0,9700.0,9701.0,9702.0,9703.0,9704.0,9705.0,9706.0,9707.0,9708.0,9709.0,9710.0,9711.0,9712.0,9713.0,9714.0,9715.0,9716.0,9717.0,9718.0,9719.0,9720.0,9721.0,9722.0,9723.0,9724.0,9725.0,9726.0,9727.0,9728.0,9729.0,9730.0,9731.0,9732.0,9733.0,9734.0,9735.0,9736.0,9737.0,9738.0,9739.0,9740.0,9741.0,9742.0,9743.0,9744.0,9745.0,9746.0,9747.0,9748.0,9749.0,9750.0,9751.0,9752.0,9753.0,9754.0,9755.0,9756.0,9757.0,9758.0,9759.0,9760.0,9761.0,9762.0,9763.0,9764.0,9765.0,9766.0,9767.0,9768.0,9769.0,9770.0,9771.0,9772.0,9773.0,9774.0,9775.0,9776.0,9777.0,9778.0,9779.0,9780.0,9781.0,9782.0,9783.0,9784.0,9785.0,9786.0,9787.0,9788.0,9789.0,9790.0,9791.0,9792.0,9793.0,9794.0,9795.0,9796.0,9797.0,9798.0,9799.0,9800.0,9801.0,9802.0,9803.0,9804.0,9805.0,9806.0,9807.0,9808.0,9809.0,9810.0,9811.0,9812.0,9813.0,9814.0,9815.0,9816.0,9817.0,9818.0,9819.0,9820.0,9821.0,9822.0,9823.0,9824.0,9825.0,9826.0,9827.0,9828.0,9829.0,9830.0,9831.0,9832.0,9833.0,9834.0,9835.0,9836.0,9837.0,9838.0,9839.0,9840.0,9841.0,9842.0,9843.0,9844.0,9845.0,9846.0,9847.0,9848.0,9849.0,9850.0,9851.0,9852.0,9853.0,9854.0,9855.0,9856.0,9857.0,9858.0,9859.0,9860.0,9861.0,9862.0,9863.0,9864.0,9865.0,9866.0,9867.0,9868.0,9869.0,9870.0,9871.0,9872.0,9873.0,9874.0,9875.0,9876.0,9877.0,9878.0,9879.0,9880.0,9881.0,9882.0,9883.0,9884.0,9885.0,9886.0,9887.0,9888.0,9889.0,9890.0,9891.0,9892.0,9893.0,9894.0,9895.0,9896.0,9897.0,9898.0,9899.0,9900.0,9901.0,9902.0,9903.0,9904.0,9905.0,9906.0,9907.0,9908.0,9909.0,9910.0,9911.0,9912.0,9913.0,9914.0,9915.0,9916.0,9917.0,9918.0,9919.0,9920.0,9921.0,9922.0,9923.0,9924.0,9925.0,9926.0,9927.0,9928.0,9929.0,9930.0,9931.0,9932.0,9933.0,9934.0,9935.0,9936.0,9937.0,9938.0,9939.0,9940.0,9941.0,9942.0,9943.0,9944.0,9945.0,9946.0,9947.0,9948.0,9949.0,9950.0,9951.0,9952.0,9953.0,9954.0,9955.0,9956.0,9957.0,9958.0,9959.0,9960.0,9961.0,9962.0,9963.0,9964.0,9965.0,9966.0,9967.0,9968.0,9969.0,9970.0,9971.0,9972.0,9973.0,9974.0,9975.0,9976.0,9977.0,9978.0,9979.0,9980.0,9981.0,9982.0,9983.0,9984.0,9985.0,9986.0,9987.0,9988.0,9989.0,9990.0,9991.0,9992.0,9993.0,9994.0,9995.0,9996.0,9997.0,9998.0,9999.0,10000.0,10001.0,10002.0,10003.0,10004.0,10005.0,10006.0,10007.0,10008.0,10009.0,10010.0,10011.0,10012.0,10013.0,10014.0,10015.0,10016.0,10017.0,10018.0,10019.0,10020.0,10021.0,10022.0,10023.0,10024.0,10025.0,10026.0,10027.0,10028.0,10029.0,10030.0,10031.0,10032.0,10033.0,10034.0,10035.0,10036.0,10037.0,10038.0,10039.0,10040.0,10041.0,10042.0,10043.0,10044.0,10045.0,10046.0,10047.0,10048.0,10049.0,10050.0,10051.0,10052.0,10053.0,10054.0,10055.0,10056.0,10057.0,10058.0,10059.0,10060.0,10061.0,10062.0,10063.0,10064.0,10065.0,10066.0,10067.0,10068.0,10069.0,10070.0,10071.0,10072.0,10073.0,10074.0,10075.0,10076.0,10077.0,10078.0,10079.0,10080.0,10081.0,10082.0,10083.0,10084.0,10085.0,10086.0,10087.0,10088.0,10089.0,10090.0,10091.0,10092.0,10093.0,10094.0,10095.0,10096.0,10097.0,10098.0,10099.0,10100.0,10101.0,10102.0,10103.0,10104.0,10105.0,10106.0,10107.0,10108.0,10109.0,10110.0,10111.0,10112.0,10113.0,10114.0,10115.0,10116.0,10117.0,10118.0,10119.0,10120.0,10121.0,10122.0,10123.0,10124.0,10125.0,10126.0,10127.0,10128.0,10129.0,10130.0,10131.0,10132.0,10133.0,10134.0,10135.0,10136.0,10137.0,10138.0,10139.0,10140.0,10141.0,10142.0,10143.0,10144.0,10145.0,10146.0,10147.0,10148.0,10149.0,10150.0,10151.0,10152.0,10153.0,10154.0,10155.0,10156.0,10157.0,10158.0,10159.0,10160.0,10161.0,10162.0,10163.0,10164.0,10165.0,10166.0,10167.0,10168.0,10169.0,10170.0,10171.0,10172.0,10173.0,10174.0,10175.0,10176.0,10177.0,10178.0,10179.0,10180.0,10181.0,10182.0,10183.0,10184.0,10185.0,10186.0,10187.0,10188.0,10189.0,10190.0,10191.0,10192.0,10193.0,10194.0,10195.0,10196.0,10197.0,10198.0,10199.0,10200.0,10201.0,10202.0,10203.0,10204.0,10205.0,10206.0,10207.0,10208.0,10209.0,10210.0,10211.0,10212.0,10213.0,10214.0,10215.0,10216.0,10217.0,10218.0,10219.0,10220.0,10221.0,10222.0,10223.0,10224.0,10225.0,10226.0,10227.0,10228.0,10229.0,10230.0,10231.0,10232.0,10233.0,10234.0,10235.0,10236.0,10237.0,10238.0,10239.0,10240.0,10241.0,10242.0,10243.0,10244.0,10245.0,10246.0,10247.0,10248.0,10249.0,10250.0,10251.0,10252.0,10253.0,10254.0,10255.0,10256.0,10257.0,10258.0,10259.0,10260.0,10261.0,10262.0,10263.0,10264.0,10265.0,10266.0,10267.0,10268.0,10269.0,10270.0,10271.0,10272.0,10273.0,10274.0,10275.0,10276.0,10277.0,10278.0,10279.0,10280.0,10281.0,10282.0,10283.0,10284.0,10285.0,10286.0,10287.0,10288.0,10289.0,10290.0,10291.0,10292.0,10293.0,10294.0,10295.0,10296.0,10297.0,10298.0,10299.0,10300.0,10301.0,10302.0,10303.0,10304.0,10305.0,10306.0,10307.0,10308.0,10309.0,10310.0,10311.0,10312.0,10313.0,10314.0,10315.0,10316.0,10317.0,10318.0,10319.0,10320.0,10321.0,10322.0,10323.0,10324.0,10325.0,10326.0,10327.0,10328.0,10329.0,10330.0,10331.0,10332.0,10333.0,10334.0,10335.0,10336.0,10337.0,10338.0,10339.0,10340.0,10341.0,10342.0,10343.0,10344.0,10345.0,10346.0,10347.0,10348.0,10349.0,10350.0,10351.0,10352.0,10353.0,10354.0,10355.0,10356.0,10357.0,10358.0,10359.0,10360.0,10361.0,10362.0,10363.0,10364.0,10365.0,10366.0,10367.0,10368.0,10369.0,10370.0,10371.0,10372.0,10373.0,10374.0,10375.0,10376.0,10377.0,10378.0,10379.0,10380.0,10381.0,10382.0,10383.0,10384.0,10385.0,10386.0,10387.0,10388.0,10389.0,10390.0,10391.0,10392.0,10393.0,10394.0,10395.0,10396.0,10397.0,10398.0,10399.0,10400.0,10401.0,10402.0,10403.0,10404.0,10405.0,10406.0,10407.0,10408.0,10409.0,10410.0,10411.0,10412.0,10413.0,10414.0,10415.0,10416.0,10417.0,10418.0,10419.0,10420.0,10421.0,10422.0,10423.0,10424.0,10425.0,10426.0,10427.0,10428.0,10429.0,10430.0,10431.0,10432.0,10433.0,10434.0,10435.0,10436.0,10437.0,10438.0,10439.0,10440.0,10441.0,10442.0,10443.0,10444.0,10445.0,10446.0,10447.0,10448.0,10449.0,10450.0,10451.0,10452.0,10453.0,10454.0,10455.0,10456.0,10457.0,10458.0,10459.0,10460.0,10461.0,10462.0,10463.0,10464.0,10465.0,10466.0,10467.0,10468.0,10469.0,10470.0,10471.0,10472.0,10473.0,10474.0,10475.0,10476.0,10477.0,10478.0,10479.0,10480.0,10481.0,10482.0,10483.0,10484.0,10485.0,10486.0,10487.0,10488.0,10489.0,10490.0,10491.0,10492.0,10493.0,10494.0,10495.0,10496.0,10497.0,10498.0,10499.0,10500.0,10501.0,10502.0,10503.0,10504.0,10505.0,10506.0,10507.0,10508.0,10509.0,10510.0,10511.0,10512.0,10513.0,10514.0,10515.0,10516.0,10517.0,10518.0,10519.0,10520.0,10521.0,10522.0,10523.0,10524.0,10525.0,10526.0,10527.0,10528.0,10529.0,10530.0,10531.0,10532.0,10533.0,10534.0,10535.0,10536.0,10537.0,10538.0,10539.0,10540.0,10541.0,10542.0,10543.0,10544.0,10545.0,10546.0,10547.0,10548.0,10549.0,10550.0,10551.0,10552.0,10553.0,10554.0,10555.0,10556.0,10557.0,10558.0,10559.0,10560.0,10561.0,10562.0,10563.0,10564.0,10565.0,10566.0,10567.0,10568.0,10569.0,10570.0,10571.0,10572.0,10573.0,10574.0,10575.0,10576.0,10577.0,10578.0,10579.0,10580.0,10581.0,10582.0,10583.0,10584.0,10585.0,10586.0,10587.0,10588.0,10589.0,10590.0,10591.0,10592.0,10593.0,10594.0,10595.0,10596.0,10597.0,10598.0,10599.0,10600.0,10601.0,10602.0,10603.0,10604.0,10605.0,10606.0,10607.0,10608.0,10609.0,10610.0,10611.0,10612.0,10613.0,10614.0,10615.0,10616.0,10617.0,10618.0,10619.0,10620.0,10621.0,10622.0,10623.0,10624.0,10625.0,10626.0,10627.0,10628.0,10629.0,10630.0,10631.0,10632.0,10633.0,10634.0,10635.0,10636.0,10637.0,10638.0,10639.0,10640.0,10641.0,10642.0,10643.0,10644.0,10645.0,10646.0,10647.0,10648.0,10649.0,10650.0,10651.0,10652.0,10653.0,10654.0,10655.0,10656.0,10657.0,10658.0,10659.0,10660.0,10661.0,10662.0,10663.0,10664.0,10665.0,10666.0,10667.0,10668.0,10669.0,10670.0,10671.0,10672.0,10673.0,10674.0,10675.0,10676.0,10677.0,10678.0,10679.0,10680.0,10681.0,10682.0,10683.0,10684.0,10685.0,10686.0,10687.0,10688.0,10689.0,10690.0,10691.0,10692.0,10693.0,10694.0,10695.0,10696.0,10697.0,10698.0,10699.0,10700.0,10701.0,10702.0,10703.0,10704.0,10705.0,10706.0,10707.0,10708.0,10709.0,10710.0,10711.0,10712.0,10713.0,10714.0,10715.0,10716.0,10717.0,10718.0,10719.0,10720.0,10721.0,10722.0,10723.0,10724.0,10725.0,10726.0,10727.0,10728.0,10729.0,10730.0,10731.0,10732.0,10733.0,10734.0,10735.0,10736.0,10737.0,10738.0,10739.0,10740.0,10741.0,10742.0,10743.0,10744.0,10745.0,10746.0,10747.0,10748.0,10749.0,10750.0,10751.0,10752.0,10753.0,10754.0,10755.0,10756.0,10757.0,10758.0,10759.0,10760.0,10761.0,10762.0,10763.0,10764.0,10765.0,10766.0,10767.0,10768.0,10769.0,10770.0,10771.0,10772.0,10773.0,10774.0,10775.0,10776.0,10777.0,10778.0,10779.0,10780.0,10781.0,10782.0,10783.0,10784.0,10785.0,10786.0,10787.0,10788.0,10789.0,10790.0,10791.0,10792.0,10793.0,10794.0,10795.0,10796.0,10797.0,10798.0,10799.0,10800.0,10801.0,10802.0,10803.0,10804.0,10805.0,10806.0,10807.0,10808.0,10809.0,10810.0,10811.0,10812.0,10813.0,10814.0,10815.0,10816.0,10817.0,10818.0,10819.0,10820.0,10821.0,10822.0,10823.0,10824.0,10825.0,10826.0,10827.0,10828.0,10829.0,10830.0,10831.0,10832.0,10833.0,10834.0,10835.0,10836.0,10837.0,10838.0,10839.0,10840.0,10841.0,10842.0,10843.0,10844.0,10845.0,10846.0,10847.0,10848.0,10849.0,10850.0,10851.0,10852.0,10853.0,10854.0,10855.0,10856.0,10857.0,10858.0,10859.0,10860.0,10861.0,10862.0,10863.0,10864.0,10865.0,10866.0,10867.0,10868.0,10869.0,10870.0,10871.0,10872.0,10873.0,10874.0,10875.0,10876.0,10877.0,10878.0,10879.0,10880.0,10881.0,10882.0,10883.0,10884.0,10885.0,10886.0,10887.0,10888.0,10889.0,10890.0,10891.0,10892.0,10893.0,10894.0,10895.0,10896.0,10897.0,10898.0,10899.0,10900.0,10901.0,10902.0,10903.0,10904.0,10905.0,10906.0,10907.0,10908.0,10909.0,10910.0,10911.0,10912.0,10913.0,10914.0,10915.0,10916.0,10917.0,10918.0,10919.0,10920.0,10921.0,10922.0,10923.0,10924.0,10925.0,10926.0,10927.0,10928.0,10929.0,10930.0,10931.0,10932.0,10933.0,10934.0,10935.0,10936.0,10937.0,10938.0,10939.0,10940.0,10941.0,10942.0,10943.0,10944.0,10945.0,10946.0,10947.0,10948.0,10949.0,10950.0,10951.0,10952.0,10953.0,10954.0,10955.0,10956.0,10957.0,10958.0,10959.0,10960.0,10961.0,10962.0,10963.0,10964.0,10965.0,10966.0,10967.0,10968.0,10969.0,10970.0,10971.0,10972.0,10973.0,10974.0,10975.0,10976.0,10977.0,10978.0,10979.0,10980.0,10981.0,10982.0,10983.0,10984.0,10985.0,10986.0,10987.0,10988.0,10989.0,10990.0,10991.0,10992.0,10993.0,10994.0,10995.0,10996.0,10997.0,10998.0,10999.0,11000.0,11001.0,11002.0,11003.0,11004.0,11005.0,11006.0,11007.0,11008.0,11009.0,11010.0,11011.0,11012.0,11013.0,11014.0,11015.0,11016.0,11017.0,11018.0,11019.0,11020.0,11021.0,11022.0,11023.0,11024.0,11025.0,11026.0,11027.0,11028.0,11029.0,11030.0,11031.0,11032.0,11033.0,11034.0,11035.0,11036.0,11037.0,11038.0,11039.0,11040.0,11041.0,11042.0,11043.0,11044.0,11045.0,11046.0,11047.0,11048.0,11049.0,11050.0,11051.0,11052.0,11053.0,11054.0,11055.0,11056.0,11057.0,11058.0,11059.0,11060.0,11061.0,11062.0,11063.0,11064.0,11065.0,11066.0,11067.0,11068.0,11069.0,11070.0,11071.0,11072.0,11073.0,11074.0,11075.0,11076.0,11077.0,11078.0,11079.0,11080.0,11081.0,11082.0,11083.0,11084.0,11085.0,11086.0,11087.0,11088.0,11089.0,11090.0,11091.0,11092.0,11093.0,11094.0,11095.0,11096.0,11097.0,11098.0,11099.0,11100.0,11101.0,11102.0,11103.0,11104.0,11105.0,11106.0,11107.0,11108.0,11109.0,11110.0,11111.0,11112.0,11113.0,11114.0,11115.0,11116.0,11117.0,11118.0,11119.0,11120.0,11121.0,11122.0,11123.0,11124.0,11125.0,11126.0,11127.0,11128.0,11129.0,11130.0,11131.0,11132.0,11133.0,11134.0,11135.0,11136.0,11137.0,11138.0,11139.0,11140.0,11141.0,11142.0,11143.0,11144.0,11145.0,11146.0,11147.0,11148.0,11149.0,11150.0,11151.0,11152.0,11153.0,11154.0,11155.0,11156.0,11157.0,11158.0,11159.0,11160.0,11161.0,11162.0,11163.0,11164.0,11165.0,11166.0,11167.0,11168.0,11169.0,11170.0,11171.0,11172.0,11173.0,11174.0,11175.0,11176.0,11177.0,11178.0,11179.0,11180.0,11181.0,11182.0,11183.0,11184.0,11185.0,11186.0,11187.0,11188.0,11189.0,11190.0,11191.0,11192.0,11193.0,11194.0,11195.0,11196.0,11197.0,11198.0,11199.0,11200.0,11201.0,11202.0,11203.0,11204.0,11205.0,11206.0,11207.0,11208.0,11209.0,11210.0,11211.0,11212.0,11213.0,11214.0,11215.0,11216.0,11217.0,11218.0,11219.0,11220.0,11221.0,11222.0,11223.0,11224.0,11225.0,11226.0,11227.0,11228.0,11229.0,11230.0,11231.0,11232.0,11233.0,11234.0,11235.0,11236.0,11237.0,11238.0,11239.0,11240.0,11241.0,11242.0,11243.0,11244.0,11245.0,11246.0,11247.0,11248.0,11249.0,11250.0,11251.0,11252.0,11253.0,11254.0,11255.0,11256.0,11257.0,11258.0,11259.0,11260.0,11261.0,11262.0,11263.0,11264.0,11265.0,11266.0,11267.0,11268.0,11269.0,11270.0,11271.0,11272.0,11273.0,11274.0,11275.0,11276.0,11277.0,11278.0,11279.0,11280.0,11281.0,11282.0,11283.0,11284.0,11285.0,11286.0,11287.0,11288.0,11289.0,11290.0,11291.0,11292.0,11293.0,11294.0,11295.0,11296.0,11297.0,11298.0,11299.0,11300.0,11301.0,11302.0,11303.0,11304.0,11305.0,11306.0,11307.0,11308.0,11309.0,11310.0,11311.0,11312.0,11313.0,11314.0,11315.0,11316.0,11317.0,11318.0,11319.0,11320.0,11321.0,11322.0,11323.0,11324.0,11325.0,11326.0,11327.0,11328.0,11329.0,11330.0,11331.0,11332.0,11333.0,11334.0,11335.0,11336.0,11337.0,11338.0,11339.0,11340.0,11341.0,11342.0,11343.0,11344.0,11345.0,11346.0,11347.0,11348.0,11349.0,11350.0,11351.0,11352.0,11353.0,11354.0,11355.0,11356.0,11357.0,11358.0,11359.0,11360.0,11361.0,11362.0,11363.0,11364.0,11365.0,11366.0,11367.0,11368.0,11369.0,11370.0,11371.0,11372.0,11373.0,11374.0,11375.0,11376.0,11377.0,11378.0,11379.0,11380.0,11381.0,11382.0,11383.0,11384.0,11385.0,11386.0,11387.0,11388.0,11389.0,11390.0,11391.0,11392.0,11393.0,11394.0,11395.0,11396.0,11397.0,11398.0,11399.0,11400.0,11401.0,11402.0,11403.0,11404.0,11405.0,11406.0,11407.0,11408.0,11409.0,11410.0,11411.0,11412.0,11413.0,11414.0,11415.0,11416.0,11417.0,11418.0,11419.0,11420.0,11421.0,11422.0,11423.0,11424.0,11425.0,11426.0,11427.0,11428.0,11429.0,11430.0,11431.0,11432.0,11433.0,11434.0,11435.0,11436.0,11437.0,11438.0,11439.0,11440.0,11441.0,11442.0,11443.0,11444.0,11445.0,11446.0,11447.0,11448.0,11449.0,11450.0,11451.0,11452.0,11453.0,11454.0,11455.0,11456.0,11457.0,11458.0,11459.0,11460.0,11461.0,11462.0,11463.0,11464.0,11465.0,11466.0,11467.0,11468.0,11469.0,11470.0,11471.0,11472.0,11473.0,11474.0,11475.0,11476.0,11477.0,11478.0,11479.0,11480.0,11481.0,11482.0,11483.0,11484.0,11485.0,11486.0,11487.0,11488.0,11489.0,11490.0,11491.0,11492.0,11493.0,11494.0,11495.0,11496.0,11497.0,11498.0,11499.0,11500.0,11501.0,11502.0,11503.0,11504.0,11505.0,11506.0,11507.0,11508.0,11509.0,11510.0,11511.0,11512.0,11513.0,11514.0,11515.0,11516.0,11517.0,11518.0,11519.0,11520.0,11521.0,11522.0,11523.0,11524.0,11525.0,11526.0,11527.0,11528.0,11529.0,11530.0,11531.0,11532.0,11533.0,11534.0,11535.0,11536.0,11537.0,11538.0,11539.0,11540.0,11541.0,11542.0,11543.0,11544.0,11545.0,11546.0,11547.0,11548.0,11549.0,11550.0,11551.0,11552.0,11553.0,11554.0,11555.0,11556.0,11557.0,11558.0,11559.0,11560.0,11561.0,11562.0,11563.0,11564.0,11565.0,11566.0,11567.0,11568.0,11569.0,11570.0,11571.0,11572.0,11573.0,11574.0,11575.0,11576.0,11577.0,11578.0,11579.0,11580.0,11581.0,11582.0,11583.0,11584.0,11585.0,11586.0,11587.0,11588.0,11589.0,11590.0,11591.0,11592.0,11593.0,11594.0,11595.0,11596.0,11597.0,11598.0,11599.0,11600.0,11601.0,11602.0,11603.0,11604.0,11605.0,11606.0,11607.0,11608.0,11609.0,11610.0,11611.0,11612.0,11613.0,11614.0,11615.0,11616.0,11617.0,11618.0,11619.0,11620.0,11621.0,11622.0,11623.0,11624.0,11625.0,11626.0,11627.0,11628.0,11629.0,11630.0,11631.0,11632.0,11633.0,11634.0,11635.0,11636.0,11637.0,11638.0,11639.0,11640.0,11641.0,11642.0,11643.0,11644.0,11645.0,11646.0,11647.0,11648.0,11649.0,11650.0,11651.0,11652.0,11653.0,11654.0,11655.0,11656.0,11657.0,11658.0,11659.0,11660.0,11661.0,11662.0,11663.0,11664.0,11665.0,11666.0,11667.0,11668.0,11669.0,11670.0,11671.0,11672.0,11673.0,11674.0,11675.0,11676.0,11677.0,11678.0,11679.0,11680.0,11681.0,11682.0,11683.0,11684.0,11685.0,11686.0,11687.0,11688.0,11689.0,11690.0,11691.0,11692.0,11693.0,11694.0,11695.0,11696.0,11697.0,11698.0,11699.0,11700.0,11701.0,11702.0,11703.0,11704.0,11705.0,11706.0,11707.0,11708.0,11709.0,11710.0,11711.0,11712.0,11713.0,11714.0,11715.0,11716.0,11717.0,11718.0,11719.0,11720.0,11721.0,11722.0,11723.0,11724.0,11725.0,11726.0,11727.0,11728.0,11729.0,11730.0,11731.0,11732.0,11733.0,11734.0,11735.0,11736.0,11737.0,11738.0,11739.0,11740.0,11741.0,11742.0,11743.0,11744.0,11745.0,11746.0,11747.0,11748.0,11749.0,11750.0,11751.0,11752.0,11753.0,11754.0,11755.0,11756.0,11757.0,11758.0,11759.0,11760.0,11761.0,11762.0,11763.0,11764.0,11765.0,11766.0,11767.0,11768.0,11769.0,11770.0,11771.0,11772.0,11773.0,11774.0,11775.0,11776.0,11777.0,11778.0,11779.0,11780.0,11781.0,11782.0,11783.0,11784.0,11785.0,11786.0,11787.0,11788.0,11789.0,11790.0,11791.0,11792.0,11793.0,11794.0,11795.0,11796.0,11797.0,11798.0,11799.0,11800.0,11801.0,11802.0,11803.0,11804.0,11805.0,11806.0,11807.0,11808.0,11809.0,11810.0,11811.0,11812.0,11813.0,11814.0,11815.0,11816.0,11817.0,11818.0,11819.0,11820.0,11821.0,11822.0,11823.0,11824.0,11825.0,11826.0,11827.0,11828.0,11829.0,11830.0,11831.0,11832.0,11833.0,11834.0,11835.0,11836.0,11837.0,11838.0,11839.0,11840.0,11841.0,11842.0,11843.0,11844.0,11845.0,11846.0,11847.0,11848.0,11849.0,11850.0,11851.0,11852.0,11853.0,11854.0,11855.0,11856.0,11857.0,11858.0,11859.0,11860.0,11861.0,11862.0,11863.0,11864.0,11865.0,11866.0,11867.0,11868.0,11869.0,11870.0,11871.0,11872.0,11873.0,11874.0,11875.0,11876.0,11877.0,11878.0,11879.0,11880.0,11881.0,11882.0,11883.0,11884.0,11885.0,11886.0,11887.0,11888.0,11889.0,11890.0,11891.0,11892.0,11893.0,11894.0,11895.0,11896.0,11897.0,11898.0,11899.0,11900.0,11901.0,11902.0,11903.0,11904.0,11905.0,11906.0,11907.0,11908.0,11909.0,11910.0,11911.0,11912.0,11913.0,11914.0,11915.0,11916.0,11917.0,11918.0,11919.0,11920.0,11921.0,11922.0,11923.0,11924.0,11925.0,11926.0,11927.0,11928.0,11929.0,11930.0,11931.0,11932.0,11933.0,11934.0,11935.0,11936.0,11937.0,11938.0,11939.0,11940.0,11941.0,11942.0,11943.0,11944.0,11945.0,11946.0,11947.0,11948.0,11949.0,11950.0,11951.0,11952.0,11953.0,11954.0,11955.0,11956.0,11957.0,11958.0,11959.0,11960.0,11961.0,11962.0,11963.0,11964.0,11965.0,11966.0,11967.0,11968.0,11969.0,11970.0,11971.0,11972.0,11973.0,11974.0,11975.0,11976.0,11977.0,11978.0,11979.0,11980.0,11981.0,11982.0,11983.0,11984.0,11985.0,11986.0,11987.0,11988.0,11989.0,11990.0,11991.0,11992.0,11993.0,11994.0,11995.0,11996.0,11997.0,11998.0,11999.0,12000.0,12001.0,12002.0,12003.0,12004.0,12005.0,12006.0,12007.0,12008.0,12009.0,12010.0,12011.0,12012.0,12013.0,12014.0,12015.0,12016.0,12017.0,12018.0,12019.0,12020.0,12021.0,12022.0,12023.0,12024.0,12025.0,12026.0,12027.0,12028.0,12029.0,12030.0,12031.0,12032.0,12033.0,12034.0,12035.0,12036.0,12037.0,12038.0,12039.0,12040.0,12041.0,12042.0,12043.0,12044.0,12045.0,12046.0,12047.0,12048.0,12049.0,12050.0,12051.0,12052.0,12053.0,12054.0,12055.0,12056.0,12057.0,12058.0,12059.0,12060.0,12061.0,12062.0,12063.0,12064.0,12065.0,12066.0,12067.0,12068.0,12069.0,12070.0,12071.0,12072.0,12073.0,12074.0,12075.0,12076.0,12077.0,12078.0,12079.0,12080.0,12081.0,12082.0,12083.0,12084.0,12085.0,12086.0,12087.0,12088.0,12089.0,12090.0,12091.0,12092.0,12093.0,12094.0,12095.0,12096.0,12097.0,12098.0,12099.0,12100.0,12101.0,12102.0,12103.0,12104.0,12105.0,12106.0,12107.0,12108.0,12109.0,12110.0,12111.0,12112.0,12113.0,12114.0,12115.0,12116.0,12117.0,12118.0,12119.0,12120.0,12121.0,12122.0,12123.0,12124.0,12125.0,12126.0,12127.0,12128.0,12129.0,12130.0,12131.0,12132.0,12133.0,12134.0,12135.0,12136.0,12137.0,12138.0,12139.0,12140.0,12141.0,12142.0,12143.0,12144.0,12145.0,12146.0,12147.0,12148.0,12149.0,12150.0,12151.0,12152.0,12153.0,12154.0,12155.0,12156.0,12157.0,12158.0,12159.0,12160.0,12161.0,12162.0,12163.0,12164.0,12165.0,12166.0,12167.0,12168.0,12169.0,12170.0,12171.0,12172.0,12173.0,12174.0,12175.0,12176.0,12177.0,12178.0,12179.0,12180.0,12181.0,12182.0,12183.0,12184.0,12185.0,12186.0,12187.0,12188.0,12189.0,12190.0,12191.0,12192.0,12193.0,12194.0,12195.0,12196.0,12197.0,12198.0,12199.0,12200.0,12201.0,12202.0,12203.0,12204.0,12205.0,12206.0,12207.0,12208.0,12209.0,12210.0,12211.0,12212.0,12213.0,12214.0,12215.0,12216.0,12217.0,12218.0,12219.0,12220.0,12221.0,12222.0,12223.0,12224.0,12225.0,12226.0,12227.0,12228.0,12229.0,12230.0,12231.0,12232.0,12233.0,12234.0,12235.0,12236.0,12237.0,12238.0,12239.0,12240.0,12241.0,12242.0,12243.0,12244.0,12245.0,12246.0,12247.0,12248.0,12249.0,12250.0,12251.0,12252.0,12253.0,12254.0,12255.0,12256.0,12257.0,12258.0,12259.0,12260.0,12261.0,12262.0,12263.0,12264.0,12265.0,12266.0,12267.0,12268.0,12269.0,12270.0,12271.0,12272.0,12273.0,12274.0,12275.0,12276.0,12277.0,12278.0,12279.0,12280.0,12281.0,12282.0,12283.0,12284.0,12285.0,12286.0,12287.0,12288.0,12289.0,12290.0,12291.0,12292.0,12293.0,12294.0,12295.0,12296.0,12297.0,12298.0,12299.0,12300.0,12301.0,12302.0,12303.0,12304.0,12305.0,12306.0,12307.0,12308.0,12309.0,12310.0,12311.0,12312.0,12313.0,12314.0,12315.0,12316.0,12317.0,12318.0,12319.0,12320.0,12321.0,12322.0,12323.0,12324.0,12325.0,12326.0,12327.0,12328.0,12329.0,12330.0,12331.0,12332.0,12333.0,12334.0,12335.0,12336.0,12337.0,12338.0,12339.0,12340.0,12341.0,12342.0,12343.0,12344.0,12345.0,12346.0,12347.0,12348.0,12349.0,12350.0,12351.0,12352.0,12353.0,12354.0,12355.0,12356.0,12357.0,12358.0,12359.0,12360.0,12361.0,12362.0,12363.0,12364.0,12365.0,12366.0,12367.0,12368.0,12369.0,12370.0,12371.0,12372.0,12373.0,12374.0,12375.0,12376.0,12377.0,12378.0,12379.0,12380.0,12381.0,12382.0,12383.0,12384.0,12385.0,12386.0,12387.0,12388.0,12389.0,12390.0,12391.0,12392.0,12393.0,12394.0,12395.0,12396.0,12397.0,12398.0,12399.0,12400.0,12401.0,12402.0,12403.0,12404.0,12405.0,12406.0,12407.0,12408.0,12409.0,12410.0,12411.0,12412.0,12413.0,12414.0,12415.0,12416.0,12417.0,12418.0,12419.0,12420.0,12421.0,12422.0,12423.0,12424.0,12425.0,12426.0,12427.0,12428.0,12429.0,12430.0,12431.0,12432.0,12433.0,12434.0,12435.0,12436.0,12437.0,12438.0,12439.0,12440.0,12441.0,12442.0,12443.0,12444.0,12445.0,12446.0,12447.0,12448.0,12449.0,12450.0,12451.0,12452.0,12453.0,12454.0,12455.0,12456.0,12457.0,12458.0,12459.0,12460.0,12461.0,12462.0,12463.0,12464.0,12465.0,12466.0,12467.0,12468.0,12469.0,12470.0,12471.0,12472.0,12473.0,12474.0,12475.0,12476.0,12477.0,12478.0,12479.0,12480.0,12481.0,12482.0,12483.0,12484.0,12485.0,12486.0,12487.0,12488.0,12489.0,12490.0,12491.0,12492.0,12493.0,12494.0,12495.0,12496.0,12497.0,12498.0,12499.0,12500.0,12501.0,12502.0,12503.0,12504.0,12505.0],\n",
       "\"train_loss\":[1.863350749015808,1.804699420928955,1.728894829750061,1.704511046409607,1.713696837425232,1.642457365989685,1.6365305185317993,1.4606419801712036,1.661118507385254,1.606138825416565,1.4711300134658813,1.4266291856765747,1.5081161260604858,1.7123111486434937,1.4561301469802856,1.513260841369629,1.3292529582977295,1.4349979162216187,1.416831374168396,1.492173194885254,1.1977239847183228,1.407425045967102,1.3488103151321411,1.3812819719314575,1.2436399459838867,1.2792900800704956,1.2748608589172363,1.4050627946853638,1.2179197072982788,1.0384511947631836,1.078398585319519,1.5966962575912476,1.5158461332321167,1.2255007028579712,1.341142177581787,1.177737832069397,1.22047758102417,1.236158013343811,1.2201390266418457,1.1686108112335205,1.183508038520813,1.3440192937850952,1.082671880722046,1.3001469373703003,1.2936134338378906,1.1840342283248901,0.9331886172294617,1.0595999956130981,1.055280089378357,1.173667550086975,1.233903408050537,1.2374639511108398,1.1792271137237549,0.9059944748878479,1.2198853492736816,0.9886400103569031,1.0563958883285522,0.8978152871131897,1.0008013248443604,1.047376275062561,1.1084258556365967,0.9021263718605042,1.0134118795394897,1.0369751453399658,1.039084553718567,1.0640040636062622,1.098201036453247,0.9250373244285583,0.9545152187347412,1.0477443933486938,1.0782524347305298,0.6466569900512695,0.9811184406280518,0.8404505252838135,0.9846267700195313,1.0553780794143677,0.7502050399780273,0.9334250092506409,1.172455906867981,0.8547539114952087,0.9886102676391602,0.8024079203605652,0.6119371056556702,0.7963283061981201,0.8294475078582764,0.5842540264129639,0.5228205323219299,0.5964505076408386,0.714928150177002,0.5675028562545776,0.4786817133426666,0.6844668388366699,0.623326301574707,0.6563040614128113,0.4671018421649933,0.5774871110916138,0.46730169653892517,0.5219830870628357,0.607803463935852,0.4875948131084442,0.4678690433502197,0.6404419541358948,0.3580568730831146,0.5119683742523193,0.5473769307136536,0.39682653546333313,0.5486292243003845,0.5137472748756409,0.6561554670333862,0.4642695188522339,0.4948841631412506,0.29822924733161926,0.6519469618797302,0.6138424873352051,0.5038344264030457,0.4618612825870514,0.5674381256103516,0.39574217796325684,0.36723124980926514,0.5444252490997314,0.48063015937805176,0.4891485273838043,0.6689701676368713,0.4746668338775635,0.563567042350769,0.5334710478782654,0.4598355293273926,0.3747563362121582,0.6331039071083069,0.42691290378570557,0.35780808329582214,0.5504408478736877,0.39760324358940125,0.5827787518501282,0.6502797603607178,0.44513168931007385,0.42721498012542725,0.4101680517196655,0.40573838353157043,0.40395012497901917,0.6492801904678345,0.25964322686195374,0.29154813289642334,0.37062618136405945,0.37358787655830383,0.5374518036842346,0.30150195956230164,0.2924874424934387,0.18174880743026733,0.32288262248039246,0.30759745836257935,0.29915308952331543,0.21783886849880219,0.40183523297309875,0.3156563639640808,0.4063033163547516,0.3423464000225067,0.29529842734336853,0.33331236243247986,0.26264920830726624,0.4056483209133148,0.24806489050388336,0.2805021107196808,0.18424268066883087,0.3268146812915802,0.3526035249233246,0.22237880527973175,0.4493311643600464,0.40206632018089294,0.39959967136383057,0.31839093565940857,0.25976040959358215,0.18011750280857086,0.29150381684303284,0.13552434742450714,0.20575636625289917,0.5433109998703003,0.27955183386802673,0.2664976418018341,0.21307682991027832,0.45555803179740906,0.1654585897922516,0.31565552949905396,0.27680373191833496,0.17035424709320068,0.1645153909921646,0.09655139595270157,0.2101474404335022,0.4867037236690521,0.153861865401268,0.36974191665649414,0.3446214497089386,0.3186728060245514,0.1928766965866089,0.2734677493572235,0.2791057527065277,0.2784791588783264,0.2450786828994751,0.18044070899486542,0.30477431416511536,0.3123524785041809,0.2465803623199463,0.29391181468963623,0.12825404107570648,0.15825629234313965,0.4579418897628784,0.2956342399120331,0.20679424703121185,0.3392839729785919,0.198963925242424,0.23689959943294525,0.1777525693178177,0.33099886775016785,0.22845101356506348,0.13318654894828796,0.137316033244133,0.31480875611305237,0.2309679538011551,0.18804340064525604,0.08455291390419006,0.2714160680770874,0.1382305920124054,0.15656952559947968,0.33115828037261963,0.2863241136074066,0.20655040442943573,0.3743164837360382,0.219411239027977,0.16383831202983856,0.45376500487327576,0.09370926022529602,0.2128710150718689,0.2793739438056946,0.21142776310443878,0.19793833792209625,0.19389872252941132,0.16103583574295044,0.2679326832294464,0.24102121591567993,0.16283228993415833,0.16770607233047485,0.26849040389060974,0.3513955771923065,0.35949066281318665,0.3033030331134796,0.27348101139068604,0.2389194518327713,0.10292601585388184,0.4289620816707611,0.19021694362163544,0.1105915978550911,0.20058371126651764,0.23419015109539032,0.1987582892179489,0.18201844394207,0.20686078071594238,0.1544950157403946,0.1313740611076355,0.09852655977010727,0.24119721353054047,0.21971116960048676,0.145508274435997,0.14708943665027618,0.1195380762219429,0.18292416632175446,0.18657881021499634,0.23296283185482025,0.46231651306152344,0.21985185146331787,0.3137710392475128,0.1808450073003769,0.2616373598575592,0.08281657844781876,0.2861803472042084,0.3005739152431488,0.12265189737081528,0.19909174740314484,0.17935298383235931,0.2799907624721527,0.1258791834115982,0.1476360410451889,0.0865757167339325,0.24724124372005463,0.2375541478395462,0.32575878500938416,0.20814573764801025,0.3084034323692322,0.26956284046173096,0.07873090356588364,0.1521681398153305,0.1505570113658905,0.2667122483253479,0.31438666582107544,0.24998237192630768,0.14652587473392487,0.21154676377773285,0.44750848412513733,0.18788683414459229,0.28272709250450134,0.22200126945972443,0.35132941603660583,0.15668603777885437,0.24669486284255981,0.10784178972244263,0.19952033460140228,0.1895902007818222,0.21449755132198334,0.1281851977109909,0.1345752626657486,0.17435187101364136,0.2516952157020569,0.10479125380516052,0.0718265250325203,0.26859211921691895,0.23107774555683136,0.19921918213367462,0.2020016461610794,0.14697684347629547,0.30117067694664,0.12272071093320847,0.1681041717529297,0.5446069836616516,0.3106321394443512,0.2812085449695587,0.2946261465549469,0.20190031826496124,0.19512729346752167,0.27924877405166626,0.11965297907590866,0.1970357894897461,0.2830294370651245,0.13255974650382996,0.12743057310581207,0.23802019655704498,0.2819858491420746,0.45066705346107483,0.18890635669231415,0.11424658447504044,0.1362691968679428,0.07124684005975723,0.10725859552621841,0.2185393124818802,0.10236623883247375,0.10146334767341614,0.1241578459739685,0.21496637165546417,0.07065000385046005,0.2477596253156662,0.2659502923488617,0.15233422815799713,0.13766250014305115,0.23404572904109955,0.20645493268966675,0.31873175501823425,0.17122022807598114,0.11957422643899918,0.22480438649654388,0.19488359987735748,0.10421871393918991,0.11712949723005295,0.06502869725227356,0.18753080070018768,0.09872523695230484,0.20843853056430817,0.14160601794719696,0.21845309436321259,0.21576690673828125,0.12210026383399963,0.10777250677347183,0.20929481089115143,0.1791447401046753,0.25899285078048706,0.22646711766719818,0.1058112159371376,0.11074093729257584,0.1235387995839119,0.06748447567224503,0.25403082370758057,0.13914339244365692,0.13243620097637177,0.13628923892974854,0.35568490624427795,0.15233176946640015,0.21587394177913666,0.19484621286392212,0.1217333972454071,0.24049101769924164,0.20384667813777924,0.08597812801599503,0.19196639955043793,0.13582241535186768,0.30082374811172485,0.25044509768486023,0.4523491859436035,0.10818781703710556,0.28383132815361023,0.10632266849279404,0.22258241474628448,0.1273203045129776,0.15923359990119934,0.09590067714452744,0.2240094095468521,0.11999072879552841,0.30087071657180786,0.2847106456756592,0.05947670713067055,0.08931479603052139,0.19177955389022827,0.03519352898001671,0.04592493176460266,0.3013787269592285,0.10003379732370377,0.187547966837883,0.10505399107933044,0.0988650992512703,0.2407332807779312,0.19673486053943634,0.3397617042064667,0.31850680708885193,0.15482081472873688,0.12005864828824997,0.26707765460014343,0.11601737141609192,0.053534600883722305,0.11265650391578674,0.13003496825695038,0.15142308175563812,0.14562252163887024,0.15625731647014618,0.1189119815826416,0.08648841828107834,0.07128852605819702,0.2686617076396942,0.30744102597236633,0.2125728726387024,0.1963917464017868,0.13089220225811005,0.31879904866218567,0.07305628061294556,0.22976255416870117,0.18677525222301483,0.1885346621274948,0.093992680311203,0.17713980376720428,0.18771107494831085,0.17995542287826538,0.1603945791721344,0.2068280428647995,0.14798583090305328,0.14030039310455322,0.11003009229898453,0.12285976856946945,0.1077808141708374,0.15920469164848328,0.11308929324150085,0.10798079520463943,0.05816444754600525,0.256208211183548,0.11317712068557739,0.1996859461069107,0.02551070787012577,0.08563822507858276,0.17710107564926147,0.11764337867498398,0.16172172129154205,0.06528401374816895,0.18569310009479523,0.18429438769817352,0.04754705727100372,0.26994264125823975,0.18070538341999054,0.16659587621688843,0.1681479960680008,0.10592285543680191,0.11367688328027725,0.14509741961956024,0.11186615377664566,0.13040859997272491,0.1167607232928276,0.03600657358765602,0.08376186341047287,0.17797912657260895,0.2212638109922409,0.14513899385929108,0.1949547976255417,0.07744602113962173,0.1433636099100113,0.1571296900510788,0.1115468218922615,0.08007048070430756,0.1018734872341156,0.09169770032167435,0.0785534605383873,0.19970263540744781,0.2698058485984802,0.12074635177850723,0.2983527183532715,0.1520799845457077,0.21033638715744019,0.09808775037527084,0.15307897329330444,0.15965968370437622,0.09317970275878906,0.2047378420829773,0.2186717540025711,0.18503695726394653,0.18455077707767487,0.1538287252187729,0.08936359733343124,0.16395269334316254,0.10472077131271362,0.1656169444322586,0.11940259486436844,0.0956818163394928,0.21104401350021362,0.15810024738311768,0.042604029178619385,0.1657354086637497,0.2193669080734253,0.19494116306304932,0.15391333401203156,0.06912185251712799,0.1389867663383484,0.11291738599538803,0.08524143695831299,0.08959612995386124,0.08532018214464188,0.2981555163860321,0.20707207918167114,0.06943952292203903,0.2541278302669525,0.05150741711258888,0.04471578076481819,0.12550123035907745,0.16984210908412933,0.031047888100147247,0.14714744687080383,0.02763940393924713,0.13383324444293976,0.14290399849414825,0.14560480415821075,0.08518116921186447,0.08887293189764023,0.09266380220651627,0.2127227634191513,0.07362814992666245,0.17317341268062592,0.16452805697917938,0.08168185502290726,0.2129804939031601,0.3624174892902374,0.1280975192785263,0.13752499222755432,0.052693117409944534,0.053604770451784134,0.291741281747818,0.1309634894132614,0.11346090584993362,0.17258071899414063,0.20915085077285767,0.14426158368587494,0.2947618067264557,0.10626066476106644,0.030312025919556618,0.05096471682190895,0.10610296577215195,0.2051624208688736,0.32465073466300964,0.1427314728498459,0.25825002789497375,0.19287584722042084,0.31298813223838806,0.15453653037548065,0.10226583480834961,0.08176897466182709,0.06680116802453995,0.15161262452602386,0.0984753742814064,0.24774791300296783,0.09585066884756088,0.10819553583860397,0.10896291583776474,0.25581541657447815,0.1510021835565567,0.2117091864347458,0.15091167390346527,0.10633242875337601,0.10827130079269409,0.1574374884366989,0.10688596963882446,0.20213396847248077,0.117552749812603,0.20626991987228394,0.1674511879682541,0.1803155094385147,0.14329709112644196,0.3432558476924896,0.10548431426286697,0.195512056350708,0.19900302588939667,0.10252013057470322,0.15519700944423676,0.15417973697185516,0.14376230537891388,0.09646669030189514,0.14499826729297638,0.055395666509866714,0.1681937575340271,0.2815040051937103,0.2547997832298279,0.24297069013118744,0.27720537781715393,0.07938084751367569,0.17992442846298218,0.11690852046012878,0.10162383317947388,0.25686874985694885,0.20202971994876862,0.12330744415521622,0.041727080941200256,0.22024302184581757,0.06877974420785904,0.06431106477975845,0.06798259168863297,0.150736466050148,0.26990029215812683,0.21613173186779022,0.1812182515859604,0.1329873651266098,0.15091972053050995,0.09185594320297241,0.07363435626029968,0.16179633140563965,0.06921283900737762,0.09756899625062943,0.15676847100257874,0.15669605135917664,0.11501006036996841,0.07903396338224411,0.22909486293792725,0.2548210322856903,0.21495647728443146,0.24714811146259308,0.11883097887039185,0.044455379247665405,0.09891361743211746,0.10435611754655838,0.14516617357730865,0.13456398248672485,0.14861612021923065,0.23202593624591827,0.11138424277305603,0.18512725830078125,0.17928571999073029,0.12254738062620163,0.2588036358356476,0.1464255005121231,0.16738997399806976,0.19826805591583252,0.07591619342565536,0.10040131956338882,0.05901649221777916,0.08632636815309525,0.21872492134571075,0.1359742432832718,0.09805683046579361,0.20167917013168335,0.1584302932024002,0.162380188703537,0.1159835234284401,0.2140415906906128,0.1677948236465454,0.08825265616178513,0.09525766223669052,0.19280749559402466,0.16724707186222076,0.0968632623553276,0.205616295337677,0.10601489990949631,0.12398984283208847,0.24142105877399445,0.06280924379825592,0.20590947568416595,0.152395099401474,0.23315025866031647,0.08175160735845566,0.13596831262111664,0.18967998027801514,0.22266443073749542,0.14830675721168518,0.17911195755004883,0.08572071045637131,0.05983748659491539,0.21617643535137177,0.11595050245523453,0.15244486927986145,0.180672749876976,0.296221524477005,0.21046082675457,0.1643923670053482,0.12679965794086456,0.17545048892498016,0.20276601612567902,0.14793969690799713,0.11169976741075516,0.14951448142528534,0.1473074108362198,0.1797320395708084,0.07209667563438416,0.17294836044311523,0.09652826189994812,0.09619937092065811,0.2933262586593628,0.12418192625045776,0.1579190045595169,0.0501539409160614,0.16946499049663544,0.17908267676830292,0.08442539721727371,0.08014407753944397,0.204514279961586,0.16756677627563477,0.09288657456636429,0.0887107327580452,0.15997734665870667,0.15131597220897675,0.19399893283843994,0.18444813787937164,0.1944960355758667,0.08720153570175171,0.10034185647964478,0.11726564913988113,0.18599210679531097,0.10579300671815872,0.035764310508966446,0.17138099670410156,0.08319801092147827,0.16506564617156982,0.031075621023774147,0.1229836568236351,0.1292516142129898,0.23392969369888306,0.11583434790372849,0.11314403265714645,0.3128083050251007,0.2144983410835266,0.09592955559492111,0.17242757976055145,0.2136254757642746,0.06451165676116943,0.12840579450130463,0.09471999853849411,0.11815342307090759,0.05064829811453819,0.1393713355064392,0.15755398571491241,0.1929015964269638,0.07191018015146255,0.12021609395742416,0.22145891189575195,0.21645022928714752,0.14407797157764435,0.13278190791606903,0.16693437099456787,0.0582820363342762,0.1007925495505333,0.1933508962392807,0.06096790358424187,0.0505601204931736,0.2501085102558136,0.21005785465240479,0.09642500430345535,0.10768701881170273,0.16396655142307281,0.05356241762638092,0.09259671717882156,0.04598844423890114,0.1571558266878128,0.14541740715503693,0.1079876497387886,0.27399271726608276,0.15395306050777435,0.34806230664253235,0.1319240927696228,0.09706654399633408,0.08331482857465744,0.15116631984710693,0.12436243146657944,0.0736149474978447,0.1422484964132309,0.21029095351696014,0.0913376584649086,0.29484111070632935,0.0700061097741127,0.06150310859084129,0.034229304641485214,0.11844304203987122,0.14739671349525452,0.23381567001342773,0.12999726831912994,0.11911354213953018,0.04778590425848961,0.2628742754459381,0.17878426611423492,0.06694084405899048,0.08633188158273697,0.09625458717346191,0.16629979014396667,0.09895825386047363,0.1544441431760788,0.2606205344200134,0.0692247673869133,0.10348391532897949,0.1363019049167633,0.07449062168598175,0.11833950132131577,0.17224609851837158,0.3781755864620209,0.13523204624652863,0.2907429337501526,0.2558709979057312,0.13929687440395355,0.15512654185295105,0.1075715497136116,0.12241459637880325,0.18510852754116058,0.11503206938505173,0.10676959902048111,0.23583461344242096,0.13001471757888794,0.14703337848186493,0.14115267992019653,0.11788749694824219,0.1501481682062149,0.12357764691114426,0.27937713265419006,0.08428242802619934,0.15559086203575134,0.05709090828895569,0.14282941818237305,0.12123429775238037,0.20154167711734772,0.23068881034851074,0.1799749881029129,0.08627227693796158,0.13264788687229156,0.2706216275691986,0.0646023228764534,0.16735708713531494,0.2016119807958603,0.13319461047649384,0.10187328606843948,0.07017148286104202,0.1221945658326149,0.09586959332227707,0.13155430555343628,0.07158850133419037,0.10044776648283005,0.24293090403079987,0.12980462610721588,0.06762082129716873,0.04417260363698006,0.13053268194198608,0.099967360496521,0.13612933456897736,0.12288638949394226,0.08636900782585144,0.15232226252555847,0.11444950848817825,0.125604510307312,0.19367587566375732,0.13969887793064117,0.09458800405263901,0.19494576752185822,0.2057727575302124,0.06658779829740524,0.042435839772224426,0.109209805727005,0.16423451900482178,0.09995034337043762,0.08851200342178345,0.19589930772781372,0.0886954739689827,0.18419848382472992,0.04223496839404106,0.11732706427574158,0.11866793781518936,0.07989951223134995,0.073988176882267,0.1682317852973938,0.11221548169851303,0.13349150121212006,0.12205401808023453,0.10152045637369156,0.12758813798427582,0.0910753384232521,0.20024102926254272,0.13815610110759735,0.16635029017925262,0.14125467836856842,0.16574089229106903,0.06886384636163712,0.1292770653963089,0.07940245419740677,0.042549747973680496,0.1454172432422638,0.04431149363517761,0.07190006226301193,0.13532285392284393,0.13731209933757782,0.09932165592908859,0.1156582459807396,0.08972787111997604,0.08388923853635788,0.0893622413277626,0.05328146740794182,0.12380165606737137,0.12874531745910645,0.11854702234268188,0.13426320254802704,0.13553886115550995,0.0782671719789505,0.16222460567951202,0.24784338474273682,0.0708862692117691,0.13357512652873993,0.04036545380949974,0.12132316082715988,0.09169042855501175,0.1027589738368988,0.10915261507034302,0.10277657955884933,0.16340698301792145,0.16215911507606506,0.18575946986675262,0.10587397962808609,0.11824653297662735,0.1682979017496109,0.16548500955104828,0.2406054586172104,0.10818362236022949,0.13867928087711334,0.026573002338409424,0.06351467967033386,0.12221140414476395,0.038274168968200684,0.05891841650009155,0.03863540664315224,0.16762031614780426,0.04294338822364807,0.07255471497774124,0.179881751537323,0.10334435105323792,0.18074537813663483,0.10807422548532486,0.05848516896367073,0.21156631410121918,0.1798676997423172,0.19200462102890015,0.07656455039978027,0.12100733071565628,0.095631904900074,0.10266128927469254,0.09562792629003525,0.2797492444515228,0.02823418565094471,0.1350993812084198,0.14922040700912476,0.12172257900238037,0.19984620809555054,0.044580791145563126,0.121926449239254,0.2550843060016632,0.18854986131191254,0.020321762189269066,0.14448250830173492,0.0643095001578331,0.14044508337974548,0.14741577208042145,0.08605208247900009,0.1497071087360382,0.0907442644238472,0.08170395344495773,0.08318118005990982,0.14329010248184204,0.0402677021920681,0.073078453540802,0.11263719946146011,0.18302905559539795,0.04966017231345177,0.10710296034812927,0.11168304830789566,0.09288395196199417,0.24246565997600555,0.07316692918539047,0.1659580022096634,0.08816332370042801,0.044215962290763855,0.08186068385839462,0.12708447873592377,0.046065930277109146,0.07066547870635986,0.044596344232559204,0.041239604353904724,0.20570655167102814,0.12834511697292328,0.1311933547258377,0.11329275369644165,0.1400061696767807,0.05736264958977699,0.2108869105577469,0.11633384972810745,0.15754292905330658,0.15141721069812775,0.07105885446071625,0.04149289056658745,0.12716709077358246,0.11820656806230545,0.058570295572280884,0.10654222965240479,0.0652381181716919,0.1557072550058365,0.1262650489807129,0.09178531914949417,0.04617561772465706,0.21885830163955688,0.10911324620246887,0.05834134295582771,0.13188059628009796,0.2490275502204895,0.20123977959156036,0.0860912874341011,0.09289336204528809,0.2130647897720337,0.12101054191589355,0.13614721596240997,0.10587665438652039,0.07034087926149368,0.07494141906499863,0.08295178413391113,0.07313627749681473,0.16604991257190704,0.11545111984014511,0.16038689017295837,0.11079072207212448,0.050238024443387985,0.11316794902086258,0.1601978987455368,0.035853613168001175,0.06858902424573898,0.19600684940814972,0.14931321144104004,0.1446804702281952,0.11512181907892227,0.10583924502134323,0.17119699716567993,0.1297934353351593,0.06699005514383316,0.09944605827331543,0.16223067045211792,0.1611342430114746,0.13627858459949493,0.1754455715417862,0.09437448531389236,0.16987790167331696,0.11027204990386963,0.07825673371553421,0.09470342844724655,0.060657281428575516,0.06205074489116669,0.08109118044376373,0.13147352635860443,0.11265534907579422,0.15657925605773926,0.19064433872699738,0.22357505559921265,0.13838991522789001,0.04881100356578827,0.23849833011627197,0.079226553440094,0.18254666030406952,0.20175622403621674,0.1585405319929123,0.09421747922897339,0.07273711264133453,0.20221446454524994,0.11520308256149292,0.05268726870417595,0.14181144535541534,0.025312313809990883,0.0808890089392662,0.10413701087236404,0.13233314454555511,0.15337996184825897,0.15491266548633575,0.1714574098587036,0.10269635170698166,0.1622566431760788,0.09704587608575821,0.09459304809570313,0.080681212246418,0.12716196477413177,0.27318045496940613,0.12440470606088638,0.041868675500154495,0.08908311277627945,0.08433809876441956,0.06662484258413315,0.0745231881737709,0.2712334096431732,0.05110896751284599,0.04145042970776558,0.13012681901454926,0.19547247886657715,0.18756689131259918,0.01845008134841919,0.1343267560005188,0.11411833763122559,0.11632683128118515,0.11542481929063797,0.283773273229599,0.03808637708425522,0.14144785702228546,0.09881711006164551,0.08831407874822617,0.11490083485841751,0.2489417940378189,0.11138317734003067,0.08037617057561874,0.05238876864314079,0.07499542087316513,0.1802058070898056,0.13867370784282684,0.05683320760726929,0.08328256011009216,0.0354871042072773,0.1008380651473999,0.08090497553348541,0.24929587543010712,0.17329466342926025,0.03444763645529747,0.07412301748991013,0.1565881222486496,0.1555132418870926,0.10684043914079666,0.1084662601351738,0.11844486743211746,0.01000466663390398,0.1192740723490715,0.0719752162694931,0.2033994346857071,0.15633124113082886,0.22694897651672363,0.11915000528097153,0.05651703476905823,0.06571193039417267,0.16511379182338715,0.07601684331893921,0.05105205252766609,0.06969965994358063,0.08876973390579224,0.03008541651070118,0.09093492478132248,0.10863757878541946,0.04576216638088226,0.08957984298467636,0.17323903739452362,0.17624418437480927,0.035175569355487823,0.11769048124551773,0.2768844962120056,0.10569462925195694,0.14975787699222565,0.09922921657562256,0.0997118279337883,0.1692524403333664,0.0754568949341774,0.16926145553588867,0.14981278777122498,0.2297339290380478,0.07375480234622955,0.22719888389110565,0.0633218064904213,0.09972768276929855,0.05676521360874176,0.10893511027097702,0.06388506293296814,0.08015189319849014,0.037565432488918304,0.21410012245178223,0.15416447818279266,0.14911828935146332,0.15328644216060638,0.0948706865310669,0.08009660989046097,0.10270845144987106,0.202322855591774,0.06536824256181717,0.09962732344865799,0.07957132905721664,0.03627954050898552,0.1500169187784195,0.11934260278940201,0.20403842628002167,0.13326789438724518,0.18838675320148468,0.21864670515060425,0.04465396702289581,0.0766567513346672,0.10570929199457169,0.16611634194850922,0.09633838385343552,0.13576631247997284,0.11306297779083252,0.06802200525999069,0.06005970016121864,0.1375460922718048,0.16634882986545563,0.21527022123336792,0.09487142413854599,0.052046533674001694,0.14941881597042084,0.11322783678770065,0.13808827102184296,0.1666635423898697,0.16925938427448273,0.05580490827560425,0.10802781581878662,0.10134664177894592,0.09882908314466476,0.13496558368206024,0.052346840500831604,0.08048534393310547,0.11987783759832382,0.051496803760528564,0.17845284938812256,0.09071717411279678,0.08149217814207077,0.12165182828903198,0.13610629737377167,0.08364510536193848,0.09372398257255554,0.10553222894668579,0.17796064913272858,0.11597314476966858,0.16559292376041412,0.10225781798362732,0.101889468729496,0.1909855753183365,0.11881983280181885,0.06966887414455414,0.11260116100311279,0.06408154219388962,0.07369448989629745,0.13537241518497467,0.11089622229337692,0.07031317800283432,0.18910042941570282,0.23902036249637604,0.17142599821090698,0.17175422608852386,0.1757810264825821,0.153656467795372,0.1411173939704895,0.34172824025154114,0.08142173290252686,0.09738945960998535,0.10377288609743118,0.09915778785943985,0.19507747888565063,0.15725821256637573,0.1494530588388443,0.1413998156785965,0.05561148747801781,0.05770786106586456,0.12599651515483856,0.21555663645267487,0.164253368973732,0.02566089667379856,0.18847189843654633,0.1023452877998352,0.03688296303153038,0.12138886004686356,0.12026090174913406,0.09646109491586685,0.08773600310087204,0.11433909088373184,0.12618066370487213,0.049151767045259476,0.03432365134358406,0.1005733385682106,0.12480282783508301,0.053586315363645554,0.12805327773094177,0.15300287306308746,0.08439519256353378,0.11819988489151001,0.08800169080495834,0.1323177069425583,0.1931140273809433,0.1150871142745018,0.07865770906209946,0.23403774201869965,0.07504115253686905,0.1617150753736496,0.09856285899877548,0.07089266180992126,0.19114375114440918,0.16352172195911407,0.07131212204694748,0.11509501934051514,0.07271253317594528,0.11301147192716599,0.12301325798034668,0.04111969843506813,0.15992610156536102,0.08658895641565323,0.02864537574350834,0.09302676469087601,0.16654203832149506,0.07051395624876022,0.1581517457962036,0.11550182849168777,0.11784973740577698,0.06870211660861969,0.14621789753437042,0.08914061635732651,0.0804499164223671,0.19350898265838623,0.11709538102149963,0.0968906581401825,0.057051677256822586,0.17268119752407074,0.04703898727893829,0.17226845026016235,0.03268389776349068,0.07640453428030014,0.10779116302728653,0.09805678576231003,0.07250335067510605,0.05690564215183258,0.2357066124677658,0.05579638481140137,0.0967310443520546,0.13529424369335175,0.02161136269569397,0.1940867155790329,0.1626398116350174,0.09596523642539978,0.16017308831214905,0.16144265234470367,0.1566666066646576,0.05898655578494072,0.23910833895206451,0.10500844568014145,0.07630165666341782,0.14543114602565765,0.017270615324378014,0.1837138533592224,0.08976913243532181,0.07222286611795425,0.11663257330656052,0.10076969861984253,0.08185014873743057,0.12227793782949448,0.18510888516902924,0.0980701819062233,0.2113652378320694,0.06547325104475021,0.14092163741588593,0.09102225303649902,0.1715766340494156,0.1062065064907074,0.05625874176621437,0.14924781024456024,0.09311949461698532,0.05292275920510292,0.04675805941224098,0.13464953005313873,0.06601347774267197,0.1103728786110878,0.33534881472587585,0.09632954746484756,0.09098094701766968,0.1282963752746582,0.14687031507492065,0.15428943932056427,0.17974381148815155,0.12023793905973434,0.15569429099559784,0.18342553079128265,0.11239758878946304,0.04794621467590332,0.1105370745062828,0.09324031323194504,0.17006053030490875,0.05295616760849953,0.1731705218553543,0.08977337926626205,0.06307990103960037,0.21306997537612915,0.07636316865682602,0.0682578757405281,0.10652429610490799,0.09522765129804611,0.11426606774330139,0.1358439028263092,0.1160820946097374,0.09726039320230484,0.10430064052343369,0.03222629055380821,0.1995883584022522,0.06983060389757156,0.14727431535720825,0.1555323749780655,0.2724297344684601,0.06718214601278305,0.17239344120025635,0.074071504175663,0.056464556604623795,0.09133350104093552,0.1122468039393425,0.047713398933410645,0.06678266078233719,0.21255357563495636,0.09605707973241806,0.2406335324048996,0.0896797850728035,0.106133371591568,0.11059248447418213,0.08035723119974136,0.05278511717915535,0.017646262422204018,0.2573260962963104,0.12231848388910294,0.057113077491521835,0.09391916543245316,0.11235427111387253,0.14862971007823944,0.06853408366441727,0.1026744470000267,0.1204165443778038,0.04709692299365997,0.062188636511564255,0.04189363121986389,0.1015181615948677,0.22301577031612396,0.12971355020999908,0.08141910284757614,0.16301071643829346,0.1389920860528946,0.07755815982818604,0.07376451790332794,0.10580917447805405,0.1419288069009781,0.06962472200393677,0.12127009779214859,0.0712638720870018,0.08036807924509048,0.05888516828417778,0.13180895149707794,0.10094975680112839,0.11593814939260483,0.10084270685911179,0.04848378896713257,0.09306604415178299,0.08057540655136108,0.08795267343521118,0.1076275184750557,0.10908191651105881,0.049423668533563614,0.12401338666677475,0.11198249459266663,0.11152104288339615,0.11222764104604721,0.11567959934473038,0.030820630490779877,0.11486334353685379,0.08555049449205399,0.13480247557163239,0.08565496653318405,0.14261040091514587,0.11185324192047119,0.037581779062747955,0.07965760678052902,0.10788936167955399,0.04856491461396217,0.2645556628704071,0.1337181031703949,0.07388829439878464,0.11172648519277573,0.09359674900770187,0.1694342941045761,0.036485541611909866,0.14801934361457825,0.12576444447040558,0.05205919221043587,0.16091181337833405,0.07701154798269272,0.05540114641189575,0.18199217319488525,0.16093219816684723,0.18353605270385742,0.393136590719223,0.08412737399339676,0.0908961296081543,0.16108618676662445,0.07090163230895996,0.18019767105579376,0.09258487820625305,0.04396862909197807,0.09592361003160477,0.13578848540782928,0.07925862818956375,0.0808107927441597,0.1221456229686737,0.037216365337371826,0.09503423422574997,0.04767438396811485,0.047670040279626846,0.07033954560756683,0.11325976997613907,0.12375684827566147,0.0756121426820755,0.19990509748458862,0.09196757525205612,0.07009468227624893,0.14668072760105133,0.13629239797592163,0.21423272788524628,0.198924720287323,0.11266335844993591,0.06821025162935257,0.1298258751630783,0.10745493322610855,0.08771905303001404,0.05705802142620087,0.09576600790023804,0.09201916307210922,0.11867311596870422,0.05176249146461487,0.12429627031087875,0.1395641416311264,0.09136945754289627,0.13971926271915436,0.08724076300859451,0.13858960568904877,0.1936168521642685,0.17846983671188354,0.13207243382930756,0.16071927547454834,0.1415596753358841,0.08101928979158401,0.10689403861761093,0.1595124453306198,0.1835424154996872,0.14108715951442719,0.09866396337747574,0.10028645396232605,0.12150990962982178,0.12532150745391846,0.17209960520267487,0.09520445019006729,0.13995638489723206,0.0517057329416275,0.08495873957872391,0.07284810394048691,0.09800467640161514,0.06255928426980972,0.06177814304828644,0.052971001714468,0.010345368646085262,0.06841292977333069,0.13925085961818695,0.11945488303899765,0.06785067170858383,0.28674712777137756,0.07943987101316452,0.21251709759235382,0.20696955919265747,0.1461857706308365,0.044692784547805786,0.12701107561588287,0.045325279235839844,0.10987549275159836,0.046118248254060745,0.16779817640781403,0.2660009562969208,0.09021779894828796,0.07179639488458633,0.059796418994665146,0.09249415248632431,0.08768531680107117,0.09143072366714478,0.07864398509263992,0.1026044711470604,0.028104310855269432,0.07281561940908432,0.043199628591537476,0.2715844511985779,0.05865858122706413,0.16747860610485077,0.10995592921972275,0.15682905912399292,0.11004957556724548,0.09149090200662613,0.14517457783222198,0.14912714064121246,0.09081327170133591,0.22847449779510498,0.2144230157136917,0.04231278598308563,0.10995335131883621,0.12305230647325516,0.18642817437648773,0.14323566854000092,0.08694740384817123,0.02609037049114704,0.160593181848526,0.1553332507610321,0.09730290621519089,0.10357405990362167,0.09581446647644043,0.1222943589091301,0.09739688038825989,0.12811796367168427,0.09847410768270493,0.07101637870073318,0.11982432752847672,0.19005753099918365,0.037337884306907654,0.07368043065071106,0.10254427790641785,0.07566113024950027,0.02066732384264469,0.09133676439523697,0.05444253981113434,0.04989687725901604,0.06043246015906334,0.12892486155033112,0.018371744081377983,0.09139451384544373,0.11154327541589737,0.11804229766130447,0.12999197840690613,0.17043745517730713,0.15481393039226532,0.25008270144462585,0.09772879630327225,0.10402355343103409,0.31139644980430603,0.26883140206336975,0.10433924198150635,0.12279143929481506,0.1242741271853447,0.17462806403636932,0.10734596103429794,0.11535438150167465,0.037713345140218735,0.1075986921787262,0.2505432665348053,0.1581438034772873,0.07120651751756668,0.09222330898046494,0.05651659891009331,0.1069149300456047,0.11919314414262772,0.07268441468477249,0.13289734721183777,0.03840295597910881,0.1330684870481491,0.11775422841310501,0.1760740876197815,0.10267803072929382,0.16167397797107697,0.05561772361397743,0.17296384274959564,0.05125636234879494,0.09754522889852524,0.10466912388801575,0.048293158411979675,0.09945723414421082,0.10306912660598755,0.15070177614688873,0.09830691665410995,0.03978636488318443,0.08818140625953674,0.10367285460233688,0.10239600390195847,0.05436831712722778,0.15499262511730194,0.10544577986001968,0.13007961213588715,0.05466737225651741,0.05913562700152397,0.12559650838375092,0.13023045659065247,0.2539600133895874,0.11272885650396347,0.050022438168525696,0.09552213549613953,0.042966634035110474,0.10996466875076294,0.13396181166172028,0.10170375555753708,0.09947162121534348,0.06289375573396683,0.1479017585515976,0.04015655070543289,0.0859084352850914,0.06285741180181503,0.02813059277832508,0.11645574122667313,0.12304511666297913,0.09962150454521179,0.15299956500530243,0.05275007709860802,0.00809128675609827,0.08128523826599121,0.053468842059373856,0.1173558160662651,0.061831410974264145,0.09906502813100815,0.10758156329393387,0.0634174793958664,0.13541121780872345,0.09075531363487244,0.09405752271413803,0.10721205919981003,0.20723293721675873,0.1225513145327568,0.025805281475186348,0.14769501984119415,0.07462701946496964,0.09747809916734695,0.04263157770037651,0.17923294007778168,0.125443696975708,0.11287345737218857,0.08369500190019608,0.11189862340688705,0.16144560277462006,0.11987334489822388,0.12684430181980133,0.07965486496686935,0.10154878348112106,0.06016711890697479,0.08365363627672195,0.14589904248714447,0.12110031396150589,0.11420276761054993,0.10813334584236145,0.05183978006243706,0.061525385826826096,0.06587967276573181,0.04517078027129173,0.06474689394235611,0.0909159854054451,0.10664963722229004,0.0632878914475441,0.20520038902759552,0.15093618631362915,0.11396455019712448,0.12090399116277695,0.06188679113984108,0.13569492101669312,0.10376149415969849,0.14538492262363434,0.08125090599060059,0.1880727857351303,0.15732444822788239,0.058640122413635254,0.11451706290245056,0.05287723243236542,0.038589928299188614,0.06712822616100311,0.08612766116857529,0.1038697138428688,0.23400579392910004,0.11930209398269653,0.1222614273428917,0.10453768819570541,0.05658279359340668,0.105226069688797,0.08283589780330658,0.11415816098451614,0.10445062071084976,0.056224580854177475,0.09066066890954971,0.08650323003530502,0.0818176120519638,0.09653431922197342,0.07963140308856964,0.20003153383731842,0.09787687659263611,0.11724662780761719,0.07463211566209793,0.0798889771103859,0.067499540746212,0.17697358131408691,0.03698653355240822,0.09523382782936096,0.1648721843957901,0.06015579402446747,0.04120765998959541,0.0826297476887703,0.06167894974350929,0.09996256232261658,0.08455052971839905,0.1625388115644455,0.10799574106931686,0.14985983073711395,0.1081763282418251,0.15698900818824768,0.12515100836753845,0.11136620491743088,0.044715795665979385,0.08556357026100159,0.0972275659441948,0.05091862007975578,0.16583779454231262,0.11563283950090408,0.1314823180437088,0.07042302936315536,0.14827896654605865,0.0861629843711853,0.11406872421503067,0.08412329107522964,0.15998466312885284,0.23464564979076385,0.06487786769866943,0.05537252128124237,0.14329463243484497,0.06640322506427765,0.12380694597959518,0.10943149775266647,0.16787481307983398,0.09049361944198608,0.13469205796718597,0.09977433830499649,0.06458694487810135,0.10974171757698059,0.10461954027414322,0.13776633143424988,0.08099169284105301,0.060453515499830246,0.12521018087863922,0.01785345748066902,0.06724139302968979,0.12185385823249817,0.16924291849136353,0.078111931681633,0.13485772907733917,0.08472723513841629,0.060594428330659866,0.08045265823602676,0.07965465635061264,0.08631560951471329,0.05849399045109749,0.10881409794092178,0.09625107795000076,0.07047002017498016,0.06656050682067871,0.08601602911949158,0.05964081361889839,0.16872763633728027,0.07934043556451797,0.10071716457605362,0.10970639437437057,0.04326358065009117,0.08840861916542053,0.05462965741753578,0.11880862712860107,0.06848201900720596,0.20313210785388947,0.05710115656256676,0.15330331027507782,0.15224969387054443,0.05071687325835228,0.1361442357301712,0.2450675368309021,0.1394774168729782,0.06682982295751572,0.0645863339304924,0.15928368270397186,0.1514209657907486,0.05717337504029274,0.07302778214216232,0.11575556546449661,0.08113395422697067,0.13429053127765656,0.16395264863967896,0.1381107121706009,0.0820465087890625,0.1193198636174202,0.07009433954954147,0.06807958334684372,0.075373075902462,0.04238894581794739,0.036110084503889084,0.11909347772598267,0.05190523341298103,0.08032552152872086,0.15006084740161896,0.07887473702430725,0.07669758796691895,0.12302988022565842,0.10687161237001419,0.054209690541028976,0.054753635078668594,0.11900094151496887,0.21689020097255707,0.07834886759519577,0.10327881574630737,0.05125035345554352,0.12208402901887894,0.09050461649894714,0.10734271258115768,0.10424357652664185,0.13063092529773712,0.10132580250501633,0.07302124798297882,0.04079166054725647,0.13595424592494965,0.1487443894147873,0.12834571301937103,0.10094219446182251,0.06834698468446732,0.10281556844711304,0.02933659963309765,0.1719033122062683,0.13344506919384003,0.09170964360237122,0.09718091040849686,0.11842318624258041,0.12743200361728668,0.11330122500658035,0.06599875539541245,0.03560507297515869,0.06987223774194717,0.11301527172327042,0.026445791125297546,0.1296839863061905,0.14625973999500275,0.09020591527223587,0.06061273440718651,0.0977402999997139,0.11424564570188522,0.15433631837368011,0.10682445764541626,0.09012819081544876,0.07666216045618057,0.12720100581645966,0.2747495770454407,0.058257486671209335,0.12336638569831848,0.09356316179037094,0.10006815940141678,0.10947901755571365,0.12175995856523514,0.09084407240152359,0.14285506308078766,0.1001371219754219,0.06489911675453186,0.0815349891781807,0.10956206917762756,0.04652142524719238,0.16556376218795776,0.08674044162034988,0.126644104719162,0.20405910909175873,0.10539156943559647,0.21276994049549103,0.12062028795480728,0.14794495701789856,0.0931147113442421,0.027581660076975822,0.06523306667804718,0.11490189284086227,0.12430766969919205,0.15471318364143372,0.055086616426706314,0.13187171518802643,0.14976070821285248,0.09605631977319717,0.11137010902166367,0.1275114268064499,0.10413462668657303,0.08517899364233017,0.11922565847635269,0.12462491542100906,0.15034927427768707,0.12377452105283737,0.10795849561691284,0.15994702279567719,0.03892933577299118,0.10825005918741226,0.0669308602809906,0.04595114290714264,0.039857205003499985,0.05197081342339516,0.058391157537698746,0.16132888197898865,0.09136632829904556,0.11424234509468079,0.08440670371055603,0.10077252238988876,0.08832821995019913,0.08675465732812881,0.08460845798254013,0.11745629459619522,0.09060770273208618,0.23150932788848877,0.1745947152376175,0.09998422116041183,0.1187715157866478,0.0738774761557579,0.094910629093647,0.11807944625616074,0.11382690072059631,0.0659879669547081,0.15460218489170074,0.08472391963005066,0.16368074715137482,0.07789742201566696,0.1332326978445053,0.07083109021186829,0.15477557480335236,0.06595953553915024,0.2292364239692688,0.05533243343234062,0.0684896856546402,0.08060756325721741,0.09602633863687515,0.05715605989098549,0.23154957592487335,0.10723045468330383,0.04658825695514679,0.22695863246917725,0.10903743654489517,0.2122814655303955,0.03666483983397484,0.09509259462356567,0.2042515128850937,0.17520351707935333,0.07762349396944046,0.058901574462652206,0.2102809101343155,0.13159406185150146,0.05569671094417572,0.059885576367378235,0.11547522991895676,0.15078555047512054,0.029757147654891014,0.04512448236346245,0.09982982277870178,0.1491251140832901,0.06694479286670685,0.13809023797512054,0.08909761160612106,0.057267606258392334,0.08866912871599197,0.03291584923863411,0.179632306098938,0.09448137134313583,0.06618472933769226,0.09342744201421738,0.20558421313762665,0.07768392562866211,0.08622550964355469,0.10290423035621643,0.08503800630569458,0.17207719385623932,0.0894707515835762,0.02150741033256054,0.11576101928949356,0.108717180788517,0.07970845699310303,0.1579897403717041,0.10630396753549576,0.11750126630067825,0.16557183861732483,0.0718277096748352,0.1104748323559761,0.05406481400132179,0.05580182373523712,0.17724621295928955,0.1396111696958542,0.1023629903793335,0.05647745355963707,0.13127870857715607,0.07964310795068741,0.09953299164772034,0.10790812969207764,0.09688585251569748,0.08846846967935562,0.10445060580968857,0.10853379964828491,0.13573028147220612,0.23328842222690582,0.09099943190813065,0.16490547358989716,0.04763689637184143,0.20399437844753265,0.05727607011795044,0.061204489320516586,0.0389101579785347,0.128032386302948,0.21471381187438965,0.18852625787258148,0.20367883145809174,0.028974799439311028,0.2592814266681671,0.05531005933880806,0.11255619674921036,0.0868162140250206,0.11025578528642654,0.0812649130821228,0.05873861536383629,0.06611869484186172,0.05188191309571266,0.19011378288269043,0.0751308798789978,0.2528543472290039,0.0557810477912426,0.10374104976654053,0.18983794748783112,0.1194862648844719,0.13328030705451965,0.05491531267762184,0.1266362965106964,0.16328392922878265,0.07251720875501633,0.07870899885892868,0.08608115464448929,0.05233795568346977,0.11700298637151718,0.048731688410043716,0.17981833219528198,0.06118350103497505,0.1568879336118698,0.22822140157222748,0.13140419125556946,0.34046462178230286,0.10203815251588821,0.054464101791381836,0.11760429292917252,0.11983957886695862,0.10339847207069397,0.04519449174404144,0.1267777681350708,0.12564559280872345,0.199265256524086,0.24648986756801605,0.12210649251937866,0.1092032715678215,0.20174799859523773,0.11585911363363266,0.10062987357378006,0.19839932024478912,0.07850981503725052,0.22061671316623688,0.15064729750156403,0.11491382867097855,0.062257956713438034,0.07459554076194763,0.07600577920675278,0.2139611393213272,0.03620294854044914,0.06961844116449356,0.13788463175296783,0.11651962995529175,0.12613482773303986,0.05557142198085785,0.16621217131614685,0.09541686624288559,0.07677338272333145,0.08756444603204727,0.114594466984272,0.14723728597164154,0.1022958979010582,0.12073365598917007,0.08469635248184204,0.14606665074825287,0.13481450080871582,0.1364850252866745,0.06410380452871323,0.13431565463542938,0.08690136671066284,0.05810455605387688,0.060921162366867065,0.06290065497159958,0.06097380444407463,0.0866001546382904,0.07511167973279953,0.15431751310825348,0.4495389461517334,0.08038400858640671,0.12464820593595505,0.07838083803653717,0.11152538657188416,0.019449463114142418,0.11697223782539368,0.19441069662570953,0.3185165226459503,0.07831830531358719,0.1415291577577591,0.1700236052274704,0.029112232849001884,0.32701578736305237,0.15012285113334656,0.19946318864822388,0.11945538967847824,0.03900351747870445,0.05657513812184334,0.08655823022127151,0.07884445786476135,0.08997082710266113,0.08625925332307816,0.15326254069805145,0.12329600006341934,0.05365531146526337,0.17609916627407074,0.0684969425201416,0.1675197035074234,0.11502497643232346,0.0529538094997406,0.0703052431344986,0.14638397097587585,0.1572551280260086,0.11667105555534363,0.08085332065820694,0.10705734044313431,0.01048294361680746,0.13162679970264435,0.05979962274432182,0.17284543812274933,0.10899398475885391,0.16577471792697906,0.2365037351846695,0.1399405151605606,0.06806876510381699,0.0843057930469513,0.20089776813983917,0.07188764959573746,0.07644273340702057,0.1629769206047058,0.018547184765338898,0.20959891378879547,0.12463423609733582,0.09288033843040466,0.16995416581630707,0.07655786722898483,0.1731790453195572,0.02549799717962742,0.1594950258731842,0.12500880658626556,0.05169045552611351,0.1371750831604004,0.11137401312589645,0.14642198383808136,0.15697966516017914,0.15901723504066467,0.06560460478067398,0.06767957657575607,0.08079306781291962,0.10829708725214005,0.06278062611818314,0.052906472235918045,0.2188549041748047,0.0923495963215828,0.1489538997411728,0.11032938212156296,0.06206430494785309,0.10262172669172287,0.056220490485429764,0.152543842792511,0.04556860029697418,0.22627024352550507,0.1008109524846077,0.0898999273777008,0.16727124154567719,0.08851062506437302,0.05764294043183327,0.06415509432554245,0.16285252571105957,0.0853981003165245,0.07785455882549286,0.045419126749038696,0.0220914576202631,0.07724330574274063,0.061492446810007095,0.07634029537439346,0.08240178227424622,0.0857381820678711,0.06768059730529785,0.08521821349859238,0.0727689117193222,0.11255358904600143,0.1174115240573883,0.24618194997310638,0.058756936341524124,0.04354880750179291,0.12414950877428055,0.1581622213125229,0.07682164758443832,0.12024842947721481,0.0743321031332016,0.10290339589118958,0.08087430149316788,0.11713582277297974,0.04307975992560387,0.055020373314619064,0.10266837477684021,0.04105449840426445,0.11267004162073135,0.08706162124872208,0.13710670173168182,0.030864015221595764,0.06265345215797424,0.06802427023649216,0.10993444174528122,0.08639226108789444,0.0469261109828949,0.1578521877527237,0.07865176349878311,0.108722023665905,0.06392955034971237,0.06085994467139244,0.024619178846478462,0.05293607339262962,0.039855632930994034,0.14861692488193512,0.11246433109045029,0.1481567621231079,0.04670483246445656,0.09627994149923325,0.09014418721199036,0.1040336862206459,0.05271955206990242,0.08137070387601852,0.09276620298624039,0.09335935115814209,0.07638391107320786,0.27643778920173645,0.11807350069284439,0.11060339957475662,0.135590597987175,0.061330247670412064,0.03075198270380497,0.039467040449380875,0.1129712238907814,0.13019226491451263,0.08208553493022919,0.13456980884075165,0.0970163643360138,0.10510402172803879,0.05254335701465607,0.12706728279590607,0.06803267449140549,0.04348639026284218,0.09574026614427567,0.13147881627082825,0.01571386307477951,0.11726975440979004,0.1479203850030899,0.061674538999795914,0.07372511178255081,0.09920196980237961,0.06615249067544937,0.1298953741788864,0.16757141053676605,0.049368228763341904,0.23787236213684082,0.12099935859441757,0.057613905519247055,0.24869972467422485,0.1575586497783661,0.16093942523002625,0.098501056432724,0.040076952427625656,0.03052532486617565,0.06355471163988113,0.21387958526611328,0.037980277091264725,0.12162858992815018,0.10808417946100235,0.08126841485500336,0.12587542831897736,0.040616054087877274,0.09485267847776413,0.08982665091753006,0.17059791088104248,0.079715795814991,0.13916464149951935,0.06166695058345795,0.08233510702848434,0.021891029551625252,0.1738351583480835,0.12345138937234879,0.13135990500450134,0.05255791172385216,0.09548369795084,0.20187950134277344,0.19861650466918945,0.07371417433023453,0.06185213848948479,0.17683427035808563,0.1732848733663559,0.13406415283679962,0.1182052418589592,0.1134110763669014,0.14713430404663086,0.08249513804912567,0.08539221435785294,0.2456623762845993,0.24696093797683716,0.05550873652100563,0.058502957224845886,0.20113813877105713,0.10826904326677322,0.139378622174263,0.15815110504627228,0.12316599488258362,0.08518179506063461,0.12303725630044937,0.1849924921989441,0.09412097185850143,0.03810196742415428,0.07381603121757507,0.1477235108613968,0.06083684042096138,0.11749532073736191,0.0675560012459755,0.14879433810710907,0.06983668357133865,0.08420342952013016,0.11696665734052658,0.043380916118621826,0.08867061883211136,0.09631085395812988,0.09707307070493698,0.06857297569513321,0.0179866012185812,0.08085966855287552,0.08152804523706436,0.05447164550423622,0.05526934936642647,0.2230018526315689,0.1561085283756256,0.02591673471033573,0.10162504762411118,0.0853818729519844,0.052656229585409164,0.11964309960603714,0.031449660658836365,0.09526874870061874,0.09187891334295273,0.12199186533689499,0.13673292100429535,0.06598629802465439,0.08602990955114365,0.09851955622434616,0.07384702563285828,0.07552298158407211,0.1047993004322052,0.08513229340314865,0.09348592907190323,0.09124977141618729,0.10416275262832642,0.09370458871126175,0.08793548494577408,0.2225182205438614,0.07924982160329819,0.08612924814224243,0.1409589648246765,0.1232280507683754,0.13551299273967743,0.07368825376033783,0.07883409410715103,0.06828439980745316,0.1802131086587906,0.08723252266645432,0.17528901994228363,0.06107895076274872,0.13946835696697235,0.10925319045782089,0.0638144388794899,0.1440950483083725,0.047599077224731445,0.11129513382911682,0.1090095117688179,0.05379645898938179,0.14398285746574402,0.14594855904579163,0.020677879452705383,0.03657437860965729,0.1244540885090828,0.18117012083530426,0.07169433683156967,0.07843132317066193,0.14233538508415222,0.14153681695461273,0.1965956836938858,0.14714603126049042,0.12028153985738754,0.10881876200437546,0.08726251870393753,0.10600167512893677,0.101847805082798,0.10859722644090652,0.1147637888789177,0.08890853077173233,0.10794028639793396,0.10475534200668335,0.048033278435468674,0.09481645375490189,0.1593950241804123,0.13188546895980835,0.18121083080768585,0.0879240334033966,0.10684219002723694,0.04647952318191528,0.10723552107810974,0.08627468347549438,0.1664445847272873,0.1051127016544342,0.15544955432415009,0.07172662764787674,0.10519704967737198,0.22163565456867218,0.10350432991981506,0.052426278591156006,0.2784702777862549,0.10026244074106216,0.15739956498146057,0.08855828642845154,0.13593704998493195,0.028926147148013115,0.10998546332120895,0.0316997729241848,0.24430860579013824,0.1540871262550354,0.08217399567365646,0.2633845806121826,0.05617758259177208,0.10239116102457047,0.13959012925624847,0.06548932194709778,0.08306748420000076,0.12609775364398956,0.06900712102651596,0.12661631405353546,0.06599157303571701,0.18621714413166046,0.11597087234258652,0.10700246691703796,0.05760163441300392,0.07685953378677368,0.08952782303094864,0.08188486844301224,0.0820121243596077,0.12412311881780624,0.03460083529353142,0.07971399277448654,0.23821301758289337,0.2153700739145279,0.06426643580198288,0.09207437187433243,0.1285344511270523,0.1802424043416977,0.10453715175390244,0.14209607243537903,0.12148145586252213,0.14211790263652802,0.1812918335199356,0.1053767129778862,0.0708942785859108,0.1366761326789856,0.09892043471336365,0.17152154445648193,0.0633186474442482,0.15170960128307343,0.10243194550275803,0.105841726064682,0.05730942264199257,0.05664783716201782,0.15125255286693573,0.0915447399020195,0.12794645130634308,0.07988496869802475,0.06340272724628448,0.09668996185064316,0.13308937847614288,0.11886224895715714,0.07591547816991806,0.19821685552597046,0.05925542488694191,0.15308845043182373,0.12452242523431778,0.17853666841983795,0.05197317898273468,0.17217160761356354,0.08339491486549377,0.08992453664541245,0.14757461845874786,0.07103421539068222,0.05727881193161011,0.058129873126745224,0.13011352717876434,0.03482929617166519,0.08524603396654129,0.16376350820064545,0.08616665750741959,0.08912426978349686,0.15903788805007935,0.11890894174575806,0.11358845233917236,0.16096656024456024,0.07028116285800934,0.11076626926660538,0.11156492680311203,0.18141232430934906,0.07326199859380722,0.04857270419597626,0.07964026182889938,0.04780462756752968,0.28173884749412537,0.15484976768493652,0.13320180773735046,0.2817783057689667,0.06720029562711716,0.08105743676424026,0.05442538857460022,0.04187755659222603,0.08592536300420761,0.14113350212574005,0.10508989542722702,0.04552946984767914,0.050331924110651016,0.07677711546421051,0.12555022537708282,0.14197395741939545,0.09751114994287491,0.10330525785684586,0.1848798245191574,0.04033676162362099,0.07980594784021378,0.06150197982788086,0.17832785844802856,0.08323117345571518,0.08051852136850357,0.08322592824697495,0.1118222177028656,0.07628080993890762,0.19962815940380096,0.06539130955934525,0.09599307179450989,0.0902416929602623,0.04863309860229492,0.160619854927063,0.1501714289188385,0.1234121099114418,0.07419856637716293,0.1818142980337143,0.13565583527088165,0.09757973998785019,0.19332872331142426,0.11690143495798111,0.10569614171981812,0.176494762301445,0.10945021361112595,0.11344996839761734,0.05502423271536827,0.11264917254447937,0.0885261595249176,0.15276913344860077,0.10863670706748962,0.06894448399543762,0.08844044059515,0.03894763067364693,0.07547608762979507,0.0968206524848938,0.13453103601932526,0.05298173800110817,0.24629001319408417,0.11651521921157837,0.12322836369276047,0.11838895827531815,0.12873201072216034,0.21735458076000214,0.06930030137300491,0.13069629669189453,0.04909655824303627,0.07282312959432602,0.06675945222377777,0.1348371058702469,0.16854578256607056,0.07885619252920151,0.020126590505242348,0.11627144366502762,0.08446646481752396,0.107392817735672,0.06424812227487564,0.14299724996089935,0.053700145334005356,0.1120942160487175,0.014461292885243893,0.05711427330970764,0.10690052062273026,0.06975465267896652,0.039743419736623764,0.05135573446750641,0.1584739089012146,0.0325952023267746,0.08806873112916946,0.10946933180093765,0.08850248903036118,0.03684810549020767,0.08477592468261719,0.10322130471467972,0.15523765981197357,0.09817900508642197,0.023406175896525383,0.10659485310316086,0.07794196903705597,0.0748492106795311,0.22634877264499664,0.10988486558198929,0.07559361308813095,0.1518125981092453,0.04896555840969086,0.02234521321952343,0.03001934476196766,0.10932349413633347,0.2717188894748688,0.13234421610832214,0.025140702724456787,0.07936375588178635,0.13409273326396942,0.07383567839860916,0.07973358780145645,0.05036523565649986,0.0898442342877388,0.13842034339904785,0.09641311317682266,0.08156026154756546,0.11196250468492508,0.0833330899477005,0.1408659964799881,0.04323284327983856,0.07906150817871094,0.07049814611673355,0.13492923974990845,0.047424230724573135,0.1274881213903427,0.1624147593975067,0.17047284543514252,0.12971560657024384,0.12332073599100113,0.08725062757730484,0.043473899364471436,0.14057813584804535,0.06605810672044754,0.070782370865345,0.10576578974723816,0.07540389150381088,0.06027500703930855,0.17382067441940308,0.21201644837856293,0.05967200919985771,0.04652954265475273,0.03829726576805115,0.07058387994766235,0.06509919464588165,0.15600238740444183,0.03172062337398529,0.10465434938669205,0.11523917317390442,0.11627600342035294,0.1336597204208374,0.1914857029914856,0.07610329240560532,0.09519115835428238,0.05925147235393524,0.09759353846311569,0.08446282893419266,0.14661413431167603,0.10323461145162582,0.1260659247636795,0.13788144290447235,0.11469697952270508,0.09507960081100464,0.04208473488688469,0.05216103419661522,0.08321542292833328,0.036734577268362045,0.07813505083322525,0.08715277910232544,0.07995153218507767,0.027271592989563942,0.17813552916049957,0.09786462038755417,0.09200578927993774,0.12299346178770065,0.08135015517473221,0.09984910488128662,0.05860424041748047,0.04434724152088165,0.09656613320112228,0.07764861732721329,0.08400208503007889,0.06748618930578232,0.07259928435087204,0.09326019883155823,0.06023474410176277,0.0556318499147892,0.057336803525686264,0.07862762361764908,0.06182930991053581,0.08405301719903946,0.1790827363729477,0.13087819516658783,0.008679398335516453,0.06129428371787071,0.15439946949481964,0.08117204159498215,0.1593693643808365,0.05894041061401367,0.05228782817721367,0.05677993223071098,0.11441358178853989,0.11217337101697922,0.07827668637037277,0.04954048618674278,0.06381911039352417,0.14849215745925903,0.13944311439990997,0.03762323781847954,0.0832643136382103,0.08300391584634781,0.07331336289644241,0.2354344129562378,0.024674803018569946,0.04340480640530586,0.13268817961215973,0.07911936938762665,0.08141590654850006,0.09996750205755234,0.07262322306632996,0.06270863860845566,0.18960712850093842,0.08294028788805008,0.14180481433868408,0.14134526252746582,0.183259978890419,0.08271695673465729,0.08377259224653244,0.08903693407773972,0.06815100461244583,0.08724153786897659,0.030137835070490837,0.08510424941778183,0.19234128296375275,0.059869468212127686,0.08982252329587936,0.08660180121660233,0.08920460939407349,0.2217976301908493,0.30719003081321716,0.09534236043691635,0.10161691904067993,0.0993853434920311,0.1398584097623825,0.014623976312577724,0.12230870872735977,0.12221027165651321,0.0791211649775505,0.05100615695118904,0.08564542979001999,0.1640426218509674,0.11396702378988266,0.07157518714666367,0.07797946780920029,0.14932115375995636,0.05785149708390236,0.08106882125139236,0.093697190284729,0.10064990073442459,0.10655475407838821,0.055606696754693985,0.1470373570919037,0.08900649100542068,0.049077097326517105,0.08689702302217484,0.0898204818367958,0.04988379776477814,0.0546056292951107,0.29802754521369934,0.03675973787903786,0.11246338486671448,0.17523902654647827,0.11817672848701477,0.1071649119257927,0.047263216227293015,0.07363563030958176,0.0890064537525177,0.06065647304058075,0.09437868744134903,0.094869464635849,0.07403091341257095,0.10743466764688492,0.08044380694627762,0.09720247983932495,0.31684380769729614,0.05616101622581482,0.01053632702678442,0.08072785288095474,0.09624415636062622,0.1870395988225937,0.09113199263811111,0.06380828469991684,0.08328668028116226,0.13471157848834991,0.06907551735639572,0.16352905333042145,0.14731577038764954,0.16750365495681763,0.07057425379753113,0.05294853076338768,0.047872137278318405,0.1038721576333046,0.10066339373588562,0.07321563363075256,0.0770404040813446,0.10024227946996689,0.09039662033319473,0.08079873770475388,0.11309250444173813,0.0723617896437645,0.14662523567676544,0.08097423613071442,0.10515261441469193,0.13184122741222382,0.10136207938194275,0.09943696111440659,0.15670748054981232,0.13231141865253448,0.19852124154567719,0.13954700529575348,0.12928013503551483,0.16363556683063507,0.07631576806306839,0.1285092830657959,0.048673197627067566,0.05037577822804451,0.07549690455198288,0.30694371461868286,0.0416007936000824,0.10919100791215897,0.062137704342603683,0.12256505340337753,0.029156669974327087,0.06337253749370575,0.11481834203004837,0.09783414006233215,0.1059175431728363,0.10584840178489685,0.11793937534093857,0.08999385684728622,0.04541158676147461,0.09576404094696045,0.1927248239517212,0.08301403373479843,0.11782313138246536,0.06760173290967941,0.10267528891563416,0.14432550966739655,0.07298847287893295,0.17938615381717682,0.11298704892396927,0.12482959777116776,0.05951035022735596,0.08743005245923996,0.09832131862640381,0.15335415303707123,0.12697580456733704,0.07985095679759979,0.09895649552345276,0.09225942939519882,0.11485231667757034,0.08174781501293182,0.08313777297735214,0.06968703866004944,0.06219448149204254,0.09506300091743469,0.15946079790592194,0.15325342118740082,0.07022310793399811,0.06194262206554413,0.21441586315631866,0.24217593669891357,0.1635294109582901,0.20828019082546234,0.19929105043411255,0.14839127659797668,0.11100923269987106,0.0997912585735321,0.0687139555811882,0.20957843959331512,0.03341527655720711,0.044632438570261,0.058291565626859665,0.09000476449728012,0.0402485691010952,0.06827938556671143,0.06472768634557724,0.09579295665025711,0.027361204847693443,0.20712482929229736,0.09661632776260376,0.2442406415939331,0.16106538474559784,0.06817930191755295,0.07448377460241318,0.015653187409043312,0.05190383270382881,0.10517693310976028,0.16977046430110931,0.1481008380651474,0.060205090790987015,0.11801987141370773,0.08903559297323227,0.06516304612159729,0.062058016657829285,0.0895753875374794,0.0636342391371727,0.04465189576148987,0.06903845816850662,0.0274447500705719,0.13597950339317322,0.2525034248828888,0.11637013405561447,0.11796896904706955,0.09295173734426498,0.1111709251999855,0.06874457001686096,0.08658470958471298,0.07293792814016342,0.1230180561542511,0.019901219755411148,0.09303295612335205,0.13552427291870117,0.1391781121492386,0.09708385914564133,0.12343891710042953,0.08784263581037521,0.19600410759449005,0.041251037269830704,0.03230684623122215,0.06956350803375244,0.057282980531454086,0.05257593095302582,0.07273244857788086,0.08865627646446228,0.0710950717329979,0.0792514756321907,0.1390230357646942,0.19484342634677887,0.09882868081331253,0.050774525851011276,0.08087735623121262,0.06393606215715408,0.08139904588460922,0.08093071728944778,0.09592198580503464,0.1237395703792572,0.04798990115523338,0.15732404589653015,0.11401006579399109,0.1389230638742447,0.09715075045824051,0.05245209112763405,0.07046851515769958,0.05690247192978859,0.12189095467329025,0.15932275354862213,0.12047046422958374,0.09072195738554001,0.13419142365455627,0.17474478483200073,0.19039057195186615,0.035639043897390366,0.05485427379608154,0.13713552057743073,0.12643931806087494,0.06044154241681099,0.1391908824443817,0.14473749697208405,0.10363738983869553,0.11767660826444626,0.040354687720537186,0.02898077853024006,0.09495873004198074,0.13759107887744904,0.08607868105173111,0.044939931482076645,0.04955039918422699,0.04153498634696007,0.07778116315603256,0.10944867134094238,0.09227237105369568,0.09556249529123306,0.1081409677863121,0.04804738238453865,0.09184440970420837,0.19744311273097992,0.12274754792451859,0.08710839599370956,0.028232315555214882,0.11781314015388489,0.06449844688177109,0.1681116819381714,0.11543650180101395,0.09812105447053909,0.04778242111206055,0.04898690804839134,0.10650793462991714,0.069416344165802,0.08476022630929947,0.09080580621957779,0.04912826418876648,0.15178942680358887,0.15860925614833832,0.04391922429203987,0.048336148262023926,0.06873380392789841,0.08851199597120285,0.08744912594556808,0.16764388978481293,0.08533195406198502,0.1286192089319229,0.06240890920162201,0.06596288830041885,0.044134583324193954,0.10434921830892563,0.11776003986597061,0.038142088800668716,0.009574269875884056,0.08530167490243912,0.06001853570342064,0.055550649762153625,0.09956773370504379,0.08009312301874161,0.06858502328395844,0.06890495866537094,0.08390983939170837,0.08654719591140747,0.048556502908468246,0.0907016173005104,0.12799780070781708,0.04805013909935951,0.0766112208366394,0.07441770285367966,0.08267507702112198,0.0767335519194603,0.07704979926347733,0.0472874641418457,0.21265065670013428,0.12154906243085861,0.08103682100772858,0.09145998954772949,0.11141137033700943,0.024963965639472008,0.11421030759811401,0.09010722488164902,0.13066373765468597,0.05611690878868103,0.03982074186205864,0.021714607253670692,0.14728890359401703,0.09302785247564316,0.08831437677145004,0.11685807257890701,0.07086069136857986,0.08272697776556015,0.06241564452648163,0.0687936469912529,0.019863376393914223,0.07848941534757614,0.09313958883285522,0.1738322228193283,0.08528652042150497,0.034225549548864365,0.10007724910974503,0.13631419837474823,0.06576922535896301,0.10235685855150223,0.084232859313488,0.08905381709337234,0.0760229229927063,0.11431393027305603,0.07059077173471451,0.12232652306556702,0.0575624518096447,0.0912836417555809,0.04594680666923523,0.1551283746957779,0.08075439929962158,0.08251606673002243,0.04108146205544472,0.08473794907331467,0.281144380569458,0.10202661156654358,0.08661258965730667,0.06759542971849442,0.09945618361234665,0.08543932437896729,0.08225354552268982,0.09666449576616287,0.05941562354564667,0.16057516634464264,0.02905784361064434,0.08693193644285202,0.11606451123952866,0.11815323680639267,0.05241268500685692,0.045533642172813416,0.07522781938314438,0.29533347487449646,0.10695018619298935,0.058389466255903244,0.03703968971967697,0.04856875538825989,0.06106182932853699,0.10533992201089859,0.06480387598276138,0.09495583176612854,0.10755335539579391,0.1022915169596672,0.0466226190328598,0.07286237925291061,0.04201255366206169,0.10371896624565125,0.12477637082338333,0.12213432043790817,0.07978953421115875,0.17319299280643463,0.10611993819475174,0.061887215822935104,0.10597646981477737,0.09552743285894394,0.1113574430346489,0.012689902447164059,0.11141007393598557,0.1121566966176033,0.08099576085805893,0.14461134374141693,0.06962641328573227,0.09936880320310593,0.03568192198872566,0.07024490833282471,0.08407671004533768,0.04200780391693115,0.23391056060791016,0.06973142176866531,0.07703741639852524,0.0570855587720871,0.11082315444946289,0.0680767074227333,0.08374032378196716,0.0859394371509552,0.11216612905263901,0.1317811757326126,0.09905463457107544,0.1239609643816948,0.028078539296984673,0.09157335758209229,0.05300404503941536,0.11457686871290207,0.13135714828968048,0.03405461087822914,0.0890408381819725,0.08203748613595963,0.05532800778746605,0.02923721633851528,0.015812473371624947,0.042941927909851074,0.05663767457008362,0.10269438475370407,0.0891553983092308,0.05962220951914787,0.1129486933350563,0.16955047845840454,0.147328183054924,0.09591870754957199,0.08871138840913773,0.06817550212144852,0.10498087853193283,0.10066601634025574,0.027026968076825142,0.04500061646103859,0.03471369668841362,0.11378639936447144,0.08785644918680191,0.08841824531555176,0.1252114474773407,0.09268524497747421,0.04856473207473755,0.07083459943532944,0.11573698371648788,0.06392525881528854,0.06806714087724686,0.10262834280729294,0.1143588125705719,0.08858337253332138,0.07328511029481888,0.0944933071732521,0.1274646669626236,0.10119947791099548,0.08963581919670105,0.07941225171089172,0.09024659544229507,0.026905201375484467,0.05600322410464287,0.09309479594230652,0.03778627887368202,0.16450145840644836,0.10719037055969238,0.09941507130861282,0.09637463092803955,0.0501338355243206,0.09132517129182816,0.14738287031650543,0.055793941020965576,0.11673285812139511,0.09237498790025711,0.15058350563049316,0.05947466194629669,0.0755179151892662,0.04213440418243408,0.07933444529771805,0.1111144945025444,0.04697485268115997,0.0740809217095375,0.11695270985364914,0.036407601088285446,0.08982279896736145,0.14962922036647797,0.08387202024459839,0.21081501245498657,0.08406703919172287,0.05505482479929924,0.07374251633882523,0.04852781817317009,0.077122263610363,0.1909191757440567,0.10686967521905899,0.139280304312706,0.08216917514801025,0.2533642649650574,0.0579594187438488,0.21825744211673737,0.0702987015247345,0.05710672214627266,0.09353861212730408,0.06231730058789253,0.094645656645298,0.13279063999652863,0.09854298084974289,0.0942680612206459,0.10243704915046692,0.060354750603437424,0.06827861070632935,0.10199436545372009,0.10919898003339767,0.06816506385803223,0.11728637665510178,0.07348039001226425,0.16459530591964722,0.12172479182481766,0.2863897383213043,0.0716082826256752,0.04767083749175072,0.11123277992010117,0.1492936760187149,0.09974776953458786,0.2177954912185669,0.09490429610013962,0.02526397816836834,0.11388128995895386,0.15753653645515442,0.0882692039012909,0.09125859290361404,0.08895471692085266,0.10103180259466171,0.08121036738157272,0.16099640727043152,0.15965446829795837,0.08685929328203201,0.055740904062986374,0.08392229676246643,0.18992798030376434,0.09873802214860916,0.09530802816152573,0.1041775718331337,0.04559066891670227,0.06787707656621933,0.06736305356025696,0.0950864925980568,0.027246149256825447,0.07308217138051987,0.03869304433465004,0.0845479741692543,0.09580735117197037,0.10500092059373856,0.09121853858232498,0.15716218948364258,0.11573619395494461,0.11183064430952072,0.07114416360855103,0.06755607575178146,0.09928398579359055,0.04735669866204262,0.06912361085414886,0.05603418126702309,0.0826946571469307,0.1418195515871048,0.04496974125504494,0.04320666193962097,0.13799084722995758,0.27942612767219543,0.12006201595067978,0.19762586057186127,0.11762645095586777,0.030670365318655968,0.05196448042988777,0.060854122042655945,0.07739420235157013,0.03490061312913895,0.08963241428136826,0.15893690288066864,0.1342412680387497,0.07613131403923035,0.15255571901798248,0.06928448379039764,0.09326346963644028,0.04063762351870537,0.1697949767112732,0.09310383349657059,0.10115057229995728,0.09182056039571762,0.07425666600465775,0.04304097965359688,0.08232125639915466,0.12735502421855927,0.05315614119172096,0.06113205477595329,0.07525353878736496,0.15894407033920288,0.05737410485744476,0.14328248798847198,0.08873217552900314,0.04271874204277992,0.16584156453609467,0.11827912926673889,0.044183600693941116,0.13058961927890778,0.1644809991121292,0.1469244509935379,0.26847830414772034,0.12704721093177795,0.0977240726351738,0.10829716175794601,0.076175756752491,0.097874216735363,0.054514240473508835,0.019811777397990227,0.05660533905029297,0.0660015121102333,0.04282408952713013,0.07098794728517532,0.10955491662025452,0.10850075632333755,0.09277839213609695,0.09909214824438095,0.11873266100883484,0.046601876616477966,0.09084978699684143,0.07481731474399567,0.03010832704603672,0.08353660255670547,0.13395480811595917,0.08071929216384888,0.0676240548491478,0.05636752024292946,0.1903807371854782,0.1308862417936325,0.18698786199092865,0.17594432830810547,0.16859684884548187,0.06814675778150558,0.0465095229446888,0.1545139104127884,0.02717011608183384,0.04177255928516388,0.08142280578613281,0.08832311630249023,0.07062018662691116,0.10011336207389832,0.07698007673025131,0.04346225783228874,0.17478154599666595,0.12065235525369644,0.08026385307312012,0.09753146022558212,0.19257421791553497,0.11157535761594772,0.03173049911856651,0.07353266328573227,0.09617036581039429,0.1151442751288414,0.04814858362078667,0.15093450248241425,0.08290854841470718,0.08190221339464188,0.04650218412280083,0.07718558609485626,0.08055918663740158,0.18167854845523834,0.08295480161905289,0.1973920315504074,0.018421677872538567,0.14804407954216003,0.10979524254798889,0.03978338837623596,0.1862630844116211,0.061797138303518295,0.0265184473246336,0.14522260427474976,0.12402398139238358,0.11362209171056747,0.1849071979522705,0.08756042271852493,0.14488790929317474,0.06606649607419968,0.14969539642333984,0.13897795975208282,0.1413928121328354,0.07826922088861465,0.05805106833577156,0.06576814502477646,0.06749255210161209,0.08585914969444275,0.07679689675569534,0.1051013395190239,0.09546492248773575,0.07784470915794373,0.08623828738927841,0.2173462063074112,0.09737256914377213,0.19710344076156616,0.096127450466156,0.10677239298820496,0.11495900899171829,0.09691823273897171,0.09276137501001358,0.12471585720777512,0.11013881117105484,0.10065441578626633,0.1386084407567978,0.019026227295398712,0.061856891959905624,0.15110041201114655,0.13650575280189514,0.06496492028236389,0.09092319011688232,0.14224575459957123,0.047846075147390366,0.17790497839450836,0.09072256088256836,0.15075765550136566,0.07298421114683151,0.0137883760035038,0.042888592928647995,0.2448742389678955,0.09353920817375183,0.10790371894836426,0.20767630636692047,0.1402142494916916,0.13298191130161285,0.21351295709609985,0.25038087368011475,0.07237865775823593,0.08899814635515213,0.1494857221841812,0.13865944743156433,0.01185644418001175,0.21426184475421906,0.07363072782754898,0.15376120805740356,0.1512460857629776,0.16355890035629272,0.09819009155035019,0.09457265585660934,0.04028443619608879,0.15450768172740936,0.05155041441321373,0.12964917719364166,0.03198214992880821,0.3929762840270996,0.11475509405136108,0.07921777665615082,0.09058434516191483,0.06957601010799408,0.06598018854856491,0.09616731852293015,0.09178174287080765,0.06140509247779846,0.06304129213094711,0.1016722247004509,0.130238339304924,0.139800027012825,0.07070109993219376,0.02937314473092556,0.09972953051328659,0.08382422477006912,0.1687428206205368,0.08297204971313477,0.12592241168022156,0.09189566969871521,0.1123126670718193,0.206436887383461,0.09961583465337753,0.10161667317152023,0.19801606237888336,0.03927142918109894,0.056321706622838974,0.11474970728158951,0.11749950796365738,0.008190819062292576,0.07245643436908722,0.042543794959783554,0.04770008102059364,0.13185249269008636,0.1091475710272789,0.15985099971294403,0.059904079884290695,0.16040080785751343,0.06615692377090454,0.0660967156291008,0.045053888112306595,0.07635054737329483,0.10506612807512283,0.11264309287071228,0.1865176111459732,0.07546248286962509,0.12783096730709076,0.14247635006904602,0.05029962584376335,0.46330609917640686,0.16217361390590668,0.18915222585201263,0.06117216870188713,0.08777683973312378,0.07040343433618546,0.1522115021944046,0.10939978808164597,0.09112565964460373,0.09574403613805771,0.04566993936896324,0.16261409223079681,0.11309275031089783,0.17509417235851288,0.06808306276798248,0.08329745382070541,0.1507238894701004,0.100843645632267,0.11545169353485107,0.10433804988861084,0.09249529242515564,0.13987773656845093,0.15604530274868011,0.05339523032307625,0.054849639534950256,0.1924060583114624,0.05510927736759186,0.08583841472864151,0.11650339514017105,0.2921731770038605,0.11156708002090454,0.16941116750240326,0.11140692234039307,0.06281328201293945,0.09192162752151489,0.14189690351486206,0.045859113335609436,0.09331131726503372,0.12121915817260742,0.1481223702430725,0.10065629333257675,0.05275348946452141,0.06243565306067467,0.08718874305486679,0.10196620225906372,0.07942573726177216,0.0547514371573925,0.1144954189658165,0.09195978194475174,0.03771035745739937,0.14849509298801422,0.06071699783205986,0.08276652544736862,0.2071176916360855,0.05577995255589485,0.08843403309583664,0.1434546560049057,0.07306396216154099,0.04600636661052704,0.11875519901514053,0.05423906818032265,0.076334647834301,0.06145082786679268,0.14161492884159088,0.11117986589670181,0.07726834714412689,0.10925108939409256,0.05716320499777794,0.07864852994680405,0.04969210922718048,0.049998003989458084,0.07872715592384338,0.19547505676746368,0.08933508396148682,0.1024375930428505,0.06355340033769608,0.06185813620686531,0.07657160609960556,0.054518815129995346,0.13318127393722534,0.09475045651197433,0.08256874978542328,0.05457079038023949,0.13238419592380524,0.0884595736861229,0.0997912809252739,0.13480019569396973,0.28960713744163513,0.02438572607934475,0.09639228135347366,0.13958998024463654,0.19201403856277466,0.06233452260494232,0.1348721981048584,0.0629238411784172,0.06767704337835312,0.07053729891777039,0.1223280131816864,0.11372050642967224,0.3219313621520996,0.09990465641021729,0.03051384538412094,0.1383981853723526,0.18368767201900482,0.08729943633079529,0.07144327461719513,0.04026271402835846,0.10180357843637466,0.11433610320091248,0.06862472742795944,0.07142794877290726,0.10878904908895493,0.08606978505849838,0.0606507770717144,0.07914570719003677,0.06201807036995888,0.0766741931438446,0.07224244624376297,0.07672467082738876,0.08774051070213318,0.06891144067049026,0.1633753776550293,0.03712078183889389,0.08946508914232254,0.15817920863628387,0.06642831116914749,0.11884382367134094,0.09192246943712234,0.10560265183448792,0.20854540169239044,0.07137825340032578,0.10737260431051254,0.06187644228339195,0.12079450488090515,0.08749169111251831,0.060186970978975296,0.11405262351036072,0.05112750455737114,0.0916488990187645,0.1363442987203598,0.10115283727645874,0.09217697381973267,0.11426010727882385,0.12100205570459366,0.05292750522494316,0.13413290679454803,0.09069013595581055,0.1822139173746109,0.07666096836328506,0.0850382149219513,0.1934601217508316,0.0687175765633583,0.19277487695217133,0.0915742889046669,0.03636065870523453,0.04433770105242729,0.1358143389225006,0.1546793431043625,0.10303089022636414,0.16351376473903656,0.06419703364372253,0.13870377838611603,0.1924629956483841,0.034862007945775986,0.07462015748023987,0.10114676505327225,0.3834425210952759,0.06956411898136139,0.05957193672657013,0.07692411541938782,0.032269950956106186,0.08691044896841049,0.10857773572206497,0.07146406173706055,0.0668206512928009,0.1443200260400772,0.08360583335161209,0.0472499243915081,0.07417236268520355,0.3229597508907318,0.11785870790481567,0.0588533915579319,0.144445538520813,0.12247591465711594,0.12024039775133133,0.11463754624128342,0.12509359419345856,0.09172046929597855,0.052452992647886276,0.12383706122636795,0.04399971291422844,0.18630807101726532,0.03655537590384483,0.07888031750917435,0.13595782220363617,0.061303187161684036,0.05361626669764519,0.10778138786554337,0.08962908387184143,0.24340973794460297,0.034454088658094406,0.11165664345026016,0.1156512126326561,0.09654910117387772,0.05960869416594505,0.11046241968870163,0.12177932262420654,0.1151404157280922,0.1239120364189148,0.10049307346343994,0.09817627817392349,0.11354466527700424,0.10979447513818741,0.10245100408792496,0.10864903777837753,0.1555134654045105,0.08626129478216171,0.12232034653425217,0.1342783123254776,0.21442537009716034,0.10608268529176712,0.02764771692454815,0.0856584683060646,0.07890153676271439,0.10255700349807739,0.14244286715984344,0.1290476769208908,0.05644065514206886,0.07357405126094818,0.08575460314750671,0.11282391101121902,0.0916372612118721,0.10759842395782471,0.061229974031448364,0.052321016788482666,0.1456116884946823,0.10396521538496017,0.19347111880779266,0.06081415340304375,0.1374012976884842,0.14058806002140045,0.16298800706863403,0.06512511521577835,0.10531574487686157,0.08043434470891953,0.07411734759807587,0.0905245766043663,0.09764454513788223,0.1302715390920639,0.017300421372056007,0.11201553791761398,0.07231162488460541,0.031710587441921234,0.13703256845474243,0.07772046327590942,0.14772437512874603,0.05127173662185669,0.08354077488183975,0.09061864018440247,0.07966093719005585,0.08596368879079819,0.11090376228094101,0.07523105293512344,0.13717733323574066,0.09910210967063904,0.10427632182836533,0.2554706931114197,0.10330608487129211,0.15595297515392303,0.06189342960715294,0.04653722047805786,0.14556282758712769,0.056384578347206116,0.15022192895412445,0.06470130383968353,0.10379975289106369,0.07196024805307388,0.1305018961429596,0.0798594132065773,0.11971651762723923,0.0878676176071167,0.053001973778009415,0.07779166102409363,0.09343719482421875,0.07722428441047668,0.1315382421016693,0.05490223690867424,0.05040763318538666,0.05947929248213768,0.10769627243280411,0.1270492523908615,0.11309998482465744,0.11516439914703369,0.10568391531705856,0.09833308309316635,0.06415913999080658,0.11440189927816391,0.1112181544303894,0.08246906846761703,0.07163237780332565,0.11048341542482376,0.10817939788103104,0.14420154690742493,0.055872321128845215,0.10453972220420837,0.08629673719406128,0.12320321798324585,0.30694469809532166,0.05628903582692146,0.1057853102684021,0.11674237996339798,0.06695931404829025,0.063591368496418,0.24962683022022247,0.2932887375354767,0.036945443600416183,0.04720236733555794,0.054818201810121536,0.17006510496139526,0.09436342865228653,0.12451832741498947,0.19759933650493622,0.07769928872585297,0.085052989423275,0.08728170394897461,0.08473528176546097,0.080805703997612,0.1177203580737114,0.08484550565481186,0.08131019026041031,0.21893644332885742,0.10325580090284348,0.05950768664479256,0.18482626974582672,0.11980646848678589,0.06902167946100235,0.09907767921686172,0.060165006667375565,0.03997225686907768,0.07952725142240524,0.19694304466247559,0.1779852658510208,0.11340248584747314,0.05887412652373314,0.1026255264878273,0.20827025175094604,0.09187228232622147,0.10515883564949036,0.10053280740976334,0.07480114698410034,0.10604339838027954,0.15684375166893005,0.08481771498918533,0.11526086181402206,0.08422712236642838,0.05602867901325226,0.06655510514974594,0.046337392181158066,0.060933783650398254,0.061723146587610245,0.11098715662956238,0.06250698864459991,0.0693688616156578,0.15150998532772064,0.0970410406589508,0.08709407597780228,0.20929884910583496,0.21234230697155,0.03749540448188782,0.12264346331357956,0.08222567290067673,0.07853976637125015,0.11567316204309464,0.11124259978532791,0.1185164749622345,0.1153918206691742,0.10467813163995743,0.012923716567456722,0.09574679285287857,0.07398944348096848,0.1331787109375,0.07880202680826187,0.0852983295917511,0.10022806376218796,0.09323974698781967,0.09828289598226547,0.1423693150281906,0.02403195947408676,0.09406652301549911,0.1095072403550148,0.1251087784767151,0.1591183990240097,0.06330379843711853,0.14430852234363556,0.09416243433952332,0.16818469762802124,0.009143256582319736,0.06389211118221283,0.10852160304784775,0.17175178229808807,0.0958075299859047,0.10021317005157471,0.05592934414744377,0.08815658837556839,0.23471713066101074,0.05874963477253914,0.03945165500044823,0.07580810785293579,0.06817670911550522,0.06428279727697372,0.07148051261901855,0.12563715875148773,0.10575196146965027,0.06544728577136993,0.08856984972953796,0.12876532971858978,0.06571323424577713,0.045743346214294434,0.07343709468841553,0.08713480085134506,0.046364784240722656,0.08236349374055862,0.11034473031759262,0.07042019814252853,0.06554340571165085,0.019403355196118355,0.09398119896650314,0.05035734176635742,0.06191394850611687,0.10772556066513062,0.09191149473190308,0.12060713768005371,0.0946730449795723,0.15035919845104218,0.08848810195922852,0.06499024480581284,0.10026207566261292,0.04482795298099518,0.05138944461941719,0.04033379629254341,0.09939681738615036,0.03942045196890831,0.015277084894478321,0.1197548508644104,0.12114971876144409,0.05736640468239784,0.07826518267393112,0.09704065322875977,0.14121757447719574,0.010595289058983326,0.053853973746299744,0.03237561136484146,0.14462296664714813,0.11196324974298477,0.08294282108545303,0.05617054924368858,0.12643612921237946,0.14636297523975372,0.04085545614361763,0.09431413561105728,0.0955977514386177,0.06936720013618469,0.09985489398241043,0.28207406401634216,0.03149924799799919,0.08810537308454514,0.04322104528546333,0.07727134227752686,0.06527787446975708,0.044285956770181656,0.09428983926773071,0.0730532631278038,0.11951777338981628,0.17415408790111542,0.043970927596092224,0.09127449989318848,0.0625176802277565,0.09858984500169754,0.14019951224327087,0.14110051095485687,0.0961819589138031,0.0647226944565773,0.10299298912286758,0.07860401272773743,0.060547277331352234,0.013523244298994541,0.052212417125701904,0.08144095540046692,0.0615219920873642,0.17317141592502594,0.03756485506892204,0.13759072124958038,0.08803484588861465,0.04418467357754707,0.049648869782686234,0.17702917754650116,0.07005593180656433,0.0649619922041893,0.1584588587284088,0.08310136944055557,0.07108204811811447,0.07827667146921158,0.030709750950336456,0.2477084994316101,0.10378330945968628,0.08574902266263962,0.05714289844036102,0.18247868120670319,0.13285522162914276,0.10222093015909195,0.22287005186080933,0.1474040001630783,0.08140102028846741,0.05875449255108833,0.09115781635046005,0.0883682444691658,0.08242242783308029,0.07914344221353531,0.07564160227775574,0.11979813128709793,0.08154110610485077,0.08876944333314896,0.05715286359190941,0.07744278758764267,0.052379246801137924,0.22581112384796143,0.15442977845668793,0.09112027287483215,0.040020108222961426,0.09635413438081741,0.05683912709355354,0.1104065552353859,0.08451854437589645,0.1525556743144989,0.052253853529691696,0.10539557784795761,0.03356736898422241,0.09192764759063721,0.14003661274909973,0.06098140403628349,0.05886402726173401,0.06350191682577133,0.0617009736597538,0.03925563022494316,0.058123309165239334,0.10513944178819656,0.09542433172464371,0.11580422520637512,0.0827927514910698,0.06434552371501923,0.07017068564891815,0.06945933401584625,0.041412826627492905,0.049255773425102234,0.06122783198952675,0.08846589922904968,0.08260984718799591,0.07711980491876602,0.10195710510015488,0.1494397670030594,0.08666416257619858,0.04012199863791466,0.1214880645275116,0.048455629497766495,0.0302752498537302,0.11853577941656113,0.08890000730752945,0.07766757905483246,0.10652164369821548,0.09496179968118668,0.11487849801778793,0.1630975306034088,0.16993345320224762,0.043532297015190125,0.08742678910493851,0.11940222233533859,0.07306744903326035,0.13503330945968628,0.1203012689948082,0.0527077354490757,0.085843026638031,0.045343440026044846,0.031941741704940796,0.09901344776153564,0.05313975736498833,0.06684637814760208,0.04581641033291817,0.07631023973226547,0.07370255142450333,0.1065182089805603,0.1565583497285843,0.07549754530191422,0.05084088072180748,0.024459535256028175,0.07804085314273834,0.07581939548254013,0.07902320474386215,0.05745131894946098,0.059617310762405396,0.07961482554674149,0.04930907115340233,0.09676762670278549,0.1391063630580902,0.09051894396543503,0.14314939081668854,0.08666536211967468,0.08288798481225967,0.09633772820234299,0.15020522475242615,0.0731755867600441,0.11056213825941086,0.11032047122716904,0.09128279238939285,0.09360826760530472,0.08516136556863785,0.01444398332387209,0.06192290410399437,0.08792483061552048,0.111623615026474,0.10499566793441772,0.0965084359049797,0.05837482586503029,0.1404525190591812,0.08566155284643173,0.09414092451334,0.039800990372896194,0.07593537867069244,0.0496879406273365,0.0966307520866394,0.1361040323972702,0.15897950530052185,0.1503063440322876,0.13058792054653168,0.09480669349431992,0.0803573876619339,0.09995818883180618,0.11724650114774704,0.08473599702119827,0.014383315108716488,0.10293135792016983,0.0986829400062561,0.1405326873064041,0.01954452134668827,0.13770146667957306,0.1168912723660469,0.07607617229223251,0.0965745821595192,0.0489468090236187,0.08557526022195816,0.07462704926729202,0.07061649113893509,0.09884708374738693,0.07215096056461334,0.10080400109291077,0.1203673854470253,9.129594545811415E-4,0.10150158405303955,0.17603518068790436,0.08279673755168915,0.11209221929311752,0.11934050917625427,0.06793101131916046,0.15570536255836487,0.06431593745946884,0.12532161176204681,0.12137023359537125,0.04804917797446251,0.07470997422933578,0.1725003719329834,0.07533935457468033,0.038735684007406235,0.07370243221521378,0.0730878934264183,0.09008881449699402,0.10550105571746826,0.11889269948005676,0.10131943225860596,0.025813912972807884,0.14290852844715118,0.07475121319293976,0.06346329301595688,0.014211170375347137,0.09417182207107544,0.10188784450292587,0.23253333568572998,0.06115889176726341,0.11929430812597275,0.11502187699079514,0.06833434849977493,0.1180155873298645,0.07297594100236893,0.1142001748085022,0.1859232634305954,0.14061252772808075,0.08360605686903,0.05846371129155159,0.11969253420829773,0.12749701738357544,0.21825625002384186,0.1492522805929184,0.1858067512512207,0.11108655482530594,0.03450273349881172,0.1429145634174347,0.03912623971700668,0.10715281218290329,0.13788795471191406,0.16398930549621582,0.06796278804540634,0.12212314456701279,0.09321809560060501,0.23452778160572052,0.18913666903972626,0.0751664936542511,0.10805665701627731,0.14607682824134827,0.09173300117254257,0.061149176210165024,0.1123998761177063,0.15215255320072174,0.043250977993011475,0.11579888314008713,0.10314235091209412,0.07893024384975433,0.06974466890096664,0.10866119712591171,0.1662265658378601,0.053512584418058395,0.13384884595870972,0.08314380794763565,0.08750135451555252,0.08797875791788101,0.16879238188266754,0.0688735619187355,0.06789229810237885,0.08101591467857361,0.014953137375414371,0.05811704322695732,0.05703073367476463,0.09642833471298218,0.05741838738322258,0.0996493324637413,0.06637630611658096,0.0582120306789875,0.026653259992599487,0.05417930707335472,0.10982523113489151,0.10929469019174576,0.10014107823371887,0.08167543262243271,0.05580449476838112,0.09049388021230698,0.0859132930636406,0.28433406352996826,0.053467970341444016,0.1057659313082695,0.06604530662298203,0.15054108202457428,0.04656871035695076,0.12163063138723373,0.06978307664394379,0.11606799811124802,0.10507778078317642,0.07475774735212326,0.08060062676668167,0.11835507303476334,0.053805332630872726,0.10594648867845535,0.16335828602313995,0.08567777276039124,0.06827481091022491,0.09502165764570236,0.08401995897293091,0.12188780307769775,0.10529733449220657,0.1342734694480896,0.131507009267807,0.1610725224018097,0.0968758687376976,0.05760006979107857,0.06460616737604141,0.1263902336359024,0.03686808422207832,0.10176852345466614,0.09873498231172562,0.10570768266916275,0.061632756143808365,0.11533694714307785,0.09900051355361938,0.042618174105882645,0.2720998227596283,0.03676052764058113,0.07648465037345886,0.0806826800107956,0.14898087084293365,0.03760195150971413,0.1667734980583191,0.0843556746840477,0.09050295501947403,0.2052607536315918,0.02233441360294819,0.11377015709877014,0.07834627479314804,0.045570433139801025,0.1343572586774826,0.12847106158733368,0.1595449149608612,0.07601175457239151,0.1930357664823532,0.13593833148479462,0.07679623365402222,0.11017963290214539,0.04215380921959877,0.06833788007497787,0.08748885244131088,0.10524284094572067,0.1746353656053543,0.1387941688299179,0.10931233316659927,0.17505931854248047,0.0757671371102333,0.27611568570137024,0.08372974395751953,0.10011783987283707,0.05385442078113556,0.124229796230793,0.1149335578083992,0.09501179307699203,0.059491116553545,0.06224144622683525,0.14944638311862946,0.10790855437517166,0.04763820394873619,0.0831722840666771,0.11452638357877731,0.0620366595685482,0.08875582367181778,0.07818374782800674,0.18112872540950775,0.16880448162555695,0.16431337594985962,0.06499992311000824,0.17844927310943604,0.053377676755189896,0.1838921308517456,0.05676703155040741,0.1370772421360016,0.11104574799537659,0.09114731103181839,0.09522548317909241,0.12829889357089996,0.054942935705184937,0.024286851286888123,0.0747714415192604,0.14604882895946503,0.06603642553091049,0.15161485970020294,0.07153671234846115,0.07619426399469376,0.10521950572729111,0.056746289134025574,0.042930811643600464,0.21395725011825562,0.12113624811172485,0.1481892615556717,0.16493754088878632,0.01748918555676937,0.07572949677705765,0.08128390461206436,0.08217664808034897,0.04306969419121742,0.09861744195222855,0.11905556172132492,0.1050063893198967,0.14683426916599274,0.09071256965398788,0.07604601979255676,0.0922442153096199,0.1375253051519394,0.09603331238031387,0.08120853453874588,0.10025166720151901,0.13117609918117523,0.09726715087890625,0.10360720008611679,0.09089576452970505,0.06373366713523865,0.15426938235759735,0.11978999525308609,0.07628647238016129,0.12515084445476532,0.060029953718185425,0.061692241579294205,0.08388250321149826,0.1572791039943695,0.23932844400405884,0.12101826071739197,0.04760327562689781,0.046295199543237686,0.12069734185934067,0.027266046032309532,0.13978217542171478,0.09997019171714783,0.13875697553157806,0.04897753521800041,0.15120664238929749,0.13305334746837616,0.19119364023208618,0.032255467027425766,0.09283851832151413,0.06815152615308762,0.12541140615940094,0.09196475148200989,0.058290135115385056,0.1525808423757553,0.09005578607320786,0.1308264583349228,0.08741550892591476,0.1307610422372818,0.09305870532989502,0.04892188310623169,0.13147704303264618,0.13877104222774506,0.03150373324751854,0.09548812359571457,0.03334347531199455,0.07309896498918533,0.08770843595266342,0.08505719155073166,0.07046514749526978,0.1407630294561386,0.14658169448375702,0.17266201972961426,0.034029770642519,0.07581781595945358,0.04824592545628548,0.11638464778661728,0.16832108795642853,0.051294710487127304,0.10522866994142532,0.04498632624745369,0.13116078078746796,0.03942400962114334,0.08997544646263123,0.0716557502746582,0.14325399696826935,0.05500298738479614,0.16438816487789154,0.05778998136520386,0.06663895398378372,0.08488386124372482,0.08953302353620529,0.0782342255115509,0.0808166116476059,0.23472942411899567,0.08927124738693237,0.06126273050904274,0.12351987510919571,0.10760033130645752,0.34877145290374756,0.11839425563812256,0.012453620322048664,0.06813616305589676,0.06459137797355652,0.10714023560285568,0.2172362357378006,0.04181396961212158,0.14031527936458588,0.10010319948196411,0.14766882359981537,0.07810850441455841,0.14673860371112823,0.14189350605010986,0.07677857577800751,0.09288296848535538,0.05572296679019928,0.23864303529262543,0.14468137919902802,0.03846554830670357,0.11801356077194214,0.06582199782133102,0.06187028810381889,0.20495836436748505,0.07619991153478622,0.07050734758377075,0.04475298896431923,0.05796195939183235,0.18625779449939728,0.032191067934036255,0.07221312075853348,0.11460807919502258,0.08372467011213303,0.08252640068531036,0.14411799609661102,0.13290736079216003,0.11793818324804306,0.16368182003498077,0.08419758826494217,0.0497363843023777,0.09964270144701004,0.1425236016511917,0.10803001374006271,0.07670776546001434,0.18275266885757446,0.1772909164428711,0.06876871734857559,0.10352102667093277,0.05279543623328209,0.07721655815839767,0.06855025142431259,0.10502252727746964,0.10699725151062012,0.07400906831026077,0.11155957728624344,0.1121702715754509,0.07473530620336533,0.09861043840646744,0.12143906950950623,0.10541218519210815,0.12257213145494461,0.14350375533103943,0.06163595989346504,0.07094193994998932,0.04440112039446831,0.07401714473962784,0.06517180055379868,0.09992522746324539,0.19331561028957367,0.15775665640830994,0.14323493838310242,0.11306992918252945,0.06727830320596695,0.11816362291574478,0.09093385189771652,0.2750382125377655,0.1061936616897583,0.05119246616959572,0.14684711396694183,0.0784151628613472,0.04850908741354942,0.09774657338857651,0.130204439163208,0.1686067432165146,0.04386012256145477,0.1287379115819931,0.12306148558855057,0.13399145007133484,0.08843710273504257,0.14920906722545624,0.10976282507181168,0.14251065254211426,0.07517034560441971,0.15806585550308228,0.12513990700244904,0.1535584181547165,0.07243748009204865,0.13985247910022736,0.24721704423427582,0.07310701906681061,0.05410416051745415,0.09218878298997879,0.11659428477287292,0.061253488063812256,0.11915186792612076,0.06395129859447479,0.09811908006668091,0.10031657665967941,0.0723932683467865,0.12764327228069305,0.08204001933336258,0.18557138741016388,0.0749211460351944,0.06948880106210709,0.06497219204902649,0.06238873675465584,0.09988459944725037,0.16458696126937866,0.13177920877933502,0.07362820953130722,0.050571609288454056,0.060951877385377884,0.09360974282026291,0.088384248316288,0.11270439624786377,0.10286092013120651,0.1012566015124321,0.06200726330280304,0.03169654682278633,0.062016811221838,0.09136473387479782,0.07347074896097183,0.12633849680423737,0.06853092461824417,0.10543254762887955,0.07595742493867874,0.06051870062947273,0.10855580121278763,0.06323494017124176,0.109539695084095,0.04857699200510979,0.10205132514238358,0.06957028061151505,0.0563940703868866,0.0956869125366211,0.06469978392124176,0.07977453619241714,0.062460314482450485,0.06739215552806854,0.032168153673410416,0.1413906365633011,0.063230000436306,0.04411577805876732,0.10756450146436691,0.09455063194036484,0.10865380614995956,0.0620618611574173,0.036344245076179504,0.06264632195234299,0.10194820910692215,0.07063949853181839,0.08611661195755005,0.036771200597286224,0.08306320756673813,0.03882940486073494,0.11886436492204666,0.06364603340625763,0.03750858083367348,0.039146292954683304,0.14311783015727997,0.1110524907708168,0.14548403024673462,0.07378214597702026,0.09288211911916733,0.1228400245308876,0.09480014443397522,0.09315746277570724,0.09331642836332321,0.09183996170759201,0.13380590081214905,0.0974753275513649,0.08873510360717773,0.10878172516822815,0.15850426256656647,0.10496138781309128,0.11495658755302429,0.06594624370336533,0.10413294285535812,0.042718008160591125,0.10083938390016556,0.2067798525094986,0.03295767679810524,0.09557348489761353,0.08572891354560852,0.04846964776515961,0.08371704816818237,0.18167372047901154,0.16829395294189453,0.10780498385429382,0.12247228622436523,0.08534705638885498,0.13724695146083832,0.06357589364051819,0.22941066324710846,0.09700261801481247,0.08774659037590027,0.023551510646939278,0.0962090715765953,0.1058913990855217,0.04944435879588127,0.05725216865539551,0.07573337852954865,0.07738032937049866,0.11822878569364548,0.0883340910077095,0.1480323225259781,0.11585866659879684,0.10437488555908203,0.05145683512091637,0.029777085408568382,0.07551368325948715,0.07488687336444855,0.09102139621973038,0.061653852462768555,0.0867147445678711,0.044016677886247635,0.06406555324792862,0.04150371998548508,0.05941401422023773,0.09873933345079422,0.025093985721468925,0.11441987007856369,0.08510655909776688,0.08895108848810196,0.04715898633003235,0.07016467303037643,0.043440576642751694,0.06721866875886917,0.04594637081027031,0.09662860631942749,0.279915988445282,0.10495924204587936,0.027560271322727203,0.08948733657598495,0.09464063495397568,0.09366199374198914,0.12006283551454544,0.12328550219535828,0.16185793280601501,0.11322201043367386,0.03533758968114853,0.13521870970726013,0.032595954835414886,0.04339290037751198,0.05874573811888695,0.058837249875068665,0.03424621745944023,0.12258236855268478,0.0541204996407032,0.07430668920278549,0.09086156636476517,0.0397324375808239,0.12492600083351135,0.11941006779670715,0.0935518816113472,0.04948249086737633,0.06710527837276459,0.05745530501008034,0.07364741712808609,0.03928979113698006,0.0727274939417839,0.07048773020505905,0.1084059476852417,0.11474636197090149,0.12842173874378204,0.10493601113557816,0.09440205246210098,0.03898143395781517,0.10847488790750504,0.03809365630149841,0.04447132349014282,0.07718883454799652,0.04840878024697304,0.05916823074221611,0.24860765039920807,0.03796211630105972,0.08453771471977234,0.030964897945523262,0.04008379951119423,0.11657536029815674,0.11124124377965927,0.07302910834550858,0.1744995266199112,0.07767914980649948,0.159388467669487,0.08176609128713608,0.12687772512435913,0.060741886496543884,0.13406170904636383,0.06303780525922775,0.12121346592903137,0.03191957250237465,0.10063150525093079,0.1254384070634842,0.06249363347887993,0.06818985193967819,0.08046422153711319,0.09559496492147446,0.05581863597035408,0.11463519930839539,0.09091459959745407,0.054713040590286255,0.1763581484556198,0.029859503731131554,0.034732069820165634,0.10666602104902267,0.009704817086458206,0.05808301642537117,0.045686159282922745,0.04293173924088478,0.046020086854696274,0.1506754606962204,0.09044590592384338,0.10345447063446045,0.07301153987646103,0.07331057637929916,0.09364538639783859,0.09507665783166885,0.04552927985787392,0.061111509799957275,0.04481429234147072,0.15210309624671936,0.12417420744895935,0.08106101304292679,0.03670666739344597,0.0981331393122673,0.07221578806638718,0.06425802409648895,0.11509403586387634,0.07637669891119003,0.07545800507068634,0.17020897567272186,0.061598461121320724,0.14741969108581543,0.10117992013692856,0.123783178627491,0.05181699991226196,0.09230918437242508,0.06437359005212784,0.1288306564092636,0.08799022436141968,0.03205534443259239,0.10593254119157791,0.046436894685029984,0.1156313419342041,0.3186710774898529,0.15823866426944733,0.05125042423605919,0.10380521416664124,0.151020810008049,0.07106424123048782,0.11276111006736755,0.06288636475801468,0.0814303606748581,0.10432348400354385,0.11987441778182983,0.19920535385608673,0.10696118324995041,0.21550583839416504,0.09941309690475464,0.16244779527187347,0.06452460587024689,0.11988122016191483,0.06748615950345993,0.21125560998916626,0.060685038566589355,0.03259064257144928,0.0852833017706871,0.0555155985057354,0.08968940377235413,0.12504220008850098,0.08768835663795471,0.09033415466547012,0.03795322775840759,0.09112658351659775,0.14418542385101318,0.11449544876813889,0.10050049424171448,0.13476411998271942,0.11465343087911606,0.07054579257965088,0.1524234265089035,0.06679043918848038,0.08935556560754776,0.1418626755475998,0.07127930223941803,0.11148297786712646,0.041557103395462036,0.15372580289840698,0.09975522756576538,0.09980519860982895,0.09120595455169678,0.10055071860551834,0.09927260875701904,0.05062523111701012,0.11259987205266953,0.07006863504648209,0.344524621963501,0.11171519011259079,0.07870104163885117,0.23431004583835602,0.05390046909451485,0.032454971224069595,0.05129005014896393,0.16806675493717194,0.057954516261816025,0.12308701127767563,0.06014639139175415,0.14514346420764923,0.02639058232307434,0.11041450500488281,0.06717311590909958,0.0518379807472229,0.20583826303482056,0.09947679191827774,0.09716600179672241,0.16737668216228485,0.05632279813289642,0.09545478969812393,0.011688441969454288,0.21788911521434784,0.22099800407886505,0.06093382462859154,0.015808438882231712,0.03446328267455101,0.1780714988708496,0.15268294513225555,0.10390684753656387,0.30247870087623596,0.11281552910804749,0.1657436341047287,0.03601251542568207,0.04614118114113808,0.195487841963768,0.11466211080551147,0.12655584514141083,0.05748046934604645,0.0690985694527626,0.16243226826190948,0.10292956233024597,0.10665535926818848,0.09535238891839981,0.16163776814937592,0.17129331827163696,0.05752256512641907,0.05302603915333748,0.12863293290138245,0.07147977501153946,0.0892167016863823,0.05822506546974182,0.18870572745800018,0.07422619313001633,0.1756814569234848,0.0747285857796669,0.08596690744161606,0.13981927931308746,0.10788043588399887,0.04209375008940697,0.271297812461853,0.03683486580848694,0.06303221732378006,0.08112987130880356,0.0804491713643074,0.0704822763800621,0.09171586483716965,0.05680205300450325,0.09245064854621887,0.3323771059513092,0.12651363015174866,0.09843983501195908,0.027795234695076942,0.03020084649324417,0.06413983553647995,0.11619845777750015,0.1063733771443367,0.015983492136001587,0.15042299032211304,0.014440782368183136,0.1167624220252037,0.0355423279106617,0.031206252053380013,0.06456556916236877,0.1332150101661682,0.09019851684570313,0.09290020912885666,0.13119763135910034,0.06869930773973465,0.1068539246916771,0.1683090776205063,0.0885077714920044,0.04110865294933319,0.07863346487283707,0.1435360461473465,0.09629985690116882,0.07651887089014053,0.08445646613836288,0.13036024570465088,0.10084735602140427,0.0627751350402832,0.04078742489218712,0.12915445864200592,0.033474136143922806,0.09354770183563232,0.10605781525373459,0.030874989926815033,0.12704169750213623,0.16820287704467773,0.07091065496206284,0.07640174776315689,0.07092364877462387,0.02088199555873871,0.08915094286203384,0.2036638706922531,0.059211719781160355,0.07080533355474472,0.17532019317150116,0.22367514669895172,0.0752604603767395,0.11674322932958603,0.1494452804327011,0.0338999405503273,0.06938162446022034,0.10433190315961838,0.05836329981684685,0.10453969240188599,0.09295725077390671,0.07550416141748428,0.09712832421064377,0.13924770057201385,0.05947182700037956,0.032036155462265015,0.18543648719787598,0.09910640120506287,0.09410616010427475,0.2714088261127472,0.20810467004776,0.06899627298116684,0.12391743063926697,0.07765201479196548,0.10218100994825363,0.05344764515757561,0.07775621861219406,0.044907182455062866,0.07972020655870438,0.06105530634522438,0.11564800888299942,0.02237076312303543,0.15307258069515228,0.09994048625230789,0.08181779086589813,0.179204061627388,0.061058659106492996,0.10481575131416321,0.15181177854537964,0.15517596900463104,0.028221571817994118,0.08657237887382507,0.1429463028907776,0.09878870099782944,0.15724985301494598,0.10025421530008316,0.17531906068325043,0.04415740445256233,0.06756006181240082,0.08960271626710892,0.0660042017698288,0.10063254833221436,0.10916753858327866,0.0754416361451149,0.08706805855035782,0.05498889088630676,0.15233953297138214,0.10670431703329086,0.12612691521644592,0.048117365688085556,0.14912860095500946,0.10460063070058823,0.10113567858934402,0.09433677792549133,0.06122520938515663,0.06144679710268974,0.12190186232328415,0.11671733856201172,0.07249868661165237,0.07837352156639099,0.054029375314712524,0.07244668900966644,0.10223889350891113,0.05073520168662071,0.06617340445518494,0.15109242498874664,0.07187289744615555,0.06251760572195053,0.16612957417964935,0.0698055550456047,0.09938675910234451,0.09481913596391678,0.07343164831399918,0.15665903687477112,0.12688252329826355,0.15825213491916656,0.07226625829935074,0.03442896157503128,0.1042381152510643,0.08726208657026291,0.13099627196788788,0.11210257560014725,0.05764992907643318,0.08603069931268692,0.1480519026517868,0.08600210398435593,0.0899776741862297,0.032671887427568436,0.042200978845357895,0.12586258351802826,0.054772570729255676,0.062233224511146545,0.05526408553123474,0.11097938567399979,0.058193057775497437,0.15984216332435608,0.15645582973957062,0.07966168224811554,0.2870246469974518,0.031255092471838,0.05859294906258583,0.12935274839401245,0.10100981593132019,0.13432560861110687,0.056466590613126755,0.09931802749633789,0.059411581605672836,0.032477349042892456,0.07871141284704208,0.11631008982658386,0.08609390258789063,0.0998348593711853,0.1355210691690445,0.07545920461416245,0.16135574877262115,0.12513956427574158,0.06506334990262985,0.11443235725164413,0.06937003880739212,0.21537263691425323,0.057598263025283813,0.12003963440656662,0.11068114638328552,0.15657469630241394,0.04106566682457924,0.1322188675403595,0.12015160173177719,0.053210388869047165,0.1314888298511505,0.1308843344449997,0.07218243181705475,0.11243394762277603,0.05317828059196472,0.184661865234375,0.11969133466482162,0.09522182494401932,0.08876434713602066,0.06515707075595856,0.05495600029826164,0.07444572448730469,0.0765790119767189,0.10401282459497452,0.10510078072547913,0.14306962490081787,0.11504098027944565,0.13645769655704498,0.043117914348840714,0.14416919648647308,0.11914228647947311,0.04738983139395714,0.12283935397863388,0.08276379108428955,0.10869947820901871,0.03470505401492119,0.080389104783535,0.09494516998529434,0.11744082719087601,0.04237445071339607,0.22386687994003296,0.07664020359516144,0.1635044664144516,0.06369458884000778,0.057002559304237366,0.119329534471035,0.077424056828022,0.06279787421226501,0.11583343893289566,0.130374476313591,0.17580007016658783,0.0874798595905304,0.054652318358421326,0.10438117384910583,0.07521351426839828,0.1204034686088562,0.046048764139413834,0.3627195656299591,0.1491250991821289,0.11325237900018692,0.06275782734155655,0.04624427855014801,0.16411632299423218,0.0565490685403347,0.253836452960968,0.06912464648485184,0.09707161784172058,0.081465944647789,0.08394074440002441,0.26573053002357483,0.04123866558074951,0.06596726179122925,0.09184571355581284,0.05903606116771698,0.12422087043523788,0.06567291170358658,0.14314483106136322,0.10391008853912354,0.04923587664961815,0.07885649055242538,0.12222246080636978,0.10821018368005753,0.11791170388460159,0.10940445214509964,0.11816832423210144,0.16613607108592987,0.09157008677721024,0.07977070659399033,0.09281409531831741,0.09775770455598831,0.12448633462190628,0.12467985600233078,0.08527753502130508,0.06712646037340164,0.07324940711259842,0.3703797161579132,0.12487265467643738,0.08036692440509796,0.19859768450260162,0.09114045649766922,0.07886631041765213,0.05907484516501427,0.06391894072294235,0.08471590280532837,0.09687771648168564,0.10158715397119522,0.07358906418085098,0.12329324334859848,0.07935072481632233,0.0686078891158104,0.09788805991411209,0.09951839596033096,0.12541870772838593,0.0479932576417923,0.06624787300825119,0.1512739658355713,0.1467801332473755,0.1436123251914978,0.1974840611219406,0.10306704044342041,0.05895588919520378,0.05666655674576759,0.14917106926441193,0.1507846564054489,0.07437699288129807,0.04059610143303871,0.06811115145683289,0.04325104132294655,0.05837637558579445,0.050943393260240555,0.030371859669685364,0.11848660558462143,0.03470224514603615,0.0316738486289978,0.12897534668445587,0.09610801190137863,0.17634104192256927,0.07016607373952866,0.15632641315460205,0.11250301450490952,0.13222911953926086,0.11623161286115646,0.0907452329993248,0.09189867228269577,0.1194034144282341,0.023784292861819267,0.08366290479898453,0.1039334237575531,0.08642522245645523,0.12728916108608246,0.10479477792978287,0.11792101711034775,0.06734970957040787,0.09188870340585709,0.08168437331914902,0.06159934774041176,0.09268566220998764,0.16780121624469757,0.1503380686044693,9.696153574623168E-4,0.10203225165605545,0.1764015406370163,0.11325433105230331,0.07860057801008224,0.20128083229064941,0.158846914768219,0.15129458904266357,0.06897445023059845,0.1150740310549736,0.03128251060843468,0.06292624026536942,0.09338892251253128,0.152364119887352,0.12154769152402878,0.13957445323467255,0.06315778940916061,0.10303200036287308,0.28365957736968994,0.01558771450072527,0.14033517241477966,0.06685348600149155,0.10967282205820084,0.18000899255275726,0.11310773342847824,0.14300183951854706,0.055412936955690384,0.1824815422296524,0.13262222707271576,0.22114156186580658,0.17388129234313965,0.07543244957923889,0.06812947243452072,0.09442154318094254,0.12045574933290482,0.08721328526735306,0.07070259004831314,0.11847880482673645,0.046461138874292374,0.04909177124500275,0.09835583716630936,0.16889072954654694,0.1110876202583313,0.059379324316978455,0.07544171810150146,0.13859331607818604,0.14015412330627441,0.062186259776353836,0.18462049961090088,0.060860585421323776,0.09990382939577103,0.14742575585842133,0.07165010273456573,0.0872383639216423,0.13399358093738556,0.17229992151260376,0.08877623081207275,0.08292428404092789,0.20636995136737823,0.05291134491562843,0.08090224117040634,0.06388351321220398,0.013804075308144093,0.12102522701025009,0.1363355964422226,0.09813546389341354,0.1490539163351059,0.15007440745830536,0.011156435124576092,0.0389203242957592,0.15718325972557068,0.07482987642288208,0.09268825501203537,0.09664363414049149,0.10897708684206009,0.26207655668258667,0.19384364783763885,0.09046050161123276,0.18208612501621246,0.09140292555093765,0.11672201007604599,0.15148042142391205,0.18297924101352692,0.1837097406387329,0.11115914583206177,0.06916896253824234,0.057281866669654846,0.09523005038499832,0.07544960081577301,0.06142647564411163,0.06547591090202332,0.06796324253082275,0.08219464123249054,0.1417180597782135,0.10981053858995438,0.14102445542812347,0.08223103731870651,0.08526182919740677,0.1115524172782898,0.03543077036738396,0.07384617626667023,0.0754278376698494,0.06881489604711533,6.536867585964501E-4,0.054268985986709595,0.06658884137868881,0.07506311684846878,0.1356266587972641,0.0673798993229866,0.04314302280545235,0.10748546570539474,0.08174661546945572,0.125576451420784,0.2098224014043808,0.06989642977714539,0.13089793920516968,0.03740999847650528,0.15711165964603424,0.22225256264209747,0.06852696090936661,0.13568620383739471,0.11223173141479492,0.13608773052692413,0.06372998654842377,0.15626542270183563,0.1296912580728531,0.1537012904882431,0.08321533352136612,0.09816103428602219,0.38712143898010254,0.05623314902186394,0.10023688524961472,0.04953891038894653,0.21806959807872772,0.05889244005084038,0.08353406190872192,0.18056662380695343,0.06783384084701538,0.09080218523740768,0.15319746732711792,0.12062197178602219,0.19484800100326538,0.15978115797042847,0.1871674507856369,0.1422453224658966,0.06977234035730362,0.11424032598733902,0.10861312597990036,0.07983594387769699,0.07635863870382309,0.083236925303936,0.18487291038036346,0.0474330373108387,0.14171119034290314,0.05674773082137108,0.09827238321304321,0.15058887004852295,0.12293058633804321,0.041533924639225006,0.0960138812661171,0.06698674708604813,0.07888715714216232,0.08610963821411133,0.1225564107298851,0.10480541735887527,0.10064630955457687,0.1312805712223053,0.15554246306419373,0.11036616563796997,0.03642304614186287,0.0789966806769371,0.043348345905542374,0.09544544667005539,0.16335132718086243,0.15860874950885773,0.058369800448417664,0.08114916831254959,0.04549132287502289,0.09394422918558121,0.13429488241672516,0.09217586368322372,0.10780853778123856,0.14870962500572205,0.06104646995663643,0.05961624160408974,0.08121734857559204,0.09412483125925064,0.1193554475903511,0.06387058645486832,0.050039637833833694,0.09602681547403336,0.13752694427967072,0.13141779601573944,0.15637509524822235,0.0972418487071991,0.07090575248003006,0.07963430136442184,0.12584614753723145,0.04183279350399971,0.11097344011068344,0.10346832871437073,0.05304470658302307,0.05796799063682556,0.10021978616714478,0.12121481448411942,0.08505448698997498,0.07324454188346863,0.09061461687088013,0.08367393165826797,0.13146542012691498,0.15628662705421448,0.07843399047851563,0.1450771540403366,0.09040143340826035,0.08429891616106033,0.08021752536296844,0.05759982764720917,0.1176263689994812,0.06048188731074333,0.20855675637722015,0.03561671823263168,0.11359778046607971,0.07797691971063614,0.10810793191194534,0.32878920435905457,0.04164249822497368,0.14818572998046875,0.1811547428369522,0.11585536599159241,0.04389289394021034,0.06665746122598648,0.04232173040509224,0.08247332274913788,0.10951594263315201,0.07468818873167038,0.20633137226104736,0.09698596596717834,0.05431857705116272,0.09420109540224075,0.08779395371675491,0.06164884194731712,0.06874705106019974,0.05012819170951843,0.04722652956843376,0.1223655715584755,0.09577346593141556,0.10275140404701233,0.07612543553113937,0.06751365214586258,0.12113369256258011,0.07597299665212631,0.06332818418741226,0.09678445011377335,0.07429235428571701,0.10923424363136292,0.0497443825006485,0.14159518480300903,0.15139180421829224,0.10739120841026306,0.1270647644996643,0.07845243066549301,0.022750504314899445,0.11818503588438034,0.07316409796476364,0.06121957302093506,0.10737752914428711,0.09750160574913025,0.04441123828291893,0.13683319091796875,0.07053433358669281,0.07431287318468094,0.08194667100906372,0.08921802043914795,0.09382978081703186,0.07930798828601837,0.04607446864247322,0.1166468933224678,0.1058565005660057,0.06917079538106918,0.1575993299484253,0.22099930047988892,0.02719287760555744,0.05380892753601074,0.06176824867725372,0.07604625821113586,0.029107213020324707,0.15344743430614471,0.10378549247980118,0.13408029079437256,0.025232365354895592,0.22686834633350372,0.02746754139661789,0.09806852787733078,0.1250373274087906,0.04612300917506218,0.11699657887220383,0.11160466820001602,0.0395059771835804,0.06314786523580551,0.18611352145671844,0.20103830099105835,0.044020626693964005,0.06045269966125488,0.05791287496685982,0.08776810765266418,0.050233934074640274,0.07166758179664612,0.050571877509355545,0.12603549659252167,0.09230852872133255,0.12034973502159119,0.0799308642745018,0.15275640785694122,0.06996242702007294,0.05540065839886665,0.13576538860797882,0.058448225259780884,0.07434814423322678,0.07918626815080643,0.07458857446908951,0.12845660746097565,0.08158449828624725,0.08238599449396133,0.10410261899232864,0.0869360938668251,0.06107792258262634,0.10933354496955872,0.05212300643324852,0.09643871337175369,0.12429755926132202,0.40692731738090515,0.0898635983467102,0.057916607707738876,0.18372078239917755,0.13446997106075287,0.06843256950378418,0.24988381564617157,0.1208878755569458,0.10001284629106522,0.12000545114278793,0.04407474398612976,0.10163290053606033,0.2454918473958969,0.09413138777017593,0.1455414891242981,0.15235482156276703,0.1102420911192894,0.07355702668428421,0.14364813268184662,0.10639726370573044,0.09787631034851074,0.049809668213129044,0.12872228026390076,0.07288140803575516,0.12341948598623276,0.045268598943948746,0.05274632200598717,0.0973953828215599,0.1332738846540451,0.16256876289844513,0.0928797721862793,0.126925989985466,0.20518209040164948,0.15617184340953827,0.04526669159531593,0.13241364061832428,0.053660184144973755,0.06500858813524246,0.0973149910569191,0.11143752932548523,0.040100280195474625,0.14496269822120667,0.07459325343370438,0.10041338205337524,0.14372815191745758,0.08237826079130173,0.12415509670972824,0.12129969149827957,0.08286435902118683,0.10856872797012329,0.026829086244106293,0.07297970354557037,0.07561668008565903,0.11246896535158157,0.10456351190805435,0.07763774693012238,0.09690061956644058,8.427835418842733E-4,0.1592262238264084,0.1567358821630478,0.1296255737543106,0.07497004419565201,0.037426162511110306,0.10832159966230392,0.19020624458789825,0.05292138829827309,0.2267671674489975,0.1290585845708847,0.0524553619325161,0.07329361885786057,0.04185524582862854,0.09159515053033829,0.13310958445072174,0.09633717685937881,0.08672114461660385,0.07055976241827011,0.05474875867366791,0.10501793771982193,0.05032120272517204,0.11168379336595535,0.17268435657024384,0.10158228129148483,0.1315639168024063,0.07923045009374619,0.07032584398984909,0.06800345331430435,0.13454805314540863,0.11292187124490738,0.14528614282608032,0.06120197847485542,0.12101644277572632,0.03921634331345558,0.0657896175980568,0.15109337866306305,0.05261749029159546,0.12597793340682983,0.053010936826467514,0.0741928219795227,0.09101253002882004,0.09149688482284546,0.09690853208303452,0.0990137979388237,0.033871885389089584,0.09271635860204697,0.06269174814224243,0.05913904681801796,0.09079918265342712,0.05788549780845642,0.06865585595369339,0.17113707959651947,0.10288473218679428,0.09517555683851242,0.11400627344846725,0.07544038444757462,0.06620500981807709,0.06406675279140472,0.057218924164772034,0.11405865103006363,0.060558825731277466,0.0860375463962555,0.06386502087116241,0.018898626789450645,0.09813670068979263,0.07962335646152496,0.1441470980644226,0.09806343168020248,0.11495695263147354,0.03616223856806755,0.08174711465835571,0.11214973777532578,0.08203863352537155,0.04500071331858635,0.11529282480478287,0.06713288277387619,0.0747121274471283,0.03554369509220123,0.07238815724849701,0.04649168252944946,0.11225414276123047,0.08299043029546738,0.12128464132547379,0.06275759637355804,0.03181155398488045,0.05138634517788887,0.0396149605512619,0.11969175189733505,0.01384635642170906,0.08625555783510208,0.06350014358758926,0.18212847411632538,0.03818616643548012,0.059303801506757736,0.0876690223813057,0.003375609405338764,0.09150107949972153,0.07175601273775101,0.1032792329788208,0.041734304279088974,0.289447158575058,0.15071947872638702,0.13085100054740906,0.10273969918489456,0.05941323563456535,0.09762606769800186,0.1480325311422348,0.0647842064499855,0.11189692467451096,0.04817083105444908,0.08364579826593399,0.21686406433582306,0.16654925048351288,0.1898331493139267,0.035091333091259,0.060623738914728165,0.07726098597049713,0.11997333914041519,0.06780964881181717,0.05202758312225342,0.10486144572496414,0.04468589648604393,0.1567203551530838,0.09451615065336227,0.06832865625619888,0.09038560837507248,0.15955601632595062,0.05362296476960182,0.07513777166604996,0.10002688318490982,0.057094473391771317,0.07091518491506577,0.09139490127563477,0.12127818912267685,0.12310576438903809,0.06187311187386513,0.1154516339302063,0.2120571881532669,0.053860653191804886,0.08654952049255371,0.17159520089626312,0.0735464096069336,0.0573795884847641,0.013244441710412502,0.03222416713833809,0.11194198578596115,0.09437894821166992,0.10399928689002991,0.14050345122814178,0.04661243036389351,0.08349138498306274,0.06087888404726982,0.09685555100440979,0.11243203282356262,0.0829930528998375,0.06538742780685425,0.09483277797698975,0.09807904809713364,0.09975823014974594,0.07511711865663528,0.33422616124153137,0.06791257113218307,0.14922209084033966,0.17514289915561676,0.09266304224729538,0.07826023548841476,0.1711988002061844,0.03404717519879341,0.02546929381787777,0.03339313343167305,0.08196181058883667,0.04893958196043968,0.2523539960384369,0.11797457933425903,0.24959594011306763,0.09293269366025925,0.1549195796251297,0.06592652201652527,0.0862075462937355,0.049412671476602554,0.1773407906293869,0.060942646116018295,0.04716220498085022,0.04597926512360573,0.04449784755706787,0.15103550255298615,0.08841504901647568,0.01883467100560665,0.045217711478471756,0.1672152429819107,0.2050737589597702,0.1118517592549324,0.19731999933719635,0.072024405002594,0.09679460525512695,0.10446294397115707,0.09086534380912781,0.12349414080381393,0.08747436851263046,0.053002651780843735,0.06645480543375015,0.05657871067523956,0.11078152805566788,0.0760016068816185,0.10980018973350525,0.08555645495653152,0.15293388068675995,0.0582289844751358,0.12474926561117172,0.09710446745157242,0.04044971987605095,0.13838542997837067,0.05228375270962715,0.08218571543693542,0.09470757097005844,0.08953637629747391,0.05745180323719978,0.047337185591459274,0.09961820393800735,0.07348430901765823,0.0766187384724617,0.039266034960746765,0.04060854762792587,0.06631826609373093,0.13129933178424835,0.11747819185256958,0.12282780557870865,0.09283611923456192,0.07058032602071762,0.10537632554769516,0.11528211832046509,0.13147065043449402,0.05558834597468376,0.08892855793237686,0.2555858790874481,0.08270852267742157,0.10943164676427841,0.034076444804668427,0.14670465886592865,0.11408873647451401,0.08823502063751221,0.06418920308351517,0.14821119606494904,0.1021810844540596,0.11046152561903,0.06681863218545914,0.01722216233611107,0.0947103276848793,0.13722628355026245,0.11693564802408218,0.03951738029718399,0.07672176510095596,0.11154063791036606,0.0875401571393013,0.05785423517227173,0.1127898320555687,0.08162317425012589,0.04805208370089531,0.06746231764554977,0.15161685645580292,0.05207248404622078,0.10888674110174179,0.04998046159744263,0.05617421865463257,0.07755986601114273,0.12114855647087097,0.0669032633304596,0.16777785122394562,0.12912867963314056,0.1022358164191246,0.06097222864627838,0.05312993749976158,0.01379432063549757,0.06711449474096298,0.06567654758691788,0.18328635394573212,0.042535241693258286,0.12042631953954697,0.08080866932868958,0.052109479904174805,0.09877297282218933,0.1400093138217926,0.03758763149380684,0.14613400399684906,0.100548654794693,0.06505198031663895,0.1087462529540062,0.062449295073747635,0.1331709772348404,0.04545038938522339,0.12946318089962006,0.07581731677055359,0.13258297741413116,0.10896284133195877,0.1455182433128357,0.09486193209886551,0.12298953533172607,0.031038736924529076,0.04309823736548424,0.0725223571062088,0.09492871910333633,0.0865662693977356,0.07517662644386292,0.1468353420495987,0.13462170958518982,0.1206122413277626,0.1275728940963745,0.12066760659217834,0.05898489058017731,0.11032130569219589,0.11381138116121292,0.12089947611093521,0.12546442449092865,0.09536903351545334,0.10774490982294083,0.06399606168270111,0.127777561545372,0.2681118845939636,0.030748778954148293,0.15662117302417755,0.020557355135679245,0.1053057387471199,0.2238761931657791,0.24744302034378052,0.09983620792627335,0.1613950878381729,0.19035740196704865,0.12942159175872803,0.2857842743396759,0.02195063978433609,0.32179147005081177,0.12715141475200653,0.05004401504993439,0.0987638309597969,0.22466720640659332,0.02404375933110714,0.13352327048778534,0.09277323633432388,0.12308055907487869,0.095337875187397,0.06633851677179337,0.09923835843801498,0.1564660668373108,0.060665860772132874,0.07984542846679688,0.06411176919937134,0.06086462363600731,0.10680549591779709,0.09351083636283875,0.14352534711360931,0.09947958588600159,0.10401234775781631,0.200727179646492,0.0771203264594078,0.15320459008216858,0.10011022537946701,0.04506004974246025,0.15930184721946716,0.14064334332942963,0.11515393853187561,0.17598240077495575,0.08815917372703552,0.07144670188426971,0.09763655811548233,0.06170937046408653,0.09736177325248718,0.114765964448452,0.24933962523937225,0.12780095636844635,0.06922177225351334,0.05393679440021515,0.2128175050020218,0.11645704507827759,0.08119770139455795,0.11520233005285263,0.05456237867474556,0.0611802376806736,0.06327638775110245,0.04985387623310089,0.09580740332603455,0.1390209048986435,0.17386288940906525,0.0850357711315155,0.08332964032888412,0.09039891511201859,0.050426334142684937,0.12820719182491302,0.06542643159627914,0.08874277025461197,0.10445070266723633,0.08121056109666824,0.10318129509687424,0.04225165769457817,0.11372033506631851,0.10133031755685806,0.13017086684703827,0.11182918399572372,0.21144354343414307,0.06452739238739014,0.08128546178340912,0.12361416965723038,0.08907193690538406,0.07398662716150284,0.11192474514245987,0.07304824143648148,0.13757474720478058,0.07428595423698425,0.1526516228914261,0.10956559330224991,0.24263571202754974,0.09624699503183365,0.1006072536110878,0.06603118032217026,0.12409356981515884,0.10157964378595352,0.0929335281252861,0.1455398052930832,0.06015388295054436,0.013127348385751247,0.160350501537323,0.1593557745218277,0.05983160808682442,0.09327342361211777,0.05184745788574219,0.09320361167192459,0.07946718484163284,0.028635233640670776,0.03983519598841667,0.08082764595746994,0.10162433981895447,0.05179082229733467,0.12792529165744781,0.06910397857427597,7.392905536107719E-4,0.057867731899023056,0.1313839852809906,0.0865493044257164,0.054407667368650436,0.19375298917293549,0.05436350777745247,0.04932259023189545,0.07826695591211319,0.1239660382270813,0.08041896671056747,0.16647854447364807,0.05053127929568291,0.043802279978990555,0.0408589132130146,0.13668933510780334,0.09380555152893066,0.024764686822891235,0.05211014673113823,0.09780781716108322,0.11614628881216049,0.14157791435718536,0.16084188222885132,0.05266028642654419,0.07447665184736252,0.05601661279797554,0.10829324275255203,0.07239224761724472,0.08707166463136673,0.05684924125671387,0.11357925087213516,0.038033030927181244,0.1833825558423996,0.09286811947822571,0.10290088504552841,0.06954027712345123,0.057417646050453186,0.1272551417350769,0.08700678497552872,0.087039053440094,0.14388777315616608,0.07852425426244736,0.13655807077884674,0.049836665391922,0.049233511090278625,0.07988094538450241,0.1667841076850891,0.05527345836162567,0.05518132820725441,0.11600357294082642,0.10305044800043106,0.08670247346162796,0.1218642070889473,0.038523294031620026,0.0963391661643982,0.0535411573946476,0.0801667794585228,0.04687820374965668,0.0811937004327774,0.08515001088380814,0.1041293516755104,0.0795513316988945,0.1338232457637787,0.1292748749256134,0.09547334909439087,0.06144228205084801,0.03071068786084652,0.056547876447439194,0.07139640301465988,0.18037636578083038,0.0941370353102684,0.0815020352602005,0.08989083021879196,0.11048305779695511,0.07813648134469986,0.1353604644536972,0.17442311346530914,0.17632849514484406,0.011627285741269588,0.11228813976049423,0.03876287862658501,0.057525698095560074,0.0955372229218483,0.0805073082447052,0.0693361833691597,0.08680541068315506,0.09159514307975769,0.07530000805854797,0.1317708045244217,0.09372583031654358,0.11692113429307938,0.0933188796043396,0.12822172045707703,0.05101706087589264,0.10405418276786804,0.13679274916648865,0.20946426689624786,0.10536112636327744,0.09695669263601303,0.08038008958101273,0.05353519320487976,0.1639101505279541,0.08977549523115158,0.05376845598220825,0.07057548314332962,0.05636385455727577,0.10620242357254028,0.12585413455963135,0.1179148256778717,0.07286819070577621,0.04291351139545441,0.08182601630687714,0.042728934437036514,0.04724987968802452,0.14632944762706757,0.09690507501363754,0.08095411211252213,0.052977304905653,0.11084207892417908,0.09488556534051895,0.04444339498877525,0.02768268622457981,0.13453422486782074,0.17661680281162262,0.10611411184072495,0.12924239039421082,0.08541043847799301,0.05067342519760132,0.16027571260929108,0.10172484070062637,0.05864785239100456,0.17500053346157074,0.12870799005031586,0.055227119475603104,0.0779009610414505,0.10951676964759827,0.08211998641490936,0.14042307436466217,0.017035091295838356,0.02374395914375782,0.0628170594573021,0.12836726009845734,0.09427395462989807,0.05878819525241852,0.10228904336690903,0.17368246614933014,0.12767882645130157,0.06286252290010452,0.12568216025829315,0.10567867755889893,0.1355999857187271,0.05102347210049629,0.11365877836942673,0.07217011600732803,0.1340143233537674,0.03186265006661415,0.03902341052889824,0.10989686846733093,0.06647530943155289,0.15518169105052948,0.1343369036912918,0.0694272592663765,0.032952357083559036,0.1530677229166031,0.05325646325945854,0.02977696806192398,0.050005603581666946,0.11197826266288757,0.13304373621940613,0.08541974425315857,0.09803587943315506,0.038857195526361465,0.11517762392759323,0.06989466398954391,0.03351638838648796,0.1304052174091339,0.1329294592142105,0.08467835932970047,0.07606560736894608,0.19306667149066925,0.056799184530973434,0.10750419646501541,0.05203033983707428,0.06644527614116669,0.06684835255146027,0.06611205637454987,0.13753187656402588,0.08059874922037125,0.08080632239580154,0.12355464696884155,0.1032535508275032,0.11499055474996567,0.12332991510629654,0.04677708446979523,0.08948695659637451,0.1043008342385292,0.12368461489677429,0.12047960609197617,0.1549016386270523,0.0865831971168518,0.047759395092725754,0.03167297691106796,0.09183479100465775,0.07772751897573471,0.05513189360499382,0.0699932798743248,0.07146081328392029,0.09883328527212143,0.07313331216573715,0.03945464268326759,0.04112662747502327,0.1422780305147171,0.11957702040672302,0.0808415412902832,0.06966575980186462,0.06600096076726913,0.08588811755180359,0.08591903001070023,0.06073693558573723,0.058655258268117905,0.09213963150978088,0.0912986621260643,0.13351035118103027,0.1127973198890686,0.049542587250471115,0.06794228404760361,0.04878343269228935,0.14099843800067902,0.04840213432908058,0.10974875092506409,0.08359120041131973,0.08170599490404129,0.07781463116407394,0.11614062637090683,0.05271826311945915,0.15564103424549103,0.08555945008993149,0.10741954296827316,0.18400312960147858,0.08519187569618225,0.06977657228708267,0.055579956620931625,0.1397918313741684,0.04195833206176758,0.07926539331674576,0.09249549359083176,0.06783830374479294,0.19508224725723267,0.0461416058242321,0.12775371968746185,0.08604361861944199,0.06925199180841446,0.03576349839568138,0.09876805543899536,0.07428373396396637,0.04347182437777519,0.1304180920124054,0.05637797713279724,0.08850996941328049,0.04332176223397255,0.10220381617546082,0.10183385759592056,0.19539929926395416,0.08770022541284561,0.10950866341590881,0.1390889436006546,0.05565495416522026,0.10672500729560852,0.12837035953998566,0.10741747170686722,0.06047356128692627,0.08278924971818924,0.06788114458322525,0.060420069843530655,0.12553347647190094,0.04278406500816345,0.12755458056926727,0.04230932891368866,0.08581433445215225,0.0857706144452095,0.07937627285718918,0.08059736341238022,0.1948726624250412,0.10536908358335495,0.14049214124679565,0.08155383169651031,0.08365366607904434,0.037215705960989,0.16405363380908966,0.1055552065372467,0.1178751215338707,0.13014598190784454,0.04302351176738739,0.04130873456597328,0.10450922697782516,0.06607797741889954,0.08550558239221573,0.05238115414977074,0.08926272392272949,0.05070429667830467,0.17749251425266266,0.12202391028404236,0.16388793289661407,0.05753234028816223,0.060639556497335434,0.060522064566612244,0.03600476309657097,0.0602150522172451,0.12018802762031555,0.11426877975463867,0.06446608901023865,0.07793314009904861,0.0955103412270546,0.09719514846801758,0.03755492717027664,0.07827178388834,0.12720859050750732,0.05728702247142792,0.08265886455774307,0.11394840478897095,0.07945889979600906,0.1962544173002243,0.12781690061092377,0.06136840209364891,0.06258482486009598,0.09045398980379105,0.04516812786459923,0.0875612124800682,0.08243022859096527,0.10872310400009155,0.07374819368124008,0.10032343864440918,0.05906407907605171,0.08112502843141556,0.04072797670960426,0.11329453438520432,0.06196877360343933,0.10671854764223099,0.0745033472776413,0.0804143100976944,0.0746237114071846,0.10799750685691833,0.14365553855895996,0.12936778366565704,0.0388985313475132,0.10777419060468674,0.09211558848619461,0.07820937782526016,0.05804917588829994,0.09475857019424438,0.10350029915571213,0.06987207382917404,0.08173459023237228,0.1085774376988411,0.10956642031669617,0.06947316974401474,0.07751525193452835,0.008613980375230312,0.04533427953720093,0.08057145774364471,0.1117008849978447,0.052764683961868286,0.0918574258685112,0.14213742315769196,0.19601286947727203,0.07295349985361099,0.16680020093917847,0.0917000100016594,0.13363289833068848,0.11290687322616577,0.12585902214050293,0.10388591885566711,0.09430808573961258,0.08079766482114792,0.07285884767770767,0.012383370660245419,0.08276224881410599,0.11591258645057678,0.1854359358549118,0.08353030681610107,0.16478145122528076,0.10508636385202408,0.03406805172562599,0.12579463422298431,0.10489415377378464,0.03376958891749382,0.13370849192142487,0.11948997527360916,0.08058273792266846,0.1624557226896286,0.10011864453554153,0.11432787775993347,0.05411287769675255,0.03246520832180977,0.11072937399148941,0.14895619451999664,0.06396300345659256,0.057003453373909,0.04322012886404991,0.054717738181352615,0.11030986905097961,0.12333661317825317,0.04052067920565605,0.03932613134384155,0.10269254446029663,0.08100233227014542,0.09471577405929565,0.07596734911203384,0.05639374256134033,0.08232293277978897,0.0832994356751442,0.06859112530946732,0.15071262419223785,0.10514384508132935,0.0995999276638031,0.06423471122980118,0.14693614840507507,0.042699262499809265,0.0786554291844368,0.04607748985290527,0.044365644454956055,0.10131929069757462,0.09032624959945679,0.1310286670923233,0.07284319400787354,0.07797084748744965,0.0869651809334755,0.09101644903421402,0.033458415418863297,0.05794353410601616,0.1312149614095688,0.07636374980211258,0.08401596546173096,0.08090443164110184,0.02183964103460312,0.10592144727706909,0.028118157759308815,0.08705071359872818,0.12065552920103073,0.13181088864803314,0.12002862244844437,0.1063556894659996,0.07474614679813385,0.1370456963777542,0.05007307231426239,0.141967311501503,0.08857527375221252,0.0899914875626564,0.059224870055913925,0.10393679887056351,0.06247648224234581,0.1522325724363327,0.09883760660886765,0.077362060546875,0.10799029469490051,0.11655836552381516,0.06079969182610512,0.17965823411941528,0.14232037961483002,0.0922858715057373,0.18140311539173126,0.1690833568572998,0.12588928639888763,0.0449615903198719,0.05923748388886452,0.05066654458642006,0.046004947274923325,0.07776141911745071,0.12485093623399734,0.06977211683988571,0.10149186104536057,0.0568048320710659,0.023809121921658516,0.1037466824054718,0.10859613865613937,0.09911958128213882,0.06444282084703445,0.06170553341507912,0.11849451065063477,0.03525330498814583,0.060077037662267685,0.10958025604486465,0.04423488676548004,0.057237233966588974,0.05681566894054413,0.06272176653146744,0.05873067304491997,0.08052302151918411,0.11339572072029114,0.08511681109666824,0.07701145857572556,0.08061861246824265,0.08125298470258713,0.04449455440044403,0.13188429176807404,0.08901709318161011,0.11254837363958359,0.09588950127363205,0.13429269194602966,0.04125459864735603,0.10018065571784973,0.05192739889025688,0.08340916037559509,0.040823083370923996,0.055599749088287354,0.1151019036769867,0.10168006271123886,0.07172498852014542,0.11003434658050537,0.10662553459405899,0.13464529812335968,0.09427573531866074,0.07270131260156631,0.06962653249502182,0.03574758395552635,0.047232452780008316,0.09888406842947006,0.06647786498069763,0.03299587965011597,0.0013190062018111348,0.11296182870864868,0.09870340675115585,0.0763053148984909,0.06404297798871994,0.06916872411966324,0.01699043996632099,0.06599568575620651,0.12746568024158478,0.14241568744182587,0.08255230635404587,0.0664478987455368,0.06396926194429398,0.12390875071287155,0.1378745287656784,0.17664247751235962,0.07147785276174545,0.07449451833963394,0.07319534569978714,0.05527423694729805,0.09587226063013077,0.15110252797603607,0.02801601029932499,0.029375305399298668,0.12355925887823105,0.09760253876447678,0.08320001512765884,0.09591209888458252,0.08089378476142883,0.07790365070104599,0.001038830610923469,0.0445675402879715,0.032336317002773285,0.034935079514980316,0.09513267129659653,0.04714362695813179,0.06961262226104736,0.08726105093955994,0.03732085973024368,0.1304343342781067,0.04841287061572075,0.08575043082237244,0.10220389813184738,0.0802866667509079,0.03855520859360695,0.043725088238716125,0.23694413900375366,0.11254390329122543,0.19216668605804443,0.11792349815368652,0.06687697023153305,0.10937881469726563,0.18990106880664825,0.09058845788240433,0.0629478394985199,0.17710603773593903,0.07023931294679642,0.12230821698904037,0.06252295523881912,0.09078765660524368,0.06556636840105057,0.06076749786734581,0.10565703362226486,0.09537747502326965,0.06596888601779938,0.22047080099582672,0.06854099780321121,0.07590474933385849,0.11737260967493057,0.07033533602952957,0.10641807317733765,0.08182061463594437,0.08069229871034622,0.10106337070465088,0.08010809868574142,0.0576639287173748,0.11291876435279846,0.09846282005310059,0.11511542648077011,0.08861816674470901,0.024194642901420593,0.04215795919299126,0.05206865444779396,0.14580978453159332,0.10111039876937866,0.09447518736124039,0.0523214228451252,0.06898394227027893,0.05002709850668907,0.02842688374221325,0.1318543404340744,0.050789255648851395,0.05853215232491493,0.014424104243516922,0.08213023096323013,0.13595978915691376,0.05149227753281593,0.07151808589696884,0.1324325054883957,0.15183933079242706,0.04098554328083992,0.10825377702713013,0.030025772750377655,0.014121651649475098,0.1692071408033371,0.06509772688150406,0.0576278381049633,0.1288786381483078,0.09518676996231079,0.04328086972236633,0.3237684369087219,0.0881531611084938,0.07562373578548431,0.12319742888212204,0.10587835311889648,0.10132641345262527,0.10079023987054825,0.08464211970567703,0.052278947085142136,0.06731918454170227,0.10678773373365402,0.0413859486579895,0.020209746435284615,0.1247747540473938,0.03379882499575615,0.04868951439857483,0.11858781427145004,0.12006562948226929,0.13014574348926544,0.04060562327504158,0.08262274414300919,0.09086405485868454,0.17603375017642975,0.16762018203735352,0.0439009927213192,0.09059857577085495,0.06371592730283737,0.06318210810422897,0.08734997361898422,0.06644649058580399,0.07832077890634537,0.054571717977523804,0.07480020076036453,0.1535809189081192,0.09982381016016006,0.08908414095640182,0.02667776495218277,0.09987454861402512,0.10933540016412735,0.08101559430360794,0.10366186499595642,0.10370559245347977,0.07292100042104721,0.11573711782693863,0.06612411886453629,0.061337392777204514,0.034134313464164734,0.08581853657960892,0.0517752505838871,0.08863633126020432,0.06441403180360794,0.07436325401067734,0.05468284711241722,0.13922922313213348,0.09291335195302963,0.10857702046632767,0.06796776503324509,0.07627201825380325,0.1228100061416626,0.04282368719577789,0.07600373029708862,0.14338423311710358,0.07934912294149399,0.1077609434723854,0.058422479778528214,0.12110012024641037,0.12466580420732498,0.15080441534519196,0.10315487533807755,0.07853815704584122,0.045694317668676376,0.04268383979797363,0.05545569956302643,0.1348259150981903,0.08767031878232956,0.07220486551523209,0.04657851159572601,0.07409632205963135,0.16185639798641205,0.11121062189340591,0.09779518842697144,0.08925169706344604,0.09266480803489685,0.11945270746946335,0.14750929176807404,0.07993319630622864,0.0847804844379425,0.027090631425380707,0.04710138961672783,0.09461794048547745,0.09304206818342209,0.09948164969682693,7.732704398222268E-4,0.11871372908353806,0.059639573097229004,0.062296438962221146,0.08527397364377975,0.11857402324676514,0.05340270698070526,0.13691678643226624,0.08218259364366531,0.1144450232386589,0.10422316938638687,0.08955372124910355,0.13613443076610565,0.04287417232990265,0.03578897938132286,0.21559913456439972,0.12930376827716827,0.09222414344549179,0.06409023702144623,0.028085244819521904,0.0657457783818245,0.22656555473804474,0.056454628705978394,0.1344720870256424,0.10178724676370621,0.07666362076997757,0.088263601064682,0.030306050553917885,0.13160720467567444,0.08151952922344208,0.05689230188727379,0.07777277380228043,0.05799797549843788,0.07187876105308533,0.09345497936010361,0.10113101452589035,0.09881002455949783,0.12679295241832733,0.12375882267951965,0.07509373128414154,0.04768844321370125,0.05955464765429497,0.035334717482328415,0.10515428334474564,0.16244778037071228,0.10225308686494827,0.041078079491853714,0.06826537102460861,0.2000136524438858,0.14225248992443085,0.06742775440216064,0.06639198213815689,0.1509285420179367,0.030324654653668404,0.132277250289917,0.150767520070076,0.09894520789384842,0.08973041921854019,0.09736161679029465,0.02478191815316677,0.3118864595890045,0.08797923475503922,0.1558695286512375,0.11192077398300171,0.0744018703699112,0.10769052058458328,0.05830077826976776,0.06628867983818054,0.09869500249624252,0.10396934300661087,0.12120842933654785,0.0989765152335167,0.055634673684835434,0.11417260020971298,0.06618303805589676,0.08184882998466492,0.10804984718561172,0.11326844245195389,0.15535488724708557,0.09170977026224136,0.019959254190325737,0.07954034209251404,0.03484933078289032,0.09249567240476608,0.06434335559606552,0.11945408582687378,0.11935430020093918,0.046855632215738297,0.11873805522918701,0.11226179450750351,0.04136646166443825,0.13773684203624725,0.09135013818740845,0.1385435312986374,0.1010122001171112,0.04004650190472603,0.12672270834445953,0.11232086271047592,0.069635309278965,0.11318468302488327,0.09080343693494797,0.06348149478435516,0.10381755232810974,0.07669501006603241,0.11034119129180908,0.11808479577302933,0.05557786300778389,0.08972159773111343,0.18002213537693024,0.1663205474615097,0.0870615541934967,0.20176200568675995,0.055927637964487076,0.10451436787843704,0.10738072544336319,0.08822504431009293,0.12363564968109131,0.020687894895672798,0.08179505914449692,0.08186646550893784,0.027144238352775574,0.150189608335495,0.21086497604846954,0.11063986271619797,0.07293842732906342,0.06836063414812088,0.07857101410627365,0.09226370602846146,0.09947088360786438,0.13088546693325043,0.11631929129362106,0.08945579081773758,0.03733130544424057,0.07448983937501907,0.04843771457672119,0.08350882679224014,0.054094862192869186,0.08876007050275803,0.052294548600912094,0.12213408201932907,0.06517539918422699,0.14442066848278046,0.08328432589769363,0.06317692250013351,0.1304769665002823,0.09787683933973312,0.045926135033369064,0.0427723191678524,0.12583936750888824,0.10050562769174576,0.11432694643735886,0.05474185571074486,0.08578082919120789,0.0439814068377018,0.04124778136610985,0.021182702854275703,0.09374723583459854,0.27353665232658386,0.10853010416030884,0.09796691685914993,0.09959714859724045,0.08180129528045654,0.07298114150762558,0.11323555558919907,0.07361998409032822,0.07046801596879959,0.08847247809171677,0.11637705564498901,0.10489040613174438,0.06196841225028038,0.10241755843162537,0.08817127346992493,0.1346803903579712,0.14954359829425812,0.07460156828165054,0.08095771819353104,0.07727738469839096,0.0551467090845108,0.050749193876981735,0.044258300215005875,0.0587218813598156,0.0875307023525238,0.0432383269071579,0.05962536856532097,0.09835126996040344,0.10248888283967972,0.06046156957745552,0.08079160004854202,0.11691071838140488,0.08977053314447403,0.10839308053255081,0.05757061764597893,0.043877508491277695,0.08559790998697281,0.11166314035654068,0.04379266873002052,0.05402408167719841,0.0577826052904129,0.057744916528463364,0.1373528242111206,0.11728125810623169,0.15106014907360077,0.11213415116071701,0.14503425359725952,0.046800438314676285,0.10296324640512466,0.29330936074256897,0.11417507380247116,0.26800498366355896,0.09287717938423157,0.21874652802944183,0.046397048979997635,0.06134366989135742,0.10691561549901962,0.07418166846036911,0.0814516544342041,0.05690999701619148,0.14326272904872894,0.12350618839263916,0.026983318850398064,0.04371893033385277,0.048053447157144547,0.14950872957706451,0.16034437716007233,0.09464520961046219,0.11462301760911942,0.1698055863380432,0.05224984884262085,0.0375138483941555,0.10991431027650833,0.0635419636964798,0.09262526780366898,0.1314486861228943,0.12290695309638977,0.12219572067260742,0.0808824747800827,0.06722661107778549,0.05652376636862755,0.08277970552444458,0.10769862681627274,0.07436259835958481,0.1313377171754837,0.0660087987780571,0.052965227514505386,0.15780998766422272,0.03378622606396675,0.13420240581035614,0.05708824470639229,0.30298569798469543,0.1500348001718521,0.018399188295006752,0.13332979381084442,0.05335988104343414,0.15001314878463745,0.11401557177305222,0.23002243041992188,0.07700381428003311,0.10352175682783127,0.09767907857894897,0.14392982423305511,0.1589987426996231,0.08794195204973221,0.060124535113573074,0.08457571268081665,0.14088229835033417,0.08281747251749039,0.03965616598725319,0.08654794096946716,0.06229918822646141,0.06414844840765,0.07726946473121643,0.1014484092593193,0.1111370325088501,0.049079641699790955,0.08173500746488571,0.1531665176153183,0.088784359395504,0.06460443884134293,0.06348883360624313,0.028027204796671867,0.03806757181882858,0.16118313372135162,0.17998765408992767,0.09256214648485184,0.08146772533655167,0.058420512825250626,0.055483315140008926,0.10086066275835037,0.023754671216011047,0.057618070393800735,0.054976049810647964,0.14726848900318146,0.08705664426088333,0.15141937136650085,0.058479949831962585,0.0772050991654396,0.09147768467664719,0.07692237943410873,0.1353665143251419,0.07872147113084793,0.10112101584672928,0.07952815294265747,0.08412465453147888,0.043968405574560165,0.07946134358644485,0.06119566783308983,0.12794587016105652,0.1794561892747879,0.043987374752759933,0.05289054289460182,0.0846153125166893,0.03280031308531761,0.011173848062753677,0.036064255982637405,0.07593225687742233,0.1889304369688034,0.06518228352069855,0.33253827691078186,0.01950850524008274,0.07329916954040527,0.0776144340634346,0.12855537235736847,0.13014480471611023,0.12591518461704254,0.14195920526981354,0.05657287314534187,0.059181902557611465,0.06630994379520416,0.08659973740577698,0.13825733959674835,0.1054251417517662,0.14144264161586761,0.11451837420463562,0.06622141599655151,0.06123390793800354,0.0761161670088768,0.03461356833577156,0.017670292407274246,0.1802869439125061,0.19516105949878693,0.08891218900680542,0.06748960167169571,0.07638245075941086,0.15658532083034515,0.23252737522125244,0.06764370948076248,0.05094548687338829,0.13591121137142181,0.0678127259016037,0.08579372614622116,0.04886896535754204,0.07156797498464584,0.14686086773872375,0.10927259922027588,0.14403389394283295,0.08346354961395264,0.09652655571699142,0.07291120290756226,0.27226054668426514,0.1433640420436859,0.08628606051206589,0.040135450661182404,0.11964049935340881,0.08696194738149643,0.2479068785905838,0.08377909660339355,0.12490546703338623,0.11785861849784851,0.13917386531829834,0.10552489012479782,0.06992102414369583,0.10272180289030075,0.1188761368393898,0.17438103258609772,0.04425070807337761,0.11104606837034225,0.11129555106163025,0.06261124461889267,0.128667950630188,0.1033308133482933,0.037132613360881805,0.060912638902664185,0.1573551744222641,0.1178649440407753,0.12816837430000305,0.12148158997297287,0.10993701964616776,0.06552720814943314,0.049149706959724426,0.07643406093120575,0.1410788744688034,0.08194788545370102,0.1188405379652977,0.10806737095117569,0.08487381786108017,0.08556237071752548,0.08101972192525864,0.10999400168657303,0.12120378017425537,0.14630287885665894,0.07498511672019958,0.052613791078329086,0.06862981617450714,0.13462941348552704,0.16152603924274445,0.055401965975761414,0.06973624974489212,0.07186029106378555,0.0581415556371212,0.06853315979242325,0.1011461690068245,0.03553296998143196,0.14922381937503815,0.14557915925979614,0.09149858355522156,0.08123902976512909,0.1119561716914177,0.07448608428239822,0.11340558528900146,0.06600631028413773,0.0600132942199707,0.09766600281000137,0.1948390007019043,0.07856635004281998,0.06017183139920235,0.13343927264213562,0.08494347333908081,0.04633264243602753,0.03407437726855278,0.062412481755018234,0.06344983726739883,0.09730847924947739,0.05266401171684265,0.06584503501653671,0.044872429221868515,0.16481609642505646,0.10139215737581253,0.04435107484459877,0.013567660003900528,0.0947597548365593,0.08857929706573486,0.07072043418884277,0.07006075978279114,0.05862630531191826,0.11466201394796371,0.07385869324207306,0.06891769915819168,0.0690254345536232,0.11675509810447693,0.14760412275791168,0.10105817764997482,0.13282795250415802,0.06351778656244278,0.09480107575654984,0.12540815770626068,0.09167730808258057,0.04503298178315163,0.11240480095148087,0.14566490054130554,0.04628252610564232,0.07868803292512894,0.12093827873468399,0.01960759051144123,0.10567585378885269,0.028903862461447716,0.11814629286527634,0.12305478006601334,0.16327114403247833,0.09543535858392715,0.06448260694742203,0.06421191245317459,0.13787543773651123,0.04880794510245323,0.08091524988412857,0.18910056352615356,0.06978215277194977,0.0646405965089798,0.10038071870803833,0.10583754628896713,0.10716888308525085,0.10445088893175125,0.10000591725111008,0.31033697724342346,0.0946720540523529,0.05021006241440773,0.12798745930194855,0.12198879569768906,0.09082990139722824,0.11650673300027847,0.09035936743021011,0.12064895033836365,0.14124540984630585,0.19324332475662231,0.07448899000883102,0.07269980758428574,0.10997898131608963,0.11155813932418823,0.06410757452249527,0.06502185016870499,0.16395150125026703,0.10184048861265182,0.0755537822842598,0.10667505115270615,0.04652297869324684,0.10037342458963394,0.1038140058517456,0.0879039466381073,0.051625579595565796,0.08984290808439255,0.10223573446273804,0.07992325723171234,0.08174727112054825,0.05893344059586525,0.11489298939704895,0.12813454866409302,0.059727992862463,0.01986651122570038,0.19468235969543457,0.03233199939131737,0.058536116033792496,0.04991347715258598,0.12853562831878662,0.088725246489048,0.0992799922823906,0.10823411494493484,0.07970406860113144,0.05335312709212303,0.11838317662477493,0.08413022756576538,0.13295508921146393,0.047309380024671555,0.10269393771886826,0.12048769742250443,0.10415492206811905,0.09099356085062027,0.036800678819417953,0.12737959623336792,0.08130161464214325,0.10109984129667282,0.08390865474939346,0.07495365291833878,0.02366880141198635,0.03956771641969681,0.04671405255794525,0.10238167643547058,0.12261411547660828,0.223128080368042,0.07745644450187683,0.0896785631775856,0.04116363078355789,0.02933371625840664,0.044508788734674454,0.24011464416980743,0.08975642919540405,0.1250937581062317,0.0741388276219368,0.09510580450296402,0.03891509026288986,0.04356373846530914,0.14736291766166687,0.0613972544670105,0.14290715754032135,0.20167295634746552,0.16129541397094727,0.10778496414422989,0.10962530970573425,0.01647213287651539,0.1205393373966217,0.14483514428138733,0.02582683600485325,0.07949153333902359,0.05835588648915291,0.06447749584913254,0.14153540134429932,0.1405077427625656,0.0698811337351799,0.15767674148082733,0.09605744481086731,0.12498831003904343,0.08136541396379471,0.17011688649654388,0.15426293015480042,0.0412178561091423,0.05351643264293671,0.05337720736861229,0.09024139493703842,0.2185245156288147,0.08693131059408188,0.14844705164432526,0.07368676364421844,0.10758161544799805,0.09965291619300842,0.1639527976512909,0.10376880317926407,0.10842616111040115,0.12891478836536407,0.07859506458044052,0.06630285829305649,0.11020798236131668,0.09887366741895676,0.1954122930765152,0.07248004525899887,0.11355412751436234,0.040104012936353683,0.09994825720787048,0.08101166039705276,0.08249447494745255,0.11358461529016495,0.09679286926984787,0.0775308683514595,0.13137343525886536,0.08359519392251968,0.09502628445625305,0.05603894218802452,0.09129218012094498,0.18137240409851074,0.029525652527809143,0.10455145686864853,0.08428929001092911,0.08038123697042465,0.0892171561717987,0.09930781275033951,0.08776237815618515,0.07822214066982269,0.1419644057750702,0.1331137865781784,0.15860170125961304,0.03629600629210472,0.09085899591445923,0.14337413012981415,0.04791167750954628,0.17566268146038055,0.0744396522641182,0.051139455288648605,0.19540470838546753,0.047777626663446426,0.09389195591211319,0.11356693506240845,0.05881291255354881,0.11157438904047012,0.04209386929869652,0.12666606903076172,0.09053017944097519,0.04116683080792427,0.12820175290107727,0.12376711517572403,0.0245562344789505,0.17499138414859772,0.08487928658723831,0.14659331738948822,0.06234078109264374,0.15492822229862213,0.10153844952583313,0.0703645870089531,0.08119990676641464,0.17331211268901825,0.04961756244301796,0.0952954962849617,0.11619767546653748,0.09964946657419205,0.06324756145477295,0.10421004146337509,0.03832564875483513,0.17228685319423676,0.06936268508434296,0.0913592055439949,0.10764607787132263,0.08614730089902878,0.05490151047706604,0.06078754737973213,0.06324251741170883,0.0644247755408287,0.1004926934838295,0.06217026337981224,0.10504452139139175,0.11817002296447754,0.0886363610625267,0.1219426766037941,0.02828466333448887,0.07961753755807877,0.10889498144388199,0.09773138910531998,0.03432874754071236,0.06585632264614105,0.12047562003135681,0.07681351155042648,0.044719766825437546,0.06797956675291061,0.06212270259857178,0.095807284116745,0.0718768760561943,0.09878471493721008,0.05171362683176994,0.0410538986325264,0.1001705601811409,0.01099794078618288,0.06975895911455154,0.049983248114585876,0.1613573580980301,0.10986632108688354,0.07682472467422485,0.16737979650497437,0.08866167813539505,0.04058919474482536,0.07061400264501572,0.044857412576675415,0.06940636783838272,0.2402460128068924,0.0304244551807642,0.07137079536914825,0.05340220034122467,0.07565347105264664,0.07043414562940598,0.11661231517791748,0.1752142310142517,0.10410010069608688,0.12796145677566528,0.13777725398540497,0.06371285766363144,0.059454742819070816,0.07212545722723007,0.014556624926626682,0.05230657756328583,0.0930493101477623,0.09283018112182617,0.08262079209089279,0.029807688668370247,0.13860641419887543,0.08392104506492615,0.014862816780805588,0.09922123700380325,0.03669736161828041,0.1087992712855339,0.05775114893913269,0.08994734287261963,0.08821603655815125,0.04588702693581581,0.025280343368649483,0.1437385529279709,0.09883751720190048,0.14366701245307922,0.10723623633384705,0.06569529324769974,0.08449027687311172,0.05695106089115143,0.1010369285941124,0.08057776838541031,0.08144944161176682,0.09592055529356003,0.10995045304298401,0.12984636425971985,0.08952762931585312,0.11686777323484421,0.13715679943561554,0.1022203266620636,0.061240170150995255,0.22144930064678192,0.08055000007152557,0.06894755363464355,0.11878079175949097,0.09419529885053635,0.10023990273475647,0.10289070010185242,0.1602950245141983,0.11276503652334213,0.05921591818332672,0.04711085930466652,0.09164463728666306,0.12767378985881805,0.08430739492177963,0.07423781603574753,0.13105884194374084,0.039801519364118576,0.043093305081129074,0.0732794925570488,0.11856195330619812,0.17811213433742523,0.19828732311725616,0.041133128106594086,0.04751454293727875,0.03911491110920906,0.07380686700344086,0.11459549516439438,0.040984753519296646,0.06877598911523819,0.08387216925621033,0.15065410733222961,0.06116962432861328,0.10235890746116638,0.08336641639471054,0.1413356512784958,0.03270525112748146,0.07588700205087662,0.0690629854798317,0.09224336594343185,0.11298374086618423,0.1756175011396408,0.1034904420375824,0.050254907459020615,0.047359734773635864,0.04398304596543312,0.12605439126491547,0.08614646643400192,0.1082695797085762,0.2995994985103607,0.08845794200897217,0.20923544466495514,0.17764388024806976,0.08599495887756348,0.13365039229393005,0.07995937764644623,0.21445618569850922,0.05596926808357239,0.17127342522144318,0.04440312460064888,0.07897742837667465,0.18729591369628906,0.07284770905971527,0.20589186251163483,0.2914420962333679,0.07676830887794495,0.129550963640213,0.0944935604929924,0.13845516741275787,0.062063541263341904,0.10050470381975174,0.1479700654745102,0.09435928612947464,0.06213293969631195,0.047741129994392395,0.01842125505208969,0.11836092919111252,0.12099165469408035,0.12025857716798782,0.19661439955234528,0.07711461931467056,0.09216919541358948,0.04789276793599129,0.04557139798998833,0.10458364337682724,0.17224524915218353,0.054259609431028366,0.08832791447639465,0.12390312552452087,0.02618441917002201,0.037941910326480865,0.06853071600198746,0.05139772593975067,0.01912865787744522,0.11375829577445984,0.11105027049779892,0.09080607444047928,0.15981261432170868,0.0938911959528923,0.12557412683963776,0.04502524435520172,0.06903588026762009,0.11249180883169174,0.07364574819803238,0.158648282289505,0.0598505474627018,0.07707730680704117,0.05008261278271675,0.08831680566072464,0.10984278470277786,0.049170464277267456,0.09104541689157486,0.11840653419494629,0.0833732858300209,0.12007880955934525,0.09700438380241394,0.0505206435918808,0.13880087435245514,0.18420864641666412,0.09722527116537094,0.0794026181101799,0.0769248753786087,0.07301393896341324,0.11707114428281784,0.14889654517173767,0.045012544840574265,0.05478472635149956,0.11033432930707932,0.04522697627544403,0.07795672118663788,0.07215317338705063,0.14009714126586914,0.03697693347930908,0.033204060047864914,0.025161586701869965,0.03674818575382233,0.12427693605422974,0.07165516912937164,0.10915237665176392,0.10071533173322678,0.1056075394153595,0.05600613355636597,0.07220936566591263,0.19031374156475067,0.09844225645065308,0.05805623531341553,0.10154932737350464,0.08060137182474136,0.10277316719293594,0.11826462298631668,0.05951431766152382,0.18972273170948029,0.21930594742298126,0.0637873187661171,0.1876390427350998,0.22324597835540771,0.09337491542100906,0.06334386765956879,0.15591931343078613,0.13156840205192566,0.12345441430807114,0.07363422960042953,0.08749303221702576,0.14146928489208221,0.1390860229730606,0.085063137114048,0.06676282733678818,0.06098868325352669,0.09513315558433533,0.015534191392362118,0.060590535402297974,0.04698050022125244,0.23794406652450562,0.18449759483337402,0.09348639845848083,0.12165110558271408,0.07567247748374939,0.1427309811115265,0.11929158121347427,0.12114100903272629,0.059037189930677414,0.09235381335020065,0.11987455934286118,0.06626623123884201,0.10304593294858932,0.053368132561445236,0.05259694159030914,0.043457839637994766,0.05722779035568237,0.05507585033774376,0.06261998414993286,0.059717316180467606,0.15531352162361145,0.12355019897222519,0.03980967029929161,0.1599675565958023,0.11515418440103531,0.09913256764411926,0.08643585443496704,0.2337266057729721,0.09454232454299927,0.06090827286243439,0.10147041082382202,0.16252897679805756,0.03971770033240318,0.04478128254413605,0.05999134108424187,0.1368933618068695,0.029013896360993385,0.06952635943889618,0.0972898006439209,0.09619880467653275,0.03518862649798393,0.07311870902776718,0.056570325046777725,0.1441614180803299,0.19866114854812622,0.13466881215572357,0.019560713320970535,0.12594938278198242,0.11298906803131104,0.08727731555700302,0.18007217347621918,0.0949704572558403,0.05754944309592247,0.08404618501663208,0.044582515954971313,0.08641957491636276,0.1079053059220314,0.10424262285232544,0.14453567564487457,0.1468593180179596,0.12352880090475082,0.13748860359191895,0.07564615458250046,0.19327706098556519,0.07950709760189056,0.07809539884328842,0.11364474147558212,0.10171827673912048,0.13393627107143402,0.09370627999305725,0.057772159576416016,0.08997159451246262,0.07512985169887543,0.05235626921057701,0.08771631121635437,0.10395129770040512,0.08685886114835739,0.11277324706315994,0.14594341814517975,0.03750627115368843,0.03327794000506401,0.23040764033794403,0.010562922805547714,0.09961211681365967,0.12029696255922318,0.04519769176840782,0.09329696744680405,0.06592351198196411,0.06534439325332642,0.10551220923662186,0.08584552258253098,0.04185723885893822,0.044622913002967834,0.12043080478906631,0.0228296909481287,0.08216553181409836,0.11464377492666245,0.016079965978860855,0.1285499930381775,0.07971999794244766,0.07833674550056458,0.05958893895149231,0.1612437218427658,0.09812790900468826,0.0980522632598877,0.13599224388599396,0.044746994972229004,0.13804049789905548,0.09667331725358963,0.14769771695137024,0.1124286875128746,0.07527091354131699,0.055499132722616196,0.05238395556807518,0.07917649298906326,0.061558786779642105,0.1449144184589386,0.11798209697008133,0.0791672095656395,0.07643627375364304,0.10285836458206177,0.04324887692928314,0.0744398757815361,0.08751142024993896,0.19085653126239777,0.13403718173503876,0.08449048548936844,0.12582921981811523,0.15398724377155304,0.09428482502698898,0.11165940016508102,0.15639223158359528,0.21047522127628326,0.04099467769265175,0.22260211408138275,0.09662741422653198,0.07291799783706665,0.07570166885852814,0.029664354398846626,0.09582590311765671,0.08303719758987427,0.11705466359853745,0.14562533795833588,0.11208659410476685,0.09182081371545792,0.16451619565486908,0.032942090183496475,0.10213276743888855,0.08734024316072464,0.09562500566244125,0.1904236525297165,0.13314826786518097,0.08329679071903229,0.051231738179922104,0.12463980168104172,0.13525734841823578,0.12128033488988876,0.04354670271277428,0.10089760273694992,0.04212215170264244,0.12474579364061356,0.051499202847480774,0.07329601049423218,0.08031460642814636,0.07777205854654312,0.15345250070095062,0.10575369000434875,0.09280077368021011,0.10837773233652115,0.1255502849817276,0.136834517121315,0.18796281516551971,0.05714576318860054,0.05603271350264549,0.10710904002189636,0.13075679540634155,0.11160395294427872,0.09531589597463608,0.18480879068374634,0.10348064452409744,0.3303358256816864,0.19331514835357666,0.09558158367872238,0.07255841046571732,0.0892859622836113,0.09232603758573532,0.0959637388586998,0.07290179282426834,0.07562098652124405,0.058438848704099655,0.41457805037498474,0.055043984204530716,0.12547099590301514,0.0762830600142479,0.13361816108226776,0.1370987594127655,0.07968729734420776,0.08352790027856827,0.07889197021722794,0.04790316894650459,0.06675419956445694,0.05913296341896057,0.057801634073257446,0.09384991973638535,0.03999018296599388,0.15455101430416107,0.1128164753317833,0.31291303038597107,0.11633259803056717,0.052906591445207596,0.08409836888313293,0.021285710856318474,0.1491631269454956,0.13554543256759644,0.11624536663293839,0.10135740041732788,0.08947237581014633,0.17126262187957764,0.06278669834136963,0.2725302577018738,0.055417388677597046,0.07731590420007706,0.14309316873550415,0.07643982768058777,0.09749416261911392,0.12111479043960571,0.06280629336833954,0.034056372940540314,0.07375767081975937,0.09772031754255295,0.1860695481300354,0.194340780377388,0.10716480016708374,0.15063445270061493,0.10105607658624649,0.08903121203184128,0.09907391667366028,0.0424831360578537,0.10296511650085449,0.0915156677365303,0.07098846882581711,0.14096899330615997,0.07956026494503021,0.10221315175294876,0.03168346360325813,0.1832372099161148,0.10378950834274292,0.3826850950717926,0.17278701066970825,0.09665209800004959,0.09967183321714401,0.045829545706510544,0.11272177845239639,0.11942526698112488,0.036374885588884354,0.08882393687963486,0.1290588527917862,0.08653896301984787,0.047278061509132385,0.2025551050901413,0.03756451606750488,0.11527437716722488,0.07668954879045486,0.10545986890792847,0.15950040519237518,0.029300518333911896,0.08012977987527847,0.06123350188136101,0.05920914188027382,0.142415389418602,0.048296403139829636,0.13774581253528595,0.11004794389009476,0.1625984013080597,0.04404812678694725,0.0796477347612381,0.12556874752044678,0.03987085819244385,0.04505089297890663,0.17587901651859283,0.03994559124112129,0.08340711146593094,0.0575161874294281,0.06780637800693512,0.10721123218536377,0.05033421516418457,0.17470715939998627,0.10382241755723953,0.12908802926540375,0.05845974013209343,0.08864280581474304,0.042749833315610886,0.061822399497032166,0.09154855459928513,0.07451693713665009,0.09099245816469193,0.025556989014148712,0.09444610029459,0.08444152027368546,0.07797852158546448,0.1506711095571518,0.14985240995883942,0.0993635356426239,0.04624469578266144,0.11205947399139404,0.039497483521699905,0.10496976971626282,0.08855392783880234,0.12022524327039719,0.07376057654619217,0.08872092515230179,0.13813771307468414,0.13830141723155975,0.08670809864997864,0.07448238134384155,0.07345425337553024,0.030208125710487366,0.14365513622760773,0.09783517569303513,0.061352577060461044,0.10751328617334366,0.06268926709890366,0.08153180778026581,0.08125405758619308,0.1324848085641861,0.07284621149301529,0.20395581424236298,0.061822663992643356,0.10591989010572433,0.0871386006474495,0.05568718537688255,0.08526915311813354,0.08378416299819946,0.07851771265268326,0.05860518291592598,0.14995072782039642,0.0740424171090126,0.06816192716360092,0.0967680811882019,0.08607130497694016,0.14308315515518188,0.08759915828704834,0.09372837096452713,0.09971923381090164,4.263042937964201E-4,0.3122757077217102,0.19694294035434723,0.08471836894750595,0.05146361514925957,0.06713700294494629,0.08687663078308105,0.09084818512201309,0.11579388380050659,0.10769324749708176,0.11468416452407837,0.1613081842660904,0.04892803728580475,0.10719602555036545,0.023345453664660454,0.10815001279115677,0.15257145464420319,0.11831637471914291,0.08338671922683716,0.0850604772567749,0.0564887672662735,0.1698400229215622,0.11835119873285294,0.07300473749637604,0.10053729265928268,0.10561185330152512,0.09231527894735336,0.03204914554953575,0.06693882495164871,0.0898885503411293,0.19704560935497284,0.07886799424886703,0.1477968543767929,0.06134098395705223,0.05766995623707771,0.03869691491127014,0.13173335790634155,0.14800198376178741,0.09398222714662552,0.06326676905155182,0.18659649789333344,0.1349361538887024,0.06411644071340561,0.08320638537406921,0.034338999539613724,0.10087992995977402,0.22712342441082,0.05511787161231041,0.09834980964660645,0.12297585606575012,0.14463193714618683,0.035276878625154495,0.2635509669780731,0.03620843589305878,0.08508807420730591,0.07412173599004745,0.05884813889861107,0.1854747086763382,0.017561661079525948,0.05681981146335602,0.12737031280994415,0.028251737356185913,0.16603834927082062,0.11782791465520859,0.08097447454929352,0.15610365569591522,0.14138728380203247,0.056531354784965515,0.09818821400403976,0.029873421415686607,0.10832119733095169,0.04675975441932678,0.12505775690078735,0.11004839092493057,0.16473738849163055,0.01916932687163353,0.06641148775815964,0.06771692633628845,0.06561756879091263,0.19794724881649017,0.04576099291443825,0.09343535453081131,0.07182569056749344,0.06409280747175217,0.07292452454566956,0.12757593393325806,0.11867409199476242,0.2417021542787552,0.09827392548322678,0.04583452269434929,0.17549459636211395,0.09131786972284317,0.11904377490282059,0.11508864164352417,0.046463653445243835,0.1496281772851944,0.22358553111553192,0.12634633481502533,0.10322564840316772,0.05799874663352966,0.16624416410923004,0.04193123057484627,0.05984901264309883,0.08809084445238113,0.05395537242293358,0.025955356657505035,0.026513108983635902,0.07512592524290085,0.06600528210401535,0.0696326270699501,0.094916433095932,0.09781505912542343,0.12529708445072174,0.0753948837518692,0.06485147029161453,0.06969214230775833,0.1677703857421875,0.088941790163517,0.048242468386888504,0.10306856781244278,0.185042142868042,0.10111439228057861,0.10858581215143204,0.10333431512117386,0.14830665290355682,0.08825311064720154,0.10528534650802612,0.08298871666193008,0.0941402018070221,0.07921556383371353,0.0953560397028923,0.11932782083749771,0.14883612096309662,0.08805642277002335,0.04242488741874695,0.12294157594442368,0.14844152331352234,0.24192523956298828,0.11106681823730469,0.04890390858054161,0.10147445648908615,0.011252655647695065,0.01926417089998722,0.047188952565193176,0.11907368898391724,0.1731589436531067,0.04179087653756142,0.14736604690551758,0.07804252952337265,0.14706160128116608,0.08496265858411789,0.04888983070850372,0.25053322315216064,0.07735463231801987,0.0966133251786232,0.038479216396808624,0.041649628430604935,0.06166379153728485,0.08201608061790466,0.07029987871646881,0.07302949577569962,0.09316683560609818,0.04423646628856659,0.09423243999481201,0.08803500980138779,0.07646877318620682,0.12354785203933716,0.06621406227350235,0.04259318485856056,0.05742296576499939,0.1732580065727234,0.08413887023925781,0.056944314390420914,0.0958898738026619,0.08299572020769119,0.048452284187078476,0.0662275031208992,0.11714912205934525,0.06350599974393845,0.10782893747091293,0.10102114081382751,0.06690401583909988,0.10065501183271408,0.04125058278441429,0.044447556138038635,0.06991098076105118,0.0687575563788414,0.11886051297187805,0.16699522733688354,0.08961591869592667,0.16298817098140717,0.053412485867738724,0.1202007457613945,0.12347566336393356,0.07992617040872574,0.09584128856658936,0.14507034420967102,0.10975456982851028,0.11630052328109741,0.04854537546634674,0.09136060625314713,0.11335615068674088,0.04539188742637634,0.11753737181425095,0.08748653531074524,0.06939390301704407,0.17631147801876068,0.14192569255828857,0.16060420870780945,0.13562767207622528,0.1063244640827179,0.07136252522468567,0.07248132675886154,0.0873837098479271,0.08437620848417282,0.09029993414878845,0.12261150032281876,0.10745661705732346,0.04268450662493706,0.07058866322040558,0.03542027249932289,0.0756458044052124,0.06206134334206581,0.09911192208528519,0.18806703388690948,0.045068223029375076,0.0485418327152729,0.047307807952165604,0.03446095809340477,0.13252045214176178,0.054315272718667984,0.09205803275108337,0.100250743329525,0.04370748996734619,0.13674701750278473,0.07247979193925858,0.0669623538851738,0.03334474191069603,0.14932161569595337,0.1259034425020218,0.03750006854534149,0.018268031999468803,0.10671333223581314,0.004362844862043858,0.06079324707388878,0.09576085209846497,0.03535668924450874,0.057466164231300354,0.03773144260048866,0.0846242681145668,0.06681505590677261,0.07048878818750381,3.645758843049407E-4,0.05062251165509224,0.12811534106731415,0.08098366856575012,0.15998633205890656,0.05495944246649742,0.12732256948947906,0.04389168322086334,0.110220767557621,0.055741023272275925,0.0561070553958416,0.06755129247903824,0.15194611251354218,0.13786251842975616,0.027834415435791016,0.053903523832559586,0.08866999298334122,0.11434384435415268,0.10133460909128189,0.041700348258018494,0.13521353900432587,0.1220230683684349,0.0883527398109436,0.04892875254154205,0.06363198161125183,0.12610654532909393,0.06020016595721245,0.09281530976295471,0.1429053694009781,0.11633214354515076,0.060032542794942856,0.08960974961519241,0.1411263644695282,0.0965050682425499,0.02762066014111042,0.27135762572288513,0.14114119112491608,0.04141657426953316,0.039807915687561035,0.07900459319353104,0.0707147940993309,0.12108402699232101,0.024627670645713806,0.07533435523509979,0.12167742103338242,0.11355152726173401,0.11913322657346725,0.03130577877163887,0.1333847939968109,0.07070088386535645,0.0550609789788723,0.08551179617643356,0.10124442726373672,0.07408572733402252,0.0839993953704834,0.06369590014219284,0.04796392843127251,0.12281998246908188,0.08042044192552567,0.030643312260508537,0.13391219079494476,0.043431561440229416,0.08157577365636826,0.09585258364677429,0.0340675450861454,0.06414634734392166,0.10446814447641373,0.13607154786586761,0.06606537848711014,0.0932300016283989,0.08723551034927368,0.1139707937836647,0.11410238593816757,0.08358591049909592,0.0830250009894371,0.1054193452000618,0.13182754814624786,0.08632827550172806,0.06619230657815933,0.07545679807662964,0.14964617788791656,0.0844774842262268,0.10223665088415146,0.05570470914244652,0.10156899690628052,0.0868878960609436,0.05569629371166229,0.14440295100212097,0.0626835972070694,0.03526090458035469,0.06776664406061172,0.12940235435962677,0.11293035000562668,0.04304545000195503,0.08665996044874191,0.11830232292413712,0.04576564207673073,0.04916298761963844,0.13957534730434418,0.08935662358999252,0.05190669372677803,0.12028440833091736,0.017297737300395966,0.0602538138628006,0.1267882138490677,0.11609068512916565,0.06216394528746605,0.08132483810186386,0.25907573103904724,0.10911104828119278,0.1124340072274208,0.11056686192750931,0.05736518278717995,0.07894319295883179,0.08124037832021713,0.030331894755363464,0.05646795406937599,0.06766626983880997,0.15994612872600555,0.0919063463807106,0.21196980774402618,0.15067525207996368,0.11378163844347,0.04590164124965668,0.03453431650996208,0.08374189585447311,0.07337070256471634,0.06252215057611465,0.03364291042089462,0.13686802983283997,0.10763386636972427,0.09751389175653458,0.19057607650756836,0.08707015961408615,0.0952867865562439,0.11064418405294418,0.06916311383247375,0.08031358569860458,0.09254172444343567,0.08061515539884567,0.1945154219865799,0.09884283691644669,0.0355752557516098,0.06856454908847809,0.09781530499458313,0.19888301193714142,0.04131310433149338,0.06559763103723526,0.08634886890649796,0.14337947964668274,0.10977938771247864,0.1196785569190979,0.1375507116317749,0.08308199793100357,0.08363472670316696,0.05085744336247444,0.08325047791004181,0.12695632874965668,0.08166155964136124,0.13871033489704132,0.032582495361566544,0.14507810771465302,0.09563135355710983,0.1262654811143875,0.07508344203233719,0.11087048053741455,0.11491335183382034,0.05057886242866516,0.11674392223358154,0.07272595912218094,0.054307952523231506,0.07007461786270142,0.06266232579946518,0.08858117461204529,0.08223067969083786,0.11165624111890793,0.05043499544262886,0.059201572090387344,0.09954595565795898,0.20132438838481903,0.069776751101017,0.13987605273723602,0.08369743078947067,0.1069611981511116,0.0046325866132974625,0.04984595254063606,0.06560403853654861,0.10302179306745529,0.047435734421014786,0.03626310080289841,0.1020669937133789,0.15786409378051758,0.16876159608364105,0.06856387108564377,0.1483219712972641,0.08149909228086472,0.07302934676408768,0.07084812968969345,0.11592952162027359,0.08321767300367355,0.10212498158216476,0.04864795506000519,0.1746286302804947,0.05505337193608284,0.11361169815063477,0.3428959548473358,0.018108412623405457,0.137778177857399,0.07888882607221603,0.11628389358520508,0.04921539127826691,0.08593233674764633,0.04738374054431915,0.12767651677131653,0.061176687479019165,0.12074898928403854,0.023357272148132324,0.04316025599837303,0.12835349142551422,0.0975758358836174,0.0830848291516304,0.09222757071256638,0.105770044028759,0.0746365487575531,0.054743241518735886,0.10378158837556839,0.18476003408432007,0.11773497611284256,0.07193045318126678,0.031938131898641586,0.12012293189764023,0.026498625054955482,0.09652794152498245,0.09688561409711838,0.06869212538003922,0.04837675765156746,0.07652876526117325,0.03785363957285881,0.06941348314285278,0.07672201842069626,0.12639905512332916,0.1192445456981659,0.027951030060648918,0.0371236652135849,0.08430387824773788,0.1038343608379364,0.14735758304595947,0.09598412364721298,0.0851617082953453,0.023330705240368843,0.06108037009835243,0.11146605759859085,0.0985921323299408,0.1051914393901825,0.15494008362293243,0.06201906129717827,0.15713225305080414,0.1927151083946228,0.022248050197958946,0.03993085399270058,0.12891894578933716,0.025536583736538887,0.04680586978793144,0.03166497126221657,0.06355209648609161,0.11953211575746536,0.08600053191184998,0.070346899330616,0.07162213325500488,0.09184924513101578,0.0899815484881401,0.11484695225954056,0.0758223757147789,0.03892182186245918,0.05458192899823189,0.039318569004535675,0.14919371902942657,0.1345849186182022,0.1321820169687271,0.09798777848482132,0.027943013235926628,0.09890717267990112,0.06334393471479416,0.13513179123401642,0.058870866894721985,0.12664711475372314,0.08059694617986679,0.09263589978218079,0.03222609683871269,0.0756029412150383,0.10705665498971939,0.13096509873867035,0.12692834436893463,0.0614154189825058,0.09462994337081909,0.13084149360656738,0.10653451830148697,0.11604801565408707,0.028908735141158104,0.09644325822591782,0.2296329289674759,0.07218719273805618,0.16361106932163239,0.1034855768084526,0.11048314720392227,0.06228525936603546,0.11589939147233963,0.06436441838741302,0.05900883302092552,0.1031319797039032,0.22560983896255493,0.12100300192832947,0.08165659010410309,0.08413764089345932,0.07704567909240723,0.10747461766004562,0.04225539788603783,0.026074126362800598,0.07686489820480347,0.09570097923278809,0.0669529065489769,0.11079882830381393,0.061018671840429306,0.13388721644878387,0.050587330013513565,0.08671459555625916,0.05554164946079254,0.028275728225708008,0.04917178675532341,0.06477893888950348,0.05738632008433342,0.05055570974946022,0.0941399410367012,0.10547474026679993,0.1314670890569687,0.06965232640504837,0.16001777350902557,0.0917697325348854,0.10014292597770691,0.05713040754199028,0.07562632858753204,0.0829182043671608,0.11454125493764877,0.07934499531984329,0.14593294262886047,0.06641938537359238,0.051325034350156784,0.11671769618988037,0.13515405356884003,0.07131680101156235,0.10717830061912537,0.1150079146027565,0.021026907488703728,0.06475791335105896,0.10187482833862305,0.13807514309883118,0.0800001248717308,0.11564921587705612,0.04433164373040199,0.09802181273698807,0.04338419437408447,2.641498576849699E-4,0.07132910937070847,0.1185707226395607,0.025879666209220886,0.08416012674570084,0.01451876387000084,0.10247594118118286,0.16091987490653992,0.08870456367731094,0.050983767956495285,0.06302955001592636,0.09828101843595505,0.07646653056144714,0.10995588451623917,0.03878990188241005,0.05708989500999451,0.036734968423843384,0.04554847255349159,0.06122651696205139,0.05973733961582184,0.09623700380325317,0.076805479824543,0.045145321637392044,0.09390577673912048,0.07180335372686386,0.05628826096653938,0.07150658965110779,0.026646392419934273,0.1048322394490242,0.045178741216659546,0.11985043436288834,0.06096334755420685,0.09195157885551453,0.06171996518969536,0.0572860985994339,0.09784991294145584,0.0954107865691185,0.1483263522386551,0.15991298854351044,0.14257726073265076,0.08076687902212143,0.06352713704109192,0.08839652687311172,0.0888439193367958,0.04519204795360565,0.07955748587846756,0.13248561322689056,0.14689849317073822,0.06868696957826614,0.10481537133455276,0.07650306075811386,0.09549576044082642,0.048285070806741714,0.06921694427728653,0.06838304549455643,0.0881635770201683,0.3533017635345459,2.11862163268961E-4,0.01358728390187025,0.05233690142631531,0.11735682934522629,0.09023483842611313,0.09472183138132095,0.011108308099210262,0.09533432871103287,0.10551857203245163,0.05383427068591118,0.11764919757843018,0.10036028176546097,0.11991309374570847,0.0930381789803505,0.08587769418954849,0.04900871589779854,0.10312507301568985,0.06457603722810745,0.03676924481987953,0.0686151385307312,0.05171525478363037,0.05650092288851738,0.07977182418107986,0.09990793466567993,0.17979837954044342,0.1337151676416397,0.07528470456600189,0.11329403519630432,0.1328493356704712,0.07494606822729111,0.10391327738761902,0.03063996136188507,0.09507661312818527,0.06614938378334045,0.054737839847803116,0.10859517008066177,0.09795840829610825,0.11011885851621628,0.08849851042032242,0.053393200039863586,0.08712819963693619,0.07173220068216324,0.1701793670654297,0.08074537664651871,0.061414483934640884,0.022937634959816933,0.06416529417037964,0.07753343135118484,0.1501847207546234,0.06111602485179901,0.06975073367357254,0.0952947735786438,0.12253368645906448,0.048582274466753006,0.11369433999061584,0.04328541457653046,0.015292737632989883,0.09884858876466751,0.11504513025283813,0.14256571233272552,0.12423574924468994,0.04269423708319664,0.08845177292823792,0.10416945815086365,0.09558907151222229,0.09693250060081482,0.08331090211868286,0.10180306434631348,0.13836152851581573,0.03187413886189461,0.03984777256846428,0.11636620759963989,0.05199381336569786,0.1267511546611786,0.1151030883193016,0.07721724361181259,0.0827958807349205,0.09908470511436462,0.09604117274284363,0.0787225142121315,0.029606608673930168,0.03385331109166145,0.12079562991857529,0.10783770680427551,0.05789666995406151,0.06341999024152756,0.0735946074128151,0.13034053146839142,0.04229307174682617,0.05428917706012726,0.06492488831281662,0.10195555537939072,0.1420716792345047,0.06013571098446846,0.0452788881957531,0.08702543377876282,0.1623862087726593,0.13738712668418884,0.0740378275513649,0.15028740465641022,0.11076110601425171,0.08362077921628952,0.15609529614448547,0.030610376968979836,0.052227932959795,0.23168839514255524,0.04671582952141762,0.012326128780841827,0.1291644424200058,0.05854257568717003,0.0870235338807106,0.04979565739631653,0.06356555223464966,0.11603033542633057,0.10448575019836426,0.08007699996232986,0.04323218762874603,0.0669623389840126,0.10835427045822144,0.051703426986932755,0.09670740365982056,0.11058459430932999,0.044547244906425476,0.07130629569292068,0.09404142946004868,0.05382659658789635,0.32734039425849915,0.06297615170478821,0.06796973198652267,0.13753938674926758,0.056879401206970215,0.18734294176101685,0.04779387637972832,0.15097011625766754,0.02568594552576542,0.011128786019980907,0.15802352130413055,0.05216751992702484,0.17090760171413422,0.04214499518275261,0.1136513352394104,0.14969243109226227,0.10340864211320877,0.13003043830394745,0.061504725366830826,0.14489240944385529,0.07470028847455978,0.20150691270828247,0.020106390118598938,0.16334319114685059,0.1554870754480362,0.05783286690711975,0.11311643570661545,0.05094760283827782,0.11143521219491959,0.028884613886475563,0.06260886043310165,0.08350639790296555,0.08781065791845322,0.11212000995874405,0.061680544167757034,0.1937817931175232,0.07947710901498795,0.04110392555594444,0.08435160666704178,0.05713622644543648,0.04464435577392578,0.10147279500961304,0.07560650259256363,0.20218147337436676,0.07539325952529907,0.11227720230817795,0.08265618234872818,0.046572715044021606,0.09403666108846664,0.1456245630979538,0.10839302092790604,0.034469928592443466,0.05379408225417137,0.06781203299760818,0.07447458803653717,0.07882437855005264,0.08067353814840317,0.03312888741493225,0.049224719405174255,0.1306648701429367,0.22248797118663788,0.12692159414291382,0.1488056629896164,0.0551903210580349,0.032929565757513046,0.05958419665694237,0.11988392472267151,0.09243013709783554,0.030115770176053047,0.06819184869527817,0.0858263149857521,0.08210138231515884,0.017949268221855164,0.1364201456308365,0.07256419956684113,0.2626536190509796,0.0499512143433094,0.069948710501194,0.1806311160326004,0.04155725985765457,0.03453931212425232,0.0832546129822731,0.12267284840345383,0.12583233416080475,0.104375459253788,0.24815230071544647,0.10784084349870682,0.078702911734581,0.0947795882821083,0.11598020046949387,0.08934753388166428,0.12589748203754425,0.07854476571083069,0.06612028926610947,0.0597289614379406,0.08333771675825119,0.12620216608047485,0.07519912719726563,0.07570715248584747,0.10036247968673706,0.08641257137060165,0.09942684322595596,0.04007953032851219,0.1321488916873932,0.034971073269844055,0.021180802956223488,0.10204112529754639,0.10474546998739243,0.03926179185509682,0.07274524122476578,0.037972528487443924,0.05037367343902588,0.10251832753419876,0.3012421429157257,0.060850705951452255,0.14003150165081024,0.1251707226037979,0.11746826022863388,0.03457038104534149,0.06239743158221245,0.07544142752885818,0.08181198686361313,0.13431736826896667,0.05584673956036568,0.10466787964105606,0.0851786732673645,0.024004414677619934,0.06975869089365005,0.05874987319111824,0.13212458789348602,0.051985520869493484,0.05200568959116936,0.051680777221918106,0.0521903820335865,0.08977237343788147,0.07048757374286652,0.07025092840194702,0.09364402294158936,0.12008830904960632,0.1360427290201187,0.06443699449300766,0.06238158047199249,0.038502879440784454,0.05451303347945213,0.05763539299368858,0.03432660177350044,0.15078648924827576,0.11170870065689087,0.12196599692106247,0.14775438606739044,0.05724433436989784,0.05035540461540222,0.11940398812294006,0.13421843945980072,0.16979478299617767,0.1937299221754074,0.029238278046250343,0.047290313988924026,0.06656051427125931,0.07307354360818863,0.06744920462369919,0.04637542739510536,0.07632099837064743,0.0401417501270771,0.03377815708518028,0.1080174669623375,0.2187739610671997,0.1536559909582138,0.08381936699151993,0.08540115505456924,0.11023738235235214,0.05198363959789276,0.017094695940613747,0.02793012373149395,0.046323057264089584,0.0897122323513031,0.1267305612564087,0.09697812795639038,0.14261332154273987,0.10306941717863083,0.07451695948839188,0.11261844635009766,0.1226281225681305,0.07194594293832779,0.011836710385978222,0.07426472753286362,0.11668720096349716,0.05419723689556122,0.13028158247470856,0.12781889736652374,0.09999316185712814,0.1116350069642067,0.05416223406791687,0.07453431934118271,0.09896653145551682,0.024666180834174156,0.1250726729631424,0.012632985599339008,0.07930662482976913,0.16450344026088715,0.07920750230550766,0.1256691813468933,0.09479355812072754,0.04785327613353729,0.1855839490890503,0.05479947850108147,0.09391054511070251,0.01293880119919777,0.09488511085510254,0.13196386396884918,0.07097823172807693,0.07571996748447418,0.15342070162296295,0.04695358872413635,0.0739496648311615,0.0401088111102581,0.09590408951044083,0.116978220641613,0.11918019503355026,0.1058519259095192,0.09823089092969894,0.08958981186151505,0.09274572134017944,0.0736241415143013,0.09532096982002258,0.10159129649400711,0.027470529079437256,0.3274690806865692,0.0636434257030487,0.2638949751853943,0.07023690640926361,0.045252133160829544,0.05753794685006142,0.031130485236644745,0.1039462760090828,0.054594382643699646,0.043203625828027725,0.09999573975801468,0.029252655804157257,0.10497353225946426,0.28570908308029175,0.0779954195022583,0.07168399542570114,0.06584500521421432,0.047025565057992935,0.052545372396707535,0.05204429849982262,0.06684602797031403,0.026303106918931007,0.09588810801506042,0.11316118389368057,0.05848924443125725,0.07907009869813919,0.06865418702363968,0.321087121963501,0.045683667063713074,0.08892124146223068,0.08214709162712097,0.05867066606879234,0.15793319046497345,0.1183929443359375,0.05149257183074951,0.028089581057429314,0.10938739031553268,0.0801244005560875,0.13569115102291107,0.04111282527446747,0.05369951203465462,0.01726262830197811,0.05509277060627937,0.08337988704442978,0.10998954623937607,0.19543619453907013,0.04755784571170807,0.06998539716005325,0.057577889412641525,0.059034720063209534,0.08622169494628906,0.06041431427001953,0.17166222631931305,0.04212034121155739,0.1554313451051712,0.08242520689964294,0.12784063816070557,0.06042596697807312,0.08261097222566605,0.12591764330863953,0.05557410791516304,0.14802499115467072,0.09205351024866104,0.10392177104949951,0.050035759806632996,0.13166974484920502,0.06351517140865326,0.16943491995334625,0.03887459635734558,0.08998612314462662,0.13628718256950378,0.06810572743415833,0.08930318802595139,0.0961855947971344,0.04888970032334328,0.1437915712594986,0.09239528328180313,0.042325764894485474,0.18740665912628174,0.17094440758228302,0.05262240394949913,0.07673478126525879,0.11146893352270126,0.06896323710680008,0.09771165996789932,0.037651315331459045,0.09542784839868546,0.05477813258767128,0.08404126763343811,0.024390697479248047,0.117086261510849,0.14645317196846008,0.18733471632003784,0.0847814753651619,0.03349946066737175,0.09432730078697205,0.11785697191953659,0.164814755320549,0.12365475296974182,0.09431269764900208,0.10210517048835754,0.13989289104938507,0.15610136091709137,0.0635814443230629,0.09464749693870544,0.06475814431905746,0.04457404837012291,0.05308191850781441,0.152562215924263,0.040696777403354645,0.12855327129364014,0.19573600590229034,0.04899466037750244,0.11308258771896362,0.045810308307409286,0.03202851861715317,0.06763558834791183,0.11411988735198975,0.1114189624786377,0.055261943489313126,0.10590511560440063,0.11120808869600296,0.047629792243242264,0.12173110246658325,0.054849714040756226,0.046970099210739136,0.05790718272328377,0.11125188320875168,0.02036208100616932,0.08411166816949844,0.15340396761894226,0.16151727735996246,0.1754104346036911,0.22994577884674072,0.3576698303222656,0.1401502639055252,0.09897450357675552,0.11145486682653427,0.10564451664686203,0.09065873175859451,0.0812651738524437,0.09169306606054306,0.024605555459856987,0.0703161284327507,0.11503437906503677,0.09239698201417923,0.09378015249967575,0.05736175552010536,0.035956982523202896,0.12885622680187225,0.09004926681518555,0.15237246453762054,0.10300204902887344,0.05208153650164604,0.08408466726541519,0.07550164312124252,0.07043227553367615,0.11480584740638733,0.1250760704278946,0.12316151708364487,0.14953450858592987,0.09722114354372025,0.11358026415109634,0.08072005957365036,0.06543271243572235,0.07363902032375336,0.05061100423336029,0.12241661548614502,0.11311260610818863,0.06489522010087967,0.05207400396466255,0.1085599735379219,0.07128074020147324,0.13695202767848969,0.09827811270952225,0.09369596093893051,0.10433157533407211,0.07359418272972107,0.0766705796122551,0.049141377210617065,0.0793793648481369,0.09541448205709457,0.09306418150663376,0.17781983315944672,0.06680361926555634,0.053824443370103836,0.047237563878297806,0.10329323261976242,0.042877551168203354,0.058033425360918045,0.07250436395406723,0.11260638386011124,0.061886101961135864,0.06341395527124405,0.08257351815700531,0.04483625665307045,0.0755792111158371,0.1526183784008026,0.14308366179466248,0.0695435032248497,0.1175648644566536,0.08219553530216217,0.0762302502989769,0.054951250553131104,0.06638562679290771,0.27655401825904846,0.0861717090010643,0.10893911123275757,0.0762421190738678,0.059169162064790726,0.0929003655910492,0.04424286261200905,0.015404877252876759,0.06782440096139908,0.07509120553731918,0.037821460515260696,0.06511713564395905,0.14189927279949188,0.09534984081983566,0.14239491522312164,0.11888422816991806,0.07067511230707169,0.1294281929731369,0.08935496211051941,0.06925754994153976,0.11023212224245071,0.025886083021759987,0.124881811439991,0.1463412195444107,0.05319355055689812,0.06275983154773712,0.09377607703208923,0.057635825127363205,0.08300367742776871,0.07100862264633179,0.0771905705332756,0.06647058576345444,0.18849144876003265,0.09962189942598343,0.02943570911884308,0.08669713139533997,0.10275162011384964,0.08266890048980713,0.10975426435470581,0.06978876143693924,0.05753333494067192,0.13637928664684296,0.0796593502163887,0.06513521075248718,0.05007421597838402,0.11766641587018967,0.08785694092512131,0.10015377402305603,0.1556795984506607,0.144435852766037,0.1405949592590332,0.06417488306760788,0.047736842185258865,0.10552578419446945,5.383267416618764E-4,0.055617254227399826,0.11367256194353104,0.0889522135257721,0.05074558034539223,0.04610881209373474,0.07731073349714279,0.10380333662033081,0.06602129340171814,0.10237529873847961,0.08663950115442276,0.042915452271699905,0.06520979106426239,0.10894232988357544,0.08153193444013596,0.06742636859416962,0.06567934900522232,0.09837594628334045,0.06413328647613525,0.11595042794942856,0.09388047456741333,0.12240558862686157,0.012789279222488403,0.012474811635911465,0.0938158705830574,0.01808740198612213,0.023970020934939384,0.08333463221788406,0.1208769753575325,0.08841107040643692,0.0721583291888237,0.13182024657726288,0.06169808283448219,0.12650717794895172,0.08567139506340027,0.1086006835103035,0.018048947677016258,0.1314617097377777,0.11548808217048645,0.08319683372974396,0.06427239626646042,0.10532533377408981,0.09962611645460129,0.05996088683605194,0.08875355869531631,0.05855390056967735,0.07070913165807724,0.1619444191455841,0.10267917066812515,0.03097614459693432,0.13253363966941833,0.06941163539886475,0.05856582894921303,0.11712446063756943,0.02421451173722744,0.0934828519821167,0.045112449675798416,0.11524460464715958,0.12371781468391418,0.10695811361074448,0.08117003738880157,0.18411785364151,0.07411670684814453,0.030036939308047295,0.06705927103757858,0.03207255154848099,0.20971985161304474,0.044378798454999924,0.10008419305086136,0.08840938657522202,0.03020133636891842,0.10020013898611069,0.06258179247379303,0.13149018585681915,0.13374458253383636,0.10027629882097244,0.15320871770381927,0.09380178898572922,0.05402044579386711,0.09220077842473984,0.04784679785370827,0.16018040478229523,0.10799936205148697,0.11851921677589417,0.08368105441331863,0.07387827336788177,0.07366229593753815,0.03911666199564934,0.1337624341249466,0.09155848622322083,0.06375451385974884,0.13538019359111786,0.09422106295824051,0.05261579155921936,0.07785303890705109,0.12022768706083298,0.10069439560174942,0.05313493683934212,0.08600623160600662,0.08094757050275803,0.0979684367775917,0.10395273566246033,0.06406252831220627,0.11837363988161087,0.07687697559595108,0.09650135785341263,0.06914675980806351,0.04481343924999237,0.08903858810663223,0.08558863401412964,0.10678359121084213,0.12942169606685638,0.10940996557474136,0.15274909138679504,0.09277579933404922,0.13226471841335297,0.08176761120557785,0.06383152306079865,0.0649036392569542,0.04611701890826225,0.10389024764299393,0.059422459453344345,0.03937670215964317,0.1001611277461052,0.10306049138307571,0.062189072370529175,0.110103540122509,0.04006177559494972,0.01054986473172903,0.05028082802891731,0.09854469448328018,0.09636756032705307,0.1017545685172081,0.07203207910060883,0.05543293431401253,0.09984471648931503,0.0843711867928505,0.026833200827240944,0.09024232625961304,0.09086985141038895,0.18189795315265656,0.07534033805131912,0.10248515754938126,0.06925804167985916,0.0260374303907156,0.0829077661037445,0.06999105960130692,0.032391395419836044,0.07518993318080902,0.09029412269592285,0.09586731344461441,0.10478077083826065,0.08867579698562622,0.09720703214406967,0.05563941225409508,0.10252722352743149,0.07975427806377411,0.1327122300863266,0.2057078629732132,0.1491415649652481,0.10254174470901489,0.05704091116786003,0.08794049173593521,0.07328115403652191,0.1282125860452652,0.16075827181339264,0.06439642608165741,0.10339323431253433,0.1693652719259262,0.10063815861940384,0.09362044185400009,0.0544649213552475,0.06877004355192184,0.08730896562337875,0.028294852003455162,0.02099219709634781,0.15449391305446625,0.13381075859069824,0.11474976688623428,0.053604353219270706,0.1665826439857483,0.04534818232059479,0.07008334994316101,0.0454850047826767,0.0992167592048645,0.07957766950130463,0.08580821752548218,0.07576150447130203,0.05919558182358742,0.11042928695678711,0.0785524919629097,0.1801837831735611,0.07999943941831589,0.0502462275326252,0.0364685133099556,0.06768710911273956,0.16359636187553406,0.023600272834300995,0.07869607955217361,0.09386757016181946,0.11653491109609604,0.07674265652894974,0.12090519070625305,0.03918749466538429,0.19987879693508148,0.025676531717181206,0.18657620251178741,0.13316941261291504,0.07101178169250488,0.0769251361489296,0.11074560880661011,0.1010216474533081,0.06026751175522804,0.06957820057868958,0.08873424679040909,0.12045509368181229,0.13566480576992035,0.0688752606511116,0.1773126870393753,0.09658793359994888,0.11134129762649536,0.08990868180990219,0.0803857371211052,0.03225189819931984,0.1031637117266655,0.055345986038446426,0.058260444551706314,0.2633107006549835,0.16475047171115875,0.13323111832141876,0.057206008583307266,0.11256320029497147,0.1191466674208641,0.04396507143974304,0.09750811010599136,0.07503847032785416,0.07875936478376389,0.14507068693637848,0.055143002420663834,0.11559797078371048,0.045963238924741745,0.09957671165466309,0.2626993656158447,0.12001475691795349,0.119654081761837,0.08163727819919586,0.13615836203098297,0.11887634545564651,0.03946438804268837,0.07067494839429855,0.12444222718477249,0.02609752118587494,0.07521125674247742,0.11414258927106857,0.05003979429602623,0.13288380205631256,0.07465753704309464,0.1114983931183815,0.05469156801700592,0.11933150887489319,0.04008038341999054,0.05652012303471565,0.016990747302770615,0.0821811780333519,0.07274647802114487,0.03949654847383499,0.07354532182216644,0.05527041479945183,0.0347980260848999,0.059453967958688736,0.050279680639505386,0.0859539806842804,0.13114334642887115,0.07650136947631836,0.06380053609609604,0.14696303009986877,0.052714988589286804,0.09228718280792236,0.09623592346906662,0.07164358347654343,0.06267418712377548,0.08900278061628342,0.10991367697715759,0.17282569408416748,0.05504433810710907,0.036104001104831696,0.10216791182756424,0.14742623269557953,0.16676361858844757,0.09316447377204895,0.06988119333982468,0.10376062244176865,0.013352333568036556,0.03221183642745018,0.08212368190288544,0.0974268913269043,0.10574045032262802,0.05412934720516205,0.09176481515169144,0.17460234463214874,0.10024849325418472,0.089165098965168,0.0858774483203888,0.14878202974796295,0.09603139758110046,0.1232137382030487,0.16689257323741913,0.12339669466018677,0.13713662326335907,0.15315905213356018,0.06418736279010773,0.1252351701259613,0.1620727777481079,0.14829351007938385,0.1043684110045433,0.11558464169502258,0.09777765721082687,0.09045229107141495,0.11801192909479141,0.03364221379160881,0.07039650529623032,0.10949727147817612,0.10528234392404556,0.03977182134985924,0.06434669345617294,0.02854170650243759,0.193021759390831,0.12866346538066864,0.07254417985677719,0.038062144070863724,0.10192647576332092,0.15307974815368652,0.06447051465511322,0.061392635107040405,0.038983818143606186,0.09534978866577148,0.11683288961648941,0.09103003144264221,0.08499034494161606,0.14963260293006897,0.09552448987960815,0.08035790920257568,0.0763142928481102,0.05647692084312439,0.08668896555900574,0.08505038172006607,0.029258860275149345,0.10096422582864761,0.23617632687091827,0.10305723547935486,0.07528698444366455,0.06318932771682739,0.09579538553953171,0.12059405446052551,0.08638611435890198,0.06279412657022476,0.07871108502149582,0.03865250572562218,0.07229860872030258,0.13939981162548065,0.07623741030693054,0.0989040732383728,0.05478576943278313,0.12872688472270966,0.09736698120832443,0.14300872385501862,0.09804588556289673,0.0777183547616005,0.09782467037439346,0.05173243582248688,0.046735525131225586,0.025351427495479584,0.15696397423744202,0.12489447742700577,0.05459057167172432,0.10422128438949585,0.07877052575349808,0.08665988594293594,0.10550453513860703,0.07738377153873444,0.17564980685710907,0.0814550518989563,0.10845723003149033,0.0672391951084137,0.06050713360309601,0.06808310002088547,0.10382315516471863,0.06894944608211517,0.11260440945625305,0.03063347190618515,0.05304313823580742,0.015154835768043995,0.05277252197265625,0.11921730637550354,0.08299722522497177,0.12185803055763245,0.08208277821540833,0.13658784329891205,0.04033169522881508,0.028719788417220116,0.10403790324926376,0.05758235231041908,0.014844141900539398,0.09920910745859146,0.08900701999664307,0.05986867845058441,0.06343494355678558,0.11196819692850113,0.0870974063873291,0.03736339882016182,0.03995545208454132,0.06900028139352798,0.10495784133672714,0.09365908056497574,0.06275399774312973,0.046618640422821045,0.06667681783437729,0.02688809484243393,0.1381085067987442,0.13375906646251678,0.06811421364545822,0.06486343592405319,0.13935036957263947,0.1386406272649765,0.036027781665325165,0.09314149618148804,0.036542583256959915,0.12115660309791565,0.10860848426818848,0.060088738799095154,0.06477994471788406,0.12839697301387787,0.07524986565113068,0.07007772475481033,0.14277715981006622,0.11902979761362076,0.06976839154958725,0.10645227879285812,0.08340433239936829,0.01719820126891136,0.07059268653392792,0.10504383593797684,0.10073607414960861,0.15678365528583527,0.09519530087709427,0.09050434082746506,0.13313142955303192,0.17678053677082062,0.13403941690921783,0.03616226837038994,0.066059909760952,0.010461307130753994,0.02337118797004223,0.10592642426490784,0.10067584365606308,0.12113643437623978,0.11244398355484009,0.10845223069190979,0.09840351343154907,0.09930288046598434,0.09372980147600174,0.06717313826084137,0.142286017537117,0.09444152563810349,0.12908628582954407,0.06538201868534088,0.07641703635454178,0.0690113827586174,0.08155485987663269,0.16327840089797974,0.10004010796546936,0.1507725864648819,0.055509746074676514,0.08966443687677383,0.10769781470298767,0.19981813430786133,0.19020938873291016,0.08938627690076828,0.014836314134299755,0.036341335624456406,0.09429493546485901,0.10814864188432693,0.06326626986265182,0.10387255996465683,0.08854439109563828,0.02956314943730831,0.07412762194871902,0.10119205713272095,0.10015425831079483,0.12826387584209442,0.050878286361694336,0.10467734932899475,0.11120472103357315,0.0999460518360138,0.039267782121896744,0.021591821685433388,0.11423042416572571,0.012059170752763748,0.1354811042547226,0.07061998546123505,0.08892130106687546,0.03732006624341011,0.09213599562644958,0.09062540531158447,0.14253869652748108,0.06925289332866669,0.11288168281316757,0.11175361275672913,0.16526661813259125,0.09741286188364029,0.1611843705177307,0.07410644739866257,0.10095164179801941,0.09382083266973495,0.10854441672563553,0.08273576945066452,0.08605261892080307,0.08707451820373535,0.09905337542295456,0.05642502009868622,0.06218516454100609,0.11550440639257431,0.058871012181043625,0.12973417341709137,0.08542817831039429,0.0882425308227539,0.08790142089128494,0.05176986753940582,0.17225448787212372,0.08186254650354385,0.13938112556934357,0.09207481145858765,0.07651107758283615,0.0473606139421463,0.11590517312288284,0.056309428066015244,0.10748039931058884,0.27722135186195374,0.012002644129097462,0.06511015444993973,0.07234957069158554,0.11339438706636429,0.10689634829759598,0.07711025327444077,0.1023205816745758,0.10932516306638718,0.2117244452238083,0.05895105004310608,0.07134073972702026,0.09678331762552261,0.10448869317770004,0.07363474369049072,0.1332758069038391,0.138161301612854,0.07280141860246658,0.06468718498945236,0.06571256369352341,0.22102846205234528,0.055587928742170334,0.08554869145154953,0.1092602014541626,0.16635024547576904,0.04738130047917366,0.05039731785655022,0.23476068675518036,0.1252843588590622,0.1142612025141716,0.0841454491019249,0.2224053591489792,0.13713908195495605,0.02319229207932949,0.13364721834659576,0.11519555002450943,0.13387255370616913,0.04218309745192528,0.02976345457136631,0.07981716841459274,0.07030694931745529,0.070284403860569,0.1198565736413002,0.0608944408595562,0.14695575833320618,0.12178971618413925,0.07892429828643799,0.14281906187534332,0.10952333360910416,0.04477066919207573,0.12489152699708939,0.12008405476808548,0.048467088490724564,0.0958990529179573,0.08778093010187149,0.15741077065467834,0.14019978046417236,0.04027272388339043,0.05832928419113159,0.04725087061524391,0.07897809892892838,0.093264140188694,0.02828199602663517,0.16183753311634064,0.1117054894566536,0.01631513424217701,0.05642108991742134,0.03446047753095627,0.07974079996347427,0.1101226806640625,0.11973436921834946,0.05217871069908142,0.018436817452311516,0.008809098042547703,0.07635587453842163,0.05654660239815712,0.046880483627319336,0.1416761577129364,0.13077156245708466,0.01789744757115841,0.024608643725514412,0.09492454677820206,0.24785761535167694,0.09808453172445297,0.07635445147752762,0.10610553622245789,0.1348828375339508,0.05577065050601959,0.05789727345108986,0.06378373503684998,0.11923382431268692,0.07423583418130875,0.04277816414833069,0.2140880674123764,0.02685324288904667,0.0820845440030098,0.12626197934150696,0.09583462029695511,0.11655672639608383,0.04346533492207527,0.07204649597406387,0.059014346450567245,0.042081043124198914,0.20329482853412628,0.04301482066512108,0.07333716005086899,0.06587469577789307,0.09439444541931152,0.10086741298437119,0.03235957399010658,0.1021188274025917,0.04010332375764847,0.06988359242677689,0.009629166685044765,0.10576820373535156,0.08588048070669174,0.059535831212997437,0.099123515188694,0.06096227094531059,0.19735704362392426,0.0828007385134697,0.08925473690032959,0.05001792311668396,0.06560885906219482,0.1667768806219101,0.11647330969572067,0.027628814801573753,0.04247032478451729,0.18666958808898926,0.014561229385435581,0.07704039663076401,0.06187037006020546,0.11583273857831955,0.10770466923713684,0.04273552820086479,0.09387704730033875,0.08985943347215652,0.14078618586063385,0.09623032063245773,0.12207064032554626,0.06984984129667282,0.2531140148639679,0.18731658160686493,0.05399806424975395,0.08493167161941528,0.03766964003443718,0.09235832840204239,0.055745240300893784,0.061858635395765305,0.05832898989319801,0.0924590453505516,0.08688799291849136,0.06476865708827972,0.06331240385770798,0.10261121392250061,0.09066659957170486,0.08785802125930786,0.10793421417474747,0.06196286901831627,0.1592879444360733,0.10443558543920517,0.1679614931344986,0.05385175719857216,0.0307376217097044,0.0662911906838417,0.051405083388090134,0.11840126663446426,0.016141604632139206,0.055644962936639786,0.1535990983247757,0.07088560611009598,0.11479485780000687,0.06682407110929489,0.08449956029653549,0.22544467449188232,0.0422249473631382,0.2687070667743683,0.0584556944668293,0.04924656078219414,0.0782964676618576,0.08075111359357834,0.12508931756019592,0.07289020717144012,0.0848296508193016,0.11670821160078049,0.015337054617702961,0.08348012715578079,0.07370436936616898,0.04485197365283966,0.07191681861877441,0.20866738259792328,0.07779821008443832,0.1386791616678238,0.05148809775710106,0.06695298105478287,0.12510724365711212,0.1841704249382019,0.11489352583885193,0.0801115408539772,0.14883126318454742,0.09069108217954636,0.15348084270954132,0.09001090377569199,0.12687179446220398,0.055013734847307205,0.07404620945453644,0.018501069396734238,0.1419399231672287,0.08198415488004684,0.043752435594797134,0.09623077511787415,0.11673030257225037,0.016587119549512863,0.05759555101394653,0.06742451339960098,0.12614522874355316,0.08434543758630753,0.03607635572552681,0.027328506112098694,0.13945622742176056,0.2937357723712921,0.07566226273775101,0.07373792678117752,0.21258395910263062,0.107610784471035,0.021137947216629982,0.1045946553349495,0.04298272356390953,0.1106676459312439,0.15129660069942474,0.1587684601545334,0.1265886276960373,0.03608590364456177,0.10770583897829056,0.0901394858956337,0.12067415565252304,0.038357239216566086,0.0698273703455925,0.07189692556858063,0.09690508246421814,0.1714615821838379,0.09860878437757492,0.10851547867059708,0.044386859983205795,0.09195197373628616,0.12684540450572968,0.3045521378517151,0.1074674054980278,0.08010322600603104,0.08794388920068741,0.030473031103610992,0.052537769079208374,0.04522394761443138,0.21624040603637695,0.06967417150735855,0.06025313958525658,0.044914890080690384,0.04127969965338707,0.09681642800569534,0.06566514819860458,0.07061398774385452,0.10804686695337296,0.21088051795959473,0.1427343785762787,0.16529850661754608,0.03990619257092476,0.11282213777303696,0.11312582343816757,0.1479441523551941,0.10321716219186783,0.10985103249549866,0.06275520473718643,0.11827687174081802,0.04555080458521843,0.11482468992471695,0.05650229752063751,0.12754450738430023,0.11333178728818893,0.07572823762893677,0.0852721631526947,0.15231546759605408,0.11097993701696396,0.07768741995096207,0.19218319654464722,0.09293615072965622,0.07266075909137726,0.07574187219142914,0.054210275411605835,0.10280696302652359,0.07607126235961914,0.08619585633277893,0.1177099272608757,0.08004504442214966,0.07669014483690262,0.06722677499055862,0.07549364864826202,0.08914866298437119,0.11697840690612793,0.27571192383766174,0.09728287905454636,0.08297800272703171,0.13657203316688538,0.14101766049861908,0.11339903622865677,0.1147785484790802,0.11849140375852585,0.18537397682666779,0.09779361635446548,0.08964520692825317,0.03341319039463997,0.09485220909118652,0.0653851330280304,0.055748507380485535,0.06326643377542496,0.26234757900238037,0.04773708060383797,0.11945310235023499,0.05789678171277046,0.11022231727838516,0.1969299465417862,0.09656967967748642,0.13385674357414246,0.03312993794679642,0.06080778315663338,0.08186978846788406,0.06311407685279846,0.01705903932452202,0.07114187628030777,0.1265343278646469,0.08820437639951706,0.13932488858699799,0.1360693722963333,0.11881128698587418,0.12732486426830292,0.11597955971956253,0.14684206247329712,0.06275283545255661,0.12361406534910202,0.11254363507032394,0.06005376949906349,0.11011200398206711,0.0492599792778492,0.11127366870641708,0.07154026627540588,0.09365224093198776,0.12753887474536896,0.01792430505156517,0.11192644387483597,0.18040122091770172,0.04208885505795479,0.07971633225679398,0.0740405023097992,0.08285482972860336,0.061280086636543274,0.10411828756332397,0.12262881547212601,0.08656271547079086,0.06221141293644905,0.037499990314245224,0.04683467373251915,0.06242989003658295,0.07860245555639267,0.08191054314374924,0.10475433617830276,0.07449499517679214,0.0321977473795414,0.028562704101204872,0.10912126302719116,0.08393209427595139,0.06924832612276077,0.13175953924655914,0.0609421581029892,0.07700053602457047,0.16745686531066895,0.09364459663629532,0.13063715398311615,0.10820883512496948,0.13093100488185883,0.034008901566267014,0.07706183940172195,0.08982083946466446,0.08679014444351196,0.08516744524240494,0.11570055037736893,0.04422125592827797,0.017643747851252556,0.04918375611305237,0.07541473954916,0.0802350640296936,0.04842907562851906,0.1131138801574707,0.1531456559896469,0.05664550140500069,0.16772276163101196,0.1237148642539978,0.10294676572084427,0.05917935445904732,0.062368329614400864,0.0560157336294651,0.07232711464166641,0.08947998285293579,0.05327273905277252,0.11292299628257751,0.06639367341995239,0.10030058771371841,0.11305931210517883,0.22061552107334137,0.07098203152418137,0.10366883128881454,0.12825734913349152,0.06012849509716034,0.09221833199262619,0.10888039320707321,0.07297701388597488,0.13600337505340576,0.042689498513936996,0.0301408339291811,0.021496973931789398,0.09996116906404495,0.040864456444978714,0.01968367025256157,0.049606259912252426,0.08392065018415451,0.18073154985904694,0.05195438861846924,0.13392533361911774,0.09017273783683777,0.07685678452253342,0.165269136428833,0.13406141102313995,0.05468188598752022,0.0436229407787323,0.0591914989054203,0.05224384739995003,0.0887715294957161,0.08736848086118698,0.11124969273805618,0.10387218743562698,0.09572642296552658,0.2231459617614746,0.06790316849946976,0.10712314397096634,0.08607689291238785,0.12228282541036606,0.1073509082198143,0.06360643357038498,0.13879238069057465,0.08684466034173965,0.0902419164776802,0.14937762916088104,0.054132554680109024,0.1044771671295166,0.05908745527267456,0.08789676427841187,0.05205141007900238,0.07958174496889114,0.07253408432006836,0.09889974445104599,0.051876336336135864,0.09909671545028687,0.09758470207452774,0.07647475600242615,0.15694551169872284,0.17189085483551025,0.07919373363256454,0.05693097412586212,0.045781005173921585,0.1499461978673935,0.12652774155139923,0.07980639487504959,0.11548930406570435,0.11695245653390884,0.10984227061271667,0.14995650947093964,0.11714625358581543,0.1299261897802353,0.09861266613006592,0.13839900493621826,0.09141720086336136,0.11288674920797348,0.08326531946659088,0.07775270193815231,0.19408632814884186,0.12126865237951279,0.08691207319498062,0.07489954680204391,0.08548703044652939,0.06553322076797485,0.07073129713535309,0.1302691549062729,0.055399809032678604,0.06489334255456924,0.1052638590335846,0.03991764783859253,0.04667222872376442,0.056022461503744125,0.0229847002774477,0.07026626914739609,0.07384517788887024,0.13555759191513062,0.08928337693214417,0.07397683709859848,0.07394836097955704,0.1708715409040451,0.03422242030501366,0.06047847494482994,0.06810279190540314,0.06272705644369125,0.1135995164513588,0.06735754758119583,0.04509618878364563,0.050452157855033875,0.04972868785262108,0.09284088760614395,0.19940711557865143,0.02681788057088852,0.0775749683380127,0.022685019299387932,0.1274968385696411,0.049713730812072754,0.09809813648462296,0.07973823696374893,0.099221371114254,0.13739784061908722,0.05811048671603203,0.15851716697216034,0.09284328669309616,0.09450080245733261,0.056473493576049805,0.1057211384177208,0.14003001153469086,0.05988447740674019,0.11055400222539902,0.051686156541109085,0.06299319863319397,0.06559804826974869,0.0911933109164238,0.11277648061513901,0.08088470995426178,0.06265390664339066,0.016871361061930656,0.12365034967660904,0.07335556298494339,0.08700978010892868,0.04139252007007599,0.09131619334220886,0.1226373016834259,0.15296006202697754,0.10637497156858444,0.06325891613960266,0.08042923361063004,0.144788458943367,0.08929791301488876,0.0579923540353775,0.0641353651881218,0.11396420001983643,0.053479745984077454,0.1283237785100937,0.141884446144104,0.06374768912792206,0.13247983157634735,0.07910782843828201,0.12796911597251892,0.1195521354675293,0.11535312980413437,0.16427914798259735,0.05974193289875984,0.10168841481208801,0.1304812878370285,0.09181994199752808,0.1778090000152588,0.09915003180503845,0.05979481339454651,0.09313593059778214,0.09055238962173462,0.15210801362991333,0.06691551208496094,0.11090890318155289,0.0865572914481163,0.1331760138273239,0.08325327187776566,0.08765137940645218,0.15434874594211578,0.15696828067302704,0.17764867842197418,0.1220415011048317,0.07791249454021454,0.07232948392629623,0.030308499932289124,0.047023165971040726,0.11471960693597794,0.0833616554737091,0.08868002891540527,0.06121225655078888,0.04861283302307129,0.10175933688879013,0.2661590874195099,0.06106564402580261,0.14369945228099823,0.07674016803503036,0.12062591314315796,0.10567574948072433,0.08117208629846573,0.07956939935684204,0.10627848654985428,0.06496640294790268,0.14525878429412842,0.08427303284406662,0.06119505688548088,0.06464122980833054,0.04356829822063446,0.04605225846171379,0.07461324334144592,0.08851668238639832,0.07039447873830795,0.10287889093160629,0.0658939927816391,0.06285028904676437,0.07305023819208145,0.03966275602579117,0.08272435516119003,0.043268486857414246,0.07275272160768509,0.03994344547390938,0.0756395161151886,0.08863554149866104,0.03045758791267872,0.17689983546733856,0.10605721920728683,0.13204587996006012,0.12513858079910278,0.10757175087928772,0.0772075355052948,0.05796503648161888,0.0285196453332901,0.07690989226102829,0.13827085494995117,0.1358180046081543,0.02634851448237896,0.14383523166179657,0.1402285397052765,0.09020272642374039,0.05513030290603638,0.16673122346401215,0.06890767812728882,0.1295253485441208,0.06536605954170227,0.135318323969841,0.0592634342610836,0.1181802824139595,0.07363200187683105,0.07914358377456665,0.09533721953630447,0.04340745881199837,0.03834821283817291,0.040197957307100296,0.06741273403167725,0.11377868056297302,0.047591615468263626,0.10314315557479858,0.17204934358596802,0.05878066644072533,0.10990291833877563,0.06161298230290413,0.14033479988574982,0.04446190223097801,0.07694797962903976,0.07659713178873062,0.06407642364501953,0.05866680666804314,0.09646662324666977,0.02348967082798481,0.051073845475912094,0.07249278575181961,0.04808424040675163,0.05942673608660698,0.12873820960521698,0.07897345721721649,0.07264122366905212,0.10139119625091553,0.07748199999332428,0.1444508284330368,0.062067627906799316,0.3063732981681824,0.15237416326999664,0.14208196103572845,0.11850949376821518,0.043981343507766724,0.02756601572036743,0.03669552877545357,0.04267758131027222,0.074947290122509,0.06739651411771774,0.058566346764564514,0.06806756556034088,0.20685063302516937,0.12053456902503967,0.05957436561584473,0.05085155367851257,0.08544854074716568,0.17113517224788666,0.01654953695833683,0.07943102717399597,0.08494815975427628,0.08112066239118576,0.10837435722351074,0.0733165368437767,0.10057824850082397,0.14730310440063477,0.14260677993297577,0.13803257048130035,0.12426678091287613,0.0665462538599968,0.10256347060203552,0.03066142089664936,0.08788726478815079,0.06189131736755371,0.07052241265773773,0.219511941075325,0.07291645556688309,0.032592058181762695,0.07901155203580856,0.08497042208909988,0.08127682656049728,0.046538516879081726,0.0848987028002739,0.0330175943672657,0.276987761259079,0.1310262829065323,0.10567987710237503,0.11280626803636551,0.08421910554170609,0.060086701065301895,0.08768659085035324,0.08882274478673935,0.12364855408668518,0.1051420047879219,0.05553789809346199,0.06289061903953552,0.06277940422296524,0.07102271169424057,0.12942351400852203,0.08781511336565018,0.03718789294362068,0.21129101514816284,0.013677850365638733,0.10837537050247192,0.08118648082017899,0.15712794661521912,0.11603572964668274,0.13872520625591278,0.05623139068484306,0.2557404637336731,0.0721331238746643,0.1153164803981781,0.05008663609623909,0.08808005601167679,0.08322011679410934,0.17445148527622223,0.09599504619836807,0.09240438789129257,0.08812642842531204,0.15647803246974945,0.07581207156181335,0.10984241217374802,0.08274687826633453,0.06650900095701218,0.07494514435529709,0.08666671067476273,0.09068725258111954,0.08466122299432755,0.02661004662513733,0.09313347935676575,0.07937413454055786,0.09460631757974625,0.09463772177696228,0.07501941919326782,0.07191836088895798,0.06587601453065872,0.15308307111263275,0.0737786740064621,0.020032363012433052,0.15408740937709808,0.023399585857987404,0.034376513212919235,0.010366714559495449,0.07087051868438721,0.0860551968216896,0.07651472091674805,0.1023426279425621,0.08825860172510147,0.07428500056266785,0.14690600335597992,0.08283928781747818,0.07755778729915619,0.05030877888202667,0.10036664456129074,0.19683575630187988,0.08413741737604141,0.15236474573612213,0.08519617468118668,0.0311745535582304,0.09361293911933899,0.21220064163208008,0.08570187538862228,0.1064404845237732,0.055948976427316666,0.09358566254377365,0.20737184584140778,0.04321989044547081,0.09188368171453476,0.10122496634721756,0.05342894420027733,0.1601710319519043,0.10220598429441452,0.12831270694732666,0.09099185466766357,0.07480501383543015,0.08867128938436508,0.10094211250543594,0.09645002335309982,0.14402137696743011,0.07093178480863571,0.2758418619632721,0.1297009289264679,0.03674125671386719,0.014635573141276836,0.09993598610162735,0.15068234503269196,0.10038761049509048,0.06904534250497818,0.07299597561359406,0.12098058313131332,0.07902473956346512,0.061057861894369125,0.09255217760801315,0.11364299803972244,0.07999477535486221,0.15055875480175018,0.10192170739173889,0.18519122898578644,0.052862390875816345,0.11731494218111038,0.04955814406275749,0.14412832260131836,0.04107939079403877,0.08923909813165665,0.030983595177531242,0.2319505214691162,0.05425623431801796,0.1603781282901764,0.17222760617733002,0.08437319844961166,0.10974830389022827,0.24307364225387573,0.12865124642848969,0.10131723433732986,0.08203376084566116,0.04179563745856285,0.0927593782544136,0.060126811265945435,0.1384696066379547,0.10280641168355942,0.10868523269891739,0.07994837313890457,0.14452899992465973,0.10416930913925171,0.0904693678021431,0.04531945660710335,0.06161245331168175,0.09178651124238968,0.061754610389471054,0.09341614693403244,0.09428855776786804,0.03832527622580528,0.04288396239280701,0.061001118272542953,0.15436308085918427,0.03142791986465454,0.06824413686990738,0.12814080715179443,0.05681778863072395,0.15481309592723846,0.12183266133069992,0.08682521432638168,0.0972711369395256,0.08449199795722961,0.1097506582736969,0.06871414929628372,0.07935930043458939,0.20195786654949188,0.11824630945920944,0.0890403464436531,0.09204050153493881,0.09210702031850815,0.087708480656147,0.06767363101243973,0.12082097679376602,0.08987129479646683,0.04922008141875267,0.10265747457742691,0.08482221513986588,0.09543567895889282,0.10167690366506577,0.10583389550447464,0.04342265799641609,0.0267874076962471,0.10950827598571777,0.09987761825323105,0.10836697369813919,0.10266033560037613,0.2721370756626129,0.066580630838871,0.027169061824679375,0.0831056535243988,0.09136123210191727,0.06365328282117844,0.11223038285970688,0.08949216455221176,0.08210780471563339,0.09933522343635559,0.07871414721012115,0.05690339580178261,0.029297491535544395,0.08668002486228943,0.06200137361884117,0.09448409080505371,0.05598263815045357,0.09821289777755737,0.0627070814371109,0.08156424015760422,0.12614867091178894,0.08990456908941269,0.04354016110301018,0.026147492229938507,0.06430993229150772,0.05250873044133186,0.024087272584438324,0.08101263642311096,0.03547447547316551,0.057128239423036575,0.07930264621973038,0.08187860995531082,0.14075489342212677,0.09116685390472412,0.10707747936248779,0.05935613438487053,0.03497491776943207,0.0712728202342987,0.05284366011619568,0.027511870488524437,0.027820102870464325,0.19405342638492584,0.14164447784423828,0.09004837274551392,0.1471923291683197,0.10084889084100723,0.02610209584236145,0.12658058106899261,0.06466113030910492,0.1341516524553299,0.03590458631515503,0.06613636016845703,0.053589656949043274,0.05520477890968323,0.06352437287569046,0.17396517097949982,0.11790207028388977,0.07692509144544601,0.09486199170351028,0.027589837089180946,0.057932544499635696,0.07364622503519058,0.07563082128763199,0.16105206310749054,0.11367946863174438,0.0981084480881691,0.13058064877986908,0.046357929706573486,0.09563741832971573,0.07707348465919495,0.11564936488866806,0.0412524975836277,0.14222633838653564,0.10974710434675217,0.13674558699131012,0.07940001040697098,0.027378367260098457,0.04810075834393501,0.16124306619167328,0.3100103437900543,0.15743669867515564,0.11004510521888733,0.1029982939362526,0.07648099213838577,0.0834365114569664,0.05461892485618591,0.09178724139928818,0.21975712478160858,0.18690122663974762,0.031186768785119057,0.11273180693387985,0.1279275268316269,0.09988543391227722,0.11275451630353928,0.2732245624065399,0.1493258774280548,0.125942200422287,0.09555879980325699,0.04833764210343361,0.07428977638483047,0.11210573464632034,0.10491778701543808,0.09033024311065674,0.04833923280239105,0.1046212688088417,0.1038810983300209,0.06428735703229904,0.14640595018863678,0.08535170555114746,0.13854826986789703,0.024559171870350838,0.09396032243967056,0.0699421837925911,0.061883147805929184,0.1837417334318161,0.09424766898155212,0.09601179510354996,0.07409831881523132,0.16132070124149323,0.13110308349132538,0.09543230384588242,0.09539631009101868,0.11814547330141068,0.08186901360750198,0.07302558422088623,0.07266342639923096,0.04780906066298485,0.08546214550733566,0.1191922128200531,0.11839611083269119,0.19370849430561066,0.11624745279550552,0.06798145174980164,0.12972469627857208,0.06685267388820648,0.04152999445796013,0.08405356854200363,0.1830131858587265,0.1847616285085678,0.09257931262254715,0.06074456870555878,0.08090002089738846,0.07737342268228531,0.09241776913404465,0.05149929225444794,0.12703092396259308,0.05116134509444237,0.11227072030305862,0.06675004214048386,0.09388789534568787,0.06958470493555069,0.18228308856487274,0.08289661258459091,0.054376404732465744,0.12261068820953369,0.04916390776634216,0.09039633721113205,0.07351986318826675,0.0415056049823761,0.2566400468349457,0.17550335824489594,0.11951296776533127,0.0990196242928505,0.1081516370177269,0.15342076122760773,0.030535029247403145,0.09652405977249146,0.08715391904115677,0.06672435998916626,0.06950166821479797,0.09123354405164719,0.16836293041706085,0.10813941806554794,0.07826700061559677,0.12944296002388,0.04407535120844841,0.06745985895395279,0.0471922867000103,0.13673101365566254,0.09742086380720139,0.06782250851392746,0.12665925920009613,0.05287935212254524,0.15812987089157104,0.10328210145235062,0.03506425395607948,0.04940878972411156,0.05662640929222107,0.05018739029765129,0.1111026406288147,0.15483033657073975,0.05982215330004692,0.053365129977464676,0.05872596427798271,0.1182398796081543,0.041128870099782944,0.11750753968954086,0.03774530440568924,0.13260811567306519,0.07768594473600388,0.09292576462030411,0.2157563418149948,0.09020423889160156,0.09495466202497482,0.0931561291217804,0.1255454123020172,0.11940878629684448,0.06051337346434593,0.07477336376905441,0.06769582629203796,0.08033104985952377,0.09338963031768799,0.05955997481942177,0.14014984667301178,0.15955917537212372,0.049355849623680115,0.09184997528791428,0.11261194944381714,0.1057533547282219,0.07186190783977509,0.1186271607875824,0.1596917361021042,0.06778265535831451,0.04458526149392128,0.15574313700199127,0.09943827986717224,0.10212018340826035,0.10057758539915085,0.07514708489179611,0.09825343638658524,0.09257876127958298,0.04187939688563347,0.08586404472589493,0.09001314640045166,0.19505296647548676,0.07222997397184372,0.12805981934070587,0.05026458203792572,0.04367882013320923,0.03504379093647003,0.09199725836515427,0.20919619500637054,0.10567218065261841,0.05335570499300957,0.12274468690156937,0.07484009861946106,0.02251121588051319,0.0763370618224144,0.06540881097316742,0.09704655408859253,0.11939570307731628,0.04108047112822533,0.14872586727142334,0.0722164660692215,0.09861671179533005,0.03023923933506012,0.050603389739990234,0.04274904355406761,0.15569917857646942,0.040336403995752335,0.09177399426698685,0.12937495112419128,0.13618063926696777,0.07676778733730316,0.08554474264383316,0.04617179557681084,0.09908616542816162,0.1519758701324463,0.10488974303007126,0.074356310069561,0.09976863861083984,0.06688401848077774,0.10985354334115982,0.1375039517879486,0.0983295738697052,0.07546307146549225,0.23995107412338257,0.07395217567682266,0.06525299698114395,0.13531194627285004,0.1733751893043518,0.1332150548696518,0.13307049870491028,0.07230494916439056,0.06979148089885712,0.04336576536297798,0.2352849692106247,0.12247844785451889,0.06898786872625351,0.10009180754423141,0.1538754105567932,0.1497601717710495,0.14267928898334503,0.026693888008594513,0.11273891478776932,0.07393884658813477,0.09976056963205338,0.042964398860931396,0.08129339665174484,0.01626177318394184,0.08933377265930176,0.1183074414730072,0.05786610022187233,0.12852826714515686,0.06734054535627365,0.13872025907039642,0.04921555519104004,0.10993591696023941,0.11909576505422592,0.09006419032812119,0.16645334661006927,0.15341733396053314,0.07583635300397873,0.04025877267122269,0.08067253977060318,0.06782816350460052,0.08353400230407715,0.1281236708164215,0.02781560830771923,0.04879569634795189,0.027820050716400146,0.1523141711950302,0.05215026065707207,0.06141926348209381,0.17656175792217255,0.12219119817018509,0.07584688067436218,0.07306120544672012,0.1405581682920456,0.15938124060630798,0.29452887177467346,0.09780509024858475,0.1492818146944046,0.1001509428024292,0.1161009892821312,0.12102246284484863,0.029753344133496284,0.07957401871681213,0.07015220075845718,0.07742934674024582,0.13025833666324615,0.046566192060709,0.10132401436567307,0.1127784326672554,0.1466704159975052,0.08745890110731125,0.08613025397062302,0.08423890918493271,0.10086724907159805,0.05807172879576683,0.07115582376718521,0.04809153079986572,0.08546862006187439,0.06872280687093735,0.17534933984279633,0.05579255148768425,0.07584746181964874,0.07930838316679001,0.11314667016267776,0.10507860034704208,0.11216915398836136,0.04998062923550606,0.17485369741916656,0.08901965618133545,0.1989605873823166,0.17578919231891632,0.09571090340614319,0.06141821667551994,0.04115990176796913,0.2710069715976715,0.05406510829925537,0.14693814516067505,0.23188155889511108,0.06597664207220078,0.0367610864341259,0.10070694237947464,0.07233787328004837,0.12292229384183884,0.0766417607665062,0.07405545562505722,0.15228532254695892,0.15421108901500702,0.03145259991288185,0.09536293894052505,0.11709314584732056,0.07506917417049408,0.06176557019352913,0.05814017727971077,0.1462744027376175,0.10252517461776733,0.032772477716207504,0.08269258588552475,0.11993864923715591,0.06686092168092728,0.07459603995084763,0.06109189614653587,0.0785275250673294,0.2069786638021469,0.037487223744392395,0.04787876829504967,0.2672286629676819,0.14439624547958374,0.07019365578889847,0.093328095972538,0.038927335292100906,0.20724588632583618,0.12061756104230881,0.1115882620215416,0.1260709911584854,0.06595016270875931,0.09196773916482925,0.08078959584236145,0.09637951850891113,0.12355413287878036,0.061228349804878235,0.12547273933887482,0.059207815676927567,0.08114974945783615,0.11731784790754318,0.0880918875336647,0.11370625346899033,0.04379437491297722,0.06671071797609329,0.04250873625278473,0.07960409671068192,0.055379707366228104,0.05706743896007538,0.11265510320663452,0.08407136052846909,0.0248614102602005,0.055664509534835815,0.1798330694437027,0.13561546802520752,0.0877244845032692,0.04809753596782684,0.22327257692813873,0.020339075475931168,0.184061661362648,0.04306909069418907,0.06275282055139542,0.11842889338731766,0.1896567940711975,0.11565931886434555,0.0640643909573555,0.10406754165887833,0.06298389285802841,0.09287041425704956,0.11372929066419601,0.14410026371479034,0.051566753536462784,0.017787719145417213,0.058691199868917465,0.06958480924367905,0.062189895659685135,0.10423775762319565,0.05642549321055412,0.08930986374616623,0.06181095167994499,0.11747047305107117,0.08738049119710922,0.0925293043255806,0.13010023534297943,0.06507651507854462,0.03270389512181282,0.053395166993141174,0.1288020759820938,0.11202224344015121,0.02877156250178814,0.11418082565069199,0.15386565029621124,0.21872414648532867,0.17890828847885132,0.09305766224861145,0.06373553723096848,0.101070336997509,0.011734017170965672,0.16343644261360168,0.10202627629041672,0.06631467491388321,0.07024570554494858,0.11601264029741287,0.1437794268131256,0.12935349345207214,0.10500520467758179,0.11089667677879333,0.18695123493671417,0.08481650799512863,0.04189380630850792,0.18340396881103516,0.11295673251152039,0.15356306731700897,0.09405329078435898,0.03758740797638893,0.12589791417121887,0.07027057558298111,0.15947948396205902,0.08472862094640732,0.013160333968698978,0.0818953588604927,0.10959164053201675,0.0723470151424408,0.052754759788513184,0.07758961617946625,0.10879906266927719,0.04376735910773277,0.07785175740718842,0.0720788910984993,0.05034998059272766,0.10647357255220413,0.13048094511032104,0.11665640026330948,0.11650288850069046,0.15702155232429504,0.09851333498954773,0.071710005402565,0.09233023971319199,0.08777269721031189,0.05747760832309723,0.07508359104394913,0.08423063158988953,0.0847775861620903,0.10903444141149521,0.1208285316824913,0.029344292357563972,0.05843217670917511,0.14926894009113312,0.08813625574111938,0.10070937126874924,0.01522029098123312,0.07886732369661331,0.05130188539624214,0.077165387570858,0.17619389295578003,0.07751290500164032,0.05799183249473572,0.07459288090467453,0.049104955047369,0.08625040203332901,0.06442282348871231,0.08928033709526062,0.032708797603845596,0.09510824829339981,0.05789380148053169,0.08731111884117126,0.13745032250881195,0.12950898706912994,0.0860711932182312,0.027983373031020164,0.1617535799741745,0.0649857223033905,0.1179916188120842,0.03986541926860809,0.10625048726797104,0.1346266120672226,0.03257925435900688,0.0764855369925499,0.08926071971654892,0.14083288609981537,0.12757502496242523,0.04150133952498436,0.04572001472115517,0.11426901817321777,0.14225900173187256,0.06690221279859543,0.08429276943206787,0.12525561451911926,0.07059948891401291,0.011217816732823849,0.050928425043821335,0.0917196050286293,0.11037188768386841,0.03198478743433952,0.11168984323740005,0.05945257842540741,0.057251498103141785,0.1292438805103302,0.13249683380126953,0.17125964164733887,0.04237326979637146,0.07694533467292786,0.0677390992641449,0.13811816275119781,0.027253566309809685,0.07528678327798843,0.2066716104745865,0.09125377982854843,0.08047505468130112,0.05892908573150635,0.11582402139902115,0.11954084783792496,0.14371341466903687,0.04416999593377113,0.1224418357014656,0.05955361947417259,0.08809942752122879,0.05016982927918434,0.2510698139667511,0.1331242173910141,0.10920128226280212,0.06376089155673981,0.08715614676475525,0.09106669574975967,0.10939151048660278,0.08109577745199203,0.09802570939064026,0.04847430810332298,0.07898742705583572,0.07974591106176376,0.12127798050642014,0.10115668177604675,0.18953870236873627,0.08487793803215027,0.12339329719543457,0.1848270148038864,0.06915945559740067,0.07629456371068954,0.12480617314577103,0.13081501424312592,0.09237769991159439,0.1653180718421936,0.04715876281261444,0.062165871262550354,0.031216280534863472,0.1018877625465393,0.06310499459505081,0.05337412282824516,0.10259941965341568,0.13231079280376434,0.09779929369688034,0.11921121925115585,0.06181526184082031,0.10434038192033768,0.09164945036172867,0.05623799189925194,0.06375924497842789,0.07722815126180649,0.09968838840723038,0.1471603661775589,0.09255826473236084,0.05026264116168022,0.059604283422231674,0.12696672976016998,0.2172825187444687,0.056523967534303665,0.06235085800290108,0.10121199488639832,0.05802324041724205,0.30525675415992737,0.06699509918689728,0.08670502156019211,0.11992212384939194,0.06570407748222351,0.12603254616260529,0.055234041064977646,0.10376700013875961,0.07126923650503159,0.10860001295804977,0.12549129128456116,0.058629680424928665,0.12753215432167053,0.13840819895267487,0.05194779857993126,0.24100889265537262,0.13449053466320038,0.05357908084988594,0.08514458686113358,0.07837455719709396,0.06014811620116234,0.10459324717521667,0.04780915006995201,0.10554597526788712,0.08715006709098816,0.058450113981962204,0.11008023470640182,0.029225552454590797,0.09472444653511047,0.14092020690441132,0.13186325132846832,0.087005116045475,0.10018444806337357,0.08715613931417465,0.0812545195221901,0.05679677799344063,0.04910285770893097,0.14704088866710663,0.04611167684197426,0.08417554944753647,0.11316294223070145,0.02932087518274784,0.05583481118083,0.12613588571548462,0.07764210551977158,0.0771535336971283,0.12409622222185135,0.13336427509784698,0.11822574585676193,0.13910560309886932,0.10578066110610962,0.05964325740933418,0.08902686834335327,0.08702998608350754,0.1428588330745697,0.057916462421417236,0.07123839110136032,0.09375035762786865,0.08023812621831894,0.09296005964279175,3.663105017039925E-4,0.05895848944783211,0.15566113591194153,0.09451552480459213,0.0819506123661995,0.07859370112419128,0.05508840084075928,0.10791658610105515,0.08470577001571655,0.05342097207903862,0.06464507430791855,0.12909261882305145,0.08635195344686508,0.12227261066436768,0.08894402533769608,0.0775664672255516,0.10362622886896133,0.10093826055526733,0.0448579341173172,0.04845608398318291,0.08470197767019272,0.15246544778347015,0.0992153063416481,0.13125815987586975,0.07175035029649734,0.06266338378190994,0.06545842438936234,0.024509506300091743,0.05797647312283516,0.09096506983041763,0.14870911836624146,0.08964059501886368,0.08426361531019211,0.0753675177693367,0.14369718730449677,0.037694621831178665,0.1803489476442337,0.016263941302895546,0.1025204136967659,0.0639137253165245,0.10521069169044495,0.11271515488624573,0.058811381459236145,0.06227986142039299,0.07165750116109848,0.04484331235289574,0.05219108238816261,0.054632529616355896,0.1410953849554062,0.056026726961135864,0.12245690077543259,0.04495614394545555,0.08273239433765411,0.0487295500934124,0.07087252289056778,0.0685051754117012,0.14582930505275726,0.11317240446805954,0.08124446123838425,0.08668145537376404,0.11252357810735703,0.051600873470306396,0.07463393360376358,0.10612291842699051,0.0823906734585762,0.05215388163924217,0.07100137323141098,0.06471440941095352,0.0283648744225502,0.04637278616428375,0.1490357220172882,0.1198863759636879,0.05688213184475899,0.10444026440382004,0.10716568678617477,0.10661060363054276,0.0874595046043396,0.012880493886768818,0.034896571189165115,0.1097981333732605,0.09944566339254379,0.10595140606164932,0.14307133853435516,0.07980883121490479,0.13425065577030182,0.13798470795154572,0.0653468444943428,0.14691437780857086,0.09357970952987671,0.12626582384109497,0.07057613134384155,0.11034411936998367,0.0954890325665474,0.08757490664720535,0.03964552655816078,0.12272188067436218,0.04932275414466858,0.02554500848054886,0.16871170699596405,0.05796334147453308,0.09215151518583298,0.1446530669927597,0.09916778653860092,0.08093472570180893,0.06556567549705505,0.028500551357865334,0.026843035593628883,0.09566164761781693,0.048662781715393066,0.30715543031692505,0.04399227723479271,0.2087121456861496,0.07428649067878723,0.13952690362930298,0.11965769529342651,0.06447600573301315,0.13740849494934082,0.08222357928752899,0.031116396188735962,0.11769381910562515,0.0391043983399868,0.09380964189767838,0.1339649260044098,0.09546010941267014,0.028845101594924927,0.11334577202796936,0.056636154651641846,0.07709664851427078,0.09743285924196243,0.044661179184913635,0.11639127135276794,0.02910943515598774,0.07629283517599106,0.02833167463541031,0.002385752974078059,0.06354304403066635,0.09259951114654541,0.3046756088733673,0.08779243379831314,0.08864212036132813,0.05326034501194954,0.038145940750837326,0.08494099229574203,0.09538757055997849,0.06125064194202423,0.09182798862457275,0.12495067715644836,0.06263125687837601,0.16719603538513184,0.13817232847213745,0.06683961302042007,0.05769116058945656,0.08236774057149887,0.07213703542947769,0.07724093645811081,0.1718609482049942,0.0695895329117775,0.1302155703306198,0.11458445340394974,0.10663529485464096,0.09450360387563705,0.11217059940099716,0.05964406207203865,0.0648033618927002,0.05545647442340851,0.07858730107545853,0.023742472752928734,0.13708750903606415,0.14239661395549774,0.03708339110016823,0.10377030819654465,0.09103453159332275,0.09930425882339478,0.07435474544763565,0.10497637838125229,0.048503026366233826,0.11821046471595764,0.11353413015604019,0.07560881227254868,0.040832120925188065,0.09693264216184616,0.0558849461376667,0.12150242179632187,0.06533481925725937,0.16677969694137573,0.08210290968418121,0.03855569660663605,0.013185336254537106,0.28043419122695923,0.07258358597755432,0.16417255997657776,0.153585284948349,0.12403065711259842,0.10300012677907944,0.10569873452186584,0.11971589177846909,0.12321507930755615,0.06856731325387955,0.05834627151489258,0.12532244622707367,0.042237911373376846,0.049262817949056625,0.10718984156847,0.056051477789878845,0.06781207770109177,0.08623053878545761,0.05509152635931969,0.047407109290361404,0.10390875488519669,0.0714610293507576,0.10951390862464905,0.049216389656066895,0.11137483268976212,0.03321679309010506,0.1336926370859146,0.12512890994548798,0.1380336582660675,0.028514252975583076,0.06542845070362091,0.08262423425912857,0.04540366306900978,0.05544201657176018,0.05274379625916481,0.07948587089776993,0.18387861549854279,0.11044434458017349,0.14477689564228058,0.09897873550653458,0.1237664744257927,0.10296948999166489,0.10655038803815842,0.05415816605091095,0.06852560490369797,0.12671981751918793,0.08314128965139389,0.13654693961143494,0.12046942114830017,0.02901388891041279,0.21232087910175323,0.07971946150064468,0.0672118291258812,0.05227470025420189,0.08322641998529434,0.012141370214521885,0.10462096333503723,0.06901386380195618,0.0883767381310463,0.2450650930404663,0.11155888438224792,0.10266637057065964,0.014985268004238605,0.05476951599121094,0.05845840275287628,0.08360131829977036,0.08551760762929916,0.09983020275831223,0.10810822248458862,0.020644793286919594,0.08582517504692078,0.08427076786756516,0.051330193877220154,0.10225848108530045,0.08223799616098404,0.1499175876379013,0.10126306861639023,0.13867218792438507,0.09787381440401077,0.05175819620490074,0.06307636946439743,0.11400263756513596,0.1231650710105896,0.1347590535879135,0.2209012508392334,0.1211150586605072,0.051477935165166855,0.05581439658999443,0.059315357357263565,0.06900068372488022,0.13927161693572998,0.06768932193517685,0.05158372223377228,0.06906074285507202,0.10093038529157639,0.04940006136894226,0.11945164203643799,0.09502258151769638,0.08571668714284897,0.0992572084069252,0.08527734130620956,0.1070585548877716,0.1544506549835205,0.0526796393096447,0.08183681964874268,0.029245303943753242,0.044504981487989426,0.08456986397504807,0.08535197377204895,0.04395589232444763,0.1257423460483551,0.14992009103298187,0.07644636929035187,0.023844769224524498,0.08592430502176285,0.06988558173179626,0.10380471497774124,0.06305461376905441,0.06542991101741791,0.013240656815469265,0.10989204049110413,0.11118531227111816,0.07695044577121735,0.24874193966388702,0.07415307313203812,0.09478843957185745,0.03967364504933357,0.0707009956240654,0.08395028859376907,0.08106076717376709,0.08822256326675415,0.11896339058876038,0.10272454470396042,0.05842288210988045,0.07045724242925644,0.11978346854448318,0.12905843555927277,0.03301225230097771,0.094253771007061,0.04552100971341133,0.05876918137073517,0.0732332095503807,0.1649397760629654,0.028727861121296883,0.07785223424434662,0.053434375673532486,0.05132940039038658,0.06719071418046951,0.0571875162422657,0.1544131189584732,0.09884475916624069,0.04513213038444519,0.05155024304986,0.011847995221614838,0.06534019857645035,0.04299212992191315,0.042231082916259766,0.03870284929871559,0.07702403515577316,0.1381881684064865,0.10076358169317245,0.11292264610528946,0.11333569139242172,0.05695869028568268,0.112151138484478,0.08267303556203842,0.09550248831510544,0.10906203836202621,0.012918655760586262,0.1486717015504837,0.1034618616104126,0.06890051811933517,0.07921547442674637,0.11784669756889343,0.0677298977971077,0.0449485182762146,0.25374045968055725,0.0752243921160698,0.059290047734975815,0.09560751914978027,0.02203998900949955,0.07645853608846664,0.08209117501974106,0.10346946120262146,0.02335147000849247,0.013923060148954391,0.08970097452402115,0.1282869279384613,0.14152516424655914,0.03560220077633858,0.09437206387519836,0.05810169503092766,0.07966930419206619,0.2737249433994293,0.03566587716341019,0.06356527656316757,0.04338032007217407,0.16768628358840942,0.07328423857688904,0.10712840408086777,0.10298889130353928,0.062224432826042175,0.0841478705406189,0.06168355047702789,0.12355256080627441,0.07819308340549469,0.04949862137436867,0.09264083951711655,0.02977043204009533,0.10123453289270401,0.24384190142154694,0.08355354517698288,0.11183065176010132,0.12817493081092834,0.04813440516591072,0.10731658339500427,0.07866218686103821,0.09970101714134216,0.23355479538440704,0.034395020455121994,0.07020357996225357,0.03951665014028549,0.04727483168244362,0.11034003645181656,0.026329664513468742,0.07460271567106247,0.1547442227602005,0.09395458549261093,0.05734851956367493,0.0502617247402668,0.2094433307647705,0.12744484841823578,0.10277154296636581,0.0441962368786335,0.07228462398052216,0.13680043816566467,0.10223152488470078,0.07582924515008926,0.051478058099746704,0.05191699042916298,0.05946555361151695,0.10248114913702011,0.07024326920509338,0.1195594072341919,0.09590818732976913,0.08496052026748657,0.09497223049402237,0.11252381652593613,0.1535109132528305,0.08638320118188858,0.08646952360868454,0.08531031012535095,0.1589936763048172,0.10463552922010422,0.1016697883605957,0.168507382273674,0.13462595641613007,0.01925114169716835,0.07584124803543091,0.0759216919541359,0.052076827734708786,0.08515315502882004,0.07751666754484177,0.06899622082710266,0.04930614307522774,0.05476212501525879,0.0702107846736908,0.033164627850055695,0.06472253799438477,0.04744071885943413,0.06073246896266937,0.04291640222072601,0.06046374514698982,0.0630171149969101,0.07996212691068649,0.11683905869722366,0.09384209662675858,0.08712130039930344,0.018666623160243034,0.10961801558732986,0.12192979454994202,0.0648164227604866,0.0982542410492897,0.05101553723216057,0.11879704147577286,0.08251719176769257,0.11760088801383972,0.09610011428594589,0.04749150574207306,0.09997487813234329,0.1053207516670227,0.06086483597755432,0.12802128493785858,0.08980505913496017,0.14860111474990845,0.037046533077955246,0.061546046286821365,0.14301827549934387,0.06526484340429306,0.16800333559513092,0.08179079741239548,0.04676804319024086,0.032102975994348526,0.06692403554916382,0.04726855456829071,0.06945426762104034,0.07979294657707214,0.1365610808134079,0.08399754762649536,0.10090329498052597,0.05468294024467468,0.11366504430770874,0.09314443916082382,0.0010280284332111478,0.0996965765953064,0.12022078782320023,0.12137039750814438,0.032174911350011826,0.09362942725419998,0.2217038869857788,0.05435769632458687,0.0684596598148346,0.03949202969670296,0.17894327640533447,0.060991186648607254,0.07120689004659653,0.0710565373301506,0.07537953555583954,0.13908535242080688,0.1900002807378769,0.11059302091598511,0.056996021419763565,0.09275231510400772,0.09592467546463013,0.13382041454315186,0.1306707113981247,0.05027639865875244,0.03894045203924179,0.1364428550004959,0.11073589324951172,0.08994752913713455,0.14301936328411102,0.04538070037961006,0.05485504865646362,0.1275249421596527,0.05785876139998436,0.06835979223251343,0.19111795723438263,0.09611180424690247,0.10010974854230881,0.07690779864788055,0.10546469688415527,0.09811744093894958,0.06406964361667633,0.09432806819677353,0.030579760670661926,0.08065562695264816,0.12274571508169174,0.01871442049741745,0.15650030970573425,0.047708168625831604,0.08762675523757935,0.14209304749965668,0.14604122936725616,0.08766012638807297,0.07604778558015823,0.11000780016183853,0.08270779997110367,0.0686187818646431,0.1428249180316925,0.08557667583227158,0.13357971608638763,0.03890172019600868,0.1337270438671112,0.1495073288679123,0.2950785756111145,0.07536863535642624,0.09184985607862473,0.07229040563106537,0.07157891988754272,0.04786345362663269,0.0957476794719696,0.09309367090463638,0.04375360906124115,0.05106501653790474,0.09690729528665543,0.11852108687162399,0.07117336243391037,0.08913850039243698,0.13820579648017883,0.12350460886955261,0.09827077388763428,0.17634104192256927,0.10082676261663437,0.12240832298994064,0.03905782476067543,0.0747629851102829,0.08629574626684189,0.0518794022500515,0.08211863785982132,0.04614410921931267,0.07983046770095825,0.1391344964504242,0.019101906567811966,0.09448101371526718,0.06078479811549187,0.06959827989339828,0.037988726049661636,0.1428590565919876,0.09772827476263046,0.20164929330348969,0.14836010336875916,0.09569854289293289,0.07224252074956894,0.08104335516691208,0.08222204446792603,0.07036048918962479,0.12266930192708969,0.08672624081373215,0.039741143584251404,0.10582033544778824,0.0816408321261406,0.12137281149625778,0.03436395153403282,0.09188830852508545,0.06714025139808655,0.10150086134672165,0.032287877053022385,0.04233548417687416,0.062054265290498734,0.12267377227544785,0.1927020400762558,0.08144136518239975,0.12722180783748627,0.07122485339641571,0.12111559510231018,0.10216441005468369,0.083151675760746,0.06855157762765884,0.12973344326019287,0.11615943163633347,0.10272553563117981,0.07815726101398468,0.20198483765125275,0.08041378855705261,0.1970306634902954,0.038596268743276596,0.05971280857920647,0.09678137302398682,0.03819486126303673,0.13516132533550262,0.14407911896705627,0.07050125300884247,0.12960433959960938,0.23681044578552246,0.14912985265254974,0.02765042334794998,0.09976331144571304,0.11061815172433853,0.1256818324327469,0.10029655694961548,0.13150300085544586,0.10856067389249802,0.07953990250825882,0.08233464509248734,0.08821585029363632,0.10293849557638168,0.043501436710357666,0.07110173255205154,0.058680083602666855,0.07406671345233917,0.11530347913503647,0.10792390257120132,0.037397947162389755,0.1086113378405571,0.08628710359334946,0.04496382549405098,0.025172466412186623,0.08229390531778336,0.056922122836112976,0.14522427320480347,0.006846213713288307,0.3077596426010132,0.0483674556016922,0.046381209045648575,0.0761941596865654,0.09145688265562057,0.29209980368614197,0.11796588450670242,0.19508571922779083,0.09715431928634644,0.13496731221675873,0.08066458255052567,0.057905327528715134,0.09719767421483994,0.09955227375030518,0.041690677404403687,0.09164988994598389,0.06347180902957916,0.07533668726682663,0.15039367973804474,0.09608599543571472,0.1271388977766037,0.05902896448969841,0.08889290690422058,0.15175087749958038,0.05670720338821411,0.06604413688182831,0.1006598100066185,0.05157213285565376,0.1014237031340599,0.05061420798301697,0.06054975464940071,0.1274230033159256,0.25052496790885925,0.09591016918420792,0.16420720517635345,0.1455075442790985,0.09232428669929504,0.06559397280216217,0.09494837373495102,0.05195366218686104,0.03026394359767437,0.10392064601182938,0.00951243657618761,0.07370982319116592,0.08176930248737335,0.07077120989561081,0.19088947772979736,0.019187740981578827,0.14413918554782867,0.2298334240913391,0.011441384442150593,0.15922380983829498,0.04340077564120293,0.07312920689582825,0.09211668372154236,0.11063779145479202,0.05428066849708557,0.10410558432340622,0.08760622888803482,0.04417222738265991,0.11535689979791641,0.10643914341926575,0.07921288162469864,0.1200098767876625,0.11022116988897324,0.08719012141227722,0.067853182554245,0.09973714500665665,0.06014588847756386,0.16866059601306915,0.10432485491037369,0.11930876970291138,0.04051608219742775,0.11077376455068588,0.09107419103384018,0.14433890581130981,0.1065947487950325,0.08881449699401855,0.09027394652366638,0.1173240914940834,0.04246874153614044,0.03893514722585678,0.09687525779008865,0.050093114376068115,0.08666309714317322,0.09317890554666519,0.13116419315338135,0.05528482422232628,0.16350612044334412,0.06658980995416641,0.11043522506952286,0.14919231832027435,0.10595018416643143,0.08399125188589096,0.1034693792462349,0.15287218987941742,0.16919903457164764,0.07873429358005524,0.12231076508760452,0.0937049463391304,0.11809232831001282,0.0967259407043457,0.02775544859468937,0.05981185659766197,0.09975447505712509,0.06293421238660812,0.04256203770637512,0.04757817089557648,0.14255355298519135,0.08698010444641113,0.06421773135662079,0.08456844836473465,0.09518895298242569,0.2551203668117523,0.07248353213071823,0.09756087511777878,0.0725201889872551,0.07345329225063324,0.07719212025403976,0.14186730980873108,0.08911887556314468,0.06607846170663834,0.09646763652563095,0.020544910803437233,0.11497470736503601,0.17516525089740753,0.04385671019554138,0.0797748938202858,0.16369076073169708,0.08244598656892776,0.03239497169852257,0.10203084349632263,0.03468214347958565,0.1303934007883072,0.031051045283675194,0.06310319900512695,0.062012385576963425,0.1045781597495079,0.09959930926561356,0.049085672944784164,0.0618508942425251,0.10363218933343887,0.21117080748081207,0.12718389928340912,0.27402999997138977,0.10155379772186279,0.02986224740743637,0.23902393877506256,0.03572732210159302,0.06655626744031906,0.1812034696340561,0.07921276241540909,0.12435714155435562,0.15470419824123383,0.11473322659730911]\n",
       "},\n",
       "\"mapping\":{\n",
       "},\n",
       "\"data_meta\":{\n",
       "},\n",
       "\"ggsize\":{\n",
       "\"width\":500,\n",
       "\"height\":400\n",
       "},\n",
       "\"ggtitle\":{\n",
       "\"text\":\"Train Loss\"\n",
       "},\n",
       "\"kind\":\"plot\",\n",
       "\"scales\":[],\n",
       "\"layers\":[{\n",
       "\"geom\":\"path\",\n",
       "\"mapping\":{\n",
       "\"x\":\"step\",\n",
       "\"y\":\"train_loss\"\n",
       "},\n",
       "\"data_meta\":{\n",
       "},\n",
       "\"size\":1.3,\n",
       "\"color\":\"blue\",\n",
       "\"data\":{\n",
       "}\n",
       "}],\n",
       "\"metainfo_list\":[]\n",
       "}\n",
       "},{\n",
       "\"x\":700,\n",
       "\"y\":0,\n",
       "\"width\":null,\n",
       "\"height\":null,\n",
       "\"feature_spec\":{\n",
       "\"data\":{\n",
       "\"step\":[0.0,1.0,2.0,3.0,4.0,5.0,6.0,7.0,8.0,9.0,10.0,11.0,12.0,13.0,14.0,15.0,16.0,17.0,18.0,19.0,20.0,21.0,22.0,23.0,24.0,25.0,26.0,27.0,28.0,29.0,30.0,31.0,32.0,33.0,34.0,35.0,36.0,37.0,38.0,39.0,40.0,41.0,42.0,43.0,44.0,45.0,46.0,47.0,48.0,49.0,50.0,51.0,52.0,53.0,54.0,55.0,56.0,57.0,58.0,59.0,60.0,61.0,62.0,63.0,64.0,65.0,66.0,67.0,68.0,69.0,70.0,71.0,72.0,73.0,74.0,75.0,76.0,77.0,78.0,79.0,80.0,81.0,82.0,83.0,84.0,85.0,86.0,87.0,88.0,89.0,90.0,91.0,92.0,93.0,94.0,95.0,96.0,97.0,98.0,99.0,100.0,101.0,102.0,103.0,104.0,105.0,106.0,107.0,108.0,109.0,110.0,111.0,112.0,113.0,114.0,115.0,116.0,117.0,118.0,119.0,120.0,121.0,122.0,123.0,124.0,125.0,126.0,127.0,128.0,129.0,130.0,131.0,132.0,133.0,134.0,135.0,136.0,137.0,138.0,139.0,140.0,141.0,142.0,143.0,144.0,145.0,146.0,147.0,148.0,149.0,150.0,151.0,152.0,153.0,154.0,155.0,156.0,157.0,158.0,159.0,160.0,161.0,162.0,163.0,164.0,165.0,166.0,167.0,168.0,169.0,170.0,171.0,172.0,173.0,174.0,175.0,176.0,177.0,178.0,179.0,180.0,181.0,182.0,183.0,184.0,185.0,186.0,187.0,188.0,189.0,190.0,191.0,192.0,193.0,194.0,195.0,196.0,197.0,198.0,199.0,200.0,201.0,202.0,203.0,204.0,205.0,206.0,207.0,208.0,209.0,210.0,211.0,212.0,213.0,214.0,215.0,216.0,217.0,218.0,219.0,220.0,221.0,222.0,223.0,224.0,225.0,226.0,227.0,228.0,229.0,230.0,231.0,232.0,233.0,234.0,235.0,236.0,237.0,238.0,239.0,240.0,241.0,242.0,243.0,244.0,245.0,246.0,247.0,248.0,249.0,250.0,251.0,252.0,253.0,254.0,255.0,256.0,257.0,258.0,259.0,260.0,261.0,262.0,263.0,264.0,265.0,266.0,267.0,268.0,269.0,270.0,271.0,272.0,273.0,274.0,275.0,276.0,277.0,278.0,279.0,280.0,281.0,282.0,283.0,284.0,285.0,286.0,287.0,288.0,289.0,290.0,291.0,292.0,293.0,294.0,295.0,296.0,297.0,298.0,299.0,300.0,301.0,302.0,303.0,304.0,305.0,306.0,307.0,308.0,309.0,310.0,311.0,312.0,313.0,314.0,315.0,316.0,317.0,318.0,319.0,320.0,321.0,322.0,323.0,324.0,325.0,326.0,327.0,328.0,329.0,330.0,331.0,332.0,333.0,334.0,335.0,336.0,337.0,338.0,339.0,340.0,341.0,342.0,343.0,344.0,345.0,346.0,347.0,348.0,349.0,350.0,351.0,352.0,353.0,354.0,355.0,356.0,357.0,358.0,359.0,360.0,361.0,362.0,363.0,364.0,365.0,366.0,367.0,368.0,369.0,370.0,371.0,372.0,373.0,374.0,375.0,376.0,377.0,378.0,379.0,380.0,381.0,382.0,383.0,384.0,385.0,386.0,387.0,388.0,389.0,390.0,391.0,392.0,393.0,394.0,395.0,396.0,397.0,398.0,399.0,400.0,401.0,402.0,403.0,404.0,405.0,406.0,407.0,408.0,409.0,410.0,411.0,412.0,413.0,414.0,415.0,416.0,417.0,418.0,419.0,420.0,421.0,422.0,423.0,424.0,425.0,426.0,427.0,428.0,429.0,430.0,431.0,432.0,433.0,434.0,435.0,436.0,437.0,438.0,439.0,440.0,441.0,442.0,443.0,444.0,445.0,446.0,447.0,448.0,449.0,450.0,451.0,452.0,453.0,454.0,455.0,456.0,457.0,458.0,459.0,460.0,461.0,462.0,463.0,464.0,465.0,466.0,467.0,468.0,469.0,470.0,471.0,472.0,473.0,474.0,475.0,476.0,477.0,478.0,479.0,480.0,481.0,482.0,483.0,484.0,485.0,486.0,487.0,488.0,489.0,490.0,491.0,492.0,493.0,494.0,495.0,496.0,497.0,498.0,499.0,500.0,501.0,502.0,503.0,504.0,505.0,506.0,507.0,508.0,509.0,510.0,511.0,512.0,513.0,514.0,515.0,516.0,517.0,518.0,519.0,520.0,521.0,522.0,523.0,524.0,525.0,526.0,527.0,528.0,529.0,530.0,531.0,532.0,533.0,534.0,535.0,536.0,537.0,538.0,539.0,540.0,541.0,542.0,543.0,544.0,545.0,546.0,547.0,548.0,549.0,550.0,551.0,552.0,553.0,554.0,555.0,556.0,557.0,558.0,559.0,560.0,561.0,562.0,563.0,564.0,565.0,566.0,567.0,568.0,569.0,570.0,571.0,572.0,573.0,574.0,575.0,576.0,577.0,578.0,579.0,580.0,581.0,582.0,583.0,584.0,585.0,586.0,587.0,588.0,589.0,590.0,591.0,592.0,593.0,594.0,595.0,596.0,597.0,598.0,599.0,600.0,601.0,602.0,603.0,604.0,605.0,606.0,607.0,608.0,609.0,610.0,611.0,612.0,613.0,614.0,615.0,616.0,617.0,618.0,619.0,620.0,621.0,622.0,623.0,624.0,625.0,626.0,627.0,628.0,629.0,630.0,631.0,632.0,633.0,634.0,635.0,636.0,637.0,638.0,639.0,640.0,641.0,642.0,643.0,644.0,645.0,646.0,647.0,648.0,649.0,650.0,651.0,652.0,653.0,654.0,655.0,656.0,657.0,658.0,659.0,660.0,661.0,662.0,663.0,664.0,665.0,666.0,667.0,668.0,669.0,670.0,671.0,672.0,673.0,674.0,675.0,676.0,677.0,678.0,679.0,680.0,681.0,682.0,683.0,684.0,685.0,686.0,687.0,688.0,689.0,690.0,691.0,692.0,693.0,694.0,695.0,696.0,697.0,698.0,699.0,700.0,701.0,702.0,703.0,704.0,705.0,706.0,707.0,708.0,709.0,710.0,711.0,712.0,713.0,714.0,715.0,716.0,717.0,718.0,719.0,720.0,721.0,722.0,723.0,724.0,725.0,726.0,727.0,728.0,729.0,730.0,731.0,732.0,733.0,734.0,735.0,736.0,737.0,738.0,739.0,740.0,741.0,742.0,743.0,744.0,745.0,746.0,747.0,748.0,749.0,750.0,751.0,752.0,753.0,754.0,755.0,756.0,757.0,758.0,759.0,760.0,761.0,762.0,763.0,764.0,765.0,766.0,767.0,768.0,769.0,770.0,771.0,772.0,773.0,774.0,775.0,776.0,777.0,778.0,779.0,780.0,781.0,782.0,783.0,784.0,785.0,786.0,787.0,788.0,789.0,790.0,791.0,792.0,793.0,794.0,795.0,796.0,797.0,798.0,799.0,800.0,801.0,802.0,803.0,804.0,805.0,806.0,807.0,808.0,809.0,810.0,811.0,812.0,813.0,814.0,815.0,816.0,817.0,818.0,819.0,820.0,821.0,822.0,823.0,824.0,825.0,826.0,827.0,828.0,829.0,830.0,831.0,832.0,833.0,834.0,835.0,836.0,837.0,838.0,839.0,840.0,841.0,842.0,843.0,844.0,845.0,846.0,847.0,848.0,849.0,850.0,851.0,852.0,853.0,854.0,855.0,856.0,857.0,858.0,859.0,860.0,861.0,862.0,863.0,864.0,865.0,866.0,867.0,868.0,869.0,870.0,871.0,872.0,873.0,874.0,875.0,876.0,877.0,878.0,879.0,880.0,881.0,882.0,883.0,884.0,885.0,886.0,887.0,888.0,889.0,890.0,891.0,892.0,893.0,894.0,895.0,896.0,897.0,898.0,899.0,900.0,901.0,902.0,903.0,904.0,905.0,906.0,907.0,908.0,909.0,910.0,911.0,912.0,913.0,914.0,915.0,916.0,917.0,918.0,919.0,920.0,921.0,922.0,923.0,924.0,925.0,926.0,927.0,928.0,929.0,930.0,931.0,932.0,933.0,934.0,935.0,936.0,937.0,938.0,939.0,940.0,941.0,942.0,943.0,944.0,945.0,946.0,947.0,948.0,949.0,950.0,951.0,952.0,953.0,954.0,955.0,956.0,957.0,958.0,959.0,960.0,961.0,962.0,963.0,964.0,965.0,966.0,967.0,968.0,969.0,970.0,971.0,972.0,973.0,974.0,975.0,976.0,977.0,978.0,979.0,980.0,981.0,982.0,983.0,984.0,985.0,986.0,987.0,988.0,989.0,990.0,991.0,992.0,993.0,994.0,995.0,996.0,997.0,998.0,999.0,1000.0,1001.0,1002.0,1003.0,1004.0,1005.0,1006.0,1007.0,1008.0,1009.0,1010.0,1011.0,1012.0,1013.0,1014.0,1015.0,1016.0,1017.0,1018.0,1019.0,1020.0,1021.0,1022.0,1023.0,1024.0,1025.0,1026.0,1027.0,1028.0,1029.0,1030.0,1031.0,1032.0,1033.0,1034.0,1035.0,1036.0,1037.0,1038.0,1039.0,1040.0,1041.0,1042.0,1043.0,1044.0,1045.0,1046.0,1047.0,1048.0,1049.0,1050.0,1051.0,1052.0,1053.0,1054.0,1055.0,1056.0,1057.0,1058.0,1059.0,1060.0,1061.0,1062.0,1063.0,1064.0,1065.0,1066.0,1067.0,1068.0,1069.0,1070.0,1071.0,1072.0,1073.0,1074.0,1075.0,1076.0,1077.0,1078.0,1079.0,1080.0,1081.0,1082.0,1083.0,1084.0,1085.0,1086.0,1087.0,1088.0,1089.0,1090.0,1091.0,1092.0,1093.0,1094.0,1095.0,1096.0,1097.0,1098.0,1099.0,1100.0,1101.0,1102.0,1103.0,1104.0,1105.0,1106.0,1107.0,1108.0,1109.0,1110.0,1111.0,1112.0,1113.0,1114.0,1115.0,1116.0,1117.0,1118.0,1119.0,1120.0,1121.0,1122.0,1123.0,1124.0,1125.0,1126.0,1127.0,1128.0,1129.0,1130.0,1131.0,1132.0,1133.0,1134.0,1135.0,1136.0,1137.0,1138.0,1139.0,1140.0,1141.0,1142.0,1143.0,1144.0,1145.0,1146.0,1147.0,1148.0,1149.0,1150.0,1151.0,1152.0,1153.0,1154.0,1155.0,1156.0,1157.0,1158.0,1159.0,1160.0,1161.0,1162.0,1163.0,1164.0,1165.0,1166.0,1167.0,1168.0,1169.0,1170.0,1171.0,1172.0,1173.0,1174.0,1175.0,1176.0,1177.0,1178.0,1179.0,1180.0,1181.0,1182.0,1183.0,1184.0,1185.0,1186.0,1187.0,1188.0,1189.0,1190.0,1191.0,1192.0,1193.0,1194.0,1195.0,1196.0,1197.0,1198.0,1199.0,1200.0,1201.0,1202.0,1203.0,1204.0,1205.0,1206.0,1207.0,1208.0,1209.0,1210.0,1211.0,1212.0,1213.0,1214.0,1215.0,1216.0,1217.0,1218.0,1219.0,1220.0,1221.0,1222.0,1223.0,1224.0,1225.0,1226.0,1227.0,1228.0,1229.0,1230.0,1231.0,1232.0,1233.0,1234.0,1235.0,1236.0,1237.0,1238.0,1239.0,1240.0,1241.0,1242.0,1243.0,1244.0,1245.0,1246.0,1247.0,1248.0,1249.0,1250.0,1251.0,1252.0,1253.0,1254.0,1255.0,1256.0,1257.0,1258.0,1259.0,1260.0,1261.0,1262.0,1263.0,1264.0,1265.0,1266.0,1267.0,1268.0,1269.0,1270.0,1271.0,1272.0,1273.0,1274.0,1275.0,1276.0,1277.0,1278.0,1279.0,1280.0,1281.0,1282.0,1283.0,1284.0,1285.0,1286.0,1287.0,1288.0,1289.0,1290.0,1291.0,1292.0,1293.0,1294.0,1295.0,1296.0,1297.0,1298.0,1299.0,1300.0,1301.0,1302.0,1303.0,1304.0,1305.0,1306.0,1307.0,1308.0,1309.0,1310.0,1311.0,1312.0,1313.0,1314.0,1315.0,1316.0,1317.0,1318.0,1319.0,1320.0,1321.0,1322.0,1323.0,1324.0,1325.0,1326.0,1327.0,1328.0,1329.0,1330.0,1331.0,1332.0,1333.0,1334.0,1335.0,1336.0,1337.0,1338.0,1339.0,1340.0,1341.0,1342.0,1343.0,1344.0,1345.0,1346.0,1347.0,1348.0,1349.0,1350.0,1351.0,1352.0,1353.0,1354.0,1355.0,1356.0,1357.0,1358.0,1359.0,1360.0,1361.0,1362.0,1363.0,1364.0,1365.0,1366.0,1367.0,1368.0,1369.0,1370.0,1371.0,1372.0,1373.0,1374.0,1375.0,1376.0,1377.0,1378.0,1379.0,1380.0,1381.0,1382.0,1383.0,1384.0,1385.0,1386.0,1387.0,1388.0,1389.0,1390.0,1391.0],\n",
       "\"val_loss\":[1.761539101600647,1.823722004890442,0.12958396971225739,0.04421481490135193,0.10065291076898575,0.04837347939610481,0.07021688669919968,0.16982461512088776,0.14881138503551483,0.07283047586679459,0.03859661892056465,0.14609260857105255,0.06923229247331619,0.04905514791607857,0.0916900634765625,0.1489284336566925,0.11664656549692154,0.08700990676879883,0.066163070499897,0.046037737280130386,0.029726944863796234,0.044296994805336,0.09234241396188736,0.026150716468691826,0.05039191618561745,0.07356210798025131,0.16115590929985046,0.047326039522886276,0.11466959118843079,0.11808983236551285,0.08197886496782303,0.06607847660779953,0.11419400572776794,0.13274432718753815,0.10195810347795486,0.06251885741949081,0.062731072306633,0.09479113668203354,0.07654327899217606,0.12411290407180786,0.069198377430439,0.1523074060678482,0.06269471347332001,0.11428207159042358,0.09255663305521011,0.13988657295703888,0.029811112210154533,0.07586006820201874,0.07494029402732849,0.129187673330307,0.08090224117040634,0.12668707966804504,0.14655761420726776,0.15588125586509705,0.08882048726081848,0.1511261761188507,0.12990576028823853,0.036612361669540405,0.08046682924032211,0.06465215235948563,0.05609307065606117,0.07703927904367447,0.09198185056447983,0.0753144919872284,0.14213474094867706,0.08040793985128403,0.042580217123031616,0.0877022072672844,0.07265926152467728,0.0605677105486393,0.05764581635594368,0.130422905087471,0.07587424665689468,0.07157555967569351,0.06416977196931839,0.05533045530319214,0.19072850048542023,0.1934197098016739,0.10410735011100769,0.0716763362288475,0.19926615059375763,0.047563206404447556,0.13207076489925385,0.12884730100631714,0.05361256003379822,0.0244586318731308,0.062180373817682266,0.0648699626326561,0.08013008534908295,0.07383740693330765,0.013232975266873837,0.15312765538692474,0.119986891746521,0.13090936839580536,0.10539612919092178,0.1344989389181137,0.04926898702979088,0.0626741498708725,0.05822226032614708,0.21598343551158905,0.05238622799515724,0.053314294666051865,0.07534974813461304,0.11216256767511368,0.050329018384218216,0.04758862778544426,0.06415378302335739,0.13727465271949768,0.09603947401046753,0.07488106936216354,0.08694805949926376,0.0506257601082325,0.08474982529878616,0.04661296680569649,0.0983181968331337,0.1331855207681656,0.013039364479482174,0.16237033903598785,0.14825186133384705,0.04242708161473274,0.058375805616378784,0.28317180275917053,0.1633848249912262,0.10158654302358627,0.1094890609383583,0.09353834390640259,0.10219046473503113,0.16442446410655975,0.22547562420368195,0.09507449716329575,0.09595808386802673,0.12107180804014206,0.11279624700546265,0.10708402842283249,0.04591001942753792,0.06748402863740921,0.09362426400184631,0.13266736268997192,0.06786840409040451,0.04126476123929024,0.11115214973688126,0.08243915438652039,0.119600810110569,0.11342689394950867,0.08155940473079681,0.11852679401636124,0.07782908529043198,0.03620966896414757,0.10339227318763733,0.06987887620925903,0.07319840043783188,0.05339040979743004,0.13717253506183624,0.12948663532733917,0.15514254570007324,0.08274243026971817,0.05927448347210884,0.1830841451883316,0.08717150241136551,0.042021602392196655,0.05520450696349144,0.12695837020874023,0.06988060474395752,0.07022713869810104,0.056588560342788696,0.13530336320400238,0.1137828603386879,0.16678549349308014,0.046684786677360535,0.057450320571660995,0.04762715473771095,0.0800865888595581,0.06426067650318146,0.10393520444631577,0.05004127323627472,0.0762699767947197,0.0990726575255394,0.05699068680405617,0.10347384959459305,0.12943576276302338,0.06520300358533859,0.06862294673919678,0.044027578085660934,0.08756343275308609,0.05185573920607567,0.12713783979415894,0.07744365930557251,0.06943915784358978,0.05385032668709755,0.06436356902122498,0.0434301495552063,0.05551791563630104,0.13159728050231934,0.053874123841524124,0.13154862821102142,0.03047957271337509,0.029981160536408424,0.12517231702804565,0.12487652897834778,0.0648302435874939,0.1499285250902176,0.2829030752182007,0.1462765485048294,0.100849449634552,0.09415636211633682,0.01680564507842064,0.1096402108669281,0.11369511485099792,0.10642925649881363,0.04923061653971672,0.05697403475642204,0.12254714220762253,0.0662979856133461,0.09448348730802536,0.08631676435470581,0.2695326805114746,0.02995423413813114,0.18063612282276154,0.04107147827744484,0.07758010923862457,0.045962776988744736,0.12096317857503891,0.08483072370290756,0.04097842052578926,0.17467807233333588,0.07683763653039932,0.1400539129972458,0.1327754706144333,0.1283993124961853,0.09163621068000793,0.07371320575475693,0.16931504011154175,0.05011637508869171,0.08651495724916458,0.0702604204416275,0.11270125955343246,0.13227152824401855,0.057609204202890396,0.07526788860559464,0.06313193589448929,0.06598236411809921,0.045904312282800674,0.11161866039037704,0.06354422122240067,0.17860424518585205,0.07956596463918686,0.06487815827131271,0.13620401918888092,0.17549103498458862,0.1486676186323166,0.07235800474882126,0.08896813541650772,0.1481003314256668,0.05920770764350891,0.09231964498758316,0.031742844730615616,0.10981752723455429,0.12536442279815674,0.08816564083099365,0.03233917057514191,0.17760442197322845,0.1851288080215454,0.04441659152507782,0.06138606369495392,0.14058367908000946,0.04573454335331917,0.07136832922697067,0.0790170431137085,0.1584412157535553,0.15480534732341766,0.21645547449588776,0.08462587743997574,0.10995090752840042,0.09811720997095108,0.09983634948730469,0.06983409076929092,0.08905619382858276,0.09093812853097916,0.06045146286487579,0.09096793085336685,0.048681437969207764,0.1699805110692978,0.06675074994564056,0.13269786536693573,0.10878635197877884,0.09414738416671753,0.05830460786819458,0.08617264777421951,0.03629845753312111,0.18033970892429352,0.03544606640934944,0.25514912605285645,0.07921113818883896,0.07067091017961502,0.16752301156520844,0.03821524232625961,0.029398253187537193,0.07252941280603409,0.06868428736925125,0.04483434185385704,0.06136653199791908,0.02528925985097885,0.07399988919496536,0.14587987959384918,0.12622912228107452,0.07890777289867401,0.06733781099319458,0.08290895074605942,0.02297274023294449,0.08368263393640518,0.062231335788965225,0.10102824121713638,0.15393252670764923,0.08632104843854904,0.15233664214611053,0.11645249277353287,0.08418483287096024,0.08830633014440536,0.12230217456817627,0.030219152569770813,0.07609748095273972,0.07373668998479843,0.05112394317984581,0.06657274067401886,0.08544746041297913,0.13026981055736542,0.10430232435464859,0.04891391098499298,0.046390336006879807,0.05291605368256569,0.021168380975723267,0.10888639092445374,0.07517319172620773,0.04248064383864403,0.10302001237869263,0.0958864688873291,0.04860569164156914,0.06463537365198135,0.09313034266233444,0.1718807816505432,0.04598065838217735,0.05655090883374214,0.030410729348659515,0.12914744019508362,0.09014462679624557,0.08653629571199417,0.034384895116090775,0.03665052726864815,0.11771178990602493,0.07735753804445267,0.2742951214313507,0.0812968835234642,0.10337895154953003,0.11373084038496017,0.07376490533351898,0.08729180693626404,0.12849636375904083,0.1622810959815979,0.055231716483831406,0.029611309990286827,0.06707865744829178,0.09197220206260681,0.09992145746946335,0.08628540486097336,0.0800289586186409,0.041311100125312805,0.10571164637804031,0.08174671977758408,0.014029963873326778,0.09489169716835022,0.104632668197155,0.11958173662424088,0.06059643253684044,0.06593266129493713,0.11452985554933548,0.08304712921380997,0.11649905890226364,0.24855490028858185,0.07165607064962387,0.0617816261947155,0.16398195922374725,0.12145128846168518,0.06307408213615417,0.12609843909740448,0.11684424430131912,0.15204352140426636,0.06446599960327148,0.11023055762052536,0.07440707832574844,0.1268097162246704,0.07567595690488815,0.062269072979688644,0.1614639014005661,0.03170212358236313,0.10586181282997131,0.06185581162571907,0.07397644966840744,0.08361957222223282,0.12538102269172668,0.08743137866258621,0.1748960167169571,0.05114290118217468,0.0539090633392334,0.09776028990745544,0.06533399969339371,0.21322859823703766,0.0876016840338707,0.09296191483736038,0.08223842829465866,0.09189663082361221,0.051147881895303726,0.03769105300307274,0.10269773751497269,0.05804160237312317,0.10305153578519821,0.09811123460531235,0.03680837154388428,0.2180744856595993,0.047855719923973083,0.08655723184347153,0.02489980310201645,0.09580618143081665,0.10296023637056351,0.1831706315279007,0.0887438952922821,0.08464346081018448,0.059060171246528625,0.13721130788326263,0.0026786269154399633,0.03176365792751312,0.0365210585296154,0.09346801042556763,0.0633935034275055,0.08400291204452515,0.10476373881101608,0.029613690450787544,0.0506160706281662,0.07098779827356339,0.11681894212961197,0.09402316808700562,0.04248341545462608,0.07945815473794937,0.012708368711173534,0.16580675542354584,0.059065282344818115,0.12979592382907867,0.0863441750407219,0.11037716269493103,0.1091969683766365,0.05836398899555206,0.06559319794178009,0.029727740213274956,0.08940920978784561,0.11232203990221024,0.15463945269584656,0.1683952808380127,0.09500344842672348,0.12728159129619598,0.11836820095777512,0.10930022597312927,0.19803248345851898,0.07639990001916885,0.09113430976867676,0.0590173564851284,0.09691581130027771,0.02812252752482891,0.07257508486509323,0.09353455156087875,0.044453080743551254,0.22257547080516815,0.10439956933259964,0.148873969912529,0.07894399762153625,0.14318399131298065,0.12173240631818771,0.10589537769556046,0.13564644753932953,0.07369229942560196,0.11990615725517273,0.10411377996206284,0.1583438664674759,0.08907675743103027,0.10823195427656174,0.09130658954381943,0.12334322184324265,0.06598856300115585,0.19370968639850616,0.10490760952234268,0.1301625818014145,0.10597001761198044,0.06887608021497726,0.03010745905339718,0.10678783059120178,0.06871233880519867,0.07476533204317093,0.13564804196357727,0.10841822624206543,0.02925286255776882,0.0857161283493042,0.0791248306632042,0.08180311322212219,0.060816895216703415,0.07311435788869858,0.11327777057886124,0.050510045140981674,0.14464326202869415,0.06384635716676712,0.11064505577087402,0.028217477723956108,0.04794494807720184,0.08395668119192123,0.09750638157129288,0.06562597304582596,0.07215233892202377,0.10094229131937027,0.15912456810474396,0.11976439505815506,0.03678946942090988,0.09906163066625595,0.1585691273212433,0.05369843542575836,0.08627671003341675,0.09102654457092285,0.05387445166707039,0.07615213841199875,0.0634050965309143,0.05503590404987335,0.1687265783548355,0.13053205609321594,0.10469330102205276,0.1393478661775589,0.11622408032417297,0.14598093926906586,0.13714982569217682,0.0937599241733551,0.021233929321169853,0.05953839048743248,0.10860812664031982,0.07485432177782059,0.09954201430082321,0.08116041868925095,0.06095701456069946,0.11504697054624557,0.08131694048643112,0.08025451749563217,0.09098326414823532,0.12643979489803314,0.040032774209976196,0.051733825355768204,0.14938722550868988,0.19763244688510895,0.055320899933576584,0.032216738909482956,0.06293921917676926,0.14114263653755188,0.10248934477567673,0.048076290637254715,0.13715310394763947,0.06499571353197098,0.06504843384027481,0.10555416345596313,0.08563294261693954,0.09626422077417374,0.10486158728599548,0.06936012208461761,0.11000994592905045,0.1105695590376854,0.09851618856191635,0.053410451859235764,0.08138230443000793,0.12096022814512253,0.097197525203228,0.10490288585424423,0.06105652451515198,0.0792296901345253,0.03749017044901848,0.10992562770843506,0.11456349492073059,0.07677385956048965,0.09639880061149597,0.06464006006717682,0.11061108857393265,0.128260537981987,0.10917379707098007,0.03362061828374863,0.04847221449017525,0.04048400744795799,0.06707389652729034,0.0545586533844471,0.0036432091146707535,0.20018048584461212,0.0540219247341156,0.11794856190681458,0.10370955616235733,0.14460791647434235,0.12616662681102753,0.07126311212778091,0.06799889355897903,0.04593352973461151,0.15193137526512146,0.16190968453884125,0.15088558197021484,0.06822899729013443,0.1116931363940239,0.09703582525253296,0.04613466560840607,0.10487117618322372,0.09914795309305191,0.08012252300977707,0.08477386832237244,0.10874497145414352,0.16193608939647675,0.09097578376531601,0.0746363177895546,0.12298228591680527,0.07780307531356812,0.1305188089609146,0.11207244545221329,0.0812973752617836,0.08006330579519272,0.12072864919900894,0.07085071504116058,0.09986436367034912,0.09238045662641525,0.09299412369728088,0.0194916520267725,0.14278395473957062,0.1078234314918518,0.061646413058042526,0.17205089330673218,0.053223367780447006,0.11104199290275574,0.09846407920122147,0.03371027857065201,0.14882667362689972,0.05752357468008995,0.08126794546842575,0.04211960360407829,0.04702259600162506,0.13704536855220795,0.10384261608123779,0.061557698994874954,0.1186119094491005,0.17766714096069336,0.10851167887449265,0.04626994952559471,0.11781052500009537,0.13178160786628723,0.058745983988046646,0.11388944834470749,0.0911712646484375,0.07128607481718063,0.10558395832777023,0.03523213043808937,0.0764186829328537,0.10691249370574951,0.10450673848390579,0.10490933805704117,0.18142817914485931,0.06427692621946335,0.06432585418224335,0.20063412189483643,0.10077280551195145,0.07468967884778976,0.050785478204488754,0.27189573645591736,0.06109275296330452,0.06307308375835419,0.13671229779720306,0.060745719820261,0.043010637164115906,0.07864218950271606,0.08537096530199051,0.0858592614531517,0.04177698493003845,0.05327102541923523,0.08258142322301865,0.017997944727540016,0.06090462580323219,0.06839247792959213,0.06214987114071846,0.1455903798341751,0.058982331305742264,0.06043536588549614,0.0995526909828186,0.01187990978360176,0.0812305361032486,0.05830715224146843,0.09182733297348022,0.1055864468216896,0.1180197224020958,0.07672366499900818,0.08374770730733871,0.08856982737779617,0.05614097788929939,0.0585925430059433,0.08095886558294296,0.14035585522651672,0.2586131691932678,0.1724110245704651,0.03870658203959465,0.09680476784706116,0.2869472801685333,0.20487309992313385,0.060460880398750305,0.04339602217078209,0.1458670049905777,0.1104208305478096,0.05031271278858185,0.08598372340202332,0.2049161046743393,0.11763173341751099,0.07493336498737335,0.06267368793487549,0.05270908772945404,0.05760280415415764,0.06200619041919708,0.08889775723218918,0.1500045210123062,0.11186307668685913,0.13300329446792603,0.16975528001785278,0.06492873281240463,0.14227868616580963,0.11072847247123718,0.08603868633508682,0.06887088716030121,0.22328372299671173,0.08127886801958084,0.11260787397623062,0.05983186140656471,0.05749228224158287,0.11180314421653748,0.0966610237956047,0.1726522296667099,0.07988962531089783,0.24955181777477264,0.08173196017742157,0.11196482926607132,0.08294416964054108,0.12479967623949051,0.032871030271053314,0.07390396296977997,0.07256224006414413,0.13050417602062225,0.08306533843278885,0.1203661784529686,0.15026938915252686,0.15397264063358307,0.15485841035842896,0.18322710692882538,0.13543112576007843,0.04939835146069527,0.15423598885536194,0.06543675810098648,0.24888305366039276,0.07076425850391388,0.09306183457374573,0.09957807511091232,0.11041497439146042,0.07975166290998459,0.04656919464468956,0.11845246702432632,0.09097278118133545,0.07804431766271591,0.07111658900976181,0.12132643908262253,0.13551829755306244,0.05725796893239021,0.15016235411167145,0.1645115613937378,0.17537355422973633,0.15171675384044647,0.20475222170352936,0.06286272406578064,0.16038163006305695,0.0474439300596714,0.199770987033844,0.07076328247785568,0.06617408245801926,0.03373092785477638,0.08081202208995819,0.0708216205239296,0.07858114689588547,0.09124445170164108,0.036398690193891525,0.1689954549074173,0.12020324915647507,0.11014768481254578,0.10520056635141373,0.12388788908720016,0.08291049301624298,0.07916081696748734,0.07677290588617325,0.11135643720626831,0.17029070854187012,0.06878693401813507,0.0767720639705658,0.09210095554590225,0.16499759256839752,0.04134659469127655,0.07723404467105865,0.11598057299852371,0.10766207426786423,0.0785379707813263,0.18563759326934814,0.06446418911218643,0.07137592881917953,0.08681237697601318,0.08336955308914185,0.12225455045700073,0.014655541628599167,0.13170114159584045,0.22111307084560394,0.039527323096990585,0.04138363152742386,0.13471871614456177,0.13072796165943146,0.18510864675045013,0.12367585301399231,0.10342275351285934,0.1157359853386879,0.19814187288284302,0.2538316547870636,0.0786292776465416,0.10212227702140808,0.22380734980106354,0.10492584854364395,0.1457165628671646,0.06315182894468307,0.0683799460530281,0.1145884171128273,0.1801590472459793,0.07022403925657272,0.06581186503171921,0.09733373671770096,0.1026093065738678,0.11876314133405685,0.13389648497104645,0.09159673005342484,0.11473100632429123,0.08697796612977982,0.05398072302341461,0.09936826676130295,0.05484435334801674,0.10011214762926102,0.08006911724805832,0.170007586479187,0.12385786324739456,0.18622881174087524,0.08362489193677902,0.07713096588850021,0.15854358673095703,0.14970740675926208,0.048141513019800186,0.06945068389177322,0.09863277524709702,0.10105714201927185,0.07957211881875992,0.062284961342811584,0.1227332279086113,0.1480678766965866,0.15183983743190765,0.07475333660840988,0.05302910506725311,0.04541390761733055,0.09269825369119644,0.0896306037902832,0.09851745516061783,0.06316978484392166,0.07084780186414719,0.10697834938764572,0.08485224097967148,0.07640257477760315,0.34757447242736816,0.0708957388997078,0.07406006753444672,0.048619553446769714,0.07720189541578293,0.0697353407740593,0.13118016719818115,0.08363699167966843,0.07824981957674026,0.11277741938829422,0.19993621110916138,0.049157124012708664,0.06092337891459465,0.10391765087842941,0.0654558315873146,0.1757834106683731,0.148780956864357,0.03438955172896385,0.13302479684352875,0.11330924183130264,0.048766423016786575,0.28464260697364807,0.2172842025756836,0.10236569494009018,0.07942450791597366,0.11298822611570358,0.025127612054347992,0.1182163655757904,0.0645739734172821,0.1272142231464386,0.05925911292433739,0.08165256679058075,0.29814425110816956,0.05509807541966438,0.08865288645029068,0.09730567783117294,0.06814742088317871,0.056622669100761414,0.30086275935173035,0.058757483959198,0.09641474485397339,0.03788100928068161,0.14306366443634033,0.09289613366127014,0.06292207539081573,0.15886588394641876,0.06530104577541351,0.17838001251220703,0.12707124650478363,0.17711180448532104,0.2559932768344879,0.0848192647099495,0.09859813004732132,0.05681769549846649,0.09371132403612137,0.0711936503648758,0.08713828772306442,0.13772864639759064,0.07151035219430923,0.06486381590366364,0.056666359305381775,0.08557405322790146,0.04071120545268059,0.1919887810945511,0.09149713069200516,0.14403054118156433,0.11592341214418411,0.0695599690079689,0.13301514089107513,0.1601095050573349,0.13141196966171265,0.0454559326171875,0.10525655001401901,0.13128796219825745,0.07857093214988708,0.0913822129368782,0.03124620020389557,0.11094015836715698,0.12450262159109116,0.0791264995932579,0.028763003647327423,0.16764843463897705,0.2601340711116791,0.049369487911462784,0.08136362582445145,0.10532481223344803,0.0470251590013504,0.07430550456047058,0.08447321504354477,0.15438996255397797,0.1517300307750702,0.15223266184329987,0.13935519754886627,0.11626163870096207,0.11697062849998474,0.10550431162118912,0.07557633519172668,0.10397601872682571,0.10279771685600281,0.07882416993379593,0.06662305444478989,0.06103648245334625,0.1941152662038803,0.06655319035053253,0.07184701412916183,0.1993640810251236,0.307321161031723,0.0750383660197258,0.08472197502851486,0.04830555245280266,0.06402819603681564,0.035520877689123154,0.14877630770206451,0.08820795267820358,0.06564338505268097,0.1785644292831421,0.08142713457345963,0.03849029913544655,0.08088701218366623,0.07265055179595947,0.04694821313023567,0.05653304234147072,0.058434974402189255,0.08682751655578613,0.34549638628959656,0.10246306657791138,0.0872160792350769,0.08646130561828613,0.08702027797698975,0.030366281047463417,0.10504632443189621,0.04965369030833244,0.1163954809308052,0.15199248492717743,0.06819022446870804,0.16291005909442902,0.12195570021867752,0.11465727537870407,0.08939400315284729,0.24965423345565796,0.041937317699193954,0.08088409900665283,0.0810190737247467,0.0515984483063221,0.11038050055503845,0.07826253026723862,0.13633443415164948,0.27148908376693726,0.0742509737610817,0.05596112087368965,0.05480446293950081,0.042152125388383865,0.09423801302909851,0.07244580239057541,0.11877158284187317,0.13607530295848846,0.08987314254045486,0.21449153125286102,0.07078472524881363,0.19195570051670074,0.1497412919998169,0.049965620040893555,0.06089883670210838,0.03415677696466446,0.10736309736967087,0.1164233610033989,0.05315282940864563,0.032346561551094055,0.06573004275560379,0.10407283902168274,0.09494734555482864,0.2952311635017395,0.07637400180101395,0.10481861233711243,0.057118769735097885,0.06678790599107742,0.09108796715736389,0.11678800731897354,0.13636861741542816,0.07037738710641861,0.0441625714302063,0.08111108839511871,0.06621427834033966,0.10744980722665787,0.09007140249013901,0.08776014298200607,0.04179747775197029,0.11296699196100235,0.10809752345085144,0.018461745232343674,0.17621523141860962,0.09569699317216873,0.13743631541728973,0.04585874080657959,0.06515810638666153,0.11532805114984512,0.11482148617506027,0.150874063372612,0.139812633395195,0.082933209836483,0.09481209516525269,0.18005390465259552,0.11589580774307251,0.06638213247060776,0.14676789939403534,0.10267641395330429,0.18246787786483765,0.07602592557668686,0.1381329596042633,0.0592835433781147,0.11016803979873657,0.127170130610466,0.071227066218853,0.3801302909851074,0.02765614353120327,0.10530558228492737,0.061834994703531265,0.23895175755023956,0.08436029404401779,0.11404114216566086,0.10110658407211304,0.19345863163471222,0.0941479504108429,0.061525728553533554,0.0941939651966095,0.08625894039869308,0.24284081161022186,0.14606066048145294,0.07135571539402008,0.11567029356956482,0.10758348554372787,0.060251668095588684,0.2460092455148697,0.0909254252910614,0.08554735034704208,0.12814673781394958,0.08128368109464645,0.04858903959393501,0.19715829193592072,0.12036598473787308,0.09618410468101501,0.07444269210100174,0.11170168966054916,0.05565572902560234,0.16698531806468964,0.0776703879237175,0.1587676852941513,0.06654719263315201,0.358678936958313,0.008006129413843155,0.036192480474710464,0.050544966012239456,0.09297170490026474,0.07994285225868225,0.09109694510698318,0.11476551741361618,0.07165410369634628,0.05630120635032654,0.06895730644464493,0.11317833513021469,0.12284406274557114,0.08936604112386703,0.04702756181359291,0.02607080154120922,0.1311437040567398,0.06085887551307678,0.11845123767852783,0.09514132887125015,0.06958483904600143,0.1910477876663208,0.07403808832168579,0.12183532118797302,0.038770921528339386,0.09657292813062668,0.11939165741205215,0.06851190328598022,0.1561925858259201,0.10982579737901688,0.11525458842515945,0.16131514310836792,0.10692749172449112,0.21811725199222565,0.06958239525556564,0.09268596768379211,0.19561946392059326,0.14906422793865204,0.0520155169069767,0.0656827911734581,0.09271043539047241,0.056378308683633804,0.24510931968688965,0.10025092214345932,0.15066570043563843,0.08805921673774719,0.18243826925754547,0.13855035603046417,0.09245207905769348,0.12869173288345337,0.07239707559347153,0.14544038474559784,0.10895077139139175,0.1739804744720459,0.10786259174346924,0.12891025841236115,0.08729386329650879,0.13665473461151123,0.05431699380278587,0.23851041495800018,0.12620364129543304,0.13008078932762146,0.13944213092327118,0.05937245860695839,0.15863695740699768,0.2084963321685791,0.09760398417711258,0.1291341632604599,0.14181827008724213,0.12054946273565292,0.03775707632303238,0.08936048299074173,0.0775851160287857,0.1000199019908905,0.07303578406572342,0.08859214186668396,0.2762528955936432,0.05666058883070946,0.12781615555286407,0.062149494886398315,0.11837311834096909,0.06727681308984756,0.06269428133964539,0.13134799897670746,0.10577290505170822,0.06112249568104744,0.09172440320253372,0.11395586282014847,0.13011984527111053,0.11850152164697647,0.10387125611305237,0.09382421523332596,0.135224387049675,0.05034835636615753,0.058357130736112595,0.10875631123781204,0.04271809756755829,0.12337412685155869,0.08601447194814682,0.09964528679847717,0.20625071227550507,0.0853378176689148,0.11338454484939575,0.044738221913576126,0.10933791846036911,0.1418052762746811,0.06916119903326035,0.08148124814033508,0.0308876633644104,0.15288124978542328,0.12261524796485901,0.09098508954048157,0.18549472093582153,0.14032888412475586,0.05709953233599663,0.11451555043458939,0.10736823081970215,0.07737105339765549,0.10332687944173813,0.2628307640552521,0.213683620095253,0.04969535768032074,0.1536976397037506,0.24949562549591064,0.05983605980873108,0.04266755282878876,0.10884793847799301,0.09385577589273453,0.10198128968477249,0.04415513575077057,0.19800834357738495,0.06220930442214012,0.08384125679731369,0.13542336225509644,0.07536230236291885,0.10511022806167603,0.18433649837970734,0.07042518258094788,0.10091061145067215,0.15673725306987762,0.11406711488962173,0.07046417891979218,0.07084168493747711,0.12303199619054794,0.0913519561290741,0.13268525898456573,0.0663507953286171,0.0981091633439064,0.05343867465853691,0.10265639424324036,0.11986202001571655,0.06780419498682022,0.2240421026945114,0.07324910163879395,0.10479537397623062,0.1623210310935974,0.1155722513794899,0.03356782719492912,0.04728703573346138,0.039729177951812744,0.06662646681070328,0.05427829548716545,0.009623806923627853,0.18240787088871002,0.07711577415466309,0.13781294226646423,0.12407686561346054,0.1535695344209671,0.27683141827583313,0.07081044465303421,0.08342235535383224,0.04989267513155937,0.2769726812839508,0.14494983851909637,0.1080484613776207,0.056468475610017776,0.11305627226829529,0.11768987029790878,0.05809478461742401,0.10526719689369202,0.08835390210151672,0.1340678632259369,0.07084212452173233,0.11422235518693924,0.14947538077831268,0.10674510151147842,0.06972729414701462,0.1241203173995018,0.0935588851571083,0.17942778766155243,0.10413048416376114,0.06711886078119278,0.0702410489320755,0.13143230974674225,0.07636084407567978,0.08003048598766327,0.08308984339237213,0.09712592512369156,0.04926024749875069,0.1526745706796646,0.1429101824760437,0.051588963717222214,0.1354953944683075,0.07144287973642349,0.11445305496454239,0.09799598902463913,0.18309080600738525,0.12755899131298065,0.04805736616253853,0.06392259895801544,0.05853128805756569,0.019680337980389595,0.14317667484283447,0.10547523945569992,0.07022683322429657,0.11446224898099899,0.14540840685367584,0.10985764116048813,0.05407947674393654,0.10260488837957382,0.1617630571126938,0.0644470825791359,0.13375549018383026,0.10387294739484787,0.08794599026441574,0.20023684203624725,0.031643129885196686,0.06486017256975174,0.08010371774435043,0.11943265795707703,0.10212703794240952,0.1086665689945221,0.05076145753264427,0.08616811037063599,0.13767950236797333,0.03964020311832428,0.2380969375371933,0.04817679151892662,0.1178044006228447,0.16847437620162964,0.06852227449417114,0.17172138392925262,0.07213365286588669,0.16876471042633057,0.06042562425136566,0.15030230581760406,0.08493737131357193,0.047540802508592606,0.07688593864440918,0.08549311012029648,0.03404339775443077,0.0540621280670166,0.0813322365283966,0.06470987200737,0.187624990940094,0.08510622382164001,0.07187557965517044,0.09835630655288696,0.022131552919745445,0.08315228670835495,0.05563981831073761,0.10435988754034042,0.09972325712442398,0.12235236167907715,0.1401032954454422,0.1027618870139122,0.099463552236557,0.14386196434497833,0.06221487745642662,0.08085784316062927]\n",
       "},\n",
       "\"mapping\":{\n",
       "},\n",
       "\"data_meta\":{\n",
       "},\n",
       "\"ggsize\":{\n",
       "\"width\":500,\n",
       "\"height\":400\n",
       "},\n",
       "\"ggtitle\":{\n",
       "\"text\":\"Validation Loss\"\n",
       "},\n",
       "\"kind\":\"plot\",\n",
       "\"scales\":[],\n",
       "\"layers\":[{\n",
       "\"geom\":\"path\",\n",
       "\"mapping\":{\n",
       "\"x\":\"step\",\n",
       "\"y\":\"val_loss\"\n",
       "},\n",
       "\"data_meta\":{\n",
       "},\n",
       "\"size\":1.3,\n",
       "\"color\":\"red\",\n",
       "\"data\":{\n",
       "}\n",
       "}],\n",
       "\"metainfo_list\":[]\n",
       "}\n",
       "}]\n",
       "};\n",
       "           var plotContainer = document.getElementById(\"oWRC3y\");\n",
       "           window.letsPlotCall(function() {{\n",
       "               LetsPlot.buildPlotFromProcessedSpecs(plotSpec, -1, -1, plotContainer);\n",
       "           }});\n",
       "       })();    \n",
       "   </script>"
      ]
     },
     "metadata": {},
     "output_type": "display_data"
    }
   ],
   "source": [
    "bunch = GGBunch()\n",
    "plot = ggplot(loss_stats_train) + geom_path(aes('step', 'train_loss'), size=1.3, color='blue') + ggsize(500, 400) + ggtitle('Train Loss')\n",
    "bunch.add_plot(plot, 100, 0)\n",
    "plot = ggplot(loss_stats_val) + geom_path(aes('step', 'val_loss'), size=1.3, color='red') + ggsize(500, 400) + ggtitle('Validation Loss')\n",
    "bunch.add_plot(plot, 700, 0)\n",
    "bunch.show()"
   ]
  },
  {
   "cell_type": "markdown",
   "id": "b1dc6d32",
   "metadata": {
    "papermill": {
     "duration": 0.013421,
     "end_time": "2023-01-07T11:21:40.084992",
     "exception": false,
     "start_time": "2023-01-07T11:21:40.071571",
     "status": "completed"
    },
    "tags": []
   },
   "source": [
    "### Inference"
   ]
  },
  {
   "cell_type": "markdown",
   "id": "ccc8be8d",
   "metadata": {
    "papermill": {
     "duration": 0.013232,
     "end_time": "2023-01-07T11:21:40.111846",
     "exception": false,
     "start_time": "2023-01-07T11:21:40.098614",
     "status": "completed"
    },
    "tags": []
   },
   "source": [
    "Let's check our model's performance on yet unseen test data "
   ]
  },
  {
   "cell_type": "code",
   "execution_count": 32,
   "id": "d51b3d52",
   "metadata": {
    "execution": {
     "iopub.execute_input": "2023-01-07T11:21:40.140175Z",
     "iopub.status.busy": "2023-01-07T11:21:40.139841Z",
     "iopub.status.idle": "2023-01-07T11:32:43.403914Z",
     "shell.execute_reply": "2023-01-07T11:32:43.402798Z"
    },
    "papermill": {
     "duration": 663.281607,
     "end_time": "2023-01-07T11:32:43.406824",
     "exception": false,
     "start_time": "2023-01-07T11:21:40.125217",
     "status": "completed"
    },
    "tags": []
   },
   "outputs": [
    {
     "data": {
      "application/vnd.jupyter.widget-view+json": {
       "model_id": "5e13f4745fd643bfb5ee50d48d0efde2",
       "version_major": 2,
       "version_minor": 0
      },
      "text/plain": [
       "Predicting: 6253it [00:00, ?it/s]"
      ]
     },
     "metadata": {},
     "output_type": "display_data"
    }
   ],
   "source": [
    "y_hat_test = trainer.predict(bert_model, test_data_loader)\n",
    "y_hat_test = np.array(torch.cat(y_hat_test)).astype(np.uint8)"
   ]
  },
  {
   "cell_type": "code",
   "execution_count": 33,
   "id": "4dd1177a",
   "metadata": {
    "execution": {
     "iopub.execute_input": "2023-01-07T11:32:43.436405Z",
     "iopub.status.busy": "2023-01-07T11:32:43.436062Z",
     "iopub.status.idle": "2023-01-07T11:32:43.447176Z",
     "shell.execute_reply": "2023-01-07T11:32:43.446192Z"
    },
    "papermill": {
     "duration": 0.028313,
     "end_time": "2023-01-07T11:32:43.449517",
     "exception": false,
     "start_time": "2023-01-07T11:32:43.421204",
     "status": "completed"
    },
    "tags": []
   },
   "outputs": [],
   "source": [
    "y_test = y_test.to_numpy().astype(np.uint8)"
   ]
  },
  {
   "cell_type": "code",
   "execution_count": 34,
   "id": "638076bf",
   "metadata": {
    "execution": {
     "iopub.execute_input": "2023-01-07T11:32:43.477666Z",
     "iopub.status.busy": "2023-01-07T11:32:43.477404Z",
     "iopub.status.idle": "2023-01-07T11:32:43.533191Z",
     "shell.execute_reply": "2023-01-07T11:32:43.532308Z"
    },
    "papermill": {
     "duration": 0.07271,
     "end_time": "2023-01-07T11:32:43.535623",
     "exception": false,
     "start_time": "2023-01-07T11:32:43.462913",
     "status": "completed"
    },
    "tags": []
   },
   "outputs": [],
   "source": [
    "test_accuracy = accuracy_score(y_test, y_hat_test)\n",
    "test_f1 = f1_score(y_test, y_hat_test, average='macro')"
   ]
  },
  {
   "cell_type": "code",
   "execution_count": 35,
   "id": "e38c09ed",
   "metadata": {
    "execution": {
     "iopub.execute_input": "2023-01-07T11:32:43.564648Z",
     "iopub.status.busy": "2023-01-07T11:32:43.564358Z",
     "iopub.status.idle": "2023-01-07T11:32:43.569296Z",
     "shell.execute_reply": "2023-01-07T11:32:43.568390Z"
    },
    "papermill": {
     "duration": 0.022679,
     "end_time": "2023-01-07T11:32:43.572191",
     "exception": false,
     "start_time": "2023-01-07T11:32:43.549512",
     "status": "completed"
    },
    "tags": []
   },
   "outputs": [
    {
     "name": "stdout",
     "output_type": "stream",
     "text": [
      "Accuracy : 0.9371896067752693\n",
      "F1 Score : 0.8991225877585095\n"
     ]
    }
   ],
   "source": [
    "print(f'Accuracy : {test_accuracy}')\n",
    "print(f'F1 Score : {test_f1}')"
   ]
  },
  {
   "cell_type": "markdown",
   "id": "323812aa",
   "metadata": {
    "papermill": {
     "duration": 0.013427,
     "end_time": "2023-01-07T11:32:43.599977",
     "exception": false,
     "start_time": "2023-01-07T11:32:43.586550",
     "status": "completed"
    },
    "tags": []
   },
   "source": [
    "As we can see, we got decent results, beating baseline model's performance"
   ]
  }
 ],
 "metadata": {
  "kernelspec": {
   "display_name": "Python 3",
   "language": "python",
   "name": "python3"
  },
  "language_info": {
   "codemirror_mode": {
    "name": "ipython",
    "version": 3
   },
   "file_extension": ".py",
   "mimetype": "text/x-python",
   "name": "python",
   "nbconvert_exporter": "python",
   "pygments_lexer": "ipython3",
   "version": "3.7.12"
  },
  "papermill": {
   "default_parameters": {},
   "duration": 15565.864694,
   "end_time": "2023-01-07T11:32:46.979176",
   "environment_variables": {},
   "exception": null,
   "input_path": "__notebook__.ipynb",
   "output_path": "__notebook__.ipynb",
   "parameters": {},
   "start_time": "2023-01-07T07:13:21.114482",
   "version": "2.3.4"
  },
  "widgets": {
   "application/vnd.jupyter.widget-state+json": {
    "state": {
     "00e54dae30b341a6bf18f657a766df54": {
      "model_module": "@jupyter-widgets/controls",
      "model_module_version": "1.5.0",
      "model_name": "HTMLModel",
      "state": {
       "_dom_classes": [],
       "_model_module": "@jupyter-widgets/controls",
       "_model_module_version": "1.5.0",
       "_model_name": "HTMLModel",
       "_view_count": null,
       "_view_module": "@jupyter-widgets/controls",
       "_view_module_version": "1.5.0",
       "_view_name": "HTMLView",
       "description": "",
       "description_tooltip": null,
       "layout": "IPY_MODEL_6b9aae40f336439eae6b283b2b725d4a",
       "placeholder": "​",
       "style": "IPY_MODEL_ef4c5e1579f74b1e931c19827e27ac0c",
       "value": " 6948/6948 [2:01:21&lt;00:00,  1.05s/it, loss=0.0929, v_num=0, val_loss=0.107]"
      }
     },
     "057821f2a03a4cfe9e6021a3776f5e05": {
      "model_module": "@jupyter-widgets/controls",
      "model_module_version": "1.5.0",
      "model_name": "DescriptionStyleModel",
      "state": {
       "_model_module": "@jupyter-widgets/controls",
       "_model_module_version": "1.5.0",
       "_model_name": "DescriptionStyleModel",
       "_view_count": null,
       "_view_module": "@jupyter-widgets/base",
       "_view_module_version": "1.2.0",
       "_view_name": "StyleView",
       "description_width": ""
      }
     },
     "08a46af4d6604fcdbcb5f9e0c45900da": {
      "model_module": "@jupyter-widgets/controls",
      "model_module_version": "1.5.0",
      "model_name": "DescriptionStyleModel",
      "state": {
       "_model_module": "@jupyter-widgets/controls",
       "_model_module_version": "1.5.0",
       "_model_name": "DescriptionStyleModel",
       "_view_count": null,
       "_view_module": "@jupyter-widgets/base",
       "_view_module_version": "1.2.0",
       "_view_name": "StyleView",
       "description_width": ""
      }
     },
     "08b66f19ce494338a68a90ad3bcc5691": {
      "model_module": "@jupyter-widgets/base",
      "model_module_version": "1.2.0",
      "model_name": "LayoutModel",
      "state": {
       "_model_module": "@jupyter-widgets/base",
       "_model_module_version": "1.2.0",
       "_model_name": "LayoutModel",
       "_view_count": null,
       "_view_module": "@jupyter-widgets/base",
       "_view_module_version": "1.2.0",
       "_view_name": "LayoutView",
       "align_content": null,
       "align_items": null,
       "align_self": null,
       "border": null,
       "bottom": null,
       "display": "inline-flex",
       "flex": null,
       "flex_flow": "row wrap",
       "grid_area": null,
       "grid_auto_columns": null,
       "grid_auto_flow": null,
       "grid_auto_rows": null,
       "grid_column": null,
       "grid_gap": null,
       "grid_row": null,
       "grid_template_areas": null,
       "grid_template_columns": null,
       "grid_template_rows": null,
       "height": null,
       "justify_content": null,
       "justify_items": null,
       "left": null,
       "margin": null,
       "max_height": null,
       "max_width": null,
       "min_height": null,
       "min_width": null,
       "object_fit": null,
       "object_position": null,
       "order": null,
       "overflow": null,
       "overflow_x": null,
       "overflow_y": null,
       "padding": null,
       "right": null,
       "top": null,
       "visibility": null,
       "width": "100%"
      }
     },
     "0bc12c7ebde84a27b9c45d8df955f9e8": {
      "model_module": "@jupyter-widgets/controls",
      "model_module_version": "1.5.0",
      "model_name": "FloatProgressModel",
      "state": {
       "_dom_classes": [],
       "_model_module": "@jupyter-widgets/controls",
       "_model_module_version": "1.5.0",
       "_model_name": "FloatProgressModel",
       "_view_count": null,
       "_view_module": "@jupyter-widgets/controls",
       "_view_module_version": "1.5.0",
       "_view_name": "ProgressView",
       "bar_style": "success",
       "description": "",
       "description_tooltip": null,
       "layout": "IPY_MODEL_e84a027b44134a5ca74d88f0dc70ecde",
       "max": 6948.0,
       "min": 0.0,
       "orientation": "horizontal",
       "style": "IPY_MODEL_be291000b457467c873b80837bdaadb8",
       "value": 6948.0
      }
     },
     "0bf3e736ab354c11b54c185b5d2e0dd9": {
      "model_module": "@jupyter-widgets/base",
      "model_module_version": "1.2.0",
      "model_name": "LayoutModel",
      "state": {
       "_model_module": "@jupyter-widgets/base",
       "_model_module_version": "1.2.0",
       "_model_name": "LayoutModel",
       "_view_count": null,
       "_view_module": "@jupyter-widgets/base",
       "_view_module_version": "1.2.0",
       "_view_name": "LayoutView",
       "align_content": null,
       "align_items": null,
       "align_self": null,
       "border": null,
       "bottom": null,
       "display": null,
       "flex": null,
       "flex_flow": null,
       "grid_area": null,
       "grid_auto_columns": null,
       "grid_auto_flow": null,
       "grid_auto_rows": null,
       "grid_column": null,
       "grid_gap": null,
       "grid_row": null,
       "grid_template_areas": null,
       "grid_template_columns": null,
       "grid_template_rows": null,
       "height": null,
       "justify_content": null,
       "justify_items": null,
       "left": null,
       "margin": null,
       "max_height": null,
       "max_width": null,
       "min_height": null,
       "min_width": null,
       "object_fit": null,
       "object_position": null,
       "order": null,
       "overflow": null,
       "overflow_x": null,
       "overflow_y": null,
       "padding": null,
       "right": null,
       "top": null,
       "visibility": null,
       "width": null
      }
     },
     "0f088c921ee844ffa73cbea912e02f27": {
      "model_module": "@jupyter-widgets/controls",
      "model_module_version": "1.5.0",
      "model_name": "HTMLModel",
      "state": {
       "_dom_classes": [],
       "_model_module": "@jupyter-widgets/controls",
       "_model_module_version": "1.5.0",
       "_model_name": "HTMLModel",
       "_view_count": null,
       "_view_module": "@jupyter-widgets/controls",
       "_view_module_version": "1.5.0",
       "_view_name": "HTMLView",
       "description": "",
       "description_tooltip": null,
       "layout": "IPY_MODEL_90d52bb9898b4529824ceac07bf1e5f6",
       "placeholder": "​",
       "style": "IPY_MODEL_1a378ddae21d402d989cf3b9f948c332",
       "value": "Downloading: 100%"
      }
     },
     "10cb9bdc05d245c685ebf1c518d85bdb": {
      "model_module": "@jupyter-widgets/controls",
      "model_module_version": "1.5.0",
      "model_name": "ProgressStyleModel",
      "state": {
       "_model_module": "@jupyter-widgets/controls",
       "_model_module_version": "1.5.0",
       "_model_name": "ProgressStyleModel",
       "_view_count": null,
       "_view_module": "@jupyter-widgets/base",
       "_view_module_version": "1.2.0",
       "_view_name": "StyleView",
       "bar_color": null,
       "description_width": ""
      }
     },
     "1251aeba8e394651be996d748588e47b": {
      "model_module": "@jupyter-widgets/controls",
      "model_module_version": "1.5.0",
      "model_name": "FloatProgressModel",
      "state": {
       "_dom_classes": [],
       "_model_module": "@jupyter-widgets/controls",
       "_model_module_version": "1.5.0",
       "_model_name": "FloatProgressModel",
       "_view_count": null,
       "_view_module": "@jupyter-widgets/controls",
       "_view_module_version": "1.5.0",
       "_view_name": "ProgressView",
       "bar_style": "success",
       "description": "",
       "description_tooltip": null,
       "layout": "IPY_MODEL_a9abbd45406d4e56912defa138dc752d",
       "max": 570.0,
       "min": 0.0,
       "orientation": "horizontal",
       "style": "IPY_MODEL_44abe568c8a9485bb3afec8591c9f8e4",
       "value": 570.0
      }
     },
     "14a30649306f4660a881ebe72ed2ad7e": {
      "model_module": "@jupyter-widgets/controls",
      "model_module_version": "1.5.0",
      "model_name": "DescriptionStyleModel",
      "state": {
       "_model_module": "@jupyter-widgets/controls",
       "_model_module_version": "1.5.0",
       "_model_name": "DescriptionStyleModel",
       "_view_count": null,
       "_view_module": "@jupyter-widgets/base",
       "_view_module_version": "1.2.0",
       "_view_name": "StyleView",
       "description_width": ""
      }
     },
     "183e23e911c84cc2b60cce49a897fe19": {
      "model_module": "@jupyter-widgets/base",
      "model_module_version": "1.2.0",
      "model_name": "LayoutModel",
      "state": {
       "_model_module": "@jupyter-widgets/base",
       "_model_module_version": "1.2.0",
       "_model_name": "LayoutModel",
       "_view_count": null,
       "_view_module": "@jupyter-widgets/base",
       "_view_module_version": "1.2.0",
       "_view_name": "LayoutView",
       "align_content": null,
       "align_items": null,
       "align_self": null,
       "border": null,
       "bottom": null,
       "display": null,
       "flex": null,
       "flex_flow": null,
       "grid_area": null,
       "grid_auto_columns": null,
       "grid_auto_flow": null,
       "grid_auto_rows": null,
       "grid_column": null,
       "grid_gap": null,
       "grid_row": null,
       "grid_template_areas": null,
       "grid_template_columns": null,
       "grid_template_rows": null,
       "height": null,
       "justify_content": null,
       "justify_items": null,
       "left": null,
       "margin": null,
       "max_height": null,
       "max_width": null,
       "min_height": null,
       "min_width": null,
       "object_fit": null,
       "object_position": null,
       "order": null,
       "overflow": null,
       "overflow_x": null,
       "overflow_y": null,
       "padding": null,
       "right": null,
       "top": null,
       "visibility": null,
       "width": null
      }
     },
     "19f47430f5ca413588e08ab14d089e38": {
      "model_module": "@jupyter-widgets/controls",
      "model_module_version": "1.5.0",
      "model_name": "DescriptionStyleModel",
      "state": {
       "_model_module": "@jupyter-widgets/controls",
       "_model_module_version": "1.5.0",
       "_model_name": "DescriptionStyleModel",
       "_view_count": null,
       "_view_module": "@jupyter-widgets/base",
       "_view_module_version": "1.2.0",
       "_view_name": "StyleView",
       "description_width": ""
      }
     },
     "1a378ddae21d402d989cf3b9f948c332": {
      "model_module": "@jupyter-widgets/controls",
      "model_module_version": "1.5.0",
      "model_name": "DescriptionStyleModel",
      "state": {
       "_model_module": "@jupyter-widgets/controls",
       "_model_module_version": "1.5.0",
       "_model_name": "DescriptionStyleModel",
       "_view_count": null,
       "_view_module": "@jupyter-widgets/base",
       "_view_module_version": "1.2.0",
       "_view_name": "StyleView",
       "description_width": ""
      }
     },
     "1e932bfed7894fd6a45fc974ca73684e": {
      "model_module": "@jupyter-widgets/base",
      "model_module_version": "1.2.0",
      "model_name": "LayoutModel",
      "state": {
       "_model_module": "@jupyter-widgets/base",
       "_model_module_version": "1.2.0",
       "_model_name": "LayoutModel",
       "_view_count": null,
       "_view_module": "@jupyter-widgets/base",
       "_view_module_version": "1.2.0",
       "_view_name": "LayoutView",
       "align_content": null,
       "align_items": null,
       "align_self": null,
       "border": null,
       "bottom": null,
       "display": "inline-flex",
       "flex": null,
       "flex_flow": "row wrap",
       "grid_area": null,
       "grid_auto_columns": null,
       "grid_auto_flow": null,
       "grid_auto_rows": null,
       "grid_column": null,
       "grid_gap": null,
       "grid_row": null,
       "grid_template_areas": null,
       "grid_template_columns": null,
       "grid_template_rows": null,
       "height": null,
       "justify_content": null,
       "justify_items": null,
       "left": null,
       "margin": null,
       "max_height": null,
       "max_width": null,
       "min_height": null,
       "min_width": null,
       "object_fit": null,
       "object_position": null,
       "order": null,
       "overflow": null,
       "overflow_x": null,
       "overflow_y": null,
       "padding": null,
       "right": null,
       "top": null,
       "visibility": null,
       "width": "100%"
      }
     },
     "1f602ac644114d158f138e9d2908a5dc": {
      "model_module": "@jupyter-widgets/base",
      "model_module_version": "1.2.0",
      "model_name": "LayoutModel",
      "state": {
       "_model_module": "@jupyter-widgets/base",
       "_model_module_version": "1.2.0",
       "_model_name": "LayoutModel",
       "_view_count": null,
       "_view_module": "@jupyter-widgets/base",
       "_view_module_version": "1.2.0",
       "_view_name": "LayoutView",
       "align_content": null,
       "align_items": null,
       "align_self": null,
       "border": null,
       "bottom": null,
       "display": null,
       "flex": null,
       "flex_flow": null,
       "grid_area": null,
       "grid_auto_columns": null,
       "grid_auto_flow": null,
       "grid_auto_rows": null,
       "grid_column": null,
       "grid_gap": null,
       "grid_row": null,
       "grid_template_areas": null,
       "grid_template_columns": null,
       "grid_template_rows": null,
       "height": null,
       "justify_content": null,
       "justify_items": null,
       "left": null,
       "margin": null,
       "max_height": null,
       "max_width": null,
       "min_height": null,
       "min_width": null,
       "object_fit": null,
       "object_position": null,
       "order": null,
       "overflow": null,
       "overflow_x": null,
       "overflow_y": null,
       "padding": null,
       "right": null,
       "top": null,
       "visibility": null,
       "width": null
      }
     },
     "21dbebd8a48f40f7b899311c9536407a": {
      "model_module": "@jupyter-widgets/base",
      "model_module_version": "1.2.0",
      "model_name": "LayoutModel",
      "state": {
       "_model_module": "@jupyter-widgets/base",
       "_model_module_version": "1.2.0",
       "_model_name": "LayoutModel",
       "_view_count": null,
       "_view_module": "@jupyter-widgets/base",
       "_view_module_version": "1.2.0",
       "_view_name": "LayoutView",
       "align_content": null,
       "align_items": null,
       "align_self": null,
       "border": null,
       "bottom": null,
       "display": null,
       "flex": null,
       "flex_flow": null,
       "grid_area": null,
       "grid_auto_columns": null,
       "grid_auto_flow": null,
       "grid_auto_rows": null,
       "grid_column": null,
       "grid_gap": null,
       "grid_row": null,
       "grid_template_areas": null,
       "grid_template_columns": null,
       "grid_template_rows": null,
       "height": null,
       "justify_content": null,
       "justify_items": null,
       "left": null,
       "margin": null,
       "max_height": null,
       "max_width": null,
       "min_height": null,
       "min_width": null,
       "object_fit": null,
       "object_position": null,
       "order": null,
       "overflow": null,
       "overflow_x": null,
       "overflow_y": null,
       "padding": null,
       "right": null,
       "top": null,
       "visibility": null,
       "width": null
      }
     },
     "23a3bd67fd1f4e8bbebfa0a94b9c8105": {
      "model_module": "@jupyter-widgets/controls",
      "model_module_version": "1.5.0",
      "model_name": "FloatProgressModel",
      "state": {
       "_dom_classes": [],
       "_model_module": "@jupyter-widgets/controls",
       "_model_module_version": "1.5.0",
       "_model_name": "FloatProgressModel",
       "_view_count": null,
       "_view_module": "@jupyter-widgets/controls",
       "_view_module_version": "1.5.0",
       "_view_name": "ProgressView",
       "bar_style": "success",
       "description": "",
       "description_tooltip": null,
       "layout": "IPY_MODEL_bfdb39d7ad8b4ecaa78b62db14832fa6",
       "max": 28.0,
       "min": 0.0,
       "orientation": "horizontal",
       "style": "IPY_MODEL_3dd9110783d542678fba7a21ffb43feb",
       "value": 28.0
      }
     },
     "23cede4569e442afacd2c7a46a03591e": {
      "model_module": "@jupyter-widgets/controls",
      "model_module_version": "1.5.0",
      "model_name": "DescriptionStyleModel",
      "state": {
       "_model_module": "@jupyter-widgets/controls",
       "_model_module_version": "1.5.0",
       "_model_name": "DescriptionStyleModel",
       "_view_count": null,
       "_view_module": "@jupyter-widgets/base",
       "_view_module_version": "1.2.0",
       "_view_name": "StyleView",
       "description_width": ""
      }
     },
     "245f152a50f44bc7ab64d26debbf0bfe": {
      "model_module": "@jupyter-widgets/base",
      "model_module_version": "1.2.0",
      "model_name": "LayoutModel",
      "state": {
       "_model_module": "@jupyter-widgets/base",
       "_model_module_version": "1.2.0",
       "_model_name": "LayoutModel",
       "_view_count": null,
       "_view_module": "@jupyter-widgets/base",
       "_view_module_version": "1.2.0",
       "_view_name": "LayoutView",
       "align_content": null,
       "align_items": null,
       "align_self": null,
       "border": null,
       "bottom": null,
       "display": null,
       "flex": null,
       "flex_flow": null,
       "grid_area": null,
       "grid_auto_columns": null,
       "grid_auto_flow": null,
       "grid_auto_rows": null,
       "grid_column": null,
       "grid_gap": null,
       "grid_row": null,
       "grid_template_areas": null,
       "grid_template_columns": null,
       "grid_template_rows": null,
       "height": null,
       "justify_content": null,
       "justify_items": null,
       "left": null,
       "margin": null,
       "max_height": null,
       "max_width": null,
       "min_height": null,
       "min_width": null,
       "object_fit": null,
       "object_position": null,
       "order": null,
       "overflow": null,
       "overflow_x": null,
       "overflow_y": null,
       "padding": null,
       "right": null,
       "top": null,
       "visibility": null,
       "width": null
      }
     },
     "24f95ae1c401481c84c3b0e081df6ef5": {
      "model_module": "@jupyter-widgets/controls",
      "model_module_version": "1.5.0",
      "model_name": "HTMLModel",
      "state": {
       "_dom_classes": [],
       "_model_module": "@jupyter-widgets/controls",
       "_model_module_version": "1.5.0",
       "_model_name": "HTMLModel",
       "_view_count": null,
       "_view_module": "@jupyter-widgets/controls",
       "_view_module_version": "1.5.0",
       "_view_name": "HTMLView",
       "description": "",
       "description_tooltip": null,
       "layout": "IPY_MODEL_4d4873d492a04da78019ae98f1f54a19",
       "placeholder": "​",
       "style": "IPY_MODEL_23cede4569e442afacd2c7a46a03591e",
       "value": "Validation DataLoader 0: 100%"
      }
     },
     "2bdfabdc62b14bc990daa287434c044b": {
      "model_module": "@jupyter-widgets/controls",
      "model_module_version": "1.5.0",
      "model_name": "FloatProgressModel",
      "state": {
       "_dom_classes": [],
       "_model_module": "@jupyter-widgets/controls",
       "_model_module_version": "1.5.0",
       "_model_name": "FloatProgressModel",
       "_view_count": null,
       "_view_module": "@jupyter-widgets/controls",
       "_view_module_version": "1.5.0",
       "_view_name": "ProgressView",
       "bar_style": "success",
       "description": "",
       "description_tooltip": null,
       "layout": "IPY_MODEL_245f152a50f44bc7ab64d26debbf0bfe",
       "max": 440473133.0,
       "min": 0.0,
       "orientation": "horizontal",
       "style": "IPY_MODEL_61053fc54dd2401eb8bc0ce20e758eb8",
       "value": 440473133.0
      }
     },
     "308565cb15f346108521208dad4aebac": {
      "model_module": "@jupyter-widgets/controls",
      "model_module_version": "1.5.0",
      "model_name": "HTMLModel",
      "state": {
       "_dom_classes": [],
       "_model_module": "@jupyter-widgets/controls",
       "_model_module_version": "1.5.0",
       "_model_name": "HTMLModel",
       "_view_count": null,
       "_view_module": "@jupyter-widgets/controls",
       "_view_module_version": "1.5.0",
       "_view_name": "HTMLView",
       "description": "",
       "description_tooltip": null,
       "layout": "IPY_MODEL_3f7fe8beffd7457bbcdb0829c2b75dd4",
       "placeholder": "​",
       "style": "IPY_MODEL_ddcd8c1db28341c0b0af81df09686203",
       "value": " 695/695 [04:28&lt;00:00,  2.59it/s]"
      }
     },
     "3254598c317a476ab3109edffaa39704": {
      "model_module": "@jupyter-widgets/controls",
      "model_module_version": "1.5.0",
      "model_name": "DescriptionStyleModel",
      "state": {
       "_model_module": "@jupyter-widgets/controls",
       "_model_module_version": "1.5.0",
       "_model_name": "DescriptionStyleModel",
       "_view_count": null,
       "_view_module": "@jupyter-widgets/base",
       "_view_module_version": "1.2.0",
       "_view_name": "StyleView",
       "description_width": ""
      }
     },
     "3a1c88dd71e6468c9f5ba6a34d9b652f": {
      "model_module": "@jupyter-widgets/controls",
      "model_module_version": "1.5.0",
      "model_name": "FloatProgressModel",
      "state": {
       "_dom_classes": [],
       "_model_module": "@jupyter-widgets/controls",
       "_model_module_version": "1.5.0",
       "_model_name": "FloatProgressModel",
       "_view_count": null,
       "_view_module": "@jupyter-widgets/controls",
       "_view_module_version": "1.5.0",
       "_view_name": "ProgressView",
       "bar_style": "",
       "description": "",
       "description_tooltip": null,
       "layout": "IPY_MODEL_434354892f344608b8a068c996ca7e18",
       "max": 695.0,
       "min": 0.0,
       "orientation": "horizontal",
       "style": "IPY_MODEL_731c1f1a5f9144afb535434df8bbceaa",
       "value": 695.0
      }
     },
     "3aadbc3325a14878aa2be8cb409e96da": {
      "model_module": "@jupyter-widgets/controls",
      "model_module_version": "1.5.0",
      "model_name": "ProgressStyleModel",
      "state": {
       "_model_module": "@jupyter-widgets/controls",
       "_model_module_version": "1.5.0",
       "_model_name": "ProgressStyleModel",
       "_view_count": null,
       "_view_module": "@jupyter-widgets/base",
       "_view_module_version": "1.2.0",
       "_view_name": "StyleView",
       "bar_color": null,
       "description_width": ""
      }
     },
     "3ae859964f214b728f317582882d2e72": {
      "model_module": "@jupyter-widgets/controls",
      "model_module_version": "1.5.0",
      "model_name": "HTMLModel",
      "state": {
       "_dom_classes": [],
       "_model_module": "@jupyter-widgets/controls",
       "_model_module_version": "1.5.0",
       "_model_name": "HTMLModel",
       "_view_count": null,
       "_view_module": "@jupyter-widgets/controls",
       "_view_module_version": "1.5.0",
       "_view_name": "HTMLView",
       "description": "",
       "description_tooltip": null,
       "layout": "IPY_MODEL_c41b4e31e94142b3a899bc8a73a92a03",
       "placeholder": "​",
       "style": "IPY_MODEL_8441d1d562c64115a2b429e9529d3483",
       "value": "Predicting DataLoader 0: 100%"
      }
     },
     "3c4920f608c3413d9e824c05ea10a52d": {
      "model_module": "@jupyter-widgets/controls",
      "model_module_version": "1.5.0",
      "model_name": "HTMLModel",
      "state": {
       "_dom_classes": [],
       "_model_module": "@jupyter-widgets/controls",
       "_model_module_version": "1.5.0",
       "_model_name": "HTMLModel",
       "_view_count": null,
       "_view_module": "@jupyter-widgets/controls",
       "_view_module_version": "1.5.0",
       "_view_name": "HTMLView",
       "description": "",
       "description_tooltip": null,
       "layout": "IPY_MODEL_635679acdb58457bb6191a0397ab6796",
       "placeholder": "​",
       "style": "IPY_MODEL_f1f078768c7d423a88f5df6aa38601c6",
       "value": "Sanity Checking DataLoader 0: 100%"
      }
     },
     "3cea1ab12dbc4032b4870f5553afa6a8": {
      "model_module": "@jupyter-widgets/base",
      "model_module_version": "1.2.0",
      "model_name": "LayoutModel",
      "state": {
       "_model_module": "@jupyter-widgets/base",
       "_model_module_version": "1.2.0",
       "_model_name": "LayoutModel",
       "_view_count": null,
       "_view_module": "@jupyter-widgets/base",
       "_view_module_version": "1.2.0",
       "_view_name": "LayoutView",
       "align_content": null,
       "align_items": null,
       "align_self": null,
       "border": null,
       "bottom": null,
       "display": null,
       "flex": null,
       "flex_flow": null,
       "grid_area": null,
       "grid_auto_columns": null,
       "grid_auto_flow": null,
       "grid_auto_rows": null,
       "grid_column": null,
       "grid_gap": null,
       "grid_row": null,
       "grid_template_areas": null,
       "grid_template_columns": null,
       "grid_template_rows": null,
       "height": null,
       "justify_content": null,
       "justify_items": null,
       "left": null,
       "margin": null,
       "max_height": null,
       "max_width": null,
       "min_height": null,
       "min_width": null,
       "object_fit": null,
       "object_position": null,
       "order": null,
       "overflow": null,
       "overflow_x": null,
       "overflow_y": null,
       "padding": null,
       "right": null,
       "top": null,
       "visibility": null,
       "width": null
      }
     },
     "3d8d53c1e45441e1b9ed1b13c691097f": {
      "model_module": "@jupyter-widgets/controls",
      "model_module_version": "1.5.0",
      "model_name": "FloatProgressModel",
      "state": {
       "_dom_classes": [],
       "_model_module": "@jupyter-widgets/controls",
       "_model_module_version": "1.5.0",
       "_model_name": "FloatProgressModel",
       "_view_count": null,
       "_view_module": "@jupyter-widgets/controls",
       "_view_module_version": "1.5.0",
       "_view_name": "ProgressView",
       "bar_style": "",
       "description": "",
       "description_tooltip": null,
       "layout": "IPY_MODEL_568f8790babd4fb9a08a6e03c85ffdc9",
       "max": 2.0,
       "min": 0.0,
       "orientation": "horizontal",
       "style": "IPY_MODEL_10cb9bdc05d245c685ebf1c518d85bdb",
       "value": 2.0
      }
     },
     "3dd9110783d542678fba7a21ffb43feb": {
      "model_module": "@jupyter-widgets/controls",
      "model_module_version": "1.5.0",
      "model_name": "ProgressStyleModel",
      "state": {
       "_model_module": "@jupyter-widgets/controls",
       "_model_module_version": "1.5.0",
       "_model_name": "ProgressStyleModel",
       "_view_count": null,
       "_view_module": "@jupyter-widgets/base",
       "_view_module_version": "1.2.0",
       "_view_name": "StyleView",
       "bar_color": null,
       "description_width": ""
      }
     },
     "3f7fe8beffd7457bbcdb0829c2b75dd4": {
      "model_module": "@jupyter-widgets/base",
      "model_module_version": "1.2.0",
      "model_name": "LayoutModel",
      "state": {
       "_model_module": "@jupyter-widgets/base",
       "_model_module_version": "1.2.0",
       "_model_name": "LayoutModel",
       "_view_count": null,
       "_view_module": "@jupyter-widgets/base",
       "_view_module_version": "1.2.0",
       "_view_name": "LayoutView",
       "align_content": null,
       "align_items": null,
       "align_self": null,
       "border": null,
       "bottom": null,
       "display": null,
       "flex": null,
       "flex_flow": null,
       "grid_area": null,
       "grid_auto_columns": null,
       "grid_auto_flow": null,
       "grid_auto_rows": null,
       "grid_column": null,
       "grid_gap": null,
       "grid_row": null,
       "grid_template_areas": null,
       "grid_template_columns": null,
       "grid_template_rows": null,
       "height": null,
       "justify_content": null,
       "justify_items": null,
       "left": null,
       "margin": null,
       "max_height": null,
       "max_width": null,
       "min_height": null,
       "min_width": null,
       "object_fit": null,
       "object_position": null,
       "order": null,
       "overflow": null,
       "overflow_x": null,
       "overflow_y": null,
       "padding": null,
       "right": null,
       "top": null,
       "visibility": null,
       "width": null
      }
     },
     "434354892f344608b8a068c996ca7e18": {
      "model_module": "@jupyter-widgets/base",
      "model_module_version": "1.2.0",
      "model_name": "LayoutModel",
      "state": {
       "_model_module": "@jupyter-widgets/base",
       "_model_module_version": "1.2.0",
       "_model_name": "LayoutModel",
       "_view_count": null,
       "_view_module": "@jupyter-widgets/base",
       "_view_module_version": "1.2.0",
       "_view_name": "LayoutView",
       "align_content": null,
       "align_items": null,
       "align_self": null,
       "border": null,
       "bottom": null,
       "display": null,
       "flex": "2",
       "flex_flow": null,
       "grid_area": null,
       "grid_auto_columns": null,
       "grid_auto_flow": null,
       "grid_auto_rows": null,
       "grid_column": null,
       "grid_gap": null,
       "grid_row": null,
       "grid_template_areas": null,
       "grid_template_columns": null,
       "grid_template_rows": null,
       "height": null,
       "justify_content": null,
       "justify_items": null,
       "left": null,
       "margin": null,
       "max_height": null,
       "max_width": null,
       "min_height": null,
       "min_width": null,
       "object_fit": null,
       "object_position": null,
       "order": null,
       "overflow": null,
       "overflow_x": null,
       "overflow_y": null,
       "padding": null,
       "right": null,
       "top": null,
       "visibility": null,
       "width": null
      }
     },
     "44abe568c8a9485bb3afec8591c9f8e4": {
      "model_module": "@jupyter-widgets/controls",
      "model_module_version": "1.5.0",
      "model_name": "ProgressStyleModel",
      "state": {
       "_model_module": "@jupyter-widgets/controls",
       "_model_module_version": "1.5.0",
       "_model_name": "ProgressStyleModel",
       "_view_count": null,
       "_view_module": "@jupyter-widgets/base",
       "_view_module_version": "1.2.0",
       "_view_name": "StyleView",
       "bar_color": null,
       "description_width": ""
      }
     },
     "4cb8f27d0c894f5d920a009abc803e13": {
      "model_module": "@jupyter-widgets/controls",
      "model_module_version": "1.5.0",
      "model_name": "DescriptionStyleModel",
      "state": {
       "_model_module": "@jupyter-widgets/controls",
       "_model_module_version": "1.5.0",
       "_model_name": "DescriptionStyleModel",
       "_view_count": null,
       "_view_module": "@jupyter-widgets/base",
       "_view_module_version": "1.2.0",
       "_view_name": "StyleView",
       "description_width": ""
      }
     },
     "4d4873d492a04da78019ae98f1f54a19": {
      "model_module": "@jupyter-widgets/base",
      "model_module_version": "1.2.0",
      "model_name": "LayoutModel",
      "state": {
       "_model_module": "@jupyter-widgets/base",
       "_model_module_version": "1.2.0",
       "_model_name": "LayoutModel",
       "_view_count": null,
       "_view_module": "@jupyter-widgets/base",
       "_view_module_version": "1.2.0",
       "_view_name": "LayoutView",
       "align_content": null,
       "align_items": null,
       "align_self": null,
       "border": null,
       "bottom": null,
       "display": null,
       "flex": null,
       "flex_flow": null,
       "grid_area": null,
       "grid_auto_columns": null,
       "grid_auto_flow": null,
       "grid_auto_rows": null,
       "grid_column": null,
       "grid_gap": null,
       "grid_row": null,
       "grid_template_areas": null,
       "grid_template_columns": null,
       "grid_template_rows": null,
       "height": null,
       "justify_content": null,
       "justify_items": null,
       "left": null,
       "margin": null,
       "max_height": null,
       "max_width": null,
       "min_height": null,
       "min_width": null,
       "object_fit": null,
       "object_position": null,
       "order": null,
       "overflow": null,
       "overflow_x": null,
       "overflow_y": null,
       "padding": null,
       "right": null,
       "top": null,
       "visibility": null,
       "width": null
      }
     },
     "568f8790babd4fb9a08a6e03c85ffdc9": {
      "model_module": "@jupyter-widgets/base",
      "model_module_version": "1.2.0",
      "model_name": "LayoutModel",
      "state": {
       "_model_module": "@jupyter-widgets/base",
       "_model_module_version": "1.2.0",
       "_model_name": "LayoutModel",
       "_view_count": null,
       "_view_module": "@jupyter-widgets/base",
       "_view_module_version": "1.2.0",
       "_view_name": "LayoutView",
       "align_content": null,
       "align_items": null,
       "align_self": null,
       "border": null,
       "bottom": null,
       "display": null,
       "flex": "2",
       "flex_flow": null,
       "grid_area": null,
       "grid_auto_columns": null,
       "grid_auto_flow": null,
       "grid_auto_rows": null,
       "grid_column": null,
       "grid_gap": null,
       "grid_row": null,
       "grid_template_areas": null,
       "grid_template_columns": null,
       "grid_template_rows": null,
       "height": null,
       "justify_content": null,
       "justify_items": null,
       "left": null,
       "margin": null,
       "max_height": null,
       "max_width": null,
       "min_height": null,
       "min_width": null,
       "object_fit": null,
       "object_position": null,
       "order": null,
       "overflow": null,
       "overflow_x": null,
       "overflow_y": null,
       "padding": null,
       "right": null,
       "top": null,
       "visibility": null,
       "width": null
      }
     },
     "5a527ad9ee3640babe98a47555271017": {
      "model_module": "@jupyter-widgets/base",
      "model_module_version": "1.2.0",
      "model_name": "LayoutModel",
      "state": {
       "_model_module": "@jupyter-widgets/base",
       "_model_module_version": "1.2.0",
       "_model_name": "LayoutModel",
       "_view_count": null,
       "_view_module": "@jupyter-widgets/base",
       "_view_module_version": "1.2.0",
       "_view_name": "LayoutView",
       "align_content": null,
       "align_items": null,
       "align_self": null,
       "border": null,
       "bottom": null,
       "display": null,
       "flex": null,
       "flex_flow": null,
       "grid_area": null,
       "grid_auto_columns": null,
       "grid_auto_flow": null,
       "grid_auto_rows": null,
       "grid_column": null,
       "grid_gap": null,
       "grid_row": null,
       "grid_template_areas": null,
       "grid_template_columns": null,
       "grid_template_rows": null,
       "height": null,
       "justify_content": null,
       "justify_items": null,
       "left": null,
       "margin": null,
       "max_height": null,
       "max_width": null,
       "min_height": null,
       "min_width": null,
       "object_fit": null,
       "object_position": null,
       "order": null,
       "overflow": null,
       "overflow_x": null,
       "overflow_y": null,
       "padding": null,
       "right": null,
       "top": null,
       "visibility": null,
       "width": null
      }
     },
     "5d2ddc507f91406db23cc2ccedbcc3f6": {
      "model_module": "@jupyter-widgets/base",
      "model_module_version": "1.2.0",
      "model_name": "LayoutModel",
      "state": {
       "_model_module": "@jupyter-widgets/base",
       "_model_module_version": "1.2.0",
       "_model_name": "LayoutModel",
       "_view_count": null,
       "_view_module": "@jupyter-widgets/base",
       "_view_module_version": "1.2.0",
       "_view_name": "LayoutView",
       "align_content": null,
       "align_items": null,
       "align_self": null,
       "border": null,
       "bottom": null,
       "display": null,
       "flex": null,
       "flex_flow": null,
       "grid_area": null,
       "grid_auto_columns": null,
       "grid_auto_flow": null,
       "grid_auto_rows": null,
       "grid_column": null,
       "grid_gap": null,
       "grid_row": null,
       "grid_template_areas": null,
       "grid_template_columns": null,
       "grid_template_rows": null,
       "height": null,
       "justify_content": null,
       "justify_items": null,
       "left": null,
       "margin": null,
       "max_height": null,
       "max_width": null,
       "min_height": null,
       "min_width": null,
       "object_fit": null,
       "object_position": null,
       "order": null,
       "overflow": null,
       "overflow_x": null,
       "overflow_y": null,
       "padding": null,
       "right": null,
       "top": null,
       "visibility": null,
       "width": null
      }
     },
     "5dba9b02dd9d454b8096a808aa83e52c": {
      "model_module": "@jupyter-widgets/controls",
      "model_module_version": "1.5.0",
      "model_name": "HBoxModel",
      "state": {
       "_dom_classes": [],
       "_model_module": "@jupyter-widgets/controls",
       "_model_module_version": "1.5.0",
       "_model_name": "HBoxModel",
       "_view_count": null,
       "_view_module": "@jupyter-widgets/controls",
       "_view_module_version": "1.5.0",
       "_view_name": "HBoxView",
       "box_style": "",
       "children": [
        "IPY_MODEL_24f95ae1c401481c84c3b0e081df6ef5",
        "IPY_MODEL_3a1c88dd71e6468c9f5ba6a34d9b652f",
        "IPY_MODEL_308565cb15f346108521208dad4aebac"
       ],
       "layout": "IPY_MODEL_b8e1fe8ca4234a69a6f21d37d7efda69"
      }
     },
     "5e13f4745fd643bfb5ee50d48d0efde2": {
      "model_module": "@jupyter-widgets/controls",
      "model_module_version": "1.5.0",
      "model_name": "HBoxModel",
      "state": {
       "_dom_classes": [],
       "_model_module": "@jupyter-widgets/controls",
       "_model_module_version": "1.5.0",
       "_model_name": "HBoxModel",
       "_view_count": null,
       "_view_module": "@jupyter-widgets/controls",
       "_view_module_version": "1.5.0",
       "_view_name": "HBoxView",
       "box_style": "",
       "children": [
        "IPY_MODEL_3ae859964f214b728f317582882d2e72",
        "IPY_MODEL_cb7ca47d11904876b5dc3c4386bc5315",
        "IPY_MODEL_f5509486ce4b4cc69c4c0b0d3a30fe1a"
       ],
       "layout": "IPY_MODEL_7caa6ae2e80b4315a21aa41d5715d06b"
      }
     },
     "61053fc54dd2401eb8bc0ce20e758eb8": {
      "model_module": "@jupyter-widgets/controls",
      "model_module_version": "1.5.0",
      "model_name": "ProgressStyleModel",
      "state": {
       "_model_module": "@jupyter-widgets/controls",
       "_model_module_version": "1.5.0",
       "_model_name": "ProgressStyleModel",
       "_view_count": null,
       "_view_module": "@jupyter-widgets/base",
       "_view_module_version": "1.2.0",
       "_view_name": "StyleView",
       "bar_color": null,
       "description_width": ""
      }
     },
     "635679acdb58457bb6191a0397ab6796": {
      "model_module": "@jupyter-widgets/base",
      "model_module_version": "1.2.0",
      "model_name": "LayoutModel",
      "state": {
       "_model_module": "@jupyter-widgets/base",
       "_model_module_version": "1.2.0",
       "_model_name": "LayoutModel",
       "_view_count": null,
       "_view_module": "@jupyter-widgets/base",
       "_view_module_version": "1.2.0",
       "_view_name": "LayoutView",
       "align_content": null,
       "align_items": null,
       "align_self": null,
       "border": null,
       "bottom": null,
       "display": null,
       "flex": null,
       "flex_flow": null,
       "grid_area": null,
       "grid_auto_columns": null,
       "grid_auto_flow": null,
       "grid_auto_rows": null,
       "grid_column": null,
       "grid_gap": null,
       "grid_row": null,
       "grid_template_areas": null,
       "grid_template_columns": null,
       "grid_template_rows": null,
       "height": null,
       "justify_content": null,
       "justify_items": null,
       "left": null,
       "margin": null,
       "max_height": null,
       "max_width": null,
       "min_height": null,
       "min_width": null,
       "object_fit": null,
       "object_position": null,
       "order": null,
       "overflow": null,
       "overflow_x": null,
       "overflow_y": null,
       "padding": null,
       "right": null,
       "top": null,
       "visibility": null,
       "width": null
      }
     },
     "64f6e30ad84e4fe69b4e22a7c6bfd90b": {
      "model_module": "@jupyter-widgets/controls",
      "model_module_version": "1.5.0",
      "model_name": "HTMLModel",
      "state": {
       "_dom_classes": [],
       "_model_module": "@jupyter-widgets/controls",
       "_model_module_version": "1.5.0",
       "_model_name": "HTMLModel",
       "_view_count": null,
       "_view_module": "@jupyter-widgets/controls",
       "_view_module_version": "1.5.0",
       "_view_name": "HTMLView",
       "description": "",
       "description_tooltip": null,
       "layout": "IPY_MODEL_b079a3d67d1d4e99b32015f06b7c09de",
       "placeholder": "​",
       "style": "IPY_MODEL_731718c7669740b487bc16c7d57922e6",
       "value": " 695/695 [04:28&lt;00:00,  2.59it/s]"
      }
     },
     "65c5a62bfabd402b9db4d48c06fd1d2f": {
      "model_module": "@jupyter-widgets/base",
      "model_module_version": "1.2.0",
      "model_name": "LayoutModel",
      "state": {
       "_model_module": "@jupyter-widgets/base",
       "_model_module_version": "1.2.0",
       "_model_name": "LayoutModel",
       "_view_count": null,
       "_view_module": "@jupyter-widgets/base",
       "_view_module_version": "1.2.0",
       "_view_name": "LayoutView",
       "align_content": null,
       "align_items": null,
       "align_self": null,
       "border": null,
       "bottom": null,
       "display": null,
       "flex": null,
       "flex_flow": null,
       "grid_area": null,
       "grid_auto_columns": null,
       "grid_auto_flow": null,
       "grid_auto_rows": null,
       "grid_column": null,
       "grid_gap": null,
       "grid_row": null,
       "grid_template_areas": null,
       "grid_template_columns": null,
       "grid_template_rows": null,
       "height": null,
       "justify_content": null,
       "justify_items": null,
       "left": null,
       "margin": null,
       "max_height": null,
       "max_width": null,
       "min_height": null,
       "min_width": null,
       "object_fit": null,
       "object_position": null,
       "order": null,
       "overflow": null,
       "overflow_x": null,
       "overflow_y": null,
       "padding": null,
       "right": null,
       "top": null,
       "visibility": null,
       "width": null
      }
     },
     "66d19b37221849d491c6f2358cbf84e9": {
      "model_module": "@jupyter-widgets/controls",
      "model_module_version": "1.5.0",
      "model_name": "HTMLModel",
      "state": {
       "_dom_classes": [],
       "_model_module": "@jupyter-widgets/controls",
       "_model_module_version": "1.5.0",
       "_model_name": "HTMLModel",
       "_view_count": null,
       "_view_module": "@jupyter-widgets/controls",
       "_view_module_version": "1.5.0",
       "_view_name": "HTMLView",
       "description": "",
       "description_tooltip": null,
       "layout": "IPY_MODEL_1f602ac644114d158f138e9d2908a5dc",
       "placeholder": "​",
       "style": "IPY_MODEL_96cbda2441c0430797935de32d817adc",
       "value": " 28.0/28.0 [00:00&lt;00:00, 944B/s]"
      }
     },
     "677bc0cfcc814ccabf210739657a207f": {
      "model_module": "@jupyter-widgets/base",
      "model_module_version": "1.2.0",
      "model_name": "LayoutModel",
      "state": {
       "_model_module": "@jupyter-widgets/base",
       "_model_module_version": "1.2.0",
       "_model_name": "LayoutModel",
       "_view_count": null,
       "_view_module": "@jupyter-widgets/base",
       "_view_module_version": "1.2.0",
       "_view_name": "LayoutView",
       "align_content": null,
       "align_items": null,
       "align_self": null,
       "border": null,
       "bottom": null,
       "display": null,
       "flex": "2",
       "flex_flow": null,
       "grid_area": null,
       "grid_auto_columns": null,
       "grid_auto_flow": null,
       "grid_auto_rows": null,
       "grid_column": null,
       "grid_gap": null,
       "grid_row": null,
       "grid_template_areas": null,
       "grid_template_columns": null,
       "grid_template_rows": null,
       "height": null,
       "justify_content": null,
       "justify_items": null,
       "left": null,
       "margin": null,
       "max_height": null,
       "max_width": null,
       "min_height": null,
       "min_width": null,
       "object_fit": null,
       "object_position": null,
       "order": null,
       "overflow": null,
       "overflow_x": null,
       "overflow_y": null,
       "padding": null,
       "right": null,
       "top": null,
       "visibility": null,
       "width": null
      }
     },
     "6a90422057914432860b7a2e92586d5d": {
      "model_module": "@jupyter-widgets/controls",
      "model_module_version": "1.5.0",
      "model_name": "FloatProgressModel",
      "state": {
       "_dom_classes": [],
       "_model_module": "@jupyter-widgets/controls",
       "_model_module_version": "1.5.0",
       "_model_name": "FloatProgressModel",
       "_view_count": null,
       "_view_module": "@jupyter-widgets/controls",
       "_view_module_version": "1.5.0",
       "_view_name": "ProgressView",
       "bar_style": "success",
       "description": "",
       "description_tooltip": null,
       "layout": "IPY_MODEL_e0a67ee98d864fa5973d4a7b4ccc484c",
       "max": 231508.0,
       "min": 0.0,
       "orientation": "horizontal",
       "style": "IPY_MODEL_c00cdc09209a492ba0b0420b2e32244d",
       "value": 231508.0
      }
     },
     "6b9aae40f336439eae6b283b2b725d4a": {
      "model_module": "@jupyter-widgets/base",
      "model_module_version": "1.2.0",
      "model_name": "LayoutModel",
      "state": {
       "_model_module": "@jupyter-widgets/base",
       "_model_module_version": "1.2.0",
       "_model_name": "LayoutModel",
       "_view_count": null,
       "_view_module": "@jupyter-widgets/base",
       "_view_module_version": "1.2.0",
       "_view_name": "LayoutView",
       "align_content": null,
       "align_items": null,
       "align_self": null,
       "border": null,
       "bottom": null,
       "display": null,
       "flex": null,
       "flex_flow": null,
       "grid_area": null,
       "grid_auto_columns": null,
       "grid_auto_flow": null,
       "grid_auto_rows": null,
       "grid_column": null,
       "grid_gap": null,
       "grid_row": null,
       "grid_template_areas": null,
       "grid_template_columns": null,
       "grid_template_rows": null,
       "height": null,
       "justify_content": null,
       "justify_items": null,
       "left": null,
       "margin": null,
       "max_height": null,
       "max_width": null,
       "min_height": null,
       "min_width": null,
       "object_fit": null,
       "object_position": null,
       "order": null,
       "overflow": null,
       "overflow_x": null,
       "overflow_y": null,
       "padding": null,
       "right": null,
       "top": null,
       "visibility": null,
       "width": null
      }
     },
     "7148bae5b7fc448791cb77680e49651e": {
      "model_module": "@jupyter-widgets/controls",
      "model_module_version": "1.5.0",
      "model_name": "HTMLModel",
      "state": {
       "_dom_classes": [],
       "_model_module": "@jupyter-widgets/controls",
       "_model_module_version": "1.5.0",
       "_model_name": "HTMLModel",
       "_view_count": null,
       "_view_module": "@jupyter-widgets/controls",
       "_view_module_version": "1.5.0",
       "_view_name": "HTMLView",
       "description": "",
       "description_tooltip": null,
       "layout": "IPY_MODEL_ff7d69110e6a497eb6849e38dcc6a850",
       "placeholder": "​",
       "style": "IPY_MODEL_057821f2a03a4cfe9e6021a3776f5e05",
       "value": "Epoch 1: 100%"
      }
     },
     "731718c7669740b487bc16c7d57922e6": {
      "model_module": "@jupyter-widgets/controls",
      "model_module_version": "1.5.0",
      "model_name": "DescriptionStyleModel",
      "state": {
       "_model_module": "@jupyter-widgets/controls",
       "_model_module_version": "1.5.0",
       "_model_name": "DescriptionStyleModel",
       "_view_count": null,
       "_view_module": "@jupyter-widgets/base",
       "_view_module_version": "1.2.0",
       "_view_name": "StyleView",
       "description_width": ""
      }
     },
     "731c1f1a5f9144afb535434df8bbceaa": {
      "model_module": "@jupyter-widgets/controls",
      "model_module_version": "1.5.0",
      "model_name": "ProgressStyleModel",
      "state": {
       "_model_module": "@jupyter-widgets/controls",
       "_model_module_version": "1.5.0",
       "_model_name": "ProgressStyleModel",
       "_view_count": null,
       "_view_module": "@jupyter-widgets/base",
       "_view_module_version": "1.2.0",
       "_view_name": "StyleView",
       "bar_color": null,
       "description_width": ""
      }
     },
     "7caa6ae2e80b4315a21aa41d5715d06b": {
      "model_module": "@jupyter-widgets/base",
      "model_module_version": "1.2.0",
      "model_name": "LayoutModel",
      "state": {
       "_model_module": "@jupyter-widgets/base",
       "_model_module_version": "1.2.0",
       "_model_name": "LayoutModel",
       "_view_count": null,
       "_view_module": "@jupyter-widgets/base",
       "_view_module_version": "1.2.0",
       "_view_name": "LayoutView",
       "align_content": null,
       "align_items": null,
       "align_self": null,
       "border": null,
       "bottom": null,
       "display": "inline-flex",
       "flex": null,
       "flex_flow": "row wrap",
       "grid_area": null,
       "grid_auto_columns": null,
       "grid_auto_flow": null,
       "grid_auto_rows": null,
       "grid_column": null,
       "grid_gap": null,
       "grid_row": null,
       "grid_template_areas": null,
       "grid_template_columns": null,
       "grid_template_rows": null,
       "height": null,
       "justify_content": null,
       "justify_items": null,
       "left": null,
       "margin": null,
       "max_height": null,
       "max_width": null,
       "min_height": null,
       "min_width": null,
       "object_fit": null,
       "object_position": null,
       "order": null,
       "overflow": null,
       "overflow_x": null,
       "overflow_y": null,
       "padding": null,
       "right": null,
       "top": null,
       "visibility": null,
       "width": "100%"
      }
     },
     "8441d1d562c64115a2b429e9529d3483": {
      "model_module": "@jupyter-widgets/controls",
      "model_module_version": "1.5.0",
      "model_name": "DescriptionStyleModel",
      "state": {
       "_model_module": "@jupyter-widgets/controls",
       "_model_module_version": "1.5.0",
       "_model_name": "DescriptionStyleModel",
       "_view_count": null,
       "_view_module": "@jupyter-widgets/base",
       "_view_module_version": "1.2.0",
       "_view_name": "StyleView",
       "description_width": ""
      }
     },
     "875ad587ccf64831af3be24e3002644d": {
      "model_module": "@jupyter-widgets/controls",
      "model_module_version": "1.5.0",
      "model_name": "HTMLModel",
      "state": {
       "_dom_classes": [],
       "_model_module": "@jupyter-widgets/controls",
       "_model_module_version": "1.5.0",
       "_model_name": "HTMLModel",
       "_view_count": null,
       "_view_module": "@jupyter-widgets/controls",
       "_view_module_version": "1.5.0",
       "_view_name": "HTMLView",
       "description": "",
       "description_tooltip": null,
       "layout": "IPY_MODEL_9a91bdf3f44044aba28515f6997a30e5",
       "placeholder": "​",
       "style": "IPY_MODEL_14a30649306f4660a881ebe72ed2ad7e",
       "value": " 420M/420M [00:19&lt;00:00, 23.3MB/s]"
      }
     },
     "879e1ad36938484a862a95411dd78533": {
      "model_module": "@jupyter-widgets/controls",
      "model_module_version": "1.5.0",
      "model_name": "HTMLModel",
      "state": {
       "_dom_classes": [],
       "_model_module": "@jupyter-widgets/controls",
       "_model_module_version": "1.5.0",
       "_model_name": "HTMLModel",
       "_view_count": null,
       "_view_module": "@jupyter-widgets/controls",
       "_view_module_version": "1.5.0",
       "_view_name": "HTMLView",
       "description": "",
       "description_tooltip": null,
       "layout": "IPY_MODEL_986e5f5dccb6453cab2ada15b217c282",
       "placeholder": "​",
       "style": "IPY_MODEL_b61b3ab4abb54938b99ec6463c794703",
       "value": "Downloading: 100%"
      }
     },
     "8a314b1b66e147899b1f121fec9c9de5": {
      "model_module": "@jupyter-widgets/controls",
      "model_module_version": "1.5.0",
      "model_name": "HTMLModel",
      "state": {
       "_dom_classes": [],
       "_model_module": "@jupyter-widgets/controls",
       "_model_module_version": "1.5.0",
       "_model_name": "HTMLModel",
       "_view_count": null,
       "_view_module": "@jupyter-widgets/controls",
       "_view_module_version": "1.5.0",
       "_view_name": "HTMLView",
       "description": "",
       "description_tooltip": null,
       "layout": "IPY_MODEL_5d2ddc507f91406db23cc2ccedbcc3f6",
       "placeholder": "​",
       "style": "IPY_MODEL_08a46af4d6604fcdbcb5f9e0c45900da",
       "value": " 2/2 [00:02&lt;00:00,  1.01s/it]"
      }
     },
     "8aeca1d0498f4548aa9355e93dee247a": {
      "model_module": "@jupyter-widgets/controls",
      "model_module_version": "1.5.0",
      "model_name": "HBoxModel",
      "state": {
       "_dom_classes": [],
       "_model_module": "@jupyter-widgets/controls",
       "_model_module_version": "1.5.0",
       "_model_name": "HBoxModel",
       "_view_count": null,
       "_view_module": "@jupyter-widgets/controls",
       "_view_module_version": "1.5.0",
       "_view_name": "HBoxView",
       "box_style": "",
       "children": [
        "IPY_MODEL_3c4920f608c3413d9e824c05ea10a52d",
        "IPY_MODEL_3d8d53c1e45441e1b9ed1b13c691097f",
        "IPY_MODEL_8a314b1b66e147899b1f121fec9c9de5"
       ],
       "layout": "IPY_MODEL_1e932bfed7894fd6a45fc974ca73684e"
      }
     },
     "90d52bb9898b4529824ceac07bf1e5f6": {
      "model_module": "@jupyter-widgets/base",
      "model_module_version": "1.2.0",
      "model_name": "LayoutModel",
      "state": {
       "_model_module": "@jupyter-widgets/base",
       "_model_module_version": "1.2.0",
       "_model_name": "LayoutModel",
       "_view_count": null,
       "_view_module": "@jupyter-widgets/base",
       "_view_module_version": "1.2.0",
       "_view_name": "LayoutView",
       "align_content": null,
       "align_items": null,
       "align_self": null,
       "border": null,
       "bottom": null,
       "display": null,
       "flex": null,
       "flex_flow": null,
       "grid_area": null,
       "grid_auto_columns": null,
       "grid_auto_flow": null,
       "grid_auto_rows": null,
       "grid_column": null,
       "grid_gap": null,
       "grid_row": null,
       "grid_template_areas": null,
       "grid_template_columns": null,
       "grid_template_rows": null,
       "height": null,
       "justify_content": null,
       "justify_items": null,
       "left": null,
       "margin": null,
       "max_height": null,
       "max_width": null,
       "min_height": null,
       "min_width": null,
       "object_fit": null,
       "object_position": null,
       "order": null,
       "overflow": null,
       "overflow_x": null,
       "overflow_y": null,
       "padding": null,
       "right": null,
       "top": null,
       "visibility": null,
       "width": null
      }
     },
     "92b2feb472684bd289575aa5c992aad5": {
      "model_module": "@jupyter-widgets/controls",
      "model_module_version": "1.5.0",
      "model_name": "DescriptionStyleModel",
      "state": {
       "_model_module": "@jupyter-widgets/controls",
       "_model_module_version": "1.5.0",
       "_model_name": "DescriptionStyleModel",
       "_view_count": null,
       "_view_module": "@jupyter-widgets/base",
       "_view_module_version": "1.2.0",
       "_view_name": "StyleView",
       "description_width": ""
      }
     },
     "96cbda2441c0430797935de32d817adc": {
      "model_module": "@jupyter-widgets/controls",
      "model_module_version": "1.5.0",
      "model_name": "DescriptionStyleModel",
      "state": {
       "_model_module": "@jupyter-widgets/controls",
       "_model_module_version": "1.5.0",
       "_model_name": "DescriptionStyleModel",
       "_view_count": null,
       "_view_module": "@jupyter-widgets/base",
       "_view_module_version": "1.2.0",
       "_view_name": "StyleView",
       "description_width": ""
      }
     },
     "986e5f5dccb6453cab2ada15b217c282": {
      "model_module": "@jupyter-widgets/base",
      "model_module_version": "1.2.0",
      "model_name": "LayoutModel",
      "state": {
       "_model_module": "@jupyter-widgets/base",
       "_model_module_version": "1.2.0",
       "_model_name": "LayoutModel",
       "_view_count": null,
       "_view_module": "@jupyter-widgets/base",
       "_view_module_version": "1.2.0",
       "_view_name": "LayoutView",
       "align_content": null,
       "align_items": null,
       "align_self": null,
       "border": null,
       "bottom": null,
       "display": null,
       "flex": null,
       "flex_flow": null,
       "grid_area": null,
       "grid_auto_columns": null,
       "grid_auto_flow": null,
       "grid_auto_rows": null,
       "grid_column": null,
       "grid_gap": null,
       "grid_row": null,
       "grid_template_areas": null,
       "grid_template_columns": null,
       "grid_template_rows": null,
       "height": null,
       "justify_content": null,
       "justify_items": null,
       "left": null,
       "margin": null,
       "max_height": null,
       "max_width": null,
       "min_height": null,
       "min_width": null,
       "object_fit": null,
       "object_position": null,
       "order": null,
       "overflow": null,
       "overflow_x": null,
       "overflow_y": null,
       "padding": null,
       "right": null,
       "top": null,
       "visibility": null,
       "width": null
      }
     },
     "9a5503d6ddc84973afee8171c807d41d": {
      "model_module": "@jupyter-widgets/controls",
      "model_module_version": "1.5.0",
      "model_name": "HBoxModel",
      "state": {
       "_dom_classes": [],
       "_model_module": "@jupyter-widgets/controls",
       "_model_module_version": "1.5.0",
       "_model_name": "HBoxModel",
       "_view_count": null,
       "_view_module": "@jupyter-widgets/controls",
       "_view_module_version": "1.5.0",
       "_view_name": "HBoxView",
       "box_style": "",
       "children": [
        "IPY_MODEL_9b7ae3594808478fab073b030e97581a",
        "IPY_MODEL_c6efb412764b4a1b977f820724a5c09d",
        "IPY_MODEL_64f6e30ad84e4fe69b4e22a7c6bfd90b"
       ],
       "layout": "IPY_MODEL_e7d9eab50cb94355ae114e02181f5bff"
      }
     },
     "9a91bdf3f44044aba28515f6997a30e5": {
      "model_module": "@jupyter-widgets/base",
      "model_module_version": "1.2.0",
      "model_name": "LayoutModel",
      "state": {
       "_model_module": "@jupyter-widgets/base",
       "_model_module_version": "1.2.0",
       "_model_name": "LayoutModel",
       "_view_count": null,
       "_view_module": "@jupyter-widgets/base",
       "_view_module_version": "1.2.0",
       "_view_name": "LayoutView",
       "align_content": null,
       "align_items": null,
       "align_self": null,
       "border": null,
       "bottom": null,
       "display": null,
       "flex": null,
       "flex_flow": null,
       "grid_area": null,
       "grid_auto_columns": null,
       "grid_auto_flow": null,
       "grid_auto_rows": null,
       "grid_column": null,
       "grid_gap": null,
       "grid_row": null,
       "grid_template_areas": null,
       "grid_template_columns": null,
       "grid_template_rows": null,
       "height": null,
       "justify_content": null,
       "justify_items": null,
       "left": null,
       "margin": null,
       "max_height": null,
       "max_width": null,
       "min_height": null,
       "min_width": null,
       "object_fit": null,
       "object_position": null,
       "order": null,
       "overflow": null,
       "overflow_x": null,
       "overflow_y": null,
       "padding": null,
       "right": null,
       "top": null,
       "visibility": null,
       "width": null
      }
     },
     "9b7ae3594808478fab073b030e97581a": {
      "model_module": "@jupyter-widgets/controls",
      "model_module_version": "1.5.0",
      "model_name": "HTMLModel",
      "state": {
       "_dom_classes": [],
       "_model_module": "@jupyter-widgets/controls",
       "_model_module_version": "1.5.0",
       "_model_name": "HTMLModel",
       "_view_count": null,
       "_view_module": "@jupyter-widgets/controls",
       "_view_module_version": "1.5.0",
       "_view_name": "HTMLView",
       "description": "",
       "description_tooltip": null,
       "layout": "IPY_MODEL_dd36e104dcbe4f9aad076b7f439a9988",
       "placeholder": "​",
       "style": "IPY_MODEL_9e7406333b114bfdb37f3b1d6064a23b",
       "value": "Validation DataLoader 0: 100%"
      }
     },
     "9c04665d155a43aba82bf5020dbbffdf": {
      "model_module": "@jupyter-widgets/controls",
      "model_module_version": "1.5.0",
      "model_name": "ProgressStyleModel",
      "state": {
       "_model_module": "@jupyter-widgets/controls",
       "_model_module_version": "1.5.0",
       "_model_name": "ProgressStyleModel",
       "_view_count": null,
       "_view_module": "@jupyter-widgets/base",
       "_view_module_version": "1.2.0",
       "_view_name": "StyleView",
       "bar_color": null,
       "description_width": ""
      }
     },
     "9e7406333b114bfdb37f3b1d6064a23b": {
      "model_module": "@jupyter-widgets/controls",
      "model_module_version": "1.5.0",
      "model_name": "DescriptionStyleModel",
      "state": {
       "_model_module": "@jupyter-widgets/controls",
       "_model_module_version": "1.5.0",
       "_model_name": "DescriptionStyleModel",
       "_view_count": null,
       "_view_module": "@jupyter-widgets/base",
       "_view_module_version": "1.2.0",
       "_view_name": "StyleView",
       "description_width": ""
      }
     },
     "a5c1729cff3e4beabd66c35f86afdb86": {
      "model_module": "@jupyter-widgets/controls",
      "model_module_version": "1.5.0",
      "model_name": "HBoxModel",
      "state": {
       "_dom_classes": [],
       "_model_module": "@jupyter-widgets/controls",
       "_model_module_version": "1.5.0",
       "_model_name": "HBoxModel",
       "_view_count": null,
       "_view_module": "@jupyter-widgets/controls",
       "_view_module_version": "1.5.0",
       "_view_name": "HBoxView",
       "box_style": "",
       "children": [
        "IPY_MODEL_f926467a3e944a2c8d8339ba4fc6f3b2",
        "IPY_MODEL_2bdfabdc62b14bc990daa287434c044b",
        "IPY_MODEL_875ad587ccf64831af3be24e3002644d"
       ],
       "layout": "IPY_MODEL_65c5a62bfabd402b9db4d48c06fd1d2f"
      }
     },
     "a9abbd45406d4e56912defa138dc752d": {
      "model_module": "@jupyter-widgets/base",
      "model_module_version": "1.2.0",
      "model_name": "LayoutModel",
      "state": {
       "_model_module": "@jupyter-widgets/base",
       "_model_module_version": "1.2.0",
       "_model_name": "LayoutModel",
       "_view_count": null,
       "_view_module": "@jupyter-widgets/base",
       "_view_module_version": "1.2.0",
       "_view_name": "LayoutView",
       "align_content": null,
       "align_items": null,
       "align_self": null,
       "border": null,
       "bottom": null,
       "display": null,
       "flex": null,
       "flex_flow": null,
       "grid_area": null,
       "grid_auto_columns": null,
       "grid_auto_flow": null,
       "grid_auto_rows": null,
       "grid_column": null,
       "grid_gap": null,
       "grid_row": null,
       "grid_template_areas": null,
       "grid_template_columns": null,
       "grid_template_rows": null,
       "height": null,
       "justify_content": null,
       "justify_items": null,
       "left": null,
       "margin": null,
       "max_height": null,
       "max_width": null,
       "min_height": null,
       "min_width": null,
       "object_fit": null,
       "object_position": null,
       "order": null,
       "overflow": null,
       "overflow_x": null,
       "overflow_y": null,
       "padding": null,
       "right": null,
       "top": null,
       "visibility": null,
       "width": null
      }
     },
     "ad2aae9b2b91494b838c1eed2b5c389c": {
      "model_module": "@jupyter-widgets/controls",
      "model_module_version": "1.5.0",
      "model_name": "HTMLModel",
      "state": {
       "_dom_classes": [],
       "_model_module": "@jupyter-widgets/controls",
       "_model_module_version": "1.5.0",
       "_model_name": "HTMLModel",
       "_view_count": null,
       "_view_module": "@jupyter-widgets/controls",
       "_view_module_version": "1.5.0",
       "_view_name": "HTMLView",
       "description": "",
       "description_tooltip": null,
       "layout": "IPY_MODEL_b59e3f048f3d47318f8dc3f2a09c20e6",
       "placeholder": "​",
       "style": "IPY_MODEL_92b2feb472684bd289575aa5c992aad5",
       "value": " 226k/226k [00:00&lt;00:00, 884kB/s]"
      }
     },
     "b079a3d67d1d4e99b32015f06b7c09de": {
      "model_module": "@jupyter-widgets/base",
      "model_module_version": "1.2.0",
      "model_name": "LayoutModel",
      "state": {
       "_model_module": "@jupyter-widgets/base",
       "_model_module_version": "1.2.0",
       "_model_name": "LayoutModel",
       "_view_count": null,
       "_view_module": "@jupyter-widgets/base",
       "_view_module_version": "1.2.0",
       "_view_name": "LayoutView",
       "align_content": null,
       "align_items": null,
       "align_self": null,
       "border": null,
       "bottom": null,
       "display": null,
       "flex": null,
       "flex_flow": null,
       "grid_area": null,
       "grid_auto_columns": null,
       "grid_auto_flow": null,
       "grid_auto_rows": null,
       "grid_column": null,
       "grid_gap": null,
       "grid_row": null,
       "grid_template_areas": null,
       "grid_template_columns": null,
       "grid_template_rows": null,
       "height": null,
       "justify_content": null,
       "justify_items": null,
       "left": null,
       "margin": null,
       "max_height": null,
       "max_width": null,
       "min_height": null,
       "min_width": null,
       "object_fit": null,
       "object_position": null,
       "order": null,
       "overflow": null,
       "overflow_x": null,
       "overflow_y": null,
       "padding": null,
       "right": null,
       "top": null,
       "visibility": null,
       "width": null
      }
     },
     "b2fd67307fc240afba61d18d304365a7": {
      "model_module": "@jupyter-widgets/controls",
      "model_module_version": "1.5.0",
      "model_name": "HBoxModel",
      "state": {
       "_dom_classes": [],
       "_model_module": "@jupyter-widgets/controls",
       "_model_module_version": "1.5.0",
       "_model_name": "HBoxModel",
       "_view_count": null,
       "_view_module": "@jupyter-widgets/controls",
       "_view_module_version": "1.5.0",
       "_view_name": "HBoxView",
       "box_style": "",
       "children": [
        "IPY_MODEL_0f088c921ee844ffa73cbea912e02f27",
        "IPY_MODEL_6a90422057914432860b7a2e92586d5d",
        "IPY_MODEL_ad2aae9b2b91494b838c1eed2b5c389c"
       ],
       "layout": "IPY_MODEL_c9cc0d5f9ad846508b6b038b17241850"
      }
     },
     "b59e3f048f3d47318f8dc3f2a09c20e6": {
      "model_module": "@jupyter-widgets/base",
      "model_module_version": "1.2.0",
      "model_name": "LayoutModel",
      "state": {
       "_model_module": "@jupyter-widgets/base",
       "_model_module_version": "1.2.0",
       "_model_name": "LayoutModel",
       "_view_count": null,
       "_view_module": "@jupyter-widgets/base",
       "_view_module_version": "1.2.0",
       "_view_name": "LayoutView",
       "align_content": null,
       "align_items": null,
       "align_self": null,
       "border": null,
       "bottom": null,
       "display": null,
       "flex": null,
       "flex_flow": null,
       "grid_area": null,
       "grid_auto_columns": null,
       "grid_auto_flow": null,
       "grid_auto_rows": null,
       "grid_column": null,
       "grid_gap": null,
       "grid_row": null,
       "grid_template_areas": null,
       "grid_template_columns": null,
       "grid_template_rows": null,
       "height": null,
       "justify_content": null,
       "justify_items": null,
       "left": null,
       "margin": null,
       "max_height": null,
       "max_width": null,
       "min_height": null,
       "min_width": null,
       "object_fit": null,
       "object_position": null,
       "order": null,
       "overflow": null,
       "overflow_x": null,
       "overflow_y": null,
       "padding": null,
       "right": null,
       "top": null,
       "visibility": null,
       "width": null
      }
     },
     "b61b3ab4abb54938b99ec6463c794703": {
      "model_module": "@jupyter-widgets/controls",
      "model_module_version": "1.5.0",
      "model_name": "DescriptionStyleModel",
      "state": {
       "_model_module": "@jupyter-widgets/controls",
       "_model_module_version": "1.5.0",
       "_model_name": "DescriptionStyleModel",
       "_view_count": null,
       "_view_module": "@jupyter-widgets/base",
       "_view_module_version": "1.2.0",
       "_view_name": "StyleView",
       "description_width": ""
      }
     },
     "b8e1fe8ca4234a69a6f21d37d7efda69": {
      "model_module": "@jupyter-widgets/base",
      "model_module_version": "1.2.0",
      "model_name": "LayoutModel",
      "state": {
       "_model_module": "@jupyter-widgets/base",
       "_model_module_version": "1.2.0",
       "_model_name": "LayoutModel",
       "_view_count": null,
       "_view_module": "@jupyter-widgets/base",
       "_view_module_version": "1.2.0",
       "_view_name": "LayoutView",
       "align_content": null,
       "align_items": null,
       "align_self": null,
       "border": null,
       "bottom": null,
       "display": "inline-flex",
       "flex": null,
       "flex_flow": "row wrap",
       "grid_area": null,
       "grid_auto_columns": null,
       "grid_auto_flow": null,
       "grid_auto_rows": null,
       "grid_column": null,
       "grid_gap": null,
       "grid_row": null,
       "grid_template_areas": null,
       "grid_template_columns": null,
       "grid_template_rows": null,
       "height": null,
       "justify_content": null,
       "justify_items": null,
       "left": null,
       "margin": null,
       "max_height": null,
       "max_width": null,
       "min_height": null,
       "min_width": null,
       "object_fit": null,
       "object_position": null,
       "order": null,
       "overflow": null,
       "overflow_x": null,
       "overflow_y": null,
       "padding": null,
       "right": null,
       "top": null,
       "visibility": null,
       "width": "100%"
      }
     },
     "be291000b457467c873b80837bdaadb8": {
      "model_module": "@jupyter-widgets/controls",
      "model_module_version": "1.5.0",
      "model_name": "ProgressStyleModel",
      "state": {
       "_model_module": "@jupyter-widgets/controls",
       "_model_module_version": "1.5.0",
       "_model_name": "ProgressStyleModel",
       "_view_count": null,
       "_view_module": "@jupyter-widgets/base",
       "_view_module_version": "1.2.0",
       "_view_name": "StyleView",
       "bar_color": null,
       "description_width": ""
      }
     },
     "bfdb39d7ad8b4ecaa78b62db14832fa6": {
      "model_module": "@jupyter-widgets/base",
      "model_module_version": "1.2.0",
      "model_name": "LayoutModel",
      "state": {
       "_model_module": "@jupyter-widgets/base",
       "_model_module_version": "1.2.0",
       "_model_name": "LayoutModel",
       "_view_count": null,
       "_view_module": "@jupyter-widgets/base",
       "_view_module_version": "1.2.0",
       "_view_name": "LayoutView",
       "align_content": null,
       "align_items": null,
       "align_self": null,
       "border": null,
       "bottom": null,
       "display": null,
       "flex": null,
       "flex_flow": null,
       "grid_area": null,
       "grid_auto_columns": null,
       "grid_auto_flow": null,
       "grid_auto_rows": null,
       "grid_column": null,
       "grid_gap": null,
       "grid_row": null,
       "grid_template_areas": null,
       "grid_template_columns": null,
       "grid_template_rows": null,
       "height": null,
       "justify_content": null,
       "justify_items": null,
       "left": null,
       "margin": null,
       "max_height": null,
       "max_width": null,
       "min_height": null,
       "min_width": null,
       "object_fit": null,
       "object_position": null,
       "order": null,
       "overflow": null,
       "overflow_x": null,
       "overflow_y": null,
       "padding": null,
       "right": null,
       "top": null,
       "visibility": null,
       "width": null
      }
     },
     "c001133e4a8c4adda8878436949510eb": {
      "model_module": "@jupyter-widgets/controls",
      "model_module_version": "1.5.0",
      "model_name": "HTMLModel",
      "state": {
       "_dom_classes": [],
       "_model_module": "@jupyter-widgets/controls",
       "_model_module_version": "1.5.0",
       "_model_name": "HTMLModel",
       "_view_count": null,
       "_view_module": "@jupyter-widgets/controls",
       "_view_module_version": "1.5.0",
       "_view_name": "HTMLView",
       "description": "",
       "description_tooltip": null,
       "layout": "IPY_MODEL_0bf3e736ab354c11b54c185b5d2e0dd9",
       "placeholder": "​",
       "style": "IPY_MODEL_19f47430f5ca413588e08ab14d089e38",
       "value": " 570/570 [00:00&lt;00:00, 22.0kB/s]"
      }
     },
     "c00cdc09209a492ba0b0420b2e32244d": {
      "model_module": "@jupyter-widgets/controls",
      "model_module_version": "1.5.0",
      "model_name": "ProgressStyleModel",
      "state": {
       "_model_module": "@jupyter-widgets/controls",
       "_model_module_version": "1.5.0",
       "_model_name": "ProgressStyleModel",
       "_view_count": null,
       "_view_module": "@jupyter-widgets/base",
       "_view_module_version": "1.2.0",
       "_view_name": "StyleView",
       "bar_color": null,
       "description_width": ""
      }
     },
     "c41b4e31e94142b3a899bc8a73a92a03": {
      "model_module": "@jupyter-widgets/base",
      "model_module_version": "1.2.0",
      "model_name": "LayoutModel",
      "state": {
       "_model_module": "@jupyter-widgets/base",
       "_model_module_version": "1.2.0",
       "_model_name": "LayoutModel",
       "_view_count": null,
       "_view_module": "@jupyter-widgets/base",
       "_view_module_version": "1.2.0",
       "_view_name": "LayoutView",
       "align_content": null,
       "align_items": null,
       "align_self": null,
       "border": null,
       "bottom": null,
       "display": null,
       "flex": null,
       "flex_flow": null,
       "grid_area": null,
       "grid_auto_columns": null,
       "grid_auto_flow": null,
       "grid_auto_rows": null,
       "grid_column": null,
       "grid_gap": null,
       "grid_row": null,
       "grid_template_areas": null,
       "grid_template_columns": null,
       "grid_template_rows": null,
       "height": null,
       "justify_content": null,
       "justify_items": null,
       "left": null,
       "margin": null,
       "max_height": null,
       "max_width": null,
       "min_height": null,
       "min_width": null,
       "object_fit": null,
       "object_position": null,
       "order": null,
       "overflow": null,
       "overflow_x": null,
       "overflow_y": null,
       "padding": null,
       "right": null,
       "top": null,
       "visibility": null,
       "width": null
      }
     },
     "c5065174c01c490b898cb7f45d9b6cf6": {
      "model_module": "@jupyter-widgets/controls",
      "model_module_version": "1.5.0",
      "model_name": "DescriptionStyleModel",
      "state": {
       "_model_module": "@jupyter-widgets/controls",
       "_model_module_version": "1.5.0",
       "_model_name": "DescriptionStyleModel",
       "_view_count": null,
       "_view_module": "@jupyter-widgets/base",
       "_view_module_version": "1.2.0",
       "_view_name": "StyleView",
       "description_width": ""
      }
     },
     "c6efb412764b4a1b977f820724a5c09d": {
      "model_module": "@jupyter-widgets/controls",
      "model_module_version": "1.5.0",
      "model_name": "FloatProgressModel",
      "state": {
       "_dom_classes": [],
       "_model_module": "@jupyter-widgets/controls",
       "_model_module_version": "1.5.0",
       "_model_name": "FloatProgressModel",
       "_view_count": null,
       "_view_module": "@jupyter-widgets/controls",
       "_view_module_version": "1.5.0",
       "_view_name": "ProgressView",
       "bar_style": "",
       "description": "",
       "description_tooltip": null,
       "layout": "IPY_MODEL_d16ce026e16448159f0bb70fd240bae3",
       "max": 695.0,
       "min": 0.0,
       "orientation": "horizontal",
       "style": "IPY_MODEL_3aadbc3325a14878aa2be8cb409e96da",
       "value": 695.0
      }
     },
     "c9cc0d5f9ad846508b6b038b17241850": {
      "model_module": "@jupyter-widgets/base",
      "model_module_version": "1.2.0",
      "model_name": "LayoutModel",
      "state": {
       "_model_module": "@jupyter-widgets/base",
       "_model_module_version": "1.2.0",
       "_model_name": "LayoutModel",
       "_view_count": null,
       "_view_module": "@jupyter-widgets/base",
       "_view_module_version": "1.2.0",
       "_view_name": "LayoutView",
       "align_content": null,
       "align_items": null,
       "align_self": null,
       "border": null,
       "bottom": null,
       "display": null,
       "flex": null,
       "flex_flow": null,
       "grid_area": null,
       "grid_auto_columns": null,
       "grid_auto_flow": null,
       "grid_auto_rows": null,
       "grid_column": null,
       "grid_gap": null,
       "grid_row": null,
       "grid_template_areas": null,
       "grid_template_columns": null,
       "grid_template_rows": null,
       "height": null,
       "justify_content": null,
       "justify_items": null,
       "left": null,
       "margin": null,
       "max_height": null,
       "max_width": null,
       "min_height": null,
       "min_width": null,
       "object_fit": null,
       "object_position": null,
       "order": null,
       "overflow": null,
       "overflow_x": null,
       "overflow_y": null,
       "padding": null,
       "right": null,
       "top": null,
       "visibility": null,
       "width": null
      }
     },
     "cb7ca47d11904876b5dc3c4386bc5315": {
      "model_module": "@jupyter-widgets/controls",
      "model_module_version": "1.5.0",
      "model_name": "FloatProgressModel",
      "state": {
       "_dom_classes": [],
       "_model_module": "@jupyter-widgets/controls",
       "_model_module_version": "1.5.0",
       "_model_name": "FloatProgressModel",
       "_view_count": null,
       "_view_module": "@jupyter-widgets/controls",
       "_view_module_version": "1.5.0",
       "_view_name": "ProgressView",
       "bar_style": "success",
       "description": "",
       "description_tooltip": null,
       "layout": "IPY_MODEL_677bc0cfcc814ccabf210739657a207f",
       "max": 1737.0,
       "min": 0.0,
       "orientation": "horizontal",
       "style": "IPY_MODEL_9c04665d155a43aba82bf5020dbbffdf",
       "value": 1737.0
      }
     },
     "d16ce026e16448159f0bb70fd240bae3": {
      "model_module": "@jupyter-widgets/base",
      "model_module_version": "1.2.0",
      "model_name": "LayoutModel",
      "state": {
       "_model_module": "@jupyter-widgets/base",
       "_model_module_version": "1.2.0",
       "_model_name": "LayoutModel",
       "_view_count": null,
       "_view_module": "@jupyter-widgets/base",
       "_view_module_version": "1.2.0",
       "_view_name": "LayoutView",
       "align_content": null,
       "align_items": null,
       "align_self": null,
       "border": null,
       "bottom": null,
       "display": null,
       "flex": "2",
       "flex_flow": null,
       "grid_area": null,
       "grid_auto_columns": null,
       "grid_auto_flow": null,
       "grid_auto_rows": null,
       "grid_column": null,
       "grid_gap": null,
       "grid_row": null,
       "grid_template_areas": null,
       "grid_template_columns": null,
       "grid_template_rows": null,
       "height": null,
       "justify_content": null,
       "justify_items": null,
       "left": null,
       "margin": null,
       "max_height": null,
       "max_width": null,
       "min_height": null,
       "min_width": null,
       "object_fit": null,
       "object_position": null,
       "order": null,
       "overflow": null,
       "overflow_x": null,
       "overflow_y": null,
       "padding": null,
       "right": null,
       "top": null,
       "visibility": null,
       "width": null
      }
     },
     "dd36e104dcbe4f9aad076b7f439a9988": {
      "model_module": "@jupyter-widgets/base",
      "model_module_version": "1.2.0",
      "model_name": "LayoutModel",
      "state": {
       "_model_module": "@jupyter-widgets/base",
       "_model_module_version": "1.2.0",
       "_model_name": "LayoutModel",
       "_view_count": null,
       "_view_module": "@jupyter-widgets/base",
       "_view_module_version": "1.2.0",
       "_view_name": "LayoutView",
       "align_content": null,
       "align_items": null,
       "align_self": null,
       "border": null,
       "bottom": null,
       "display": null,
       "flex": null,
       "flex_flow": null,
       "grid_area": null,
       "grid_auto_columns": null,
       "grid_auto_flow": null,
       "grid_auto_rows": null,
       "grid_column": null,
       "grid_gap": null,
       "grid_row": null,
       "grid_template_areas": null,
       "grid_template_columns": null,
       "grid_template_rows": null,
       "height": null,
       "justify_content": null,
       "justify_items": null,
       "left": null,
       "margin": null,
       "max_height": null,
       "max_width": null,
       "min_height": null,
       "min_width": null,
       "object_fit": null,
       "object_position": null,
       "order": null,
       "overflow": null,
       "overflow_x": null,
       "overflow_y": null,
       "padding": null,
       "right": null,
       "top": null,
       "visibility": null,
       "width": null
      }
     },
     "dd705c270ab04c7682f472a931fa17d2": {
      "model_module": "@jupyter-widgets/controls",
      "model_module_version": "1.5.0",
      "model_name": "HTMLModel",
      "state": {
       "_dom_classes": [],
       "_model_module": "@jupyter-widgets/controls",
       "_model_module_version": "1.5.0",
       "_model_name": "HTMLModel",
       "_view_count": null,
       "_view_module": "@jupyter-widgets/controls",
       "_view_module_version": "1.5.0",
       "_view_name": "HTMLView",
       "description": "",
       "description_tooltip": null,
       "layout": "IPY_MODEL_3cea1ab12dbc4032b4870f5553afa6a8",
       "placeholder": "​",
       "style": "IPY_MODEL_3254598c317a476ab3109edffaa39704",
       "value": "Downloading: 100%"
      }
     },
     "ddcd8c1db28341c0b0af81df09686203": {
      "model_module": "@jupyter-widgets/controls",
      "model_module_version": "1.5.0",
      "model_name": "DescriptionStyleModel",
      "state": {
       "_model_module": "@jupyter-widgets/controls",
       "_model_module_version": "1.5.0",
       "_model_name": "DescriptionStyleModel",
       "_view_count": null,
       "_view_module": "@jupyter-widgets/base",
       "_view_module_version": "1.2.0",
       "_view_name": "StyleView",
       "description_width": ""
      }
     },
     "e0a67ee98d864fa5973d4a7b4ccc484c": {
      "model_module": "@jupyter-widgets/base",
      "model_module_version": "1.2.0",
      "model_name": "LayoutModel",
      "state": {
       "_model_module": "@jupyter-widgets/base",
       "_model_module_version": "1.2.0",
       "_model_name": "LayoutModel",
       "_view_count": null,
       "_view_module": "@jupyter-widgets/base",
       "_view_module_version": "1.2.0",
       "_view_name": "LayoutView",
       "align_content": null,
       "align_items": null,
       "align_self": null,
       "border": null,
       "bottom": null,
       "display": null,
       "flex": null,
       "flex_flow": null,
       "grid_area": null,
       "grid_auto_columns": null,
       "grid_auto_flow": null,
       "grid_auto_rows": null,
       "grid_column": null,
       "grid_gap": null,
       "grid_row": null,
       "grid_template_areas": null,
       "grid_template_columns": null,
       "grid_template_rows": null,
       "height": null,
       "justify_content": null,
       "justify_items": null,
       "left": null,
       "margin": null,
       "max_height": null,
       "max_width": null,
       "min_height": null,
       "min_width": null,
       "object_fit": null,
       "object_position": null,
       "order": null,
       "overflow": null,
       "overflow_x": null,
       "overflow_y": null,
       "padding": null,
       "right": null,
       "top": null,
       "visibility": null,
       "width": null
      }
     },
     "e2d2cf360949475682ef808a53c4a095": {
      "model_module": "@jupyter-widgets/controls",
      "model_module_version": "1.5.0",
      "model_name": "HBoxModel",
      "state": {
       "_dom_classes": [],
       "_model_module": "@jupyter-widgets/controls",
       "_model_module_version": "1.5.0",
       "_model_name": "HBoxModel",
       "_view_count": null,
       "_view_module": "@jupyter-widgets/controls",
       "_view_module_version": "1.5.0",
       "_view_name": "HBoxView",
       "box_style": "",
       "children": [
        "IPY_MODEL_dd705c270ab04c7682f472a931fa17d2",
        "IPY_MODEL_23a3bd67fd1f4e8bbebfa0a94b9c8105",
        "IPY_MODEL_66d19b37221849d491c6f2358cbf84e9"
       ],
       "layout": "IPY_MODEL_f25eabfc0fb4403ea81c5c90899c5372"
      }
     },
     "e2ed33937c0049e3b4c528a2df922843": {
      "model_module": "@jupyter-widgets/controls",
      "model_module_version": "1.5.0",
      "model_name": "HBoxModel",
      "state": {
       "_dom_classes": [],
       "_model_module": "@jupyter-widgets/controls",
       "_model_module_version": "1.5.0",
       "_model_name": "HBoxModel",
       "_view_count": null,
       "_view_module": "@jupyter-widgets/controls",
       "_view_module_version": "1.5.0",
       "_view_name": "HBoxView",
       "box_style": "",
       "children": [
        "IPY_MODEL_7148bae5b7fc448791cb77680e49651e",
        "IPY_MODEL_0bc12c7ebde84a27b9c45d8df955f9e8",
        "IPY_MODEL_00e54dae30b341a6bf18f657a766df54"
       ],
       "layout": "IPY_MODEL_08b66f19ce494338a68a90ad3bcc5691"
      }
     },
     "e3d35d21de244b788b8587e9f0ce78cf": {
      "model_module": "@jupyter-widgets/controls",
      "model_module_version": "1.5.0",
      "model_name": "HBoxModel",
      "state": {
       "_dom_classes": [],
       "_model_module": "@jupyter-widgets/controls",
       "_model_module_version": "1.5.0",
       "_model_name": "HBoxModel",
       "_view_count": null,
       "_view_module": "@jupyter-widgets/controls",
       "_view_module_version": "1.5.0",
       "_view_name": "HBoxView",
       "box_style": "",
       "children": [
        "IPY_MODEL_879e1ad36938484a862a95411dd78533",
        "IPY_MODEL_1251aeba8e394651be996d748588e47b",
        "IPY_MODEL_c001133e4a8c4adda8878436949510eb"
       ],
       "layout": "IPY_MODEL_183e23e911c84cc2b60cce49a897fe19"
      }
     },
     "e7d9eab50cb94355ae114e02181f5bff": {
      "model_module": "@jupyter-widgets/base",
      "model_module_version": "1.2.0",
      "model_name": "LayoutModel",
      "state": {
       "_model_module": "@jupyter-widgets/base",
       "_model_module_version": "1.2.0",
       "_model_name": "LayoutModel",
       "_view_count": null,
       "_view_module": "@jupyter-widgets/base",
       "_view_module_version": "1.2.0",
       "_view_name": "LayoutView",
       "align_content": null,
       "align_items": null,
       "align_self": null,
       "border": null,
       "bottom": null,
       "display": "inline-flex",
       "flex": null,
       "flex_flow": "row wrap",
       "grid_area": null,
       "grid_auto_columns": null,
       "grid_auto_flow": null,
       "grid_auto_rows": null,
       "grid_column": null,
       "grid_gap": null,
       "grid_row": null,
       "grid_template_areas": null,
       "grid_template_columns": null,
       "grid_template_rows": null,
       "height": null,
       "justify_content": null,
       "justify_items": null,
       "left": null,
       "margin": null,
       "max_height": null,
       "max_width": null,
       "min_height": null,
       "min_width": null,
       "object_fit": null,
       "object_position": null,
       "order": null,
       "overflow": null,
       "overflow_x": null,
       "overflow_y": null,
       "padding": null,
       "right": null,
       "top": null,
       "visibility": null,
       "width": "100%"
      }
     },
     "e84a027b44134a5ca74d88f0dc70ecde": {
      "model_module": "@jupyter-widgets/base",
      "model_module_version": "1.2.0",
      "model_name": "LayoutModel",
      "state": {
       "_model_module": "@jupyter-widgets/base",
       "_model_module_version": "1.2.0",
       "_model_name": "LayoutModel",
       "_view_count": null,
       "_view_module": "@jupyter-widgets/base",
       "_view_module_version": "1.2.0",
       "_view_name": "LayoutView",
       "align_content": null,
       "align_items": null,
       "align_self": null,
       "border": null,
       "bottom": null,
       "display": null,
       "flex": "2",
       "flex_flow": null,
       "grid_area": null,
       "grid_auto_columns": null,
       "grid_auto_flow": null,
       "grid_auto_rows": null,
       "grid_column": null,
       "grid_gap": null,
       "grid_row": null,
       "grid_template_areas": null,
       "grid_template_columns": null,
       "grid_template_rows": null,
       "height": null,
       "justify_content": null,
       "justify_items": null,
       "left": null,
       "margin": null,
       "max_height": null,
       "max_width": null,
       "min_height": null,
       "min_width": null,
       "object_fit": null,
       "object_position": null,
       "order": null,
       "overflow": null,
       "overflow_x": null,
       "overflow_y": null,
       "padding": null,
       "right": null,
       "top": null,
       "visibility": null,
       "width": null
      }
     },
     "ef4c5e1579f74b1e931c19827e27ac0c": {
      "model_module": "@jupyter-widgets/controls",
      "model_module_version": "1.5.0",
      "model_name": "DescriptionStyleModel",
      "state": {
       "_model_module": "@jupyter-widgets/controls",
       "_model_module_version": "1.5.0",
       "_model_name": "DescriptionStyleModel",
       "_view_count": null,
       "_view_module": "@jupyter-widgets/base",
       "_view_module_version": "1.2.0",
       "_view_name": "StyleView",
       "description_width": ""
      }
     },
     "f1f078768c7d423a88f5df6aa38601c6": {
      "model_module": "@jupyter-widgets/controls",
      "model_module_version": "1.5.0",
      "model_name": "DescriptionStyleModel",
      "state": {
       "_model_module": "@jupyter-widgets/controls",
       "_model_module_version": "1.5.0",
       "_model_name": "DescriptionStyleModel",
       "_view_count": null,
       "_view_module": "@jupyter-widgets/base",
       "_view_module_version": "1.2.0",
       "_view_name": "StyleView",
       "description_width": ""
      }
     },
     "f25eabfc0fb4403ea81c5c90899c5372": {
      "model_module": "@jupyter-widgets/base",
      "model_module_version": "1.2.0",
      "model_name": "LayoutModel",
      "state": {
       "_model_module": "@jupyter-widgets/base",
       "_model_module_version": "1.2.0",
       "_model_name": "LayoutModel",
       "_view_count": null,
       "_view_module": "@jupyter-widgets/base",
       "_view_module_version": "1.2.0",
       "_view_name": "LayoutView",
       "align_content": null,
       "align_items": null,
       "align_self": null,
       "border": null,
       "bottom": null,
       "display": null,
       "flex": null,
       "flex_flow": null,
       "grid_area": null,
       "grid_auto_columns": null,
       "grid_auto_flow": null,
       "grid_auto_rows": null,
       "grid_column": null,
       "grid_gap": null,
       "grid_row": null,
       "grid_template_areas": null,
       "grid_template_columns": null,
       "grid_template_rows": null,
       "height": null,
       "justify_content": null,
       "justify_items": null,
       "left": null,
       "margin": null,
       "max_height": null,
       "max_width": null,
       "min_height": null,
       "min_width": null,
       "object_fit": null,
       "object_position": null,
       "order": null,
       "overflow": null,
       "overflow_x": null,
       "overflow_y": null,
       "padding": null,
       "right": null,
       "top": null,
       "visibility": null,
       "width": null
      }
     },
     "f5509486ce4b4cc69c4c0b0d3a30fe1a": {
      "model_module": "@jupyter-widgets/controls",
      "model_module_version": "1.5.0",
      "model_name": "HTMLModel",
      "state": {
       "_dom_classes": [],
       "_model_module": "@jupyter-widgets/controls",
       "_model_module_version": "1.5.0",
       "_model_name": "HTMLModel",
       "_view_count": null,
       "_view_module": "@jupyter-widgets/controls",
       "_view_module_version": "1.5.0",
       "_view_name": "HTMLView",
       "description": "",
       "description_tooltip": null,
       "layout": "IPY_MODEL_5a527ad9ee3640babe98a47555271017",
       "placeholder": "​",
       "style": "IPY_MODEL_c5065174c01c490b898cb7f45d9b6cf6",
       "value": " 1737/1737 [11:00&lt;00:00,  2.63it/s]"
      }
     },
     "f926467a3e944a2c8d8339ba4fc6f3b2": {
      "model_module": "@jupyter-widgets/controls",
      "model_module_version": "1.5.0",
      "model_name": "HTMLModel",
      "state": {
       "_dom_classes": [],
       "_model_module": "@jupyter-widgets/controls",
       "_model_module_version": "1.5.0",
       "_model_name": "HTMLModel",
       "_view_count": null,
       "_view_module": "@jupyter-widgets/controls",
       "_view_module_version": "1.5.0",
       "_view_name": "HTMLView",
       "description": "",
       "description_tooltip": null,
       "layout": "IPY_MODEL_21dbebd8a48f40f7b899311c9536407a",
       "placeholder": "​",
       "style": "IPY_MODEL_4cb8f27d0c894f5d920a009abc803e13",
       "value": "Downloading: 100%"
      }
     },
     "ff7d69110e6a497eb6849e38dcc6a850": {
      "model_module": "@jupyter-widgets/base",
      "model_module_version": "1.2.0",
      "model_name": "LayoutModel",
      "state": {
       "_model_module": "@jupyter-widgets/base",
       "_model_module_version": "1.2.0",
       "_model_name": "LayoutModel",
       "_view_count": null,
       "_view_module": "@jupyter-widgets/base",
       "_view_module_version": "1.2.0",
       "_view_name": "LayoutView",
       "align_content": null,
       "align_items": null,
       "align_self": null,
       "border": null,
       "bottom": null,
       "display": null,
       "flex": null,
       "flex_flow": null,
       "grid_area": null,
       "grid_auto_columns": null,
       "grid_auto_flow": null,
       "grid_auto_rows": null,
       "grid_column": null,
       "grid_gap": null,
       "grid_row": null,
       "grid_template_areas": null,
       "grid_template_columns": null,
       "grid_template_rows": null,
       "height": null,
       "justify_content": null,
       "justify_items": null,
       "left": null,
       "margin": null,
       "max_height": null,
       "max_width": null,
       "min_height": null,
       "min_width": null,
       "object_fit": null,
       "object_position": null,
       "order": null,
       "overflow": null,
       "overflow_x": null,
       "overflow_y": null,
       "padding": null,
       "right": null,
       "top": null,
       "visibility": null,
       "width": null
      }
     }
    },
    "version_major": 2,
    "version_minor": 0
   }
  }
 },
 "nbformat": 4,
 "nbformat_minor": 5
}
